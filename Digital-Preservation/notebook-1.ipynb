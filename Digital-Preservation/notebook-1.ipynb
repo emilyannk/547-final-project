{
 "cells": [
  {
   "cell_type": "markdown",
   "id": "formal-hardware",
   "metadata": {
    "editable": true,
    "slideshow": {
     "slide_type": ""
    },
    "tags": []
   },
   "source": [
    "\n",
    "The inventory code records this information:\n",
    "* file name\n",
    "* file location - This is the folder path where the file lives.\n",
    "* file extension - This is the part of the filename after the period, such as \"PDF\" or \"docx\".\n",
    "* file format - This is the two-part MIME Type for the file. (More detail to follow)\n",
    "* file size - This is the size of the file in bytes.\n",
    "* modification timestamp - The date and time of the last time this file was modified."
   ]
  },
  {
   "cell_type": "code",
   "execution_count": 1,
   "id": "complimentary-young",
   "metadata": {},
   "outputs": [
    {
     "name": "stderr",
     "output_type": "stream",
     "text": [
      "<>:7: SyntaxWarning: invalid escape sequence '\\s'\n",
      "<>:7: SyntaxWarning: invalid escape sequence '\\s'\n",
      "C:\\Users\\me\\AppData\\Local\\Temp\\ipykernel_17908\\1712930516.py:7: SyntaxWarning: invalid escape sequence '\\s'\n",
      "  accession_dir = \"X:\\school\\data\\Govdocs1-threads\"\n"
     ]
    },
    {
     "name": "stdout",
     "output_type": "stream",
     "text": [
      "Inventory done: X:\\school\\data\\Govdocs1-threads\n",
      "Inventory file count:9876\n"
     ]
    }
   ],
   "source": [
    "import os\n",
    "from os.path import join, getsize, getmtime\n",
    "import datetime\n",
    "import csv\n",
    "import mimetypes\n",
    "\n",
    "accession_dir = \"X:\\school\\data\\Govdocs1-threads\"\n",
    "\n",
    "# function to identify file extension\n",
    "def get_extension(name):\n",
    "    result = None\n",
    "    i = name.rfind('.')\n",
    "    if i > 0:\n",
    "        result = name[i+1:]\n",
    "    return result\n",
    "\n",
    "# TODO Find another sample folder that is more office docs..\n",
    "\n",
    "file_count = 0\n",
    "with open('inventory.csv', 'w', newline='') as csvfile:\n",
    "    mywriter = csv.writer(csvfile, quoting=csv.QUOTE_MINIMAL)\n",
    "    mywriter.writerow(['name', 'path', 'bytes', 'modified', 'mod_year','extension', 'category', 'mimetype', 'folder1', 'folder2'])\n",
    "    \n",
    "    # This is where the \"crawl\" of files starts, using the Python os.walk() function\n",
    "    for folder, subfolders, files in os.walk(accession_dir):\n",
    "        # Walk gives us the folder name (folder), subfolders list, and file names list for each folder in our accession.\n",
    "        for name in files:\n",
    "            file_count = file_count + 1  # Count this file\n",
    "            fullpath = join(folder, name)  # The full path to a file is made by joining file name and folder name.\n",
    "            \n",
    "            mod_dt = datetime.datetime.fromtimestamp(getmtime(fullpath))  # modified timestamp is converted into a Python date\n",
    "            \n",
    "            (mime, encoding) = mimetypes.guess_type(fullpath)  # Python mimetypes module will guess a mimetype\n",
    "            if mime is None:\n",
    "                mime = \"application/octet-stream\"  # This is a generic \"stream of bytes\" mimetype\n",
    "            category = mime.split('/')[0]  # The high-level mimetype is the half before the slash '/', such as 'text' or 'image'\n",
    "            \n",
    "            folder_path = folder[len(accession_dir):]  # We trim off the accession folder path to get just the path within the accession.\n",
    "            path_segments = folder_path.split('/')\n",
    "            folder1 = path_segments[0]\n",
    "            folder2 = path_segments[1] if len(path_segments) > 1 else '.'\n",
    "            \n",
    "            mywriter.writerow([name, folder_path,  # This writes a line to the CSV file \n",
    "                               getsize(fullpath), \n",
    "                               mod_dt.isoformat(),\n",
    "                               mod_dt.year,\n",
    "                               get_extension(name),\n",
    "                               category,\n",
    "                               mime,\n",
    "                               folder1,\n",
    "                               folder2])\n",
    "print(\"Inventory done: \"+accession_dir)\n",
    "print(\"Inventory file count:\"+str(file_count))"
   ]
  },
  {
   "cell_type": "markdown",
   "id": "collect-pointer",
   "metadata": {
    "editable": true,
    "slideshow": {
     "slide_type": ""
    },
    "tags": []
   },
   "source": [
    "## Inspect the Raw Inventory CSV\n",
    "After you execute the file inventory code above, you will see a new CSV file in your notebook directory. If you like, you can open that inventory CSV file in Jupyter, which will display it in tabular form. The next block of code will display the first few lines of the file as raw text."
   ]
  },
  {
   "cell_type": "code",
   "execution_count": 2,
   "id": "strong-gasoline",
   "metadata": {
    "editable": true,
    "slideshow": {
     "slide_type": ""
    },
    "tags": []
   },
   "outputs": [
    {
     "name": "stdout",
     "output_type": "stream",
     "text": [
      "name,path,bytes,modified,mod_year,extension,category,mimetype,folder1,folder2\n",
      "837083.jpg,\\837,126197,2007-08-04T00:09:11,2007,jpg,image,image/jpeg,\\837,.\n",
      "837352.gif,\\837,10222,2001-07-12T06:21:07,2001,gif,image,image/gif,\\837,.\n",
      "837447.jpg,\\837,1007134,2002-10-24T10:37:46,2002,jpg,image,image/jpeg,\\837,.\n",
      "837467.jpg,\\837,6654,2005-06-08T15:26:33,2005,jpg,image,image/jpeg,\\837,.\n",
      "837565.jpg,\\837,1545812,2001-07-12T02:52:52,2001,jpg,image,image/jpeg,\\837,.\n",
      "\n"
     ]
    }
   ],
   "source": [
    "with open('inventory.csv', 'r') as csvfile:\n",
    "    lines = ''\n",
    "    for x in range(0,6):\n",
    "        lines = lines + csvfile.readline()\n",
    "print(lines)"
   ]
  },
  {
   "cell_type": "markdown",
   "id": "durable-regression",
   "metadata": {},
   "source": [
    "You can see above that the first line of the CSV file is made up of column names. The data then follows, row by row.\n",
    "\n",
    "Next we will load the same CSV data into a Python data science tool called Pandas. This means that Python will read your file into a Pandas \"data frame\" object that we will use going forward. Data frame objects hold tabular data for further processing and display. We will first print the same first few rows of data to give you a sense of how it is organized and let you see that it is working properly. We will also call the shape() function on the data frame object, which gives us the exact dimensions (row and columns) in the data frame."
   ]
  },
  {
   "cell_type": "code",
   "execution_count": 3,
   "id": "oriented-priest",
   "metadata": {
    "editable": true,
    "slideshow": {
     "slide_type": ""
    },
    "tags": []
   },
   "outputs": [
    {
     "data": {
      "text/html": [
       "<div>\n",
       "<style scoped>\n",
       "    .dataframe tbody tr th:only-of-type {\n",
       "        vertical-align: middle;\n",
       "    }\n",
       "\n",
       "    .dataframe tbody tr th {\n",
       "        vertical-align: top;\n",
       "    }\n",
       "\n",
       "    .dataframe thead th {\n",
       "        text-align: right;\n",
       "    }\n",
       "</style>\n",
       "<table border=\"1\" class=\"dataframe\">\n",
       "  <thead>\n",
       "    <tr style=\"text-align: right;\">\n",
       "      <th></th>\n",
       "      <th>name</th>\n",
       "      <th>path</th>\n",
       "      <th>bytes</th>\n",
       "      <th>modified</th>\n",
       "      <th>mod_year</th>\n",
       "      <th>extension</th>\n",
       "      <th>category</th>\n",
       "      <th>mimetype</th>\n",
       "      <th>folder1</th>\n",
       "      <th>folder2</th>\n",
       "    </tr>\n",
       "  </thead>\n",
       "  <tbody>\n",
       "    <tr>\n",
       "      <th>0</th>\n",
       "      <td>837083.jpg</td>\n",
       "      <td>\\837</td>\n",
       "      <td>126197</td>\n",
       "      <td>2007-08-04T00:09:11</td>\n",
       "      <td>2007</td>\n",
       "      <td>jpg</td>\n",
       "      <td>image</td>\n",
       "      <td>image/jpeg</td>\n",
       "      <td>\\837</td>\n",
       "      <td>.</td>\n",
       "    </tr>\n",
       "    <tr>\n",
       "      <th>1</th>\n",
       "      <td>837352.gif</td>\n",
       "      <td>\\837</td>\n",
       "      <td>10222</td>\n",
       "      <td>2001-07-12T06:21:07</td>\n",
       "      <td>2001</td>\n",
       "      <td>gif</td>\n",
       "      <td>image</td>\n",
       "      <td>image/gif</td>\n",
       "      <td>\\837</td>\n",
       "      <td>.</td>\n",
       "    </tr>\n",
       "    <tr>\n",
       "      <th>2</th>\n",
       "      <td>837447.jpg</td>\n",
       "      <td>\\837</td>\n",
       "      <td>1007134</td>\n",
       "      <td>2002-10-24T10:37:46</td>\n",
       "      <td>2002</td>\n",
       "      <td>jpg</td>\n",
       "      <td>image</td>\n",
       "      <td>image/jpeg</td>\n",
       "      <td>\\837</td>\n",
       "      <td>.</td>\n",
       "    </tr>\n",
       "    <tr>\n",
       "      <th>3</th>\n",
       "      <td>837467.jpg</td>\n",
       "      <td>\\837</td>\n",
       "      <td>6654</td>\n",
       "      <td>2005-06-08T15:26:33</td>\n",
       "      <td>2005</td>\n",
       "      <td>jpg</td>\n",
       "      <td>image</td>\n",
       "      <td>image/jpeg</td>\n",
       "      <td>\\837</td>\n",
       "      <td>.</td>\n",
       "    </tr>\n",
       "    <tr>\n",
       "      <th>4</th>\n",
       "      <td>837565.jpg</td>\n",
       "      <td>\\837</td>\n",
       "      <td>1545812</td>\n",
       "      <td>2001-07-12T02:52:52</td>\n",
       "      <td>2001</td>\n",
       "      <td>jpg</td>\n",
       "      <td>image</td>\n",
       "      <td>image/jpeg</td>\n",
       "      <td>\\837</td>\n",
       "      <td>.</td>\n",
       "    </tr>\n",
       "  </tbody>\n",
       "</table>\n",
       "</div>"
      ],
      "text/plain": [
       "         name  path    bytes             modified  mod_year extension  \\\n",
       "0  837083.jpg  \\837   126197  2007-08-04T00:09:11      2007       jpg   \n",
       "1  837352.gif  \\837    10222  2001-07-12T06:21:07      2001       gif   \n",
       "2  837447.jpg  \\837  1007134  2002-10-24T10:37:46      2002       jpg   \n",
       "3  837467.jpg  \\837     6654  2005-06-08T15:26:33      2005       jpg   \n",
       "4  837565.jpg  \\837  1545812  2001-07-12T02:52:52      2001       jpg   \n",
       "\n",
       "  category    mimetype folder1 folder2  \n",
       "0    image  image/jpeg    \\837       .  \n",
       "1    image   image/gif    \\837       .  \n",
       "2    image  image/jpeg    \\837       .  \n",
       "3    image  image/jpeg    \\837       .  \n",
       "4    image  image/jpeg    \\837       .  "
      ]
     },
     "metadata": {},
     "output_type": "display_data"
    },
    {
     "name": "stdout",
     "output_type": "stream",
     "text": [
      "dimensions: (9876, 10)\n"
     ]
    }
   ],
   "source": [
    "import pandas as pd\n",
    "import numpy as np\n",
    "df = pd.read_csv('inventory.csv')\n",
    "\n",
    "display(df.head())\n",
    "print('dimensions: '+ str(df.shape))"
   ]
  },
  {
   "cell_type": "markdown",
   "id": "referenced-decrease",
   "metadata": {},
   "source": [
    "## Visualize Files by their Media Type\n",
    "Our next step is to visualize the file format information in aggregate, so that we can make preservation decisions. Here we look at a summary of the media types using a standard called the IANA MIME type. IANA MIME types have a type and a subtype, separated by a slash (/) character.\n",
    "\n",
    "    type/subtype\n",
    "    \n",
    "For example, these are some common MIME types:\n",
    "\n",
    "    image/jpeg\n",
    "    text/plain\n",
    "    application/pdf\n",
    "    \n",
    "Sometimes MIME types are longer and more complex. Here you can see the difference between older MS Word documents and the more recent .docx documents:\n",
    "\n",
    "    application/msword\n",
    "    application/vnd.openxmlformats-officedocument.wordprocessingml.document\n",
    "\n",
    "In the visualization below the area of each block reflects the number of files of each type and subtype. The color of each block represents the number of bytes stored in each type and subtype. This kind of visualization is called a Treemap and they were first developed in the early 90's by Ben Shneiderman in the Human-Computer Interaction Lab at the University of Maryland's iSchool.\n",
    "\n",
    "These treemaps are interactive; with some detailed values presented when you hover your pointer on a block and a zoom-in feature when you click on a block."
   ]
  },
  {
   "cell_type": "code",
   "execution_count": 17,
   "id": "going-humor",
   "metadata": {
    "editable": true,
    "slideshow": {
     "slide_type": ""
    },
    "tags": []
   },
   "outputs": [
    {
     "data": {
      "application/vnd.plotly.v1+json": {
       "config": {
        "plotlyServerURL": "https://plot.ly"
       },
       "data": [
        {
         "branchvalues": "total",
         "customdata": [
          [
           367008.8946716233
          ],
          [
           392021.7746835443
          ],
          [
           578831.8511354079
          ],
          [
           742201.9637096775
          ],
          [
           505802.2590673575
          ],
          [
           2140733.306640625
          ],
          [
           53
          ],
          [
           1898242
          ],
          [
           8493
          ],
          [
           17962.5
          ],
          [
           350985.4411764706
          ],
          [
           36290.25
          ],
          [
           77430
          ],
          [
           83603.23209169054
          ],
          [
           343123.37185461324
          ],
          [
           320354.46153846156
          ],
          [
           60571.717997165804
          ],
          [
           567182.2918781725
          ],
          [
           107941
          ],
          [
           135772.54390934843
          ],
          [
           681184.3704422032
          ],
          [
           280522.0602327173
          ],
          [
           191226.0270021479
          ],
          [
           460230.35297691374
          ]
         ],
         "domain": {
          "x": [
           0,
           1
          ],
          "y": [
           0,
           1
          ]
         },
         "hovertemplate": "labels=%{label}<br>count=%{value}<br>parent=%{parent}<br>id=%{id}<br>bytes=%{color}<extra></extra>",
         "ids": [
          "all/application/application/msword",
          "all/application/application/octet-stream",
          "all/application/application/pdf",
          "all/application/application/postscript",
          "all/application/application/vnd.ms-excel",
          "all/application/application/vnd.ms-powerpoint",
          "all/application/application/vnd.ms-publisher",
          "all/application/application/vnd.openxmlformats-officedocument.presentationml.presentation",
          "all/application/application/vnd.openxmlformats-officedocument.spreadsheetml.sheet",
          "all/application/application/vnd.openxmlformats-officedocument.wordprocessingml.document",
          "all/application/application/x-shockwave-flash",
          "all/application/application/x-tex",
          "all/application/application/x-zip-compressed",
          "all/image/image/gif",
          "all/image/image/jpeg",
          "all/image/image/png",
          "all/text/text/html",
          "all/text/text/plain",
          "all/text/text/x-sgml",
          "all/text/text/xml",
          "all/application",
          "all/image",
          "all/text",
          "all"
         ],
         "labels": [
          "application/msword",
          "application/octet-stream",
          "application/pdf",
          "application/postscript",
          "application/vnd.ms-excel",
          "application/vnd.ms-powerpoint",
          "application/vnd.ms-publisher",
          "application/vnd.openxmlformats-officedocument.presentationml.presentation",
          "application/vnd.openxmlformats-officedocument.spreadsheetml.sheet",
          "application/vnd.openxmlformats-officedocument.wordprocessingml.document",
          "application/x-shockwave-flash",
          "application/x-tex",
          "application/x-zip-compressed",
          "image/gif",
          "image/jpeg",
          "image/png",
          "text/html",
          "text/plain",
          "text/x-sgml",
          "text/xml",
          "application",
          "image",
          "text",
          "all"
         ],
         "marker": {
          "coloraxis": "coloraxis",
          "colors": [
           367008.8946716233,
           392021.7746835443,
           578831.8511354079,
           742201.9637096775,
           505802.2590673575,
           2140733.306640625,
           53,
           1898242,
           8493,
           17962.5,
           350985.4411764706,
           36290.25,
           77430,
           83603.23209169054,
           343123.37185461324,
           320354.46153846156,
           60571.717997165804,
           567182.2918781725,
           107941,
           135772.54390934843,
           681184.3704422032,
           280522.0602327173,
           191226.0270021479,
           460230.35297691374
          ]
         },
         "name": "",
         "parents": [
          "all/application",
          "all/application",
          "all/application",
          "all/application",
          "all/application",
          "all/application",
          "all/application",
          "all/application",
          "all/application",
          "all/application",
          "all/application",
          "all/application",
          "all/application",
          "all/image",
          "all/image",
          "all/image",
          "all/text",
          "all/text",
          "all/text",
          "all/text",
          "all",
          "all",
          "all",
          ""
         ],
         "root": {
          "color": "lightgrey"
         },
         "type": "treemap",
         "values": [
          807,
          395,
          2378,
          248,
          772,
          512,
          1,
          1,
          1,
          2,
          34,
          4,
          1,
          349,
          1073,
          39,
          2117,
          788,
          1,
          353,
          5156,
          1461,
          3259,
          9876
         ]
        }
       ],
       "layout": {
        "autosize": true,
        "coloraxis": {
         "colorbar": {
          "title": {
           "text": "bytes"
          }
         },
         "colorscale": [
          [
           0,
           "#0d0887"
          ],
          [
           0.1111111111111111,
           "#46039f"
          ],
          [
           0.2222222222222222,
           "#7201a8"
          ],
          [
           0.3333333333333333,
           "#9c179e"
          ],
          [
           0.4444444444444444,
           "#bd3786"
          ],
          [
           0.5555555555555556,
           "#d8576b"
          ],
          [
           0.6666666666666666,
           "#ed7953"
          ],
          [
           0.7777777777777778,
           "#fb9f3a"
          ],
          [
           0.8888888888888888,
           "#fdca26"
          ],
          [
           1,
           "#f0f921"
          ]
         ]
        },
        "legend": {
         "tracegroupgap": 0
        },
        "margin": {
         "b": 25,
         "l": 25,
         "r": 25,
         "t": 50
        },
        "template": {
         "data": {
          "bar": [
           {
            "error_x": {
             "color": "#2a3f5f"
            },
            "error_y": {
             "color": "#2a3f5f"
            },
            "marker": {
             "line": {
              "color": "#E5ECF6",
              "width": 0.5
             },
             "pattern": {
              "fillmode": "overlay",
              "size": 10,
              "solidity": 0.2
             }
            },
            "type": "bar"
           }
          ],
          "barpolar": [
           {
            "marker": {
             "line": {
              "color": "#E5ECF6",
              "width": 0.5
             },
             "pattern": {
              "fillmode": "overlay",
              "size": 10,
              "solidity": 0.2
             }
            },
            "type": "barpolar"
           }
          ],
          "carpet": [
           {
            "aaxis": {
             "endlinecolor": "#2a3f5f",
             "gridcolor": "white",
             "linecolor": "white",
             "minorgridcolor": "white",
             "startlinecolor": "#2a3f5f"
            },
            "baxis": {
             "endlinecolor": "#2a3f5f",
             "gridcolor": "white",
             "linecolor": "white",
             "minorgridcolor": "white",
             "startlinecolor": "#2a3f5f"
            },
            "type": "carpet"
           }
          ],
          "choropleth": [
           {
            "colorbar": {
             "outlinewidth": 0,
             "ticks": ""
            },
            "type": "choropleth"
           }
          ],
          "contour": [
           {
            "colorbar": {
             "outlinewidth": 0,
             "ticks": ""
            },
            "colorscale": [
             [
              0,
              "#0d0887"
             ],
             [
              0.1111111111111111,
              "#46039f"
             ],
             [
              0.2222222222222222,
              "#7201a8"
             ],
             [
              0.3333333333333333,
              "#9c179e"
             ],
             [
              0.4444444444444444,
              "#bd3786"
             ],
             [
              0.5555555555555556,
              "#d8576b"
             ],
             [
              0.6666666666666666,
              "#ed7953"
             ],
             [
              0.7777777777777778,
              "#fb9f3a"
             ],
             [
              0.8888888888888888,
              "#fdca26"
             ],
             [
              1,
              "#f0f921"
             ]
            ],
            "type": "contour"
           }
          ],
          "contourcarpet": [
           {
            "colorbar": {
             "outlinewidth": 0,
             "ticks": ""
            },
            "type": "contourcarpet"
           }
          ],
          "heatmap": [
           {
            "colorbar": {
             "outlinewidth": 0,
             "ticks": ""
            },
            "colorscale": [
             [
              0,
              "#0d0887"
             ],
             [
              0.1111111111111111,
              "#46039f"
             ],
             [
              0.2222222222222222,
              "#7201a8"
             ],
             [
              0.3333333333333333,
              "#9c179e"
             ],
             [
              0.4444444444444444,
              "#bd3786"
             ],
             [
              0.5555555555555556,
              "#d8576b"
             ],
             [
              0.6666666666666666,
              "#ed7953"
             ],
             [
              0.7777777777777778,
              "#fb9f3a"
             ],
             [
              0.8888888888888888,
              "#fdca26"
             ],
             [
              1,
              "#f0f921"
             ]
            ],
            "type": "heatmap"
           }
          ],
          "heatmapgl": [
           {
            "colorbar": {
             "outlinewidth": 0,
             "ticks": ""
            },
            "colorscale": [
             [
              0,
              "#0d0887"
             ],
             [
              0.1111111111111111,
              "#46039f"
             ],
             [
              0.2222222222222222,
              "#7201a8"
             ],
             [
              0.3333333333333333,
              "#9c179e"
             ],
             [
              0.4444444444444444,
              "#bd3786"
             ],
             [
              0.5555555555555556,
              "#d8576b"
             ],
             [
              0.6666666666666666,
              "#ed7953"
             ],
             [
              0.7777777777777778,
              "#fb9f3a"
             ],
             [
              0.8888888888888888,
              "#fdca26"
             ],
             [
              1,
              "#f0f921"
             ]
            ],
            "type": "heatmapgl"
           }
          ],
          "histogram": [
           {
            "marker": {
             "pattern": {
              "fillmode": "overlay",
              "size": 10,
              "solidity": 0.2
             }
            },
            "type": "histogram"
           }
          ],
          "histogram2d": [
           {
            "colorbar": {
             "outlinewidth": 0,
             "ticks": ""
            },
            "colorscale": [
             [
              0,
              "#0d0887"
             ],
             [
              0.1111111111111111,
              "#46039f"
             ],
             [
              0.2222222222222222,
              "#7201a8"
             ],
             [
              0.3333333333333333,
              "#9c179e"
             ],
             [
              0.4444444444444444,
              "#bd3786"
             ],
             [
              0.5555555555555556,
              "#d8576b"
             ],
             [
              0.6666666666666666,
              "#ed7953"
             ],
             [
              0.7777777777777778,
              "#fb9f3a"
             ],
             [
              0.8888888888888888,
              "#fdca26"
             ],
             [
              1,
              "#f0f921"
             ]
            ],
            "type": "histogram2d"
           }
          ],
          "histogram2dcontour": [
           {
            "colorbar": {
             "outlinewidth": 0,
             "ticks": ""
            },
            "colorscale": [
             [
              0,
              "#0d0887"
             ],
             [
              0.1111111111111111,
              "#46039f"
             ],
             [
              0.2222222222222222,
              "#7201a8"
             ],
             [
              0.3333333333333333,
              "#9c179e"
             ],
             [
              0.4444444444444444,
              "#bd3786"
             ],
             [
              0.5555555555555556,
              "#d8576b"
             ],
             [
              0.6666666666666666,
              "#ed7953"
             ],
             [
              0.7777777777777778,
              "#fb9f3a"
             ],
             [
              0.8888888888888888,
              "#fdca26"
             ],
             [
              1,
              "#f0f921"
             ]
            ],
            "type": "histogram2dcontour"
           }
          ],
          "mesh3d": [
           {
            "colorbar": {
             "outlinewidth": 0,
             "ticks": ""
            },
            "type": "mesh3d"
           }
          ],
          "parcoords": [
           {
            "line": {
             "colorbar": {
              "outlinewidth": 0,
              "ticks": ""
             }
            },
            "type": "parcoords"
           }
          ],
          "pie": [
           {
            "automargin": true,
            "type": "pie"
           }
          ],
          "scatter": [
           {
            "fillpattern": {
             "fillmode": "overlay",
             "size": 10,
             "solidity": 0.2
            },
            "type": "scatter"
           }
          ],
          "scatter3d": [
           {
            "line": {
             "colorbar": {
              "outlinewidth": 0,
              "ticks": ""
             }
            },
            "marker": {
             "colorbar": {
              "outlinewidth": 0,
              "ticks": ""
             }
            },
            "type": "scatter3d"
           }
          ],
          "scattercarpet": [
           {
            "marker": {
             "colorbar": {
              "outlinewidth": 0,
              "ticks": ""
             }
            },
            "type": "scattercarpet"
           }
          ],
          "scattergeo": [
           {
            "marker": {
             "colorbar": {
              "outlinewidth": 0,
              "ticks": ""
             }
            },
            "type": "scattergeo"
           }
          ],
          "scattergl": [
           {
            "marker": {
             "colorbar": {
              "outlinewidth": 0,
              "ticks": ""
             }
            },
            "type": "scattergl"
           }
          ],
          "scattermapbox": [
           {
            "marker": {
             "colorbar": {
              "outlinewidth": 0,
              "ticks": ""
             }
            },
            "type": "scattermapbox"
           }
          ],
          "scatterpolar": [
           {
            "marker": {
             "colorbar": {
              "outlinewidth": 0,
              "ticks": ""
             }
            },
            "type": "scatterpolar"
           }
          ],
          "scatterpolargl": [
           {
            "marker": {
             "colorbar": {
              "outlinewidth": 0,
              "ticks": ""
             }
            },
            "type": "scatterpolargl"
           }
          ],
          "scatterternary": [
           {
            "marker": {
             "colorbar": {
              "outlinewidth": 0,
              "ticks": ""
             }
            },
            "type": "scatterternary"
           }
          ],
          "surface": [
           {
            "colorbar": {
             "outlinewidth": 0,
             "ticks": ""
            },
            "colorscale": [
             [
              0,
              "#0d0887"
             ],
             [
              0.1111111111111111,
              "#46039f"
             ],
             [
              0.2222222222222222,
              "#7201a8"
             ],
             [
              0.3333333333333333,
              "#9c179e"
             ],
             [
              0.4444444444444444,
              "#bd3786"
             ],
             [
              0.5555555555555556,
              "#d8576b"
             ],
             [
              0.6666666666666666,
              "#ed7953"
             ],
             [
              0.7777777777777778,
              "#fb9f3a"
             ],
             [
              0.8888888888888888,
              "#fdca26"
             ],
             [
              1,
              "#f0f921"
             ]
            ],
            "type": "surface"
           }
          ],
          "table": [
           {
            "cells": {
             "fill": {
              "color": "#EBF0F8"
             },
             "line": {
              "color": "white"
             }
            },
            "header": {
             "fill": {
              "color": "#C8D4E3"
             },
             "line": {
              "color": "white"
             }
            },
            "type": "table"
           }
          ]
         },
         "layout": {
          "annotationdefaults": {
           "arrowcolor": "#2a3f5f",
           "arrowhead": 0,
           "arrowwidth": 1
          },
          "autotypenumbers": "strict",
          "coloraxis": {
           "colorbar": {
            "outlinewidth": 0,
            "ticks": ""
           }
          },
          "colorscale": {
           "diverging": [
            [
             0,
             "#8e0152"
            ],
            [
             0.1,
             "#c51b7d"
            ],
            [
             0.2,
             "#de77ae"
            ],
            [
             0.3,
             "#f1b6da"
            ],
            [
             0.4,
             "#fde0ef"
            ],
            [
             0.5,
             "#f7f7f7"
            ],
            [
             0.6,
             "#e6f5d0"
            ],
            [
             0.7,
             "#b8e186"
            ],
            [
             0.8,
             "#7fbc41"
            ],
            [
             0.9,
             "#4d9221"
            ],
            [
             1,
             "#276419"
            ]
           ],
           "sequential": [
            [
             0,
             "#0d0887"
            ],
            [
             0.1111111111111111,
             "#46039f"
            ],
            [
             0.2222222222222222,
             "#7201a8"
            ],
            [
             0.3333333333333333,
             "#9c179e"
            ],
            [
             0.4444444444444444,
             "#bd3786"
            ],
            [
             0.5555555555555556,
             "#d8576b"
            ],
            [
             0.6666666666666666,
             "#ed7953"
            ],
            [
             0.7777777777777778,
             "#fb9f3a"
            ],
            [
             0.8888888888888888,
             "#fdca26"
            ],
            [
             1,
             "#f0f921"
            ]
           ],
           "sequentialminus": [
            [
             0,
             "#0d0887"
            ],
            [
             0.1111111111111111,
             "#46039f"
            ],
            [
             0.2222222222222222,
             "#7201a8"
            ],
            [
             0.3333333333333333,
             "#9c179e"
            ],
            [
             0.4444444444444444,
             "#bd3786"
            ],
            [
             0.5555555555555556,
             "#d8576b"
            ],
            [
             0.6666666666666666,
             "#ed7953"
            ],
            [
             0.7777777777777778,
             "#fb9f3a"
            ],
            [
             0.8888888888888888,
             "#fdca26"
            ],
            [
             1,
             "#f0f921"
            ]
           ]
          },
          "colorway": [
           "#636efa",
           "#EF553B",
           "#00cc96",
           "#ab63fa",
           "#FFA15A",
           "#19d3f3",
           "#FF6692",
           "#B6E880",
           "#FF97FF",
           "#FECB52"
          ],
          "font": {
           "color": "#2a3f5f"
          },
          "geo": {
           "bgcolor": "white",
           "lakecolor": "white",
           "landcolor": "#E5ECF6",
           "showlakes": true,
           "showland": true,
           "subunitcolor": "white"
          },
          "hoverlabel": {
           "align": "left"
          },
          "hovermode": "closest",
          "mapbox": {
           "style": "light"
          },
          "paper_bgcolor": "white",
          "plot_bgcolor": "#E5ECF6",
          "polar": {
           "angularaxis": {
            "gridcolor": "white",
            "linecolor": "white",
            "ticks": ""
           },
           "bgcolor": "#E5ECF6",
           "radialaxis": {
            "gridcolor": "white",
            "linecolor": "white",
            "ticks": ""
           }
          },
          "scene": {
           "xaxis": {
            "backgroundcolor": "#E5ECF6",
            "gridcolor": "white",
            "gridwidth": 2,
            "linecolor": "white",
            "showbackground": true,
            "ticks": "",
            "zerolinecolor": "white"
           },
           "yaxis": {
            "backgroundcolor": "#E5ECF6",
            "gridcolor": "white",
            "gridwidth": 2,
            "linecolor": "white",
            "showbackground": true,
            "ticks": "",
            "zerolinecolor": "white"
           },
           "zaxis": {
            "backgroundcolor": "#E5ECF6",
            "gridcolor": "white",
            "gridwidth": 2,
            "linecolor": "white",
            "showbackground": true,
            "ticks": "",
            "zerolinecolor": "white"
           }
          },
          "shapedefaults": {
           "line": {
            "color": "#2a3f5f"
           }
          },
          "ternary": {
           "aaxis": {
            "gridcolor": "white",
            "linecolor": "white",
            "ticks": ""
           },
           "baxis": {
            "gridcolor": "white",
            "linecolor": "white",
            "ticks": ""
           },
           "bgcolor": "#E5ECF6",
           "caxis": {
            "gridcolor": "white",
            "linecolor": "white",
            "ticks": ""
           }
          },
          "title": {
           "x": 0.05
          },
          "xaxis": {
           "automargin": true,
           "gridcolor": "white",
           "linecolor": "white",
           "ticks": "",
           "title": {
            "standoff": 15
           },
           "zerolinecolor": "white",
           "zerolinewidth": 2
          },
          "yaxis": {
           "automargin": true,
           "gridcolor": "white",
           "linecolor": "white",
           "ticks": "",
           "title": {
            "standoff": 15
           },
           "zerolinecolor": "white",
           "zerolinewidth": 2
          }
         }
        },
        "title": {
         "text": "Total File Stored by Mimetype (Colored by Bytes Stored)"
        }
       }
      },
      "image/png": "[encoded data removed]",
      "text/html": [
       "<div>                            <div id=\"8aad7adc-c4ac-4a20-ab6d-bea52b2099b9\" class=\"plotly-graph-div\" style=\"height:500px; width:100%;\"></div>            <script type=\"text/javascript\">                require([\"plotly\"], function(Plotly) {                    window.PLOTLYENV=window.PLOTLYENV || {};                                    if (document.getElementById(\"8aad7adc-c4ac-4a20-ab6d-bea52b2099b9\")) {                    Plotly.newPlot(                        \"8aad7adc-c4ac-4a20-ab6d-bea52b2099b9\",                        [{\"branchvalues\":\"total\",\"customdata\":[[367008.8946716233],[392021.7746835443],[578831.8511354079],[742201.9637096775],[505802.2590673575],[2140733.306640625],[53.0],[1898242.0],[8493.0],[17962.5],[350985.4411764706],[36290.25],[77430.0],[83603.23209169054],[343123.37185461324],[320354.46153846156],[60571.717997165804],[567182.2918781725],[107941.0],[135772.54390934843],[681184.3704422032],[280522.0602327173],[191226.0270021479],[460230.35297691374]],\"domain\":{\"x\":[0.0,1.0],\"y\":[0.0,1.0]},\"hovertemplate\":\"labels=%{label}\\u003cbr\\u003ecount=%{value}\\u003cbr\\u003eparent=%{parent}\\u003cbr\\u003eid=%{id}\\u003cbr\\u003ebytes=%{color}\\u003cextra\\u003e\\u003c\\u002fextra\\u003e\",\"ids\":[\"all\\u002fapplication\\u002fapplication\\u002fmsword\",\"all\\u002fapplication\\u002fapplication\\u002foctet-stream\",\"all\\u002fapplication\\u002fapplication\\u002fpdf\",\"all\\u002fapplication\\u002fapplication\\u002fpostscript\",\"all\\u002fapplication\\u002fapplication\\u002fvnd.ms-excel\",\"all\\u002fapplication\\u002fapplication\\u002fvnd.ms-powerpoint\",\"all\\u002fapplication\\u002fapplication\\u002fvnd.ms-publisher\",\"all\\u002fapplication\\u002fapplication\\u002fvnd.openxmlformats-officedocument.presentationml.presentation\",\"all\\u002fapplication\\u002fapplication\\u002fvnd.openxmlformats-officedocument.spreadsheetml.sheet\",\"all\\u002fapplication\\u002fapplication\\u002fvnd.openxmlformats-officedocument.wordprocessingml.document\",\"all\\u002fapplication\\u002fapplication\\u002fx-shockwave-flash\",\"all\\u002fapplication\\u002fapplication\\u002fx-tex\",\"all\\u002fapplication\\u002fapplication\\u002fx-zip-compressed\",\"all\\u002fimage\\u002fimage\\u002fgif\",\"all\\u002fimage\\u002fimage\\u002fjpeg\",\"all\\u002fimage\\u002fimage\\u002fpng\",\"all\\u002ftext\\u002ftext\\u002fhtml\",\"all\\u002ftext\\u002ftext\\u002fplain\",\"all\\u002ftext\\u002ftext\\u002fx-sgml\",\"all\\u002ftext\\u002ftext\\u002fxml\",\"all\\u002fapplication\",\"all\\u002fimage\",\"all\\u002ftext\",\"all\"],\"labels\":[\"application\\u002fmsword\",\"application\\u002foctet-stream\",\"application\\u002fpdf\",\"application\\u002fpostscript\",\"application\\u002fvnd.ms-excel\",\"application\\u002fvnd.ms-powerpoint\",\"application\\u002fvnd.ms-publisher\",\"application\\u002fvnd.openxmlformats-officedocument.presentationml.presentation\",\"application\\u002fvnd.openxmlformats-officedocument.spreadsheetml.sheet\",\"application\\u002fvnd.openxmlformats-officedocument.wordprocessingml.document\",\"application\\u002fx-shockwave-flash\",\"application\\u002fx-tex\",\"application\\u002fx-zip-compressed\",\"image\\u002fgif\",\"image\\u002fjpeg\",\"image\\u002fpng\",\"text\\u002fhtml\",\"text\\u002fplain\",\"text\\u002fx-sgml\",\"text\\u002fxml\",\"application\",\"image\",\"text\",\"all\"],\"marker\":{\"coloraxis\":\"coloraxis\",\"colors\":[367008.8946716233,392021.7746835443,578831.8511354079,742201.9637096775,505802.2590673575,2140733.306640625,53.0,1898242.0,8493.0,17962.5,350985.4411764706,36290.25,77430.0,83603.23209169054,343123.37185461324,320354.46153846156,60571.717997165804,567182.2918781725,107941.0,135772.54390934843,681184.3704422032,280522.0602327173,191226.0270021479,460230.35297691374]},\"name\":\"\",\"parents\":[\"all\\u002fapplication\",\"all\\u002fapplication\",\"all\\u002fapplication\",\"all\\u002fapplication\",\"all\\u002fapplication\",\"all\\u002fapplication\",\"all\\u002fapplication\",\"all\\u002fapplication\",\"all\\u002fapplication\",\"all\\u002fapplication\",\"all\\u002fapplication\",\"all\\u002fapplication\",\"all\\u002fapplication\",\"all\\u002fimage\",\"all\\u002fimage\",\"all\\u002fimage\",\"all\\u002ftext\",\"all\\u002ftext\",\"all\\u002ftext\",\"all\\u002ftext\",\"all\",\"all\",\"all\",\"\"],\"values\":[807,395,2378,248,772,512,1,1,1,2,34,4,1,349,1073,39,2117,788,1,353,5156,1461,3259,9876],\"type\":\"treemap\",\"root\":{\"color\":\"lightgrey\"}}],                        {\"template\":{\"data\":{\"histogram2dcontour\":[{\"type\":\"histogram2dcontour\",\"colorbar\":{\"outlinewidth\":0,\"ticks\":\"\"},\"colorscale\":[[0.0,\"#0d0887\"],[0.1111111111111111,\"#46039f\"],[0.2222222222222222,\"#7201a8\"],[0.3333333333333333,\"#9c179e\"],[0.4444444444444444,\"#bd3786\"],[0.5555555555555556,\"#d8576b\"],[0.6666666666666666,\"#ed7953\"],[0.7777777777777778,\"#fb9f3a\"],[0.8888888888888888,\"#fdca26\"],[1.0,\"#f0f921\"]]}],\"choropleth\":[{\"type\":\"choropleth\",\"colorbar\":{\"outlinewidth\":0,\"ticks\":\"\"}}],\"histogram2d\":[{\"type\":\"histogram2d\",\"colorbar\":{\"outlinewidth\":0,\"ticks\":\"\"},\"colorscale\":[[0.0,\"#0d0887\"],[0.1111111111111111,\"#46039f\"],[0.2222222222222222,\"#7201a8\"],[0.3333333333333333,\"#9c179e\"],[0.4444444444444444,\"#bd3786\"],[0.5555555555555556,\"#d8576b\"],[0.6666666666666666,\"#ed7953\"],[0.7777777777777778,\"#fb9f3a\"],[0.8888888888888888,\"#fdca26\"],[1.0,\"#f0f921\"]]}],\"heatmap\":[{\"type\":\"heatmap\",\"colorbar\":{\"outlinewidth\":0,\"ticks\":\"\"},\"colorscale\":[[0.0,\"#0d0887\"],[0.1111111111111111,\"#46039f\"],[0.2222222222222222,\"#7201a8\"],[0.3333333333333333,\"#9c179e\"],[0.4444444444444444,\"#bd3786\"],[0.5555555555555556,\"#d8576b\"],[0.6666666666666666,\"#ed7953\"],[0.7777777777777778,\"#fb9f3a\"],[0.8888888888888888,\"#fdca26\"],[1.0,\"#f0f921\"]]}],\"heatmapgl\":[{\"type\":\"heatmapgl\",\"colorbar\":{\"outlinewidth\":0,\"ticks\":\"\"},\"colorscale\":[[0.0,\"#0d0887\"],[0.1111111111111111,\"#46039f\"],[0.2222222222222222,\"#7201a8\"],[0.3333333333333333,\"#9c179e\"],[0.4444444444444444,\"#bd3786\"],[0.5555555555555556,\"#d8576b\"],[0.6666666666666666,\"#ed7953\"],[0.7777777777777778,\"#fb9f3a\"],[0.8888888888888888,\"#fdca26\"],[1.0,\"#f0f921\"]]}],\"contourcarpet\":[{\"type\":\"contourcarpet\",\"colorbar\":{\"outlinewidth\":0,\"ticks\":\"\"}}],\"contour\":[{\"type\":\"contour\",\"colorbar\":{\"outlinewidth\":0,\"ticks\":\"\"},\"colorscale\":[[0.0,\"#0d0887\"],[0.1111111111111111,\"#46039f\"],[0.2222222222222222,\"#7201a8\"],[0.3333333333333333,\"#9c179e\"],[0.4444444444444444,\"#bd3786\"],[0.5555555555555556,\"#d8576b\"],[0.6666666666666666,\"#ed7953\"],[0.7777777777777778,\"#fb9f3a\"],[0.8888888888888888,\"#fdca26\"],[1.0,\"#f0f921\"]]}],\"surface\":[{\"type\":\"surface\",\"colorbar\":{\"outlinewidth\":0,\"ticks\":\"\"},\"colorscale\":[[0.0,\"#0d0887\"],[0.1111111111111111,\"#46039f\"],[0.2222222222222222,\"#7201a8\"],[0.3333333333333333,\"#9c179e\"],[0.4444444444444444,\"#bd3786\"],[0.5555555555555556,\"#d8576b\"],[0.6666666666666666,\"#ed7953\"],[0.7777777777777778,\"#fb9f3a\"],[0.8888888888888888,\"#fdca26\"],[1.0,\"#f0f921\"]]}],\"mesh3d\":[{\"type\":\"mesh3d\",\"colorbar\":{\"outlinewidth\":0,\"ticks\":\"\"}}],\"scatter\":[{\"fillpattern\":{\"fillmode\":\"overlay\",\"size\":10,\"solidity\":0.2},\"type\":\"scatter\"}],\"parcoords\":[{\"type\":\"parcoords\",\"line\":{\"colorbar\":{\"outlinewidth\":0,\"ticks\":\"\"}}}],\"scatterpolargl\":[{\"type\":\"scatterpolargl\",\"marker\":{\"colorbar\":{\"outlinewidth\":0,\"ticks\":\"\"}}}],\"bar\":[{\"error_x\":{\"color\":\"#2a3f5f\"},\"error_y\":{\"color\":\"#2a3f5f\"},\"marker\":{\"line\":{\"color\":\"#E5ECF6\",\"width\":0.5},\"pattern\":{\"fillmode\":\"overlay\",\"size\":10,\"solidity\":0.2}},\"type\":\"bar\"}],\"scattergeo\":[{\"type\":\"scattergeo\",\"marker\":{\"colorbar\":{\"outlinewidth\":0,\"ticks\":\"\"}}}],\"scatterpolar\":[{\"type\":\"scatterpolar\",\"marker\":{\"colorbar\":{\"outlinewidth\":0,\"ticks\":\"\"}}}],\"histogram\":[{\"marker\":{\"pattern\":{\"fillmode\":\"overlay\",\"size\":10,\"solidity\":0.2}},\"type\":\"histogram\"}],\"scattergl\":[{\"type\":\"scattergl\",\"marker\":{\"colorbar\":{\"outlinewidth\":0,\"ticks\":\"\"}}}],\"scatter3d\":[{\"type\":\"scatter3d\",\"line\":{\"colorbar\":{\"outlinewidth\":0,\"ticks\":\"\"}},\"marker\":{\"colorbar\":{\"outlinewidth\":0,\"ticks\":\"\"}}}],\"scattermapbox\":[{\"type\":\"scattermapbox\",\"marker\":{\"colorbar\":{\"outlinewidth\":0,\"ticks\":\"\"}}}],\"scatterternary\":[{\"type\":\"scatterternary\",\"marker\":{\"colorbar\":{\"outlinewidth\":0,\"ticks\":\"\"}}}],\"scattercarpet\":[{\"type\":\"scattercarpet\",\"marker\":{\"colorbar\":{\"outlinewidth\":0,\"ticks\":\"\"}}}],\"carpet\":[{\"aaxis\":{\"endlinecolor\":\"#2a3f5f\",\"gridcolor\":\"white\",\"linecolor\":\"white\",\"minorgridcolor\":\"white\",\"startlinecolor\":\"#2a3f5f\"},\"baxis\":{\"endlinecolor\":\"#2a3f5f\",\"gridcolor\":\"white\",\"linecolor\":\"white\",\"minorgridcolor\":\"white\",\"startlinecolor\":\"#2a3f5f\"},\"type\":\"carpet\"}],\"table\":[{\"cells\":{\"fill\":{\"color\":\"#EBF0F8\"},\"line\":{\"color\":\"white\"}},\"header\":{\"fill\":{\"color\":\"#C8D4E3\"},\"line\":{\"color\":\"white\"}},\"type\":\"table\"}],\"barpolar\":[{\"marker\":{\"line\":{\"color\":\"#E5ECF6\",\"width\":0.5},\"pattern\":{\"fillmode\":\"overlay\",\"size\":10,\"solidity\":0.2}},\"type\":\"barpolar\"}],\"pie\":[{\"automargin\":true,\"type\":\"pie\"}]},\"layout\":{\"autotypenumbers\":\"strict\",\"colorway\":[\"#636efa\",\"#EF553B\",\"#00cc96\",\"#ab63fa\",\"#FFA15A\",\"#19d3f3\",\"#FF6692\",\"#B6E880\",\"#FF97FF\",\"#FECB52\"],\"font\":{\"color\":\"#2a3f5f\"},\"hovermode\":\"closest\",\"hoverlabel\":{\"align\":\"left\"},\"paper_bgcolor\":\"white\",\"plot_bgcolor\":\"#E5ECF6\",\"polar\":{\"bgcolor\":\"#E5ECF6\",\"angularaxis\":{\"gridcolor\":\"white\",\"linecolor\":\"white\",\"ticks\":\"\"},\"radialaxis\":{\"gridcolor\":\"white\",\"linecolor\":\"white\",\"ticks\":\"\"}},\"ternary\":{\"bgcolor\":\"#E5ECF6\",\"aaxis\":{\"gridcolor\":\"white\",\"linecolor\":\"white\",\"ticks\":\"\"},\"baxis\":{\"gridcolor\":\"white\",\"linecolor\":\"white\",\"ticks\":\"\"},\"caxis\":{\"gridcolor\":\"white\",\"linecolor\":\"white\",\"ticks\":\"\"}},\"coloraxis\":{\"colorbar\":{\"outlinewidth\":0,\"ticks\":\"\"}},\"colorscale\":{\"sequential\":[[0.0,\"#0d0887\"],[0.1111111111111111,\"#46039f\"],[0.2222222222222222,\"#7201a8\"],[0.3333333333333333,\"#9c179e\"],[0.4444444444444444,\"#bd3786\"],[0.5555555555555556,\"#d8576b\"],[0.6666666666666666,\"#ed7953\"],[0.7777777777777778,\"#fb9f3a\"],[0.8888888888888888,\"#fdca26\"],[1.0,\"#f0f921\"]],\"sequentialminus\":[[0.0,\"#0d0887\"],[0.1111111111111111,\"#46039f\"],[0.2222222222222222,\"#7201a8\"],[0.3333333333333333,\"#9c179e\"],[0.4444444444444444,\"#bd3786\"],[0.5555555555555556,\"#d8576b\"],[0.6666666666666666,\"#ed7953\"],[0.7777777777777778,\"#fb9f3a\"],[0.8888888888888888,\"#fdca26\"],[1.0,\"#f0f921\"]],\"diverging\":[[0,\"#8e0152\"],[0.1,\"#c51b7d\"],[0.2,\"#de77ae\"],[0.3,\"#f1b6da\"],[0.4,\"#fde0ef\"],[0.5,\"#f7f7f7\"],[0.6,\"#e6f5d0\"],[0.7,\"#b8e186\"],[0.8,\"#7fbc41\"],[0.9,\"#4d9221\"],[1,\"#276419\"]]},\"xaxis\":{\"gridcolor\":\"white\",\"linecolor\":\"white\",\"ticks\":\"\",\"title\":{\"standoff\":15},\"zerolinecolor\":\"white\",\"automargin\":true,\"zerolinewidth\":2},\"yaxis\":{\"gridcolor\":\"white\",\"linecolor\":\"white\",\"ticks\":\"\",\"title\":{\"standoff\":15},\"zerolinecolor\":\"white\",\"automargin\":true,\"zerolinewidth\":2},\"scene\":{\"xaxis\":{\"backgroundcolor\":\"#E5ECF6\",\"gridcolor\":\"white\",\"linecolor\":\"white\",\"showbackground\":true,\"ticks\":\"\",\"zerolinecolor\":\"white\",\"gridwidth\":2},\"yaxis\":{\"backgroundcolor\":\"#E5ECF6\",\"gridcolor\":\"white\",\"linecolor\":\"white\",\"showbackground\":true,\"ticks\":\"\",\"zerolinecolor\":\"white\",\"gridwidth\":2},\"zaxis\":{\"backgroundcolor\":\"#E5ECF6\",\"gridcolor\":\"white\",\"linecolor\":\"white\",\"showbackground\":true,\"ticks\":\"\",\"zerolinecolor\":\"white\",\"gridwidth\":2}},\"shapedefaults\":{\"line\":{\"color\":\"#2a3f5f\"}},\"annotationdefaults\":{\"arrowcolor\":\"#2a3f5f\",\"arrowhead\":0,\"arrowwidth\":1},\"geo\":{\"bgcolor\":\"white\",\"landcolor\":\"#E5ECF6\",\"subunitcolor\":\"white\",\"showland\":true,\"showlakes\":true,\"lakecolor\":\"white\"},\"title\":{\"x\":0.05},\"mapbox\":{\"style\":\"light\"}}},\"coloraxis\":{\"colorbar\":{\"title\":{\"text\":\"bytes\"}},\"colorscale\":[[0.0,\"#0d0887\"],[0.1111111111111111,\"#46039f\"],[0.2222222222222222,\"#7201a8\"],[0.3333333333333333,\"#9c179e\"],[0.4444444444444444,\"#bd3786\"],[0.5555555555555556,\"#d8576b\"],[0.6666666666666666,\"#ed7953\"],[0.7777777777777778,\"#fb9f3a\"],[0.8888888888888888,\"#fdca26\"],[1.0,\"#f0f921\"]]},\"legend\":{\"tracegroupgap\":0},\"title\":{\"text\":\"Total File Stored by Mimetype (Colored by Bytes Stored)\"},\"height\":500,\"margin\":{\"t\":50,\"l\":25,\"r\":25,\"b\":25}},                        {\"responsive\": true}                    ).then(function(){\n",
       "                            \n",
       "var gd = document.getElementById('8aad7adc-c4ac-4a20-ab6d-bea52b2099b9');\n",
       "var x = new MutationObserver(function (mutations, observer) {{\n",
       "        var display = window.getComputedStyle(gd).display;\n",
       "        if (!display || display === 'none') {{\n",
       "            console.log([gd, 'removed!']);\n",
       "            Plotly.purge(gd);\n",
       "            observer.disconnect();\n",
       "        }}\n",
       "}});\n",
       "\n",
       "// Listen for the removal of the full notebook cells\n",
       "var notebookContainer = gd.closest('#notebook-container');\n",
       "if (notebookContainer) {{\n",
       "    x.observe(notebookContainer, {childList: true});\n",
       "}}\n",
       "\n",
       "// Listen for the clearing of the current output cell\n",
       "var outputEl = gd.closest('.output');\n",
       "if (outputEl) {{\n",
       "    x.observe(outputEl, {childList: true});\n",
       "}}\n",
       "\n",
       "                        })                };                });            </script>        </div>"
      ]
     },
     "metadata": {},
     "output_type": "display_data"
    }
   ],
   "source": [
    "import plotly.express as px\n",
    "\n",
    "fig = px.treemap(df,\n",
    "                 title=\"Total File Stored by Mimetype (Colored by Bytes Stored)\",\n",
    "                 path=[px.Constant(\"all\"), 'category', 'mimetype'], \n",
    "                 color='bytes',\n",
    "                 height=500\n",
    "                )\n",
    "fig.update_traces(root_color=\"lightgrey\")\n",
    "fig.update_layout(margin = dict(t=50, l=25, r=25, b=25))\n",
    "fig.show()"
   ]
  },
  {
   "cell_type": "markdown",
   "id": "guilty-greene",
   "metadata": {
    "editable": true,
    "slideshow": {
     "slide_type": ""
    },
    "tags": []
   },
   "source": [
    "### Exercise: Mimetype Analysis\n",
    "\n",
    "Look over the treemap above and notice which types of files are the most common (larger boxes). What conclusions can you draw about this accession based on the common file types? What does the treemap tell us is significant about the PDF files in this accession?"
   ]
  },
  {
   "cell_type": "markdown",
   "id": "technological-jungle",
   "metadata": {},
   "source": [
    "# File Extension vs. Mimetype\n",
    "\n",
    "A quick look at the same visualization for file extension (the part of the filename after the last dot) shows why we use mimetypes. File extensions are not always informative, whereas at least mimetypes give us a high-level category for each format.\n",
    "\n",
    "Python's mimetype guessing module is useful for a quick analysis, but there are more sophisticated file format identification tools that you will find helpful. Tools such as Droid and Siegfried (recommended) offer the ability to identify detailed sub-formats for the files in your accessions, such as which version of PDF was used to produce a document. These tools require a fully functional computer with adminitrator access to install and so they are beyond the scope of this notebook demonstration, but they will catch a many more specific formats than Python."
   ]
  },
  {
   "cell_type": "code",
   "execution_count": 19,
   "id": "center-opportunity",
   "metadata": {
    "editable": true,
    "slideshow": {
     "slide_type": ""
    },
    "tags": []
   },
   "outputs": [
    {
     "data": {
      "application/vnd.plotly.v1+json": {
       "config": {
        "plotlyServerURL": "https://plot.ly"
       },
       "data": [
        {
         "branchvalues": "total",
         "customdata": [
          [
           207636.25531914894
          ],
          [
           4780.035714285715
          ],
          [
           370603.93601003767
          ],
          [
           17962.5
          ],
          [
           49950
          ],
          [
           528984.675
          ],
          [
           12575.5
          ],
          [
           48960
          ],
          [
           25600
          ],
          [
           83603.23209169054
          ],
          [
           5250
          ],
          [
           643731.390625
          ],
          [
           2818.8571428571427
          ],
          [
           60571.717997165804
          ],
          [
           22766.5
          ],
          [
           343123.37185461324
          ],
          [
           32325.583333333332
          ],
          [
           129435.65
          ],
          [
           174902.08080808082
          ],
          [
           578831.8511354079
          ],
          [
           320354.46153846156
          ],
          [
           1190074.3636363635
          ],
          [
           2161606.0578842317
          ],
          [
           1898242
          ],
          [
           783205.2884615385
          ],
          [
           53
          ],
          [
           80484.1
          ],
          [
           107941
          ],
          [
           13436.75
          ],
          [
           350985.4411764706
          ],
          [
           1823
          ],
          [
           36290.25
          ],
          [
           2233489.5384615385
          ],
          [
           219715
          ],
          [
           2818
          ],
          [
           567182.2918781725
          ],
          [
           367137.9322033898
          ],
          [
           22527
          ],
          [
           601787.205479452
          ],
          [
           8493
          ],
          [
           135772.54390934843
          ],
          [
           77430
          ],
          [
           460230.35297691374
          ]
         ],
         "domain": {
          "x": [
           0,
           1
          ],
          "y": [
           0,
           1
          ]
         },
         "hovertemplate": "labels=%{label}<br>count=%{value}<br>parent=%{parent}<br>id=%{id}<br>bytes=%{color}<extra></extra>",
         "ids": [
          "all/csv",
          "all/dbase3",
          "all/doc",
          "all/docx",
          "all/dwf",
          "all/eps",
          "all/f",
          "all/fits",
          "all/fm",
          "all/gif",
          "all/gls",
          "all/gz",
          "all/hlp",
          "all/html",
          "all/java",
          "all/jpg",
          "all/kml",
          "all/kmz",
          "all/log",
          "all/pdf",
          "all/png",
          "all/pps",
          "all/ppt",
          "all/pptx",
          "all/ps",
          "all/pub",
          "all/rtf",
          "all/sgml",
          "all/sql",
          "all/swf",
          "all/sys",
          "all/tex",
          "all/text",
          "all/tmp",
          "all/troff",
          "all/txt",
          "all/unk",
          "all/wp",
          "all/xls",
          "all/xlsx",
          "all/xml",
          "all/zip",
          "all"
         ],
         "labels": [
          "csv",
          "dbase3",
          "doc",
          "docx",
          "dwf",
          "eps",
          "f",
          "fits",
          "fm",
          "gif",
          "gls",
          "gz",
          "hlp",
          "html",
          "java",
          "jpg",
          "kml",
          "kmz",
          "log",
          "pdf",
          "png",
          "pps",
          "ppt",
          "pptx",
          "ps",
          "pub",
          "rtf",
          "sgml",
          "sql",
          "swf",
          "sys",
          "tex",
          "text",
          "tmp",
          "troff",
          "txt",
          "unk",
          "wp",
          "xls",
          "xlsx",
          "xml",
          "zip",
          "all"
         ],
         "marker": {
          "coloraxis": "coloraxis",
          "colors": [
           207636.25531914894,
           4780.035714285715,
           370603.93601003767,
           17962.5,
           49950,
           528984.675,
           12575.5,
           48960,
           25600,
           83603.23209169054,
           5250,
           643731.390625,
           2818.8571428571427,
           60571.717997165804,
           22766.5,
           343123.37185461324,
           32325.583333333332,
           129435.65,
           174902.08080808082,
           578831.8511354079,
           320354.46153846156,
           1190074.3636363635,
           2161606.0578842317,
           1898242,
           783205.2884615385,
           53,
           80484.1,
           107941,
           13436.75,
           350985.4411764706,
           1823,
           36290.25,
           2233489.5384615385,
           219715,
           2818,
           567182.2918781725,
           367137.9322033898,
           22527,
           601787.205479452,
           8493,
           135772.54390934843,
           77430,
           460230.35297691374
          ]
         },
         "name": "",
         "parents": [
          "all",
          "all",
          "all",
          "all",
          "all",
          "all",
          "all",
          "all",
          "all",
          "all",
          "all",
          "all",
          "all",
          "all",
          "all",
          "all",
          "all",
          "all",
          "all",
          "all",
          "all",
          "all",
          "all",
          "all",
          "all",
          "all",
          "all",
          "all",
          "all",
          "all",
          "all",
          "all",
          "all",
          "all",
          "all",
          "all",
          "all",
          "all",
          "all",
          "all",
          "all",
          "all",
          ""
         ],
         "root": {
          "color": "lightgrey"
         },
         "type": "treemap",
         "values": [
          188,
          28,
          797,
          2,
          1,
          40,
          8,
          1,
          1,
          349,
          2,
          128,
          7,
          2117,
          4,
          1073,
          12,
          20,
          99,
          2378,
          39,
          11,
          501,
          1,
          208,
          1,
          10,
          1,
          4,
          34,
          1,
          4,
          13,
          4,
          1,
          788,
          59,
          2,
          584,
          1,
          353,
          1,
          9876
         ]
        }
       ],
       "layout": {
        "autosize": true,
        "coloraxis": {
         "colorbar": {
          "title": {
           "text": "bytes"
          }
         },
         "colorscale": [
          [
           0,
           "#0d0887"
          ],
          [
           0.1111111111111111,
           "#46039f"
          ],
          [
           0.2222222222222222,
           "#7201a8"
          ],
          [
           0.3333333333333333,
           "#9c179e"
          ],
          [
           0.4444444444444444,
           "#bd3786"
          ],
          [
           0.5555555555555556,
           "#d8576b"
          ],
          [
           0.6666666666666666,
           "#ed7953"
          ],
          [
           0.7777777777777778,
           "#fb9f3a"
          ],
          [
           0.8888888888888888,
           "#fdca26"
          ],
          [
           1,
           "#f0f921"
          ]
         ]
        },
        "legend": {
         "tracegroupgap": 0
        },
        "margin": {
         "b": 25,
         "l": 25,
         "r": 25,
         "t": 50
        },
        "template": {
         "data": {
          "bar": [
           {
            "error_x": {
             "color": "#2a3f5f"
            },
            "error_y": {
             "color": "#2a3f5f"
            },
            "marker": {
             "line": {
              "color": "#E5ECF6",
              "width": 0.5
             },
             "pattern": {
              "fillmode": "overlay",
              "size": 10,
              "solidity": 0.2
             }
            },
            "type": "bar"
           }
          ],
          "barpolar": [
           {
            "marker": {
             "line": {
              "color": "#E5ECF6",
              "width": 0.5
             },
             "pattern": {
              "fillmode": "overlay",
              "size": 10,
              "solidity": 0.2
             }
            },
            "type": "barpolar"
           }
          ],
          "carpet": [
           {
            "aaxis": {
             "endlinecolor": "#2a3f5f",
             "gridcolor": "white",
             "linecolor": "white",
             "minorgridcolor": "white",
             "startlinecolor": "#2a3f5f"
            },
            "baxis": {
             "endlinecolor": "#2a3f5f",
             "gridcolor": "white",
             "linecolor": "white",
             "minorgridcolor": "white",
             "startlinecolor": "#2a3f5f"
            },
            "type": "carpet"
           }
          ],
          "choropleth": [
           {
            "colorbar": {
             "outlinewidth": 0,
             "ticks": ""
            },
            "type": "choropleth"
           }
          ],
          "contour": [
           {
            "colorbar": {
             "outlinewidth": 0,
             "ticks": ""
            },
            "colorscale": [
             [
              0,
              "#0d0887"
             ],
             [
              0.1111111111111111,
              "#46039f"
             ],
             [
              0.2222222222222222,
              "#7201a8"
             ],
             [
              0.3333333333333333,
              "#9c179e"
             ],
             [
              0.4444444444444444,
              "#bd3786"
             ],
             [
              0.5555555555555556,
              "#d8576b"
             ],
             [
              0.6666666666666666,
              "#ed7953"
             ],
             [
              0.7777777777777778,
              "#fb9f3a"
             ],
             [
              0.8888888888888888,
              "#fdca26"
             ],
             [
              1,
              "#f0f921"
             ]
            ],
            "type": "contour"
           }
          ],
          "contourcarpet": [
           {
            "colorbar": {
             "outlinewidth": 0,
             "ticks": ""
            },
            "type": "contourcarpet"
           }
          ],
          "heatmap": [
           {
            "colorbar": {
             "outlinewidth": 0,
             "ticks": ""
            },
            "colorscale": [
             [
              0,
              "#0d0887"
             ],
             [
              0.1111111111111111,
              "#46039f"
             ],
             [
              0.2222222222222222,
              "#7201a8"
             ],
             [
              0.3333333333333333,
              "#9c179e"
             ],
             [
              0.4444444444444444,
              "#bd3786"
             ],
             [
              0.5555555555555556,
              "#d8576b"
             ],
             [
              0.6666666666666666,
              "#ed7953"
             ],
             [
              0.7777777777777778,
              "#fb9f3a"
             ],
             [
              0.8888888888888888,
              "#fdca26"
             ],
             [
              1,
              "#f0f921"
             ]
            ],
            "type": "heatmap"
           }
          ],
          "heatmapgl": [
           {
            "colorbar": {
             "outlinewidth": 0,
             "ticks": ""
            },
            "colorscale": [
             [
              0,
              "#0d0887"
             ],
             [
              0.1111111111111111,
              "#46039f"
             ],
             [
              0.2222222222222222,
              "#7201a8"
             ],
             [
              0.3333333333333333,
              "#9c179e"
             ],
             [
              0.4444444444444444,
              "#bd3786"
             ],
             [
              0.5555555555555556,
              "#d8576b"
             ],
             [
              0.6666666666666666,
              "#ed7953"
             ],
             [
              0.7777777777777778,
              "#fb9f3a"
             ],
             [
              0.8888888888888888,
              "#fdca26"
             ],
             [
              1,
              "#f0f921"
             ]
            ],
            "type": "heatmapgl"
           }
          ],
          "histogram": [
           {
            "marker": {
             "pattern": {
              "fillmode": "overlay",
              "size": 10,
              "solidity": 0.2
             }
            },
            "type": "histogram"
           }
          ],
          "histogram2d": [
           {
            "colorbar": {
             "outlinewidth": 0,
             "ticks": ""
            },
            "colorscale": [
             [
              0,
              "#0d0887"
             ],
             [
              0.1111111111111111,
              "#46039f"
             ],
             [
              0.2222222222222222,
              "#7201a8"
             ],
             [
              0.3333333333333333,
              "#9c179e"
             ],
             [
              0.4444444444444444,
              "#bd3786"
             ],
             [
              0.5555555555555556,
              "#d8576b"
             ],
             [
              0.6666666666666666,
              "#ed7953"
             ],
             [
              0.7777777777777778,
              "#fb9f3a"
             ],
             [
              0.8888888888888888,
              "#fdca26"
             ],
             [
              1,
              "#f0f921"
             ]
            ],
            "type": "histogram2d"
           }
          ],
          "histogram2dcontour": [
           {
            "colorbar": {
             "outlinewidth": 0,
             "ticks": ""
            },
            "colorscale": [
             [
              0,
              "#0d0887"
             ],
             [
              0.1111111111111111,
              "#46039f"
             ],
             [
              0.2222222222222222,
              "#7201a8"
             ],
             [
              0.3333333333333333,
              "#9c179e"
             ],
             [
              0.4444444444444444,
              "#bd3786"
             ],
             [
              0.5555555555555556,
              "#d8576b"
             ],
             [
              0.6666666666666666,
              "#ed7953"
             ],
             [
              0.7777777777777778,
              "#fb9f3a"
             ],
             [
              0.8888888888888888,
              "#fdca26"
             ],
             [
              1,
              "#f0f921"
             ]
            ],
            "type": "histogram2dcontour"
           }
          ],
          "mesh3d": [
           {
            "colorbar": {
             "outlinewidth": 0,
             "ticks": ""
            },
            "type": "mesh3d"
           }
          ],
          "parcoords": [
           {
            "line": {
             "colorbar": {
              "outlinewidth": 0,
              "ticks": ""
             }
            },
            "type": "parcoords"
           }
          ],
          "pie": [
           {
            "automargin": true,
            "type": "pie"
           }
          ],
          "scatter": [
           {
            "fillpattern": {
             "fillmode": "overlay",
             "size": 10,
             "solidity": 0.2
            },
            "type": "scatter"
           }
          ],
          "scatter3d": [
           {
            "line": {
             "colorbar": {
              "outlinewidth": 0,
              "ticks": ""
             }
            },
            "marker": {
             "colorbar": {
              "outlinewidth": 0,
              "ticks": ""
             }
            },
            "type": "scatter3d"
           }
          ],
          "scattercarpet": [
           {
            "marker": {
             "colorbar": {
              "outlinewidth": 0,
              "ticks": ""
             }
            },
            "type": "scattercarpet"
           }
          ],
          "scattergeo": [
           {
            "marker": {
             "colorbar": {
              "outlinewidth": 0,
              "ticks": ""
             }
            },
            "type": "scattergeo"
           }
          ],
          "scattergl": [
           {
            "marker": {
             "colorbar": {
              "outlinewidth": 0,
              "ticks": ""
             }
            },
            "type": "scattergl"
           }
          ],
          "scattermapbox": [
           {
            "marker": {
             "colorbar": {
              "outlinewidth": 0,
              "ticks": ""
             }
            },
            "type": "scattermapbox"
           }
          ],
          "scatterpolar": [
           {
            "marker": {
             "colorbar": {
              "outlinewidth": 0,
              "ticks": ""
             }
            },
            "type": "scatterpolar"
           }
          ],
          "scatterpolargl": [
           {
            "marker": {
             "colorbar": {
              "outlinewidth": 0,
              "ticks": ""
             }
            },
            "type": "scatterpolargl"
           }
          ],
          "scatterternary": [
           {
            "marker": {
             "colorbar": {
              "outlinewidth": 0,
              "ticks": ""
             }
            },
            "type": "scatterternary"
           }
          ],
          "surface": [
           {
            "colorbar": {
             "outlinewidth": 0,
             "ticks": ""
            },
            "colorscale": [
             [
              0,
              "#0d0887"
             ],
             [
              0.1111111111111111,
              "#46039f"
             ],
             [
              0.2222222222222222,
              "#7201a8"
             ],
             [
              0.3333333333333333,
              "#9c179e"
             ],
             [
              0.4444444444444444,
              "#bd3786"
             ],
             [
              0.5555555555555556,
              "#d8576b"
             ],
             [
              0.6666666666666666,
              "#ed7953"
             ],
             [
              0.7777777777777778,
              "#fb9f3a"
             ],
             [
              0.8888888888888888,
              "#fdca26"
             ],
             [
              1,
              "#f0f921"
             ]
            ],
            "type": "surface"
           }
          ],
          "table": [
           {
            "cells": {
             "fill": {
              "color": "#EBF0F8"
             },
             "line": {
              "color": "white"
             }
            },
            "header": {
             "fill": {
              "color": "#C8D4E3"
             },
             "line": {
              "color": "white"
             }
            },
            "type": "table"
           }
          ]
         },
         "layout": {
          "annotationdefaults": {
           "arrowcolor": "#2a3f5f",
           "arrowhead": 0,
           "arrowwidth": 1
          },
          "autotypenumbers": "strict",
          "coloraxis": {
           "colorbar": {
            "outlinewidth": 0,
            "ticks": ""
           }
          },
          "colorscale": {
           "diverging": [
            [
             0,
             "#8e0152"
            ],
            [
             0.1,
             "#c51b7d"
            ],
            [
             0.2,
             "#de77ae"
            ],
            [
             0.3,
             "#f1b6da"
            ],
            [
             0.4,
             "#fde0ef"
            ],
            [
             0.5,
             "#f7f7f7"
            ],
            [
             0.6,
             "#e6f5d0"
            ],
            [
             0.7,
             "#b8e186"
            ],
            [
             0.8,
             "#7fbc41"
            ],
            [
             0.9,
             "#4d9221"
            ],
            [
             1,
             "#276419"
            ]
           ],
           "sequential": [
            [
             0,
             "#0d0887"
            ],
            [
             0.1111111111111111,
             "#46039f"
            ],
            [
             0.2222222222222222,
             "#7201a8"
            ],
            [
             0.3333333333333333,
             "#9c179e"
            ],
            [
             0.4444444444444444,
             "#bd3786"
            ],
            [
             0.5555555555555556,
             "#d8576b"
            ],
            [
             0.6666666666666666,
             "#ed7953"
            ],
            [
             0.7777777777777778,
             "#fb9f3a"
            ],
            [
             0.8888888888888888,
             "#fdca26"
            ],
            [
             1,
             "#f0f921"
            ]
           ],
           "sequentialminus": [
            [
             0,
             "#0d0887"
            ],
            [
             0.1111111111111111,
             "#46039f"
            ],
            [
             0.2222222222222222,
             "#7201a8"
            ],
            [
             0.3333333333333333,
             "#9c179e"
            ],
            [
             0.4444444444444444,
             "#bd3786"
            ],
            [
             0.5555555555555556,
             "#d8576b"
            ],
            [
             0.6666666666666666,
             "#ed7953"
            ],
            [
             0.7777777777777778,
             "#fb9f3a"
            ],
            [
             0.8888888888888888,
             "#fdca26"
            ],
            [
             1,
             "#f0f921"
            ]
           ]
          },
          "colorway": [
           "#636efa",
           "#EF553B",
           "#00cc96",
           "#ab63fa",
           "#FFA15A",
           "#19d3f3",
           "#FF6692",
           "#B6E880",
           "#FF97FF",
           "#FECB52"
          ],
          "font": {
           "color": "#2a3f5f"
          },
          "geo": {
           "bgcolor": "white",
           "lakecolor": "white",
           "landcolor": "#E5ECF6",
           "showlakes": true,
           "showland": true,
           "subunitcolor": "white"
          },
          "hoverlabel": {
           "align": "left"
          },
          "hovermode": "closest",
          "mapbox": {
           "style": "light"
          },
          "paper_bgcolor": "white",
          "plot_bgcolor": "#E5ECF6",
          "polar": {
           "angularaxis": {
            "gridcolor": "white",
            "linecolor": "white",
            "ticks": ""
           },
           "bgcolor": "#E5ECF6",
           "radialaxis": {
            "gridcolor": "white",
            "linecolor": "white",
            "ticks": ""
           }
          },
          "scene": {
           "xaxis": {
            "backgroundcolor": "#E5ECF6",
            "gridcolor": "white",
            "gridwidth": 2,
            "linecolor": "white",
            "showbackground": true,
            "ticks": "",
            "zerolinecolor": "white"
           },
           "yaxis": {
            "backgroundcolor": "#E5ECF6",
            "gridcolor": "white",
            "gridwidth": 2,
            "linecolor": "white",
            "showbackground": true,
            "ticks": "",
            "zerolinecolor": "white"
           },
           "zaxis": {
            "backgroundcolor": "#E5ECF6",
            "gridcolor": "white",
            "gridwidth": 2,
            "linecolor": "white",
            "showbackground": true,
            "ticks": "",
            "zerolinecolor": "white"
           }
          },
          "shapedefaults": {
           "line": {
            "color": "#2a3f5f"
           }
          },
          "ternary": {
           "aaxis": {
            "gridcolor": "white",
            "linecolor": "white",
            "ticks": ""
           },
           "baxis": {
            "gridcolor": "white",
            "linecolor": "white",
            "ticks": ""
           },
           "bgcolor": "#E5ECF6",
           "caxis": {
            "gridcolor": "white",
            "linecolor": "white",
            "ticks": ""
           }
          },
          "title": {
           "x": 0.05
          },
          "xaxis": {
           "automargin": true,
           "gridcolor": "white",
           "linecolor": "white",
           "ticks": "",
           "title": {
            "standoff": 15
           },
           "zerolinecolor": "white",
           "zerolinewidth": 2
          },
          "yaxis": {
           "automargin": true,
           "gridcolor": "white",
           "linecolor": "white",
           "ticks": "",
           "title": {
            "standoff": 15
           },
           "zerolinecolor": "white",
           "zerolinewidth": 2
          }
         }
        },
        "title": {
         "text": "Total Files by File Extension (Colored by Bytes Stored)"
        }
       }
      },
      "image/png": "[encoded data removed]",
      "text/html": [
       "<div>                            <div id=\"1877a471-454f-4a7c-b063-e047dde37ff7\" class=\"plotly-graph-div\" style=\"height:500px; width:100%;\"></div>            <script type=\"text/javascript\">                require([\"plotly\"], function(Plotly) {                    window.PLOTLYENV=window.PLOTLYENV || {};                                    if (document.getElementById(\"1877a471-454f-4a7c-b063-e047dde37ff7\")) {                    Plotly.newPlot(                        \"1877a471-454f-4a7c-b063-e047dde37ff7\",                        [{\"branchvalues\":\"total\",\"customdata\":[[207636.25531914894],[4780.035714285715],[370603.93601003767],[17962.5],[49950.0],[528984.675],[12575.5],[48960.0],[25600.0],[83603.23209169054],[5250.0],[643731.390625],[2818.8571428571427],[60571.717997165804],[22766.5],[343123.37185461324],[32325.583333333332],[129435.65],[174902.08080808082],[578831.8511354079],[320354.46153846156],[1190074.3636363635],[2161606.0578842317],[1898242.0],[783205.2884615385],[53.0],[80484.1],[107941.0],[13436.75],[350985.4411764706],[1823.0],[36290.25],[2233489.5384615385],[219715.0],[2818.0],[567182.2918781725],[367137.9322033898],[22527.0],[601787.205479452],[8493.0],[135772.54390934843],[77430.0],[460230.35297691374]],\"domain\":{\"x\":[0.0,1.0],\"y\":[0.0,1.0]},\"hovertemplate\":\"labels=%{label}\\u003cbr\\u003ecount=%{value}\\u003cbr\\u003eparent=%{parent}\\u003cbr\\u003eid=%{id}\\u003cbr\\u003ebytes=%{color}\\u003cextra\\u003e\\u003c\\u002fextra\\u003e\",\"ids\":[\"all\\u002fcsv\",\"all\\u002fdbase3\",\"all\\u002fdoc\",\"all\\u002fdocx\",\"all\\u002fdwf\",\"all\\u002feps\",\"all\\u002ff\",\"all\\u002ffits\",\"all\\u002ffm\",\"all\\u002fgif\",\"all\\u002fgls\",\"all\\u002fgz\",\"all\\u002fhlp\",\"all\\u002fhtml\",\"all\\u002fjava\",\"all\\u002fjpg\",\"all\\u002fkml\",\"all\\u002fkmz\",\"all\\u002flog\",\"all\\u002fpdf\",\"all\\u002fpng\",\"all\\u002fpps\",\"all\\u002fppt\",\"all\\u002fpptx\",\"all\\u002fps\",\"all\\u002fpub\",\"all\\u002frtf\",\"all\\u002fsgml\",\"all\\u002fsql\",\"all\\u002fswf\",\"all\\u002fsys\",\"all\\u002ftex\",\"all\\u002ftext\",\"all\\u002ftmp\",\"all\\u002ftroff\",\"all\\u002ftxt\",\"all\\u002funk\",\"all\\u002fwp\",\"all\\u002fxls\",\"all\\u002fxlsx\",\"all\\u002fxml\",\"all\\u002fzip\",\"all\"],\"labels\":[\"csv\",\"dbase3\",\"doc\",\"docx\",\"dwf\",\"eps\",\"f\",\"fits\",\"fm\",\"gif\",\"gls\",\"gz\",\"hlp\",\"html\",\"java\",\"jpg\",\"kml\",\"kmz\",\"log\",\"pdf\",\"png\",\"pps\",\"ppt\",\"pptx\",\"ps\",\"pub\",\"rtf\",\"sgml\",\"sql\",\"swf\",\"sys\",\"tex\",\"text\",\"tmp\",\"troff\",\"txt\",\"unk\",\"wp\",\"xls\",\"xlsx\",\"xml\",\"zip\",\"all\"],\"marker\":{\"coloraxis\":\"coloraxis\",\"colors\":[207636.25531914894,4780.035714285715,370603.93601003767,17962.5,49950.0,528984.675,12575.5,48960.0,25600.0,83603.23209169054,5250.0,643731.390625,2818.8571428571427,60571.717997165804,22766.5,343123.37185461324,32325.583333333332,129435.65,174902.08080808082,578831.8511354079,320354.46153846156,1190074.3636363635,2161606.0578842317,1898242.0,783205.2884615385,53.0,80484.1,107941.0,13436.75,350985.4411764706,1823.0,36290.25,2233489.5384615385,219715.0,2818.0,567182.2918781725,367137.9322033898,22527.0,601787.205479452,8493.0,135772.54390934843,77430.0,460230.35297691374]},\"name\":\"\",\"parents\":[\"all\",\"all\",\"all\",\"all\",\"all\",\"all\",\"all\",\"all\",\"all\",\"all\",\"all\",\"all\",\"all\",\"all\",\"all\",\"all\",\"all\",\"all\",\"all\",\"all\",\"all\",\"all\",\"all\",\"all\",\"all\",\"all\",\"all\",\"all\",\"all\",\"all\",\"all\",\"all\",\"all\",\"all\",\"all\",\"all\",\"all\",\"all\",\"all\",\"all\",\"all\",\"all\",\"\"],\"values\":[188,28,797,2,1,40,8,1,1,349,2,128,7,2117,4,1073,12,20,99,2378,39,11,501,1,208,1,10,1,4,34,1,4,13,4,1,788,59,2,584,1,353,1,9876],\"type\":\"treemap\",\"root\":{\"color\":\"lightgrey\"}}],                        {\"template\":{\"data\":{\"histogram2dcontour\":[{\"type\":\"histogram2dcontour\",\"colorbar\":{\"outlinewidth\":0,\"ticks\":\"\"},\"colorscale\":[[0.0,\"#0d0887\"],[0.1111111111111111,\"#46039f\"],[0.2222222222222222,\"#7201a8\"],[0.3333333333333333,\"#9c179e\"],[0.4444444444444444,\"#bd3786\"],[0.5555555555555556,\"#d8576b\"],[0.6666666666666666,\"#ed7953\"],[0.7777777777777778,\"#fb9f3a\"],[0.8888888888888888,\"#fdca26\"],[1.0,\"#f0f921\"]]}],\"choropleth\":[{\"type\":\"choropleth\",\"colorbar\":{\"outlinewidth\":0,\"ticks\":\"\"}}],\"histogram2d\":[{\"type\":\"histogram2d\",\"colorbar\":{\"outlinewidth\":0,\"ticks\":\"\"},\"colorscale\":[[0.0,\"#0d0887\"],[0.1111111111111111,\"#46039f\"],[0.2222222222222222,\"#7201a8\"],[0.3333333333333333,\"#9c179e\"],[0.4444444444444444,\"#bd3786\"],[0.5555555555555556,\"#d8576b\"],[0.6666666666666666,\"#ed7953\"],[0.7777777777777778,\"#fb9f3a\"],[0.8888888888888888,\"#fdca26\"],[1.0,\"#f0f921\"]]}],\"heatmap\":[{\"type\":\"heatmap\",\"colorbar\":{\"outlinewidth\":0,\"ticks\":\"\"},\"colorscale\":[[0.0,\"#0d0887\"],[0.1111111111111111,\"#46039f\"],[0.2222222222222222,\"#7201a8\"],[0.3333333333333333,\"#9c179e\"],[0.4444444444444444,\"#bd3786\"],[0.5555555555555556,\"#d8576b\"],[0.6666666666666666,\"#ed7953\"],[0.7777777777777778,\"#fb9f3a\"],[0.8888888888888888,\"#fdca26\"],[1.0,\"#f0f921\"]]}],\"heatmapgl\":[{\"type\":\"heatmapgl\",\"colorbar\":{\"outlinewidth\":0,\"ticks\":\"\"},\"colorscale\":[[0.0,\"#0d0887\"],[0.1111111111111111,\"#46039f\"],[0.2222222222222222,\"#7201a8\"],[0.3333333333333333,\"#9c179e\"],[0.4444444444444444,\"#bd3786\"],[0.5555555555555556,\"#d8576b\"],[0.6666666666666666,\"#ed7953\"],[0.7777777777777778,\"#fb9f3a\"],[0.8888888888888888,\"#fdca26\"],[1.0,\"#f0f921\"]]}],\"contourcarpet\":[{\"type\":\"contourcarpet\",\"colorbar\":{\"outlinewidth\":0,\"ticks\":\"\"}}],\"contour\":[{\"type\":\"contour\",\"colorbar\":{\"outlinewidth\":0,\"ticks\":\"\"},\"colorscale\":[[0.0,\"#0d0887\"],[0.1111111111111111,\"#46039f\"],[0.2222222222222222,\"#7201a8\"],[0.3333333333333333,\"#9c179e\"],[0.4444444444444444,\"#bd3786\"],[0.5555555555555556,\"#d8576b\"],[0.6666666666666666,\"#ed7953\"],[0.7777777777777778,\"#fb9f3a\"],[0.8888888888888888,\"#fdca26\"],[1.0,\"#f0f921\"]]}],\"surface\":[{\"type\":\"surface\",\"colorbar\":{\"outlinewidth\":0,\"ticks\":\"\"},\"colorscale\":[[0.0,\"#0d0887\"],[0.1111111111111111,\"#46039f\"],[0.2222222222222222,\"#7201a8\"],[0.3333333333333333,\"#9c179e\"],[0.4444444444444444,\"#bd3786\"],[0.5555555555555556,\"#d8576b\"],[0.6666666666666666,\"#ed7953\"],[0.7777777777777778,\"#fb9f3a\"],[0.8888888888888888,\"#fdca26\"],[1.0,\"#f0f921\"]]}],\"mesh3d\":[{\"type\":\"mesh3d\",\"colorbar\":{\"outlinewidth\":0,\"ticks\":\"\"}}],\"scatter\":[{\"fillpattern\":{\"fillmode\":\"overlay\",\"size\":10,\"solidity\":0.2},\"type\":\"scatter\"}],\"parcoords\":[{\"type\":\"parcoords\",\"line\":{\"colorbar\":{\"outlinewidth\":0,\"ticks\":\"\"}}}],\"scatterpolargl\":[{\"type\":\"scatterpolargl\",\"marker\":{\"colorbar\":{\"outlinewidth\":0,\"ticks\":\"\"}}}],\"bar\":[{\"error_x\":{\"color\":\"#2a3f5f\"},\"error_y\":{\"color\":\"#2a3f5f\"},\"marker\":{\"line\":{\"color\":\"#E5ECF6\",\"width\":0.5},\"pattern\":{\"fillmode\":\"overlay\",\"size\":10,\"solidity\":0.2}},\"type\":\"bar\"}],\"scattergeo\":[{\"type\":\"scattergeo\",\"marker\":{\"colorbar\":{\"outlinewidth\":0,\"ticks\":\"\"}}}],\"scatterpolar\":[{\"type\":\"scatterpolar\",\"marker\":{\"colorbar\":{\"outlinewidth\":0,\"ticks\":\"\"}}}],\"histogram\":[{\"marker\":{\"pattern\":{\"fillmode\":\"overlay\",\"size\":10,\"solidity\":0.2}},\"type\":\"histogram\"}],\"scattergl\":[{\"type\":\"scattergl\",\"marker\":{\"colorbar\":{\"outlinewidth\":0,\"ticks\":\"\"}}}],\"scatter3d\":[{\"type\":\"scatter3d\",\"line\":{\"colorbar\":{\"outlinewidth\":0,\"ticks\":\"\"}},\"marker\":{\"colorbar\":{\"outlinewidth\":0,\"ticks\":\"\"}}}],\"scattermapbox\":[{\"type\":\"scattermapbox\",\"marker\":{\"colorbar\":{\"outlinewidth\":0,\"ticks\":\"\"}}}],\"scatterternary\":[{\"type\":\"scatterternary\",\"marker\":{\"colorbar\":{\"outlinewidth\":0,\"ticks\":\"\"}}}],\"scattercarpet\":[{\"type\":\"scattercarpet\",\"marker\":{\"colorbar\":{\"outlinewidth\":0,\"ticks\":\"\"}}}],\"carpet\":[{\"aaxis\":{\"endlinecolor\":\"#2a3f5f\",\"gridcolor\":\"white\",\"linecolor\":\"white\",\"minorgridcolor\":\"white\",\"startlinecolor\":\"#2a3f5f\"},\"baxis\":{\"endlinecolor\":\"#2a3f5f\",\"gridcolor\":\"white\",\"linecolor\":\"white\",\"minorgridcolor\":\"white\",\"startlinecolor\":\"#2a3f5f\"},\"type\":\"carpet\"}],\"table\":[{\"cells\":{\"fill\":{\"color\":\"#EBF0F8\"},\"line\":{\"color\":\"white\"}},\"header\":{\"fill\":{\"color\":\"#C8D4E3\"},\"line\":{\"color\":\"white\"}},\"type\":\"table\"}],\"barpolar\":[{\"marker\":{\"line\":{\"color\":\"#E5ECF6\",\"width\":0.5},\"pattern\":{\"fillmode\":\"overlay\",\"size\":10,\"solidity\":0.2}},\"type\":\"barpolar\"}],\"pie\":[{\"automargin\":true,\"type\":\"pie\"}]},\"layout\":{\"autotypenumbers\":\"strict\",\"colorway\":[\"#636efa\",\"#EF553B\",\"#00cc96\",\"#ab63fa\",\"#FFA15A\",\"#19d3f3\",\"#FF6692\",\"#B6E880\",\"#FF97FF\",\"#FECB52\"],\"font\":{\"color\":\"#2a3f5f\"},\"hovermode\":\"closest\",\"hoverlabel\":{\"align\":\"left\"},\"paper_bgcolor\":\"white\",\"plot_bgcolor\":\"#E5ECF6\",\"polar\":{\"bgcolor\":\"#E5ECF6\",\"angularaxis\":{\"gridcolor\":\"white\",\"linecolor\":\"white\",\"ticks\":\"\"},\"radialaxis\":{\"gridcolor\":\"white\",\"linecolor\":\"white\",\"ticks\":\"\"}},\"ternary\":{\"bgcolor\":\"#E5ECF6\",\"aaxis\":{\"gridcolor\":\"white\",\"linecolor\":\"white\",\"ticks\":\"\"},\"baxis\":{\"gridcolor\":\"white\",\"linecolor\":\"white\",\"ticks\":\"\"},\"caxis\":{\"gridcolor\":\"white\",\"linecolor\":\"white\",\"ticks\":\"\"}},\"coloraxis\":{\"colorbar\":{\"outlinewidth\":0,\"ticks\":\"\"}},\"colorscale\":{\"sequential\":[[0.0,\"#0d0887\"],[0.1111111111111111,\"#46039f\"],[0.2222222222222222,\"#7201a8\"],[0.3333333333333333,\"#9c179e\"],[0.4444444444444444,\"#bd3786\"],[0.5555555555555556,\"#d8576b\"],[0.6666666666666666,\"#ed7953\"],[0.7777777777777778,\"#fb9f3a\"],[0.8888888888888888,\"#fdca26\"],[1.0,\"#f0f921\"]],\"sequentialminus\":[[0.0,\"#0d0887\"],[0.1111111111111111,\"#46039f\"],[0.2222222222222222,\"#7201a8\"],[0.3333333333333333,\"#9c179e\"],[0.4444444444444444,\"#bd3786\"],[0.5555555555555556,\"#d8576b\"],[0.6666666666666666,\"#ed7953\"],[0.7777777777777778,\"#fb9f3a\"],[0.8888888888888888,\"#fdca26\"],[1.0,\"#f0f921\"]],\"diverging\":[[0,\"#8e0152\"],[0.1,\"#c51b7d\"],[0.2,\"#de77ae\"],[0.3,\"#f1b6da\"],[0.4,\"#fde0ef\"],[0.5,\"#f7f7f7\"],[0.6,\"#e6f5d0\"],[0.7,\"#b8e186\"],[0.8,\"#7fbc41\"],[0.9,\"#4d9221\"],[1,\"#276419\"]]},\"xaxis\":{\"gridcolor\":\"white\",\"linecolor\":\"white\",\"ticks\":\"\",\"title\":{\"standoff\":15},\"zerolinecolor\":\"white\",\"automargin\":true,\"zerolinewidth\":2},\"yaxis\":{\"gridcolor\":\"white\",\"linecolor\":\"white\",\"ticks\":\"\",\"title\":{\"standoff\":15},\"zerolinecolor\":\"white\",\"automargin\":true,\"zerolinewidth\":2},\"scene\":{\"xaxis\":{\"backgroundcolor\":\"#E5ECF6\",\"gridcolor\":\"white\",\"linecolor\":\"white\",\"showbackground\":true,\"ticks\":\"\",\"zerolinecolor\":\"white\",\"gridwidth\":2},\"yaxis\":{\"backgroundcolor\":\"#E5ECF6\",\"gridcolor\":\"white\",\"linecolor\":\"white\",\"showbackground\":true,\"ticks\":\"\",\"zerolinecolor\":\"white\",\"gridwidth\":2},\"zaxis\":{\"backgroundcolor\":\"#E5ECF6\",\"gridcolor\":\"white\",\"linecolor\":\"white\",\"showbackground\":true,\"ticks\":\"\",\"zerolinecolor\":\"white\",\"gridwidth\":2}},\"shapedefaults\":{\"line\":{\"color\":\"#2a3f5f\"}},\"annotationdefaults\":{\"arrowcolor\":\"#2a3f5f\",\"arrowhead\":0,\"arrowwidth\":1},\"geo\":{\"bgcolor\":\"white\",\"landcolor\":\"#E5ECF6\",\"subunitcolor\":\"white\",\"showland\":true,\"showlakes\":true,\"lakecolor\":\"white\"},\"title\":{\"x\":0.05},\"mapbox\":{\"style\":\"light\"}}},\"coloraxis\":{\"colorbar\":{\"title\":{\"text\":\"bytes\"}},\"colorscale\":[[0.0,\"#0d0887\"],[0.1111111111111111,\"#46039f\"],[0.2222222222222222,\"#7201a8\"],[0.3333333333333333,\"#9c179e\"],[0.4444444444444444,\"#bd3786\"],[0.5555555555555556,\"#d8576b\"],[0.6666666666666666,\"#ed7953\"],[0.7777777777777778,\"#fb9f3a\"],[0.8888888888888888,\"#fdca26\"],[1.0,\"#f0f921\"]]},\"legend\":{\"tracegroupgap\":0},\"title\":{\"text\":\"Total Files by File Extension (Colored by Bytes Stored)\"},\"height\":500,\"margin\":{\"t\":50,\"l\":25,\"r\":25,\"b\":25}},                        {\"responsive\": true}                    ).then(function(){\n",
       "                            \n",
       "var gd = document.getElementById('1877a471-454f-4a7c-b063-e047dde37ff7');\n",
       "var x = new MutationObserver(function (mutations, observer) {{\n",
       "        var display = window.getComputedStyle(gd).display;\n",
       "        if (!display || display === 'none') {{\n",
       "            console.log([gd, 'removed!']);\n",
       "            Plotly.purge(gd);\n",
       "            observer.disconnect();\n",
       "        }}\n",
       "}});\n",
       "\n",
       "// Listen for the removal of the full notebook cells\n",
       "var notebookContainer = gd.closest('#notebook-container');\n",
       "if (notebookContainer) {{\n",
       "    x.observe(notebookContainer, {childList: true});\n",
       "}}\n",
       "\n",
       "// Listen for the clearing of the current output cell\n",
       "var outputEl = gd.closest('.output');\n",
       "if (outputEl) {{\n",
       "    x.observe(outputEl, {childList: true});\n",
       "}}\n",
       "\n",
       "                        })                };                });            </script>        </div>"
      ]
     },
     "metadata": {},
     "output_type": "display_data"
    }
   ],
   "source": [
    "import plotly.express as px\n",
    "\n",
    "fig = px.treemap(df,\n",
    "                 title=\"Total Files by File Extension (Colored by Bytes Stored)\",\n",
    "                 path=[px.Constant(\"all\"), 'extension'], \n",
    "                 color='bytes',\n",
    "                 height=500\n",
    "                )\n",
    "fig.update_traces(root_color=\"lightgrey\")\n",
    "fig.update_layout(margin = dict(t=50, l=25, r=25, b=25))\n",
    "fig.show()"
   ]
  },
  {
   "cell_type": "markdown",
   "id": "neither-lover",
   "metadata": {},
   "source": [
    "### Exercise: Comparing File Extensions with Mimetype\n",
    "\n",
    "The treemap above shows the distribution of files, by area, and bytes, by color, across file extensions. How does it differ from the treemap showing the same distributions across mimetypes? What information is missing?"
   ]
  },
  {
   "cell_type": "markdown",
   "id": "white-miniature",
   "metadata": {},
   "source": [
    "# Identify Important Folders\n",
    "\n",
    "This treemap will help you to identify folders that may hold a lot of content or have a special structure, either holding lots of files or very large files. Run the visualization code below and note the way the treemap encoded both of these metrics visually.\n",
    "\n",
    "Can you identify the folders that contain the most data in terms of bytes? Which folders contain a bunch of smaller files?"
   ]
  },
  {
   "cell_type": "code",
   "execution_count": 6,
   "id": "therapeutic-wallpaper",
   "metadata": {
    "editable": true,
    "slideshow": {
     "slide_type": ""
    },
    "tags": []
   },
   "outputs": [
    {
     "data": {
      "application/vnd.plotly.v1+json": {
       "config": {
        "plotlyServerURL": "https://plot.ly"
       },
       "data": [
        {
         "branchvalues": "total",
         "customdata": [
          [
           82264.6
          ],
          [
           659465.4285714285
          ],
          [
           436400.6666666667
          ],
          [
           111729.375
          ],
          [
           222091.8
          ],
          [
           855868.7142857143
          ],
          [
           90034.28571428571
          ],
          [
           92130
          ],
          [
           677247.125
          ],
          [
           852482
          ],
          [
           233922
          ],
          [
           519230.8461538461
          ],
          [
           395517.8181818182
          ],
          [
           567838.5
          ],
          [
           466646.2
          ],
          [
           77697.5
          ],
          [
           240534.3
          ],
          [
           387790.3076923077
          ],
          [
           451739.6
          ],
          [
           1121952.9
          ],
          [
           1470366.1666666667
          ],
          [
           180966.72727272726
          ],
          [
           129145.33333333333
          ],
          [
           156296.25
          ],
          [
           8855716.285714285
          ],
          [
           390346.75
          ],
          [
           73091
          ],
          [
           313101
          ],
          [
           794838.625
          ],
          [
           1693067.3333333333
          ],
          [
           150496.16666666666
          ],
          [
           310283.3333333333
          ],
          [
           58316.75
          ],
          [
           243592.625
          ],
          [
           66653
          ],
          [
           134336.57142857142
          ],
          [
           394347
          ],
          [
           223948.1
          ],
          [
           229722.4
          ],
          [
           243061.92307692306
          ],
          [
           519212.4285714286
          ],
          [
           180570.625
          ],
          [
           619313.2222222222
          ],
          [
           413664
          ],
          [
           227584.14285714287
          ],
          [
           186810.46666666667
          ],
          [
           633648.1666666666
          ],
          [
           266888.86666666664
          ],
          [
           95792.63636363637
          ],
          [
           1133203.5714285714
          ],
          [
           514915.85714285716
          ],
          [
           18995.5
          ],
          [
           111988
          ],
          [
           120799.9
          ],
          [
           952035.4545454546
          ],
          [
           399197.7272727273
          ],
          [
           171244.66666666666
          ],
          [
           62223.333333333336
          ],
          [
           383332.4
          ],
          [
           228352.5
          ],
          [
           142316.625
          ],
          [
           476890.9166666667
          ],
          [
           87157
          ],
          [
           314893.0833333333
          ],
          [
           344131.625
          ],
          [
           307347.3333333333
          ],
          [
           707458.6363636364
          ],
          [
           851888.5
          ],
          [
           115563.42857142857
          ],
          [
           320381.6923076923
          ],
          [
           487146.2
          ],
          [
           51940.769230769234
          ],
          [
           485351.22222222225
          ],
          [
           302539.8125
          ],
          [
           135238.83333333334
          ],
          [
           118132
          ],
          [
           85985.33333333333
          ],
          [
           557246.4444444445
          ],
          [
           312081.3
          ],
          [
           1943808.6363636365
          ],
          [
           84079.5
          ],
          [
           123048.5
          ],
          [
           287089.9090909091
          ],
          [
           435636.71428571426
          ],
          [
           1258363.111111111
          ],
          [
           633831.8
          ],
          [
           203059.2857142857
          ],
          [
           142092.5
          ],
          [
           896257.5555555555
          ],
          [
           1322911.375
          ],
          [
           1335131.3
          ],
          [
           891867.25
          ],
          [
           170899.2
          ],
          [
           599102.125
          ],
          [
           120525.44444444444
          ],
          [
           405227.8
          ],
          [
           88263.44444444444
          ],
          [
           528982.3333333334
          ],
          [
           646079.1428571428
          ],
          [
           118041.57142857143
          ],
          [
           311975.75
          ],
          [
           142263.18181818182
          ],
          [
           143787.25
          ],
          [
           204990.7142857143
          ],
          [
           286798.23076923075
          ],
          [
           196037
          ],
          [
           879339
          ],
          [
           164508.75
          ],
          [
           77876.625
          ],
          [
           159500.86666666667
          ],
          [
           579694.6666666666
          ],
          [
           95951.875
          ],
          [
           159859.125
          ],
          [
           69161.16666666667
          ],
          [
           51094.833333333336
          ],
          [
           415563.875
          ],
          [
           301279.6
          ],
          [
           321207.6666666667
          ],
          [
           1323183.2857142857
          ],
          [
           45913.46153846154
          ],
          [
           270019.4666666667
          ],
          [
           265492.55555555556
          ],
          [
           535960.7272727273
          ],
          [
           863484
          ],
          [
           797117.1111111111
          ],
          [
           2239609.625
          ],
          [
           1040713.6666666666
          ],
          [
           449508.3846153846
          ],
          [
           142616.33333333334
          ],
          [
           82628.33333333333
          ],
          [
           70687.8
          ],
          [
           711097
          ],
          [
           120913.6
          ],
          [
           67971.83333333333
          ],
          [
           664413.0833333334
          ],
          [
           69578
          ],
          [
           86850.66666666667
          ],
          [
           664501.2
          ],
          [
           371234.9166666667
          ],
          [
           286239.8333333333
          ],
          [
           283920.21428571426
          ],
          [
           194857.55555555556
          ],
          [
           1948858.7
          ],
          [
           411875.9375
          ],
          [
           131024.1
          ],
          [
           1240023.1666666667
          ],
          [
           1919081.2
          ],
          [
           5991747.714285715
          ],
          [
           450557.25
          ],
          [
           196279.88888888888
          ],
          [
           84685.33333333333
          ],
          [
           429243.9090909091
          ],
          [
           152919.75
          ],
          [
           3048281.1818181816
          ],
          [
           659560.2307692308
          ],
          [
           636590.6
          ],
          [
           1518578.4
          ],
          [
           517675.2
          ],
          [
           324920
          ],
          [
           215633.14285714287
          ],
          [
           262863.3333333333
          ],
          [
           33893
          ],
          [
           399374.8181818182
          ],
          [
           341135.6
          ],
          [
           745675.3333333334
          ],
          [
           111899.875
          ],
          [
           927999.4285714285
          ],
          [
           514768.75
          ],
          [
           201681
          ],
          [
           739354.2857142857
          ],
          [
           385598.77777777775
          ],
          [
           444738
          ],
          [
           237869.88888888888
          ],
          [
           351735.2
          ],
          [
           496873.44444444444
          ],
          [
           31772.85714285714
          ],
          [
           4609712.7
          ],
          [
           1034973.4545454546
          ],
          [
           369456.8
          ],
          [
           210748.9
          ],
          [
           290487.875
          ],
          [
           229527.42857142858
          ],
          [
           51787.666666666664
          ],
          [
           542117
          ],
          [
           76411.125
          ],
          [
           365515.76470588235
          ],
          [
           646866.9090909091
          ],
          [
           143441.5
          ],
          [
           967924.25
          ],
          [
           164172.66666666666
          ],
          [
           219746.7
          ],
          [
           18037495.1
          ],
          [
           227540.75
          ],
          [
           317009.14285714284
          ],
          [
           274971
          ],
          [
           987479.75
          ],
          [
           301193.5
          ],
          [
           101495.33333333333
          ],
          [
           811944.5384615385
          ],
          [
           73451.4
          ],
          [
           1345565.7777777778
          ],
          [
           251614
          ],
          [
           1096546.6666666667
          ],
          [
           431359.75
          ],
          [
           3955460.4
          ],
          [
           627665.8
          ],
          [
           323976.8947368421
          ],
          [
           899844.2727272727
          ],
          [
           308721.6666666667
          ],
          [
           2179562.1818181816
          ],
          [
           447372.53846153844
          ],
          [
           334415.4
          ],
          [
           479544.3076923077
          ],
          [
           373237.25
          ],
          [
           124387.07142857143
          ],
          [
           212937
          ],
          [
           336162.1111111111
          ],
          [
           805930.2
          ],
          [
           1007785.8181818182
          ],
          [
           110334.33333333333
          ],
          [
           108512.71428571429
          ],
          [
           376723.2
          ],
          [
           1497978
          ],
          [
           314229.6
          ],
          [
           319193
          ],
          [
           269265.45454545453
          ],
          [
           271473.7272727273
          ],
          [
           286899.1538461539
          ],
          [
           553817.1666666666
          ],
          [
           618783.6666666666
          ],
          [
           121722.5
          ],
          [
           281586.375
          ],
          [
           272788.5
          ],
          [
           141410.36363636365
          ],
          [
           203717.625
          ],
          [
           427944.44444444444
          ],
          [
           172083.38461538462
          ],
          [
           1098072.5
          ],
          [
           1274146.5833333333
          ],
          [
           77147
          ],
          [
           218852.6
          ],
          [
           70625
          ],
          [
           59533.4
          ],
          [
           745071.5833333334
          ],
          [
           194427
          ],
          [
           322596
          ],
          [
           72925.16666666667
          ],
          [
           2543764.3846153845
          ],
          [
           312972.4285714286
          ],
          [
           283720.28571428574
          ],
          [
           50109.5
          ],
          [
           181153.25
          ],
          [
           565069.5
          ],
          [
           535538
          ],
          [
           183020.61538461538
          ],
          [
           79194.42857142857
          ],
          [
           154882.91666666666
          ],
          [
           39908.11111111111
          ],
          [
           131844.42857142858
          ],
          [
           321197
          ],
          [
           111013.42857142857
          ],
          [
           434162.4
          ],
          [
           90769.5
          ],
          [
           2294314.8333333335
          ],
          [
           267388.5263157895
          ],
          [
           1242944.6666666667
          ],
          [
           170351.66666666666
          ],
          [
           160899.75
          ],
          [
           157582.25
          ],
          [
           309287.14285714284
          ],
          [
           161825.8
          ],
          [
           311339.5
          ],
          [
           190323.4
          ],
          [
           414816.2
          ],
          [
           248772.7142857143
          ],
          [
           345731.3
          ],
          [
           97555.28571428571
          ],
          [
           53278
          ],
          [
           700777
          ],
          [
           229784.875
          ],
          [
           84228.5
          ],
          [
           63807.6
          ],
          [
           206102.33333333334
          ],
          [
           27988.428571428572
          ],
          [
           108029.6
          ],
          [
           1524874.4545454546
          ],
          [
           49962.666666666664
          ],
          [
           433517.6666666667
          ],
          [
           262892.93333333335
          ],
          [
           483147.5
          ],
          [
           236032.91666666666
          ],
          [
           254996.375
          ],
          [
           166214.5
          ],
          [
           698501.5454545454
          ],
          [
           235419.5
          ],
          [
           248642.42857142858
          ],
          [
           215001.44444444444
          ],
          [
           157002
          ],
          [
           556012.3636363636
          ],
          [
           60821.6
          ],
          [
           205879
          ],
          [
           190847
          ],
          [
           316088.6666666667
          ],
          [
           357685.4166666667
          ],
          [
           208570.9
          ],
          [
           224455.42857142858
          ],
          [
           181148.72727272726
          ],
          [
           559202.1666666666
          ],
          [
           720387.75
          ],
          [
           1543371.2727272727
          ],
          [
           254258.25
          ],
          [
           313547.44444444444
          ],
          [
           139828.61538461538
          ],
          [
           221811.92857142858
          ],
          [
           221476.63636363635
          ],
          [
           756023.5714285715
          ],
          [
           169965.66666666666
          ],
          [
           298461.1666666667
          ],
          [
           223153.625
          ],
          [
           145830.11111111112
          ],
          [
           1521286.7857142857
          ],
          [
           908429.6428571428
          ],
          [
           29783.166666666668
          ],
          [
           282907.3
          ],
          [
           194726.33333333334
          ],
          [
           48299.333333333336
          ],
          [
           426837.36363636365
          ],
          [
           45101.125
          ],
          [
           83362.44444444444
          ],
          [
           334605.4
          ],
          [
           1120738.2
          ],
          [
           284221.92307692306
          ],
          [
           160784.9
          ],
          [
           661870
          ],
          [
           266569.6666666667
          ],
          [
           457866.4285714286
          ],
          [
           397288.7272727273
          ],
          [
           418877.4166666667
          ],
          [
           78152.22222222222
          ],
          [
           878978.6666666666
          ],
          [
           198017.85714285713
          ],
          [
           480675.71428571426
          ],
          [
           156218.33333333334
          ],
          [
           153052.5
          ],
          [
           284683.21428571426
          ],
          [
           73003
          ],
          [
           824430.7692307692
          ],
          [
           273601.875
          ],
          [
           207661.33333333334
          ],
          [
           147662.63636363635
          ],
          [
           91365.5
          ],
          [
           222031.625
          ],
          [
           348483
          ],
          [
           468990.71428571426
          ],
          [
           283868.8333333333
          ],
          [
           110620
          ],
          [
           41095.833333333336
          ],
          [
           104525.625
          ],
          [
           221018.66666666666
          ],
          [
           54784
          ],
          [
           207522.18181818182
          ],
          [
           278387
          ],
          [
           741059.1818181818
          ],
          [
           388880.63636363635
          ],
          [
           622970.1666666666
          ],
          [
           142546.0588235294
          ],
          [
           313808.6666666667
          ],
          [
           141446.55555555556
          ],
          [
           383594.85714285716
          ],
          [
           205384.0909090909
          ],
          [
           375779.1111111111
          ],
          [
           234557.875
          ],
          [
           698891.75
          ],
          [
           168290.5
          ],
          [
           361267
          ],
          [
           452577.9
          ],
          [
           174224.75
          ],
          [
           1630039.5714285714
          ],
          [
           239501.4
          ],
          [
           87880.33333333333
          ],
          [
           42683.3
          ],
          [
           372412.14285714284
          ],
          [
           982633
          ],
          [
           187491.44444444444
          ],
          [
           232229.6923076923
          ],
          [
           1037241.8571428572
          ],
          [
           238668.9
          ],
          [
           323742.77777777775
          ],
          [
           346266.71428571426
          ],
          [
           303748.8
          ],
          [
           41871.454545454544
          ],
          [
           382440.36363636365
          ],
          [
           284994.125
          ],
          [
           715397
          ],
          [
           34228.42857142857
          ],
          [
           591497.25
          ],
          [
           275742.6666666667
          ],
          [
           247695.75
          ],
          [
           96613.375
          ],
          [
           117704.33333333333
          ],
          [
           292979.9166666667
          ],
          [
           158428.44444444444
          ],
          [
           79620.30769230769
          ],
          [
           252417
          ],
          [
           460383.77777777775
          ],
          [
           372187
          ],
          [
           47011.88888888889
          ],
          [
           90786.33333333333
          ],
          [
           462515
          ],
          [
           1001635
          ],
          [
           152534.42857142858
          ],
          [
           180479
          ],
          [
           329725.63636363635
          ],
          [
           202616.4
          ],
          [
           171605.2
          ],
          [
           113433.21428571429
          ],
          [
           80237.7
          ],
          [
           139657.125
          ],
          [
           10002.727272727272
          ],
          [
           25385.5
          ],
          [
           24142.75
          ],
          [
           51169.22222222222
          ],
          [
           200025.1
          ],
          [
           545335.125
          ],
          [
           380171.6666666667
          ],
          [
           299700.9
          ],
          [
           561893.1
          ],
          [
           130870
          ],
          [
           171377.2857142857
          ],
          [
           455997.6923076923
          ],
          [
           753738.0909090909
          ],
          [
           200787.5
          ],
          [
           182311.75
          ],
          [
           231190.8
          ],
          [
           2380415.25
          ],
          [
           722610.875
          ],
          [
           167891.4
          ],
          [
           576320.1428571428
          ],
          [
           385040.55555555556
          ],
          [
           291566.6666666667
          ],
          [
           162847
          ],
          [
           302176.36363636365
          ],
          [
           85540.2
          ],
          [
           52874.333333333336
          ],
          [
           872700.6
          ],
          [
           327935.07692307694
          ],
          [
           32250.1
          ],
          [
           36650.5
          ],
          [
           251359.9090909091
          ],
          [
           942807.8
          ],
          [
           468002.4285714286
          ],
          [
           124708.66666666667
          ],
          [
           151731.54545454544
          ],
          [
           330382.6
          ],
          [
           358452
          ],
          [
           1157898.4545454546
          ],
          [
           13824.076923076924
          ],
          [
           36859
          ],
          [
           389173.1818181818
          ],
          [
           94547.07692307692
          ],
          [
           515099.6666666667
          ],
          [
           354011.3333333333
          ],
          [
           331013
          ],
          [
           151242
          ],
          [
           64390.625
          ],
          [
           568332.7777777778
          ],
          [
           1048846.375
          ],
          [
           928334.3076923077
          ],
          [
           2049146.875
          ],
          [
           183859.07692307694
          ],
          [
           1454192.923076923
          ],
          [
           89579.6
          ],
          [
           2719809.8571428573
          ],
          [
           111727.875
          ],
          [
           203104.0909090909
          ],
          [
           101704.54545454546
          ],
          [
           49457.333333333336
          ],
          [
           450478
          ],
          [
           60899.833333333336
          ],
          [
           303793.3333333333
          ],
          [
           1193408.7777777778
          ],
          [
           612367.7058823529
          ],
          [
           124362.14285714286
          ],
          [
           204938.14285714287
          ],
          [
           1537462.8181818181
          ],
          [
           1490259
          ],
          [
           699607.2
          ],
          [
           298378.6
          ],
          [
           1528136.111111111
          ],
          [
           230876.375
          ],
          [
           836150.9411764706
          ],
          [
           791213.0909090909
          ],
          [
           490272
          ],
          [
           144432.3125
          ],
          [
           183784
          ],
          [
           203902.7
          ],
          [
           312042.4166666667
          ],
          [
           413284.375
          ],
          [
           743915.4285714285
          ],
          [
           924087.4545454546
          ],
          [
           221445.44444444444
          ],
          [
           401005.53846153844
          ],
          [
           118597
          ],
          [
           185615.82352941178
          ],
          [
           56060.875
          ],
          [
           498718.8
          ],
          [
           302302.4285714286
          ],
          [
           221998.6
          ],
          [
           205831.29411764705
          ],
          [
           810605.3333333334
          ],
          [
           808976.4666666667
          ],
          [
           599827.4
          ],
          [
           867194.8461538461
          ],
          [
           1144020.142857143
          ],
          [
           490309.4285714286
          ],
          [
           50397.11111111111
          ],
          [
           218747.6
          ],
          [
           723245.4666666667
          ],
          [
           789309.6666666666
          ],
          [
           119373.875
          ],
          [
           85714.88888888889
          ],
          [
           83806
          ],
          [
           120954.5
          ],
          [
           252158.44444444444
          ],
          [
           467526.8181818182
          ],
          [
           883272.6
          ],
          [
           526734.5
          ],
          [
           286594.28571428574
          ],
          [
           905363.3333333334
          ],
          [
           285760.7272727273
          ],
          [
           384110.77777777775
          ],
          [
           624797.8666666667
          ],
          [
           363061.5
          ],
          [
           104059.88888888889
          ],
          [
           352084.44444444444
          ],
          [
           412876.93333333335
          ],
          [
           1138889.3333333333
          ],
          [
           232582.75
          ],
          [
           143645
          ],
          [
           276097.5
          ],
          [
           1003152.625
          ],
          [
           24813.75
          ],
          [
           154201.44444444444
          ],
          [
           1532753.625
          ],
          [
           51245.75
          ],
          [
           197622.8
          ],
          [
           871726.7272727273
          ],
          [
           161914.88888888888
          ],
          [
           532003
          ],
          [
           452268.92307692306
          ],
          [
           26917.8
          ],
          [
           156132.7142857143
          ],
          [
           213807.77777777778
          ],
          [
           657949.4444444445
          ],
          [
           238049
          ],
          [
           266271.3333333333
          ],
          [
           466257.3333333333
          ],
          [
           181537.11111111112
          ],
          [
           134722.33333333334
          ],
          [
           822756.6153846154
          ],
          [
           34507.5
          ],
          [
           799998.7272727273
          ],
          [
           457952
          ],
          [
           52475.882352941175
          ],
          [
           58484.166666666664
          ],
          [
           687277.4545454546
          ],
          [
           91147.11111111111
          ],
          [
           241772.1
          ],
          [
           24559.333333333332
          ],
          [
           34848.1875
          ],
          [
           56820.125
          ],
          [
           353023.44444444444
          ],
          [
           219681.42857142858
          ],
          [
           25772.363636363636
          ],
          [
           67169.33333333333
          ],
          [
           58946.38461538462
          ],
          [
           1026189.6153846154
          ],
          [
           199231.9
          ],
          [
           827695
          ],
          [
           2044552.875
          ],
          [
           346136.6
          ],
          [
           430934.8333333333
          ],
          [
           153412.6
          ],
          [
           92031.18181818182
          ],
          [
           225879.5
          ],
          [
           368382.14285714284
          ],
          [
           108294.85714285714
          ],
          [
           836102.2142857143
          ],
          [
           350676.1666666667
          ],
          [
           164388.86666666667
          ],
          [
           211729.8
          ],
          [
           260865.55555555556
          ],
          [
           100236.91666666667
          ],
          [
           63515.75
          ],
          [
           284725.75
          ],
          [
           1179186.5
          ],
          [
           492803.2727272727
          ],
          [
           1591445.1538461538
          ],
          [
           2087013.5
          ],
          [
           117086.23076923077
          ],
          [
           59844.333333333336
          ],
          [
           33123
          ],
          [
           997022.25
          ],
          [
           3746521.727272727
          ],
          [
           223076.33333333334
          ],
          [
           227161.1875
          ],
          [
           410827.1666666667
          ],
          [
           93424.7
          ],
          [
           392661.3076923077
          ],
          [
           1629237.105263158
          ],
          [
           761770.4
          ],
          [
           395542.8461538461
          ],
          [
           109582.375
          ],
          [
           310404
          ],
          [
           2502469.25
          ],
          [
           1945820
          ],
          [
           64555.444444444445
          ],
          [
           618072.1666666666
          ],
          [
           24434.6
          ],
          [
           750421.8
          ],
          [
           46173
          ],
          [
           181617.7142857143
          ],
          [
           239208.8
          ],
          [
           1095262.6923076923
          ],
          [
           1102783.5
          ],
          [
           276527.1666666667
          ],
          [
           771588.8888888889
          ],
          [
           70402
          ],
          [
           54714.666666666664
          ],
          [
           37022.2
          ],
          [
           929505
          ],
          [
           96159.83333333333
          ],
          [
           345237.4285714286
          ],
          [
           349101.8888888889
          ],
          [
           86325.66666666667
          ],
          [
           154573.25
          ],
          [
           249835.72727272726
          ],
          [
           1570416.4615384615
          ],
          [
           187761.83333333334
          ],
          [
           544875.4285714285
          ],
          [
           589296.8333333334
          ],
          [
           618585.4615384615
          ],
          [
           678132
          ],
          [
           40060.25
          ],
          [
           665425.4375
          ],
          [
           131501.83333333334
          ],
          [
           58521.666666666664
          ],
          [
           1026008.6153846154
          ],
          [
           344550.54545454547
          ],
          [
           56040
          ],
          [
           344924
          ],
          [
           80155.88888888889
          ],
          [
           145209
          ],
          [
           1279785.875
          ],
          [
           90474.3
          ],
          [
           509195.2727272727
          ],
          [
           171336.2857142857
          ],
          [
           74650.75
          ],
          [
           126001.11111111111
          ],
          [
           511449.3
          ],
          [
           95140
          ],
          [
           223959
          ],
          [
           355431.07692307694
          ],
          [
           356463.5714285714
          ],
          [
           1434175.5714285714
          ],
          [
           332017
          ],
          [
           374196.125
          ],
          [
           656461.8888888889
          ],
          [
           347210.22222222225
          ],
          [
           310915.4
          ],
          [
           1663885.375
          ],
          [
           107487.93333333333
          ],
          [
           1318898.5833333333
          ],
          [
           126422.5
          ],
          [
           724396.2142857143
          ],
          [
           418189.9090909091
          ],
          [
           43936.555555555555
          ],
          [
           262906.3333333333
          ],
          [
           299744.25
          ],
          [
           202159.36363636365
          ],
          [
           215784.14285714287
          ],
          [
           229785
          ],
          [
           53471.454545454544
          ],
          [
           32276.333333333332
          ],
          [
           60837.09090909091
          ],
          [
           177995.9
          ],
          [
           629105.1666666666
          ],
          [
           456197.6153846154
          ],
          [
           89323.57142857143
          ],
          [
           285393.28571428574
          ],
          [
           142733.58823529413
          ],
          [
           642612.2
          ],
          [
           71949
          ],
          [
           534607.3333333334
          ],
          [
           1231040.5714285714
          ],
          [
           607432.3571428572
          ],
          [
           506331.8
          ],
          [
           62480.818181818184
          ],
          [
           336081.125
          ],
          [
           276812.0909090909
          ],
          [
           990285.25
          ],
          [
           164529.6
          ],
          [
           331535.55555555556
          ],
          [
           601564.125
          ],
          [
           307252
          ],
          [
           92741.5
          ],
          [
           137354
          ],
          [
           578045.4545454546
          ],
          [
           211432.73333333334
          ],
          [
           301597.6
          ],
          [
           513975
          ],
          [
           742555.1111111111
          ],
          [
           472725.9090909091
          ],
          [
           107287.30769230769
          ],
          [
           1101969.7142857143
          ],
          [
           501359.4285714286
          ],
          [
           246380
          ],
          [
           815557.5
          ],
          [
           269103.6666666667
          ],
          [
           189247.6
          ],
          [
           323964
          ],
          [
           403468.44444444444
          ],
          [
           125007.44444444444
          ],
          [
           200282.81818181818
          ],
          [
           366386.85714285716
          ],
          [
           97766.46666666666
          ],
          [
           483649.3333333333
          ],
          [
           485244.5714285714
          ],
          [
           29736.833333333332
          ],
          [
           24375.166666666668
          ],
          [
           109570.7
          ],
          [
           855338.5833333334
          ],
          [
           399808.9375
          ],
          [
           122319.625
          ],
          [
           389420.75
          ],
          [
           87029.36363636363
          ],
          [
           360124.85714285716
          ],
          [
           72675.625
          ],
          [
           864555.6363636364
          ],
          [
           158746.44444444444
          ],
          [
           448568.4285714286
          ],
          [
           270263.6666666667
          ],
          [
           908976
          ],
          [
           50496.166666666664
          ],
          [
           28092
          ],
          [
           74272.3
          ],
          [
           648100.0833333334
          ],
          [
           858933.4444444445
          ],
          [
           197513.125
          ],
          [
           162298.375
          ],
          [
           1284570.2
          ],
          [
           221925.5
          ],
          [
           57994.5
          ],
          [
           538058.8125
          ],
          [
           156511.33333333334
          ],
          [
           135464.76923076922
          ],
          [
           199431.88888888888
          ],
          [
           805496.2222222222
          ],
          [
           187443
          ],
          [
           965413.625
          ],
          [
           238759.6
          ],
          [
           209927.81818181818
          ],
          [
           317684.5714285714
          ],
          [
           214482.45454545456
          ],
          [
           64523.4
          ],
          [
           158161
          ],
          [
           197017.6
          ],
          [
           412354
          ],
          [
           226645
          ],
          [
           503911.8333333333
          ],
          [
           659237.3846153846
          ],
          [
           105561
          ],
          [
           409298.2
          ],
          [
           725779
          ],
          [
           499382.53846153844
          ],
          [
           185493.375
          ],
          [
           635363.6666666666
          ],
          [
           82546.5
          ],
          [
           215249.25
          ],
          [
           420002.82352941175
          ],
          [
           489857
          ],
          [
           365776.9090909091
          ],
          [
           219009.7
          ],
          [
           405252.55555555556
          ],
          [
           1812208.1666666667
          ],
          [
           424522.14285714284
          ],
          [
           192624
          ],
          [
           139650.1
          ],
          [
           764030.4285714285
          ],
          [
           714460.9
          ],
          [
           11005.333333333334
          ],
          [
           295040.4285714286
          ],
          [
           248862.2142857143
          ],
          [
           70522.72727272728
          ],
          [
           129480.28571428571
          ],
          [
           445553.9285714286
          ],
          [
           79909.5
          ],
          [
           51697.72727272727
          ],
          [
           742917.2142857143
          ],
          [
           221931.83333333334
          ],
          [
           248697.58333333334
          ],
          [
           478963.0909090909
          ],
          [
           1198934.4545454546
          ],
          [
           101863
          ],
          [
           295131.75
          ],
          [
           210860.83333333334
          ],
          [
           703437
          ],
          [
           98737.5
          ],
          [
           284847.4375
          ],
          [
           602031
          ],
          [
           109439.77777777778
          ],
          [
           144015.18181818182
          ],
          [
           316071.6
          ],
          [
           223705
          ],
          [
           745083.3
          ],
          [
           104728.6
          ],
          [
           324297.1538461539
          ],
          [
           202107.66666666666
          ],
          [
           371769
          ],
          [
           148622.3
          ],
          [
           529691.5
          ],
          [
           271761
          ],
          [
           165407.14285714287
          ],
          [
           252164.5
          ],
          [
           334114.22222222225
          ],
          [
           204034.625
          ],
          [
           43114.333333333336
          ],
          [
           187488.85714285713
          ],
          [
           717871
          ],
          [
           126813.75
          ],
          [
           193056.625
          ],
          [
           306949.3333333333
          ],
          [
           192126.5
          ],
          [
           379288.5
          ],
          [
           1342162.75
          ],
          [
           465915.5714285714
          ],
          [
           112459.125
          ],
          [
           355071.77777777775
          ],
          [
           250844.5294117647
          ],
          [
           575894.4
          ],
          [
           200489.25
          ],
          [
           152138.61538461538
          ],
          [
           247425.07692307694
          ],
          [
           225421.5
          ],
          [
           328714.5
          ],
          [
           93270.75
          ],
          [
           400379.22222222225
          ],
          [
           72559.75
          ],
          [
           641192.3333333334
          ],
          [
           305369.125
          ],
          [
           150986.5
          ],
          [
           201090.55555555556
          ],
          [
           96542
          ],
          [
           291581.4285714286
          ],
          [
           258842.875
          ],
          [
           728598.4
          ],
          [
           804336.2
          ],
          [
           234478.0909090909
          ],
          [
           439103.46153846156
          ],
          [
           430667.8333333333
          ],
          [
           229937.1
          ],
          [
           98564.75
          ],
          [
           229729.625
          ],
          [
           382576.28571428574
          ],
          [
           362709.25
          ],
          [
           741074.6
          ],
          [
           272512
          ],
          [
           316337.5
          ],
          [
           120995.90909090909
          ],
          [
           292359.1666666667
          ],
          [
           41728.333333333336
          ],
          [
           767668.0909090909
          ],
          [
           103247
          ],
          [
           732769.75
          ],
          [
           315611.85714285716
          ],
          [
           379987.0833333333
          ],
          [
           1163808.5
          ],
          [
           1343195.0833333333
          ],
          [
           125836.9
          ],
          [
           226904.42857142858
          ],
          [
           261175.11111111112
          ],
          [
           500989.8
          ],
          [
           108214.75
          ],
          [
           596733.1111111111
          ],
          [
           514674.8888888889
          ],
          [
           1090303
          ],
          [
           683281.9166666666
          ],
          [
           507415.7272727273
          ],
          [
           315657.8181818182
          ],
          [
           1020834.1428571428
          ],
          [
           220649.36363636365
          ],
          [
           161472.57142857142
          ],
          [
           678012.6428571428
          ],
          [
           113874
          ],
          [
           265208.14285714284
          ],
          [
           461246
          ],
          [
           506321.25
          ],
          [
           856076.0833333334
          ],
          [
           313530.6666666667
          ],
          [
           213999.45454545456
          ],
          [
           1013597.8571428572
          ],
          [
           420073.625
          ],
          [
           273659.625
          ],
          [
           380345.3
          ],
          [
           229242.875
          ],
          [
           189230
          ],
          [
           215936.6
          ],
          [
           289731.70588235295
          ],
          [
           406637
          ],
          [
           233888.72727272726
          ],
          [
           136186.08333333334
          ],
          [
           721515.7
          ],
          [
           263388.6
          ],
          [
           629074.6666666666
          ],
          [
           431628.8
          ],
          [
           137787.36363636365
          ],
          [
           98751.28571428571
          ],
          [
           214828.4
          ],
          [
           326806.5
          ],
          [
           1135912.7142857143
          ],
          [
           117051.6
          ],
          [
           840341
          ],
          [
           429892.6
          ],
          [
           1839266.375
          ],
          [
           694345
          ],
          [
           365194.07692307694
          ],
          [
           867101.5384615385
          ],
          [
           189650.42857142858
          ],
          [
           2373581.5
          ],
          [
           619707.4285714285
          ],
          [
           45590.333333333336
          ],
          [
           82154.75
          ],
          [
           336097.4
          ],
          [
           365762
          ],
          [
           944953.7142857143
          ],
          [
           705829.8181818182
          ],
          [
           114008.5
          ],
          [
           1290459.1666666667
          ],
          [
           424023.5
          ],
          [
           661037
          ],
          [
           399142.3846153846
          ],
          [
           124028.92307692308
          ],
          [
           526980.9230769231
          ],
          [
           1242747.6363636365
          ],
          [
           56754.71428571428
          ],
          [
           378111.5
          ],
          [
           409354.3125
          ],
          [
           1207534.076923077
          ],
          [
           280825
          ],
          [
           179111
          ],
          [
           216529.76923076922
          ],
          [
           292210.28571428574
          ],
          [
           57896.444444444445
          ],
          [
           245500.11111111112
          ],
          [
           140213.16666666666
          ],
          [
           368336.4375
          ],
          [
           423297.25
          ],
          [
           261991.11111111112
          ],
          [
           345940
          ],
          [
           33916.625
          ],
          [
           184387
          ],
          [
           172118.25
          ],
          [
           99515.28571428571
          ],
          [
           68816
          ],
          [
           304020.4666666667
          ],
          [
           103506.2
          ],
          [
           155927.6
          ],
          [
           1130736.625
          ],
          [
           905523.1
          ],
          [
           84070.2
          ],
          [
           68653.75
          ],
          [
           100658.45454545454
          ],
          [
           106515.13333333333
          ],
          [
           205197.75
          ],
          [
           1627126.6666666667
          ],
          [
           69362.78571428571
          ],
          [
           263379.55555555556
          ],
          [
           147791
          ],
          [
           42666.42857142857
          ],
          [
           71910.125
          ],
          [
           118960.72727272728
          ],
          [
           101956.75
          ],
          [
           439863.28571428574
          ],
          [
           133980
          ],
          [
           263305.75
          ],
          [
           353081.5333333333
          ],
          [
           198905
          ],
          [
           483713.7
          ],
          [
           56456.583333333336
          ],
          [
           618370.2
          ],
          [
           253125.16666666666
          ],
          [
           704401.5555555555
          ],
          [
           213555.61538461538
          ],
          [
           131108.66666666666
          ],
          [
           41820.9
          ],
          [
           333844.07692307694
          ],
          [
           246180.7142857143
          ],
          [
           235716.55555555556
          ],
          [
           124274.41666666667
          ],
          [
           1215435.375
          ],
          [
           460230.35297691374
          ]
         ],
         "domain": {
          "x": [
           0,
           1
          ],
          "y": [
           0,
           1
          ]
         },
         "hovertemplate": "labels=%{label}<br>count=%{value}<br>parent=%{parent}<br>id=%{id}<br>bytes=%{color}<extra></extra>",
         "ids": [
          "all/\\000",
          "all/\\001",
          "all/\\002",
          "all/\\003",
          "all/\\004",
          "all/\\005",
          "all/\\006",
          "all/\\007",
          "all/\\008",
          "all/\\009",
          "all/\\010",
          "all/\\011",
          "all/\\012",
          "all/\\013",
          "all/\\014",
          "all/\\015",
          "all/\\016",
          "all/\\017",
          "all/\\018",
          "all/\\019",
          "all/\\020",
          "all/\\021",
          "all/\\022",
          "all/\\023",
          "all/\\024",
          "all/\\025",
          "all/\\026",
          "all/\\027",
          "all/\\028",
          "all/\\029",
          "all/\\030",
          "all/\\031",
          "all/\\032",
          "all/\\033",
          "all/\\034",
          "all/\\035",
          "all/\\036",
          "all/\\037",
          "all/\\038",
          "all/\\039",
          "all/\\040",
          "all/\\041",
          "all/\\042",
          "all/\\043",
          "all/\\044",
          "all/\\045",
          "all/\\046",
          "all/\\047",
          "all/\\048",
          "all/\\049",
          "all/\\050",
          "all/\\051",
          "all/\\052",
          "all/\\053",
          "all/\\054",
          "all/\\055",
          "all/\\056",
          "all/\\057",
          "all/\\058",
          "all/\\059",
          "all/\\060",
          "all/\\061",
          "all/\\062",
          "all/\\063",
          "all/\\064",
          "all/\\065",
          "all/\\066",
          "all/\\067",
          "all/\\068",
          "all/\\069",
          "all/\\070",
          "all/\\071",
          "all/\\072",
          "all/\\073",
          "all/\\074",
          "all/\\075",
          "all/\\076",
          "all/\\077",
          "all/\\078",
          "all/\\079",
          "all/\\080",
          "all/\\081",
          "all/\\082",
          "all/\\083",
          "all/\\084",
          "all/\\085",
          "all/\\086",
          "all/\\087",
          "all/\\088",
          "all/\\089",
          "all/\\090",
          "all/\\091",
          "all/\\092",
          "all/\\093",
          "all/\\094",
          "all/\\095",
          "all/\\096",
          "all/\\097",
          "all/\\098",
          "all/\\099",
          "all/\\100",
          "all/\\101",
          "all/\\102",
          "all/\\103",
          "all/\\104",
          "all/\\105",
          "all/\\106",
          "all/\\107",
          "all/\\108",
          "all/\\109",
          "all/\\110",
          "all/\\111",
          "all/\\112",
          "all/\\113",
          "all/\\114",
          "all/\\115",
          "all/\\116",
          "all/\\117",
          "all/\\118",
          "all/\\119",
          "all/\\120",
          "all/\\121",
          "all/\\122",
          "all/\\123",
          "all/\\124",
          "all/\\125",
          "all/\\126",
          "all/\\127",
          "all/\\128",
          "all/\\129",
          "all/\\130",
          "all/\\131",
          "all/\\132",
          "all/\\133",
          "all/\\134",
          "all/\\135",
          "all/\\136",
          "all/\\137",
          "all/\\138",
          "all/\\139",
          "all/\\140",
          "all/\\141",
          "all/\\142",
          "all/\\143",
          "all/\\144",
          "all/\\145",
          "all/\\146",
          "all/\\147",
          "all/\\148",
          "all/\\149",
          "all/\\150",
          "all/\\151",
          "all/\\152",
          "all/\\153",
          "all/\\154",
          "all/\\155",
          "all/\\156",
          "all/\\157",
          "all/\\158",
          "all/\\159",
          "all/\\160",
          "all/\\161",
          "all/\\162",
          "all/\\163",
          "all/\\164",
          "all/\\165",
          "all/\\166",
          "all/\\167",
          "all/\\168",
          "all/\\169",
          "all/\\170",
          "all/\\171",
          "all/\\172",
          "all/\\173",
          "all/\\174",
          "all/\\175",
          "all/\\176",
          "all/\\177",
          "all/\\178",
          "all/\\179",
          "all/\\180",
          "all/\\181",
          "all/\\182",
          "all/\\183",
          "all/\\184",
          "all/\\185",
          "all/\\186",
          "all/\\187",
          "all/\\188",
          "all/\\189",
          "all/\\190",
          "all/\\191",
          "all/\\192",
          "all/\\193",
          "all/\\194",
          "all/\\195",
          "all/\\196",
          "all/\\197",
          "all/\\198",
          "all/\\199",
          "all/\\200",
          "all/\\201",
          "all/\\202",
          "all/\\203",
          "all/\\204",
          "all/\\205",
          "all/\\206",
          "all/\\207",
          "all/\\208",
          "all/\\209",
          "all/\\210",
          "all/\\211",
          "all/\\212",
          "all/\\213",
          "all/\\214",
          "all/\\215",
          "all/\\216",
          "all/\\217",
          "all/\\218",
          "all/\\219",
          "all/\\220",
          "all/\\221",
          "all/\\222",
          "all/\\223",
          "all/\\224",
          "all/\\225",
          "all/\\226",
          "all/\\227",
          "all/\\228",
          "all/\\229",
          "all/\\230",
          "all/\\231",
          "all/\\232",
          "all/\\233",
          "all/\\234",
          "all/\\235",
          "all/\\236",
          "all/\\237",
          "all/\\238",
          "all/\\239",
          "all/\\240",
          "all/\\241",
          "all/\\242",
          "all/\\243",
          "all/\\244",
          "all/\\245",
          "all/\\246",
          "all/\\247",
          "all/\\248",
          "all/\\249",
          "all/\\250",
          "all/\\251",
          "all/\\252",
          "all/\\253",
          "all/\\254",
          "all/\\255",
          "all/\\256",
          "all/\\257",
          "all/\\258",
          "all/\\259",
          "all/\\260",
          "all/\\261",
          "all/\\262",
          "all/\\263",
          "all/\\264",
          "all/\\265",
          "all/\\266",
          "all/\\267",
          "all/\\268",
          "all/\\269",
          "all/\\270",
          "all/\\271",
          "all/\\272",
          "all/\\273",
          "all/\\274",
          "all/\\275",
          "all/\\276",
          "all/\\277",
          "all/\\278",
          "all/\\279",
          "all/\\280",
          "all/\\281",
          "all/\\282",
          "all/\\283",
          "all/\\284",
          "all/\\285",
          "all/\\286",
          "all/\\287",
          "all/\\288",
          "all/\\289",
          "all/\\290",
          "all/\\291",
          "all/\\292",
          "all/\\293",
          "all/\\294",
          "all/\\295",
          "all/\\296",
          "all/\\297",
          "all/\\298",
          "all/\\299",
          "all/\\300",
          "all/\\301",
          "all/\\302",
          "all/\\303",
          "all/\\304",
          "all/\\305",
          "all/\\306",
          "all/\\307",
          "all/\\308",
          "all/\\309",
          "all/\\310",
          "all/\\311",
          "all/\\312",
          "all/\\313",
          "all/\\314",
          "all/\\315",
          "all/\\316",
          "all/\\317",
          "all/\\318",
          "all/\\319",
          "all/\\320",
          "all/\\321",
          "all/\\322",
          "all/\\323",
          "all/\\324",
          "all/\\325",
          "all/\\326",
          "all/\\327",
          "all/\\328",
          "all/\\329",
          "all/\\330",
          "all/\\331",
          "all/\\332",
          "all/\\333",
          "all/\\334",
          "all/\\335",
          "all/\\336",
          "all/\\337",
          "all/\\338",
          "all/\\339",
          "all/\\340",
          "all/\\341",
          "all/\\342",
          "all/\\343",
          "all/\\344",
          "all/\\345",
          "all/\\346",
          "all/\\347",
          "all/\\348",
          "all/\\349",
          "all/\\350",
          "all/\\351",
          "all/\\352",
          "all/\\353",
          "all/\\354",
          "all/\\355",
          "all/\\356",
          "all/\\357",
          "all/\\358",
          "all/\\359",
          "all/\\360",
          "all/\\361",
          "all/\\362",
          "all/\\363",
          "all/\\364",
          "all/\\365",
          "all/\\366",
          "all/\\367",
          "all/\\368",
          "all/\\369",
          "all/\\370",
          "all/\\371",
          "all/\\372",
          "all/\\373",
          "all/\\374",
          "all/\\375",
          "all/\\376",
          "all/\\377",
          "all/\\378",
          "all/\\379",
          "all/\\380",
          "all/\\381",
          "all/\\382",
          "all/\\383",
          "all/\\384",
          "all/\\385",
          "all/\\386",
          "all/\\387",
          "all/\\388",
          "all/\\389",
          "all/\\390",
          "all/\\391",
          "all/\\392",
          "all/\\393",
          "all/\\394",
          "all/\\395",
          "all/\\396",
          "all/\\397",
          "all/\\398",
          "all/\\399",
          "all/\\400",
          "all/\\401",
          "all/\\402",
          "all/\\403",
          "all/\\404",
          "all/\\405",
          "all/\\406",
          "all/\\407",
          "all/\\408",
          "all/\\409",
          "all/\\410",
          "all/\\411",
          "all/\\412",
          "all/\\413",
          "all/\\414",
          "all/\\415",
          "all/\\416",
          "all/\\417",
          "all/\\418",
          "all/\\419",
          "all/\\420",
          "all/\\421",
          "all/\\422",
          "all/\\423",
          "all/\\424",
          "all/\\425",
          "all/\\426",
          "all/\\427",
          "all/\\428",
          "all/\\429",
          "all/\\430",
          "all/\\431",
          "all/\\432",
          "all/\\433",
          "all/\\434",
          "all/\\435",
          "all/\\436",
          "all/\\437",
          "all/\\438",
          "all/\\439",
          "all/\\440",
          "all/\\441",
          "all/\\442",
          "all/\\443",
          "all/\\444",
          "all/\\445",
          "all/\\446",
          "all/\\447",
          "all/\\448",
          "all/\\449",
          "all/\\450",
          "all/\\451",
          "all/\\452",
          "all/\\453",
          "all/\\454",
          "all/\\455",
          "all/\\456",
          "all/\\457",
          "all/\\458",
          "all/\\459",
          "all/\\460",
          "all/\\461",
          "all/\\462",
          "all/\\463",
          "all/\\464",
          "all/\\465",
          "all/\\466",
          "all/\\467",
          "all/\\468",
          "all/\\469",
          "all/\\470",
          "all/\\471",
          "all/\\472",
          "all/\\473",
          "all/\\474",
          "all/\\475",
          "all/\\476",
          "all/\\477",
          "all/\\478",
          "all/\\479",
          "all/\\480",
          "all/\\481",
          "all/\\482",
          "all/\\483",
          "all/\\484",
          "all/\\485",
          "all/\\486",
          "all/\\487",
          "all/\\488",
          "all/\\489",
          "all/\\490",
          "all/\\491",
          "all/\\492",
          "all/\\493",
          "all/\\494",
          "all/\\495",
          "all/\\496",
          "all/\\497",
          "all/\\498",
          "all/\\499",
          "all/\\500",
          "all/\\501",
          "all/\\502",
          "all/\\503",
          "all/\\504",
          "all/\\505",
          "all/\\506",
          "all/\\507",
          "all/\\508",
          "all/\\509",
          "all/\\510",
          "all/\\511",
          "all/\\512",
          "all/\\513",
          "all/\\514",
          "all/\\515",
          "all/\\516",
          "all/\\517",
          "all/\\518",
          "all/\\519",
          "all/\\520",
          "all/\\521",
          "all/\\522",
          "all/\\523",
          "all/\\524",
          "all/\\525",
          "all/\\526",
          "all/\\527",
          "all/\\528",
          "all/\\529",
          "all/\\530",
          "all/\\531",
          "all/\\532",
          "all/\\533",
          "all/\\534",
          "all/\\535",
          "all/\\536",
          "all/\\537",
          "all/\\538",
          "all/\\539",
          "all/\\540",
          "all/\\541",
          "all/\\542",
          "all/\\543",
          "all/\\544",
          "all/\\545",
          "all/\\546",
          "all/\\547",
          "all/\\548",
          "all/\\549",
          "all/\\550",
          "all/\\551",
          "all/\\552",
          "all/\\553",
          "all/\\554",
          "all/\\555",
          "all/\\556",
          "all/\\557",
          "all/\\558",
          "all/\\559",
          "all/\\560",
          "all/\\561",
          "all/\\562",
          "all/\\563",
          "all/\\564",
          "all/\\565",
          "all/\\566",
          "all/\\567",
          "all/\\568",
          "all/\\569",
          "all/\\570",
          "all/\\571",
          "all/\\572",
          "all/\\573",
          "all/\\574",
          "all/\\575",
          "all/\\576",
          "all/\\577",
          "all/\\578",
          "all/\\579",
          "all/\\580",
          "all/\\581",
          "all/\\582",
          "all/\\583",
          "all/\\584",
          "all/\\585",
          "all/\\586",
          "all/\\587",
          "all/\\588",
          "all/\\589",
          "all/\\590",
          "all/\\591",
          "all/\\592",
          "all/\\593",
          "all/\\594",
          "all/\\595",
          "all/\\596",
          "all/\\597",
          "all/\\598",
          "all/\\599",
          "all/\\600",
          "all/\\601",
          "all/\\602",
          "all/\\603",
          "all/\\604",
          "all/\\605",
          "all/\\606",
          "all/\\607",
          "all/\\608",
          "all/\\609",
          "all/\\610",
          "all/\\611",
          "all/\\612",
          "all/\\613",
          "all/\\614",
          "all/\\615",
          "all/\\616",
          "all/\\617",
          "all/\\618",
          "all/\\619",
          "all/\\620",
          "all/\\621",
          "all/\\622",
          "all/\\623",
          "all/\\624",
          "all/\\625",
          "all/\\626",
          "all/\\627",
          "all/\\628",
          "all/\\629",
          "all/\\630",
          "all/\\631",
          "all/\\632",
          "all/\\633",
          "all/\\634",
          "all/\\635",
          "all/\\636",
          "all/\\637",
          "all/\\638",
          "all/\\639",
          "all/\\640",
          "all/\\641",
          "all/\\642",
          "all/\\643",
          "all/\\644",
          "all/\\645",
          "all/\\646",
          "all/\\647",
          "all/\\648",
          "all/\\649",
          "all/\\650",
          "all/\\651",
          "all/\\652",
          "all/\\653",
          "all/\\654",
          "all/\\655",
          "all/\\656",
          "all/\\657",
          "all/\\658",
          "all/\\659",
          "all/\\660",
          "all/\\661",
          "all/\\662",
          "all/\\663",
          "all/\\664",
          "all/\\665",
          "all/\\666",
          "all/\\667",
          "all/\\668",
          "all/\\669",
          "all/\\670",
          "all/\\671",
          "all/\\672",
          "all/\\673",
          "all/\\674",
          "all/\\675",
          "all/\\676",
          "all/\\677",
          "all/\\678",
          "all/\\679",
          "all/\\680",
          "all/\\681",
          "all/\\682",
          "all/\\683",
          "all/\\684",
          "all/\\685",
          "all/\\686",
          "all/\\687",
          "all/\\688",
          "all/\\689",
          "all/\\690",
          "all/\\691",
          "all/\\692",
          "all/\\693",
          "all/\\694",
          "all/\\695",
          "all/\\696",
          "all/\\697",
          "all/\\698",
          "all/\\699",
          "all/\\700",
          "all/\\701",
          "all/\\702",
          "all/\\703",
          "all/\\704",
          "all/\\705",
          "all/\\706",
          "all/\\707",
          "all/\\708",
          "all/\\709",
          "all/\\710",
          "all/\\711",
          "all/\\712",
          "all/\\713",
          "all/\\714",
          "all/\\715",
          "all/\\716",
          "all/\\717",
          "all/\\718",
          "all/\\719",
          "all/\\720",
          "all/\\721",
          "all/\\722",
          "all/\\723",
          "all/\\724",
          "all/\\725",
          "all/\\726",
          "all/\\727",
          "all/\\728",
          "all/\\729",
          "all/\\730",
          "all/\\731",
          "all/\\732",
          "all/\\733",
          "all/\\734",
          "all/\\735",
          "all/\\736",
          "all/\\737",
          "all/\\738",
          "all/\\739",
          "all/\\740",
          "all/\\741",
          "all/\\742",
          "all/\\743",
          "all/\\744",
          "all/\\745",
          "all/\\746",
          "all/\\747",
          "all/\\748",
          "all/\\749",
          "all/\\750",
          "all/\\751",
          "all/\\752",
          "all/\\753",
          "all/\\754",
          "all/\\755",
          "all/\\756",
          "all/\\757",
          "all/\\758",
          "all/\\759",
          "all/\\760",
          "all/\\761",
          "all/\\762",
          "all/\\763",
          "all/\\764",
          "all/\\765",
          "all/\\766",
          "all/\\767",
          "all/\\768",
          "all/\\769",
          "all/\\770",
          "all/\\771",
          "all/\\772",
          "all/\\773",
          "all/\\774",
          "all/\\775",
          "all/\\776",
          "all/\\777",
          "all/\\778",
          "all/\\779",
          "all/\\780",
          "all/\\781",
          "all/\\782",
          "all/\\783",
          "all/\\784",
          "all/\\785",
          "all/\\786",
          "all/\\787",
          "all/\\788",
          "all/\\789",
          "all/\\790",
          "all/\\791",
          "all/\\792",
          "all/\\793",
          "all/\\794",
          "all/\\795",
          "all/\\796",
          "all/\\797",
          "all/\\798",
          "all/\\799",
          "all/\\800",
          "all/\\801",
          "all/\\802",
          "all/\\803",
          "all/\\804",
          "all/\\805",
          "all/\\806",
          "all/\\807",
          "all/\\808",
          "all/\\809",
          "all/\\810",
          "all/\\811",
          "all/\\812",
          "all/\\813",
          "all/\\814",
          "all/\\815",
          "all/\\816",
          "all/\\817",
          "all/\\818",
          "all/\\819",
          "all/\\820",
          "all/\\821",
          "all/\\822",
          "all/\\823",
          "all/\\824",
          "all/\\825",
          "all/\\826",
          "all/\\827",
          "all/\\828",
          "all/\\829",
          "all/\\830",
          "all/\\831",
          "all/\\832",
          "all/\\833",
          "all/\\834",
          "all/\\835",
          "all/\\836",
          "all/\\837",
          "all/\\838",
          "all/\\839",
          "all/\\840",
          "all/\\841",
          "all/\\842",
          "all/\\843",
          "all/\\844",
          "all/\\845",
          "all/\\846",
          "all/\\847",
          "all/\\848",
          "all/\\849",
          "all/\\850",
          "all/\\851",
          "all/\\852",
          "all/\\853",
          "all/\\854",
          "all/\\855",
          "all/\\856",
          "all/\\857",
          "all/\\858",
          "all/\\859",
          "all/\\860",
          "all/\\861",
          "all/\\862",
          "all/\\863",
          "all/\\864",
          "all/\\865",
          "all/\\866",
          "all/\\867",
          "all/\\868",
          "all/\\869",
          "all/\\870",
          "all/\\871",
          "all/\\872",
          "all/\\873",
          "all/\\874",
          "all/\\875",
          "all/\\876",
          "all/\\877",
          "all/\\878",
          "all/\\879",
          "all/\\880",
          "all/\\881",
          "all/\\882",
          "all/\\883",
          "all/\\884",
          "all/\\885",
          "all/\\886",
          "all/\\887",
          "all/\\888",
          "all/\\889",
          "all/\\890",
          "all/\\891",
          "all/\\892",
          "all/\\893",
          "all/\\894",
          "all/\\895",
          "all/\\896",
          "all/\\897",
          "all/\\898",
          "all/\\899",
          "all/\\900",
          "all/\\901",
          "all/\\902",
          "all/\\903",
          "all/\\904",
          "all/\\905",
          "all/\\906",
          "all/\\907",
          "all/\\908",
          "all/\\909",
          "all/\\910",
          "all/\\911",
          "all/\\912",
          "all/\\913",
          "all/\\914",
          "all/\\915",
          "all/\\916",
          "all/\\917",
          "all/\\918",
          "all/\\919",
          "all/\\920",
          "all/\\921",
          "all/\\922",
          "all/\\923",
          "all/\\924",
          "all/\\925",
          "all/\\926",
          "all/\\927",
          "all/\\928",
          "all/\\929",
          "all/\\930",
          "all/\\931",
          "all/\\932",
          "all/\\933",
          "all/\\934",
          "all/\\935",
          "all/\\936",
          "all/\\937",
          "all/\\938",
          "all/\\939",
          "all/\\940",
          "all/\\941",
          "all/\\942",
          "all/\\943",
          "all/\\944",
          "all/\\945",
          "all/\\946",
          "all/\\947",
          "all/\\948",
          "all/\\949",
          "all/\\950",
          "all/\\951",
          "all/\\952",
          "all/\\953",
          "all/\\954",
          "all/\\955",
          "all/\\956",
          "all/\\957",
          "all/\\958",
          "all/\\959",
          "all/\\960",
          "all/\\961",
          "all/\\962",
          "all/\\963",
          "all/\\964",
          "all/\\965",
          "all/\\966",
          "all/\\967",
          "all/\\968",
          "all/\\969",
          "all/\\970",
          "all/\\971",
          "all/\\972",
          "all/\\973",
          "all/\\974",
          "all/\\975",
          "all/\\976",
          "all/\\977",
          "all/\\978",
          "all/\\979",
          "all/\\980",
          "all/\\981",
          "all/\\982",
          "all/\\983",
          "all/\\984",
          "all/\\985",
          "all/\\986",
          "all/\\987",
          "all/\\988",
          "all/\\989",
          "all/\\990",
          "all/\\991",
          "all/\\992",
          "all/\\993",
          "all/\\994",
          "all/\\995",
          "all/\\996",
          "all/\\997",
          "all/\\998",
          "all/\\999",
          "all"
         ],
         "labels": [
          "\\000",
          "\\001",
          "\\002",
          "\\003",
          "\\004",
          "\\005",
          "\\006",
          "\\007",
          "\\008",
          "\\009",
          "\\010",
          "\\011",
          "\\012",
          "\\013",
          "\\014",
          "\\015",
          "\\016",
          "\\017",
          "\\018",
          "\\019",
          "\\020",
          "\\021",
          "\\022",
          "\\023",
          "\\024",
          "\\025",
          "\\026",
          "\\027",
          "\\028",
          "\\029",
          "\\030",
          "\\031",
          "\\032",
          "\\033",
          "\\034",
          "\\035",
          "\\036",
          "\\037",
          "\\038",
          "\\039",
          "\\040",
          "\\041",
          "\\042",
          "\\043",
          "\\044",
          "\\045",
          "\\046",
          "\\047",
          "\\048",
          "\\049",
          "\\050",
          "\\051",
          "\\052",
          "\\053",
          "\\054",
          "\\055",
          "\\056",
          "\\057",
          "\\058",
          "\\059",
          "\\060",
          "\\061",
          "\\062",
          "\\063",
          "\\064",
          "\\065",
          "\\066",
          "\\067",
          "\\068",
          "\\069",
          "\\070",
          "\\071",
          "\\072",
          "\\073",
          "\\074",
          "\\075",
          "\\076",
          "\\077",
          "\\078",
          "\\079",
          "\\080",
          "\\081",
          "\\082",
          "\\083",
          "\\084",
          "\\085",
          "\\086",
          "\\087",
          "\\088",
          "\\089",
          "\\090",
          "\\091",
          "\\092",
          "\\093",
          "\\094",
          "\\095",
          "\\096",
          "\\097",
          "\\098",
          "\\099",
          "\\100",
          "\\101",
          "\\102",
          "\\103",
          "\\104",
          "\\105",
          "\\106",
          "\\107",
          "\\108",
          "\\109",
          "\\110",
          "\\111",
          "\\112",
          "\\113",
          "\\114",
          "\\115",
          "\\116",
          "\\117",
          "\\118",
          "\\119",
          "\\120",
          "\\121",
          "\\122",
          "\\123",
          "\\124",
          "\\125",
          "\\126",
          "\\127",
          "\\128",
          "\\129",
          "\\130",
          "\\131",
          "\\132",
          "\\133",
          "\\134",
          "\\135",
          "\\136",
          "\\137",
          "\\138",
          "\\139",
          "\\140",
          "\\141",
          "\\142",
          "\\143",
          "\\144",
          "\\145",
          "\\146",
          "\\147",
          "\\148",
          "\\149",
          "\\150",
          "\\151",
          "\\152",
          "\\153",
          "\\154",
          "\\155",
          "\\156",
          "\\157",
          "\\158",
          "\\159",
          "\\160",
          "\\161",
          "\\162",
          "\\163",
          "\\164",
          "\\165",
          "\\166",
          "\\167",
          "\\168",
          "\\169",
          "\\170",
          "\\171",
          "\\172",
          "\\173",
          "\\174",
          "\\175",
          "\\176",
          "\\177",
          "\\178",
          "\\179",
          "\\180",
          "\\181",
          "\\182",
          "\\183",
          "\\184",
          "\\185",
          "\\186",
          "\\187",
          "\\188",
          "\\189",
          "\\190",
          "\\191",
          "\\192",
          "\\193",
          "\\194",
          "\\195",
          "\\196",
          "\\197",
          "\\198",
          "\\199",
          "\\200",
          "\\201",
          "\\202",
          "\\203",
          "\\204",
          "\\205",
          "\\206",
          "\\207",
          "\\208",
          "\\209",
          "\\210",
          "\\211",
          "\\212",
          "\\213",
          "\\214",
          "\\215",
          "\\216",
          "\\217",
          "\\218",
          "\\219",
          "\\220",
          "\\221",
          "\\222",
          "\\223",
          "\\224",
          "\\225",
          "\\226",
          "\\227",
          "\\228",
          "\\229",
          "\\230",
          "\\231",
          "\\232",
          "\\233",
          "\\234",
          "\\235",
          "\\236",
          "\\237",
          "\\238",
          "\\239",
          "\\240",
          "\\241",
          "\\242",
          "\\243",
          "\\244",
          "\\245",
          "\\246",
          "\\247",
          "\\248",
          "\\249",
          "\\250",
          "\\251",
          "\\252",
          "\\253",
          "\\254",
          "\\255",
          "\\256",
          "\\257",
          "\\258",
          "\\259",
          "\\260",
          "\\261",
          "\\262",
          "\\263",
          "\\264",
          "\\265",
          "\\266",
          "\\267",
          "\\268",
          "\\269",
          "\\270",
          "\\271",
          "\\272",
          "\\273",
          "\\274",
          "\\275",
          "\\276",
          "\\277",
          "\\278",
          "\\279",
          "\\280",
          "\\281",
          "\\282",
          "\\283",
          "\\284",
          "\\285",
          "\\286",
          "\\287",
          "\\288",
          "\\289",
          "\\290",
          "\\291",
          "\\292",
          "\\293",
          "\\294",
          "\\295",
          "\\296",
          "\\297",
          "\\298",
          "\\299",
          "\\300",
          "\\301",
          "\\302",
          "\\303",
          "\\304",
          "\\305",
          "\\306",
          "\\307",
          "\\308",
          "\\309",
          "\\310",
          "\\311",
          "\\312",
          "\\313",
          "\\314",
          "\\315",
          "\\316",
          "\\317",
          "\\318",
          "\\319",
          "\\320",
          "\\321",
          "\\322",
          "\\323",
          "\\324",
          "\\325",
          "\\326",
          "\\327",
          "\\328",
          "\\329",
          "\\330",
          "\\331",
          "\\332",
          "\\333",
          "\\334",
          "\\335",
          "\\336",
          "\\337",
          "\\338",
          "\\339",
          "\\340",
          "\\341",
          "\\342",
          "\\343",
          "\\344",
          "\\345",
          "\\346",
          "\\347",
          "\\348",
          "\\349",
          "\\350",
          "\\351",
          "\\352",
          "\\353",
          "\\354",
          "\\355",
          "\\356",
          "\\357",
          "\\358",
          "\\359",
          "\\360",
          "\\361",
          "\\362",
          "\\363",
          "\\364",
          "\\365",
          "\\366",
          "\\367",
          "\\368",
          "\\369",
          "\\370",
          "\\371",
          "\\372",
          "\\373",
          "\\374",
          "\\375",
          "\\376",
          "\\377",
          "\\378",
          "\\379",
          "\\380",
          "\\381",
          "\\382",
          "\\383",
          "\\384",
          "\\385",
          "\\386",
          "\\387",
          "\\388",
          "\\389",
          "\\390",
          "\\391",
          "\\392",
          "\\393",
          "\\394",
          "\\395",
          "\\396",
          "\\397",
          "\\398",
          "\\399",
          "\\400",
          "\\401",
          "\\402",
          "\\403",
          "\\404",
          "\\405",
          "\\406",
          "\\407",
          "\\408",
          "\\409",
          "\\410",
          "\\411",
          "\\412",
          "\\413",
          "\\414",
          "\\415",
          "\\416",
          "\\417",
          "\\418",
          "\\419",
          "\\420",
          "\\421",
          "\\422",
          "\\423",
          "\\424",
          "\\425",
          "\\426",
          "\\427",
          "\\428",
          "\\429",
          "\\430",
          "\\431",
          "\\432",
          "\\433",
          "\\434",
          "\\435",
          "\\436",
          "\\437",
          "\\438",
          "\\439",
          "\\440",
          "\\441",
          "\\442",
          "\\443",
          "\\444",
          "\\445",
          "\\446",
          "\\447",
          "\\448",
          "\\449",
          "\\450",
          "\\451",
          "\\452",
          "\\453",
          "\\454",
          "\\455",
          "\\456",
          "\\457",
          "\\458",
          "\\459",
          "\\460",
          "\\461",
          "\\462",
          "\\463",
          "\\464",
          "\\465",
          "\\466",
          "\\467",
          "\\468",
          "\\469",
          "\\470",
          "\\471",
          "\\472",
          "\\473",
          "\\474",
          "\\475",
          "\\476",
          "\\477",
          "\\478",
          "\\479",
          "\\480",
          "\\481",
          "\\482",
          "\\483",
          "\\484",
          "\\485",
          "\\486",
          "\\487",
          "\\488",
          "\\489",
          "\\490",
          "\\491",
          "\\492",
          "\\493",
          "\\494",
          "\\495",
          "\\496",
          "\\497",
          "\\498",
          "\\499",
          "\\500",
          "\\501",
          "\\502",
          "\\503",
          "\\504",
          "\\505",
          "\\506",
          "\\507",
          "\\508",
          "\\509",
          "\\510",
          "\\511",
          "\\512",
          "\\513",
          "\\514",
          "\\515",
          "\\516",
          "\\517",
          "\\518",
          "\\519",
          "\\520",
          "\\521",
          "\\522",
          "\\523",
          "\\524",
          "\\525",
          "\\526",
          "\\527",
          "\\528",
          "\\529",
          "\\530",
          "\\531",
          "\\532",
          "\\533",
          "\\534",
          "\\535",
          "\\536",
          "\\537",
          "\\538",
          "\\539",
          "\\540",
          "\\541",
          "\\542",
          "\\543",
          "\\544",
          "\\545",
          "\\546",
          "\\547",
          "\\548",
          "\\549",
          "\\550",
          "\\551",
          "\\552",
          "\\553",
          "\\554",
          "\\555",
          "\\556",
          "\\557",
          "\\558",
          "\\559",
          "\\560",
          "\\561",
          "\\562",
          "\\563",
          "\\564",
          "\\565",
          "\\566",
          "\\567",
          "\\568",
          "\\569",
          "\\570",
          "\\571",
          "\\572",
          "\\573",
          "\\574",
          "\\575",
          "\\576",
          "\\577",
          "\\578",
          "\\579",
          "\\580",
          "\\581",
          "\\582",
          "\\583",
          "\\584",
          "\\585",
          "\\586",
          "\\587",
          "\\588",
          "\\589",
          "\\590",
          "\\591",
          "\\592",
          "\\593",
          "\\594",
          "\\595",
          "\\596",
          "\\597",
          "\\598",
          "\\599",
          "\\600",
          "\\601",
          "\\602",
          "\\603",
          "\\604",
          "\\605",
          "\\606",
          "\\607",
          "\\608",
          "\\609",
          "\\610",
          "\\611",
          "\\612",
          "\\613",
          "\\614",
          "\\615",
          "\\616",
          "\\617",
          "\\618",
          "\\619",
          "\\620",
          "\\621",
          "\\622",
          "\\623",
          "\\624",
          "\\625",
          "\\626",
          "\\627",
          "\\628",
          "\\629",
          "\\630",
          "\\631",
          "\\632",
          "\\633",
          "\\634",
          "\\635",
          "\\636",
          "\\637",
          "\\638",
          "\\639",
          "\\640",
          "\\641",
          "\\642",
          "\\643",
          "\\644",
          "\\645",
          "\\646",
          "\\647",
          "\\648",
          "\\649",
          "\\650",
          "\\651",
          "\\652",
          "\\653",
          "\\654",
          "\\655",
          "\\656",
          "\\657",
          "\\658",
          "\\659",
          "\\660",
          "\\661",
          "\\662",
          "\\663",
          "\\664",
          "\\665",
          "\\666",
          "\\667",
          "\\668",
          "\\669",
          "\\670",
          "\\671",
          "\\672",
          "\\673",
          "\\674",
          "\\675",
          "\\676",
          "\\677",
          "\\678",
          "\\679",
          "\\680",
          "\\681",
          "\\682",
          "\\683",
          "\\684",
          "\\685",
          "\\686",
          "\\687",
          "\\688",
          "\\689",
          "\\690",
          "\\691",
          "\\692",
          "\\693",
          "\\694",
          "\\695",
          "\\696",
          "\\697",
          "\\698",
          "\\699",
          "\\700",
          "\\701",
          "\\702",
          "\\703",
          "\\704",
          "\\705",
          "\\706",
          "\\707",
          "\\708",
          "\\709",
          "\\710",
          "\\711",
          "\\712",
          "\\713",
          "\\714",
          "\\715",
          "\\716",
          "\\717",
          "\\718",
          "\\719",
          "\\720",
          "\\721",
          "\\722",
          "\\723",
          "\\724",
          "\\725",
          "\\726",
          "\\727",
          "\\728",
          "\\729",
          "\\730",
          "\\731",
          "\\732",
          "\\733",
          "\\734",
          "\\735",
          "\\736",
          "\\737",
          "\\738",
          "\\739",
          "\\740",
          "\\741",
          "\\742",
          "\\743",
          "\\744",
          "\\745",
          "\\746",
          "\\747",
          "\\748",
          "\\749",
          "\\750",
          "\\751",
          "\\752",
          "\\753",
          "\\754",
          "\\755",
          "\\756",
          "\\757",
          "\\758",
          "\\759",
          "\\760",
          "\\761",
          "\\762",
          "\\763",
          "\\764",
          "\\765",
          "\\766",
          "\\767",
          "\\768",
          "\\769",
          "\\770",
          "\\771",
          "\\772",
          "\\773",
          "\\774",
          "\\775",
          "\\776",
          "\\777",
          "\\778",
          "\\779",
          "\\780",
          "\\781",
          "\\782",
          "\\783",
          "\\784",
          "\\785",
          "\\786",
          "\\787",
          "\\788",
          "\\789",
          "\\790",
          "\\791",
          "\\792",
          "\\793",
          "\\794",
          "\\795",
          "\\796",
          "\\797",
          "\\798",
          "\\799",
          "\\800",
          "\\801",
          "\\802",
          "\\803",
          "\\804",
          "\\805",
          "\\806",
          "\\807",
          "\\808",
          "\\809",
          "\\810",
          "\\811",
          "\\812",
          "\\813",
          "\\814",
          "\\815",
          "\\816",
          "\\817",
          "\\818",
          "\\819",
          "\\820",
          "\\821",
          "\\822",
          "\\823",
          "\\824",
          "\\825",
          "\\826",
          "\\827",
          "\\828",
          "\\829",
          "\\830",
          "\\831",
          "\\832",
          "\\833",
          "\\834",
          "\\835",
          "\\836",
          "\\837",
          "\\838",
          "\\839",
          "\\840",
          "\\841",
          "\\842",
          "\\843",
          "\\844",
          "\\845",
          "\\846",
          "\\847",
          "\\848",
          "\\849",
          "\\850",
          "\\851",
          "\\852",
          "\\853",
          "\\854",
          "\\855",
          "\\856",
          "\\857",
          "\\858",
          "\\859",
          "\\860",
          "\\861",
          "\\862",
          "\\863",
          "\\864",
          "\\865",
          "\\866",
          "\\867",
          "\\868",
          "\\869",
          "\\870",
          "\\871",
          "\\872",
          "\\873",
          "\\874",
          "\\875",
          "\\876",
          "\\877",
          "\\878",
          "\\879",
          "\\880",
          "\\881",
          "\\882",
          "\\883",
          "\\884",
          "\\885",
          "\\886",
          "\\887",
          "\\888",
          "\\889",
          "\\890",
          "\\891",
          "\\892",
          "\\893",
          "\\894",
          "\\895",
          "\\896",
          "\\897",
          "\\898",
          "\\899",
          "\\900",
          "\\901",
          "\\902",
          "\\903",
          "\\904",
          "\\905",
          "\\906",
          "\\907",
          "\\908",
          "\\909",
          "\\910",
          "\\911",
          "\\912",
          "\\913",
          "\\914",
          "\\915",
          "\\916",
          "\\917",
          "\\918",
          "\\919",
          "\\920",
          "\\921",
          "\\922",
          "\\923",
          "\\924",
          "\\925",
          "\\926",
          "\\927",
          "\\928",
          "\\929",
          "\\930",
          "\\931",
          "\\932",
          "\\933",
          "\\934",
          "\\935",
          "\\936",
          "\\937",
          "\\938",
          "\\939",
          "\\940",
          "\\941",
          "\\942",
          "\\943",
          "\\944",
          "\\945",
          "\\946",
          "\\947",
          "\\948",
          "\\949",
          "\\950",
          "\\951",
          "\\952",
          "\\953",
          "\\954",
          "\\955",
          "\\956",
          "\\957",
          "\\958",
          "\\959",
          "\\960",
          "\\961",
          "\\962",
          "\\963",
          "\\964",
          "\\965",
          "\\966",
          "\\967",
          "\\968",
          "\\969",
          "\\970",
          "\\971",
          "\\972",
          "\\973",
          "\\974",
          "\\975",
          "\\976",
          "\\977",
          "\\978",
          "\\979",
          "\\980",
          "\\981",
          "\\982",
          "\\983",
          "\\984",
          "\\985",
          "\\986",
          "\\987",
          "\\988",
          "\\989",
          "\\990",
          "\\991",
          "\\992",
          "\\993",
          "\\994",
          "\\995",
          "\\996",
          "\\997",
          "\\998",
          "\\999",
          "all"
         ],
         "marker": {
          "coloraxis": "coloraxis",
          "colors": [
           82264.6,
           659465.4285714285,
           436400.6666666667,
           111729.375,
           222091.8,
           855868.7142857143,
           90034.28571428571,
           92130,
           677247.125,
           852482,
           233922,
           519230.8461538461,
           395517.8181818182,
           567838.5,
           466646.2,
           77697.5,
           240534.3,
           387790.3076923077,
           451739.6,
           1121952.9,
           1470366.1666666667,
           180966.72727272726,
           129145.33333333333,
           156296.25,
           8855716.285714285,
           390346.75,
           73091,
           313101,
           794838.625,
           1693067.3333333333,
           150496.16666666666,
           310283.3333333333,
           58316.75,
           243592.625,
           66653,
           134336.57142857142,
           394347,
           223948.1,
           229722.4,
           243061.92307692306,
           519212.4285714286,
           180570.625,
           619313.2222222222,
           413664,
           227584.14285714287,
           186810.46666666667,
           633648.1666666666,
           266888.86666666664,
           95792.63636363637,
           1133203.5714285714,
           514915.85714285716,
           18995.5,
           111988,
           120799.9,
           952035.4545454546,
           399197.7272727273,
           171244.66666666666,
           62223.333333333336,
           383332.4,
           228352.5,
           142316.625,
           476890.9166666667,
           87157,
           314893.0833333333,
           344131.625,
           307347.3333333333,
           707458.6363636364,
           851888.5,
           115563.42857142857,
           320381.6923076923,
           487146.2,
           51940.769230769234,
           485351.22222222225,
           302539.8125,
           135238.83333333334,
           118132,
           85985.33333333333,
           557246.4444444445,
           312081.3,
           1943808.6363636365,
           84079.5,
           123048.5,
           287089.9090909091,
           435636.71428571426,
           1258363.111111111,
           633831.8,
           203059.2857142857,
           142092.5,
           896257.5555555555,
           1322911.375,
           1335131.3,
           891867.25,
           170899.2,
           599102.125,
           120525.44444444444,
           405227.8,
           88263.44444444444,
           528982.3333333334,
           646079.1428571428,
           118041.57142857143,
           311975.75,
           142263.18181818182,
           143787.25,
           204990.7142857143,
           286798.23076923075,
           196037,
           879339,
           164508.75,
           77876.625,
           159500.86666666667,
           579694.6666666666,
           95951.875,
           159859.125,
           69161.16666666667,
           51094.833333333336,
           415563.875,
           301279.6,
           321207.6666666667,
           1323183.2857142857,
           45913.46153846154,
           270019.4666666667,
           265492.55555555556,
           535960.7272727273,
           863484,
           797117.1111111111,
           2239609.625,
           1040713.6666666666,
           449508.3846153846,
           142616.33333333334,
           82628.33333333333,
           70687.8,
           711097,
           120913.6,
           67971.83333333333,
           664413.0833333334,
           69578,
           86850.66666666667,
           664501.2,
           371234.9166666667,
           286239.8333333333,
           283920.21428571426,
           194857.55555555556,
           1948858.7,
           411875.9375,
           131024.1,
           1240023.1666666667,
           1919081.2,
           5991747.714285715,
           450557.25,
           196279.88888888888,
           84685.33333333333,
           429243.9090909091,
           152919.75,
           3048281.1818181816,
           659560.2307692308,
           636590.6,
           1518578.4,
           517675.2,
           324920,
           215633.14285714287,
           262863.3333333333,
           33893,
           399374.8181818182,
           341135.6,
           745675.3333333334,
           111899.875,
           927999.4285714285,
           514768.75,
           201681,
           739354.2857142857,
           385598.77777777775,
           444738,
           237869.88888888888,
           351735.2,
           496873.44444444444,
           31772.85714285714,
           4609712.7,
           1034973.4545454546,
           369456.8,
           210748.9,
           290487.875,
           229527.42857142858,
           51787.666666666664,
           542117,
           76411.125,
           365515.76470588235,
           646866.9090909091,
           143441.5,
           967924.25,
           164172.66666666666,
           219746.7,
           18037495.1,
           227540.75,
           317009.14285714284,
           274971,
           987479.75,
           301193.5,
           101495.33333333333,
           811944.5384615385,
           73451.4,
           1345565.7777777778,
           251614,
           1096546.6666666667,
           431359.75,
           3955460.4,
           627665.8,
           323976.8947368421,
           899844.2727272727,
           308721.6666666667,
           2179562.1818181816,
           447372.53846153844,
           334415.4,
           479544.3076923077,
           373237.25,
           124387.07142857143,
           212937,
           336162.1111111111,
           805930.2,
           1007785.8181818182,
           110334.33333333333,
           108512.71428571429,
           376723.2,
           1497978,
           314229.6,
           319193,
           269265.45454545453,
           271473.7272727273,
           286899.1538461539,
           553817.1666666666,
           618783.6666666666,
           121722.5,
           281586.375,
           272788.5,
           141410.36363636365,
           203717.625,
           427944.44444444444,
           172083.38461538462,
           1098072.5,
           1274146.5833333333,
           77147,
           218852.6,
           70625,
           59533.4,
           745071.5833333334,
           194427,
           322596,
           72925.16666666667,
           2543764.3846153845,
           312972.4285714286,
           283720.28571428574,
           50109.5,
           181153.25,
           565069.5,
           535538,
           183020.61538461538,
           79194.42857142857,
           154882.91666666666,
           39908.11111111111,
           131844.42857142858,
           321197,
           111013.42857142857,
           434162.4,
           90769.5,
           2294314.8333333335,
           267388.5263157895,
           1242944.6666666667,
           170351.66666666666,
           160899.75,
           157582.25,
           309287.14285714284,
           161825.8,
           311339.5,
           190323.4,
           414816.2,
           248772.7142857143,
           345731.3,
           97555.28571428571,
           53278,
           700777,
           229784.875,
           84228.5,
           63807.6,
           206102.33333333334,
           27988.428571428572,
           108029.6,
           1524874.4545454546,
           49962.666666666664,
           433517.6666666667,
           262892.93333333335,
           483147.5,
           236032.91666666666,
           254996.375,
           166214.5,
           698501.5454545454,
           235419.5,
           248642.42857142858,
           215001.44444444444,
           157002,
           556012.3636363636,
           60821.6,
           205879,
           190847,
           316088.6666666667,
           357685.4166666667,
           208570.9,
           224455.42857142858,
           181148.72727272726,
           559202.1666666666,
           720387.75,
           1543371.2727272727,
           254258.25,
           313547.44444444444,
           139828.61538461538,
           221811.92857142858,
           221476.63636363635,
           756023.5714285715,
           169965.66666666666,
           298461.1666666667,
           223153.625,
           145830.11111111112,
           1521286.7857142857,
           908429.6428571428,
           29783.166666666668,
           282907.3,
           194726.33333333334,
           48299.333333333336,
           426837.36363636365,
           45101.125,
           83362.44444444444,
           334605.4,
           1120738.2,
           284221.92307692306,
           160784.9,
           661870,
           266569.6666666667,
           457866.4285714286,
           397288.7272727273,
           418877.4166666667,
           78152.22222222222,
           878978.6666666666,
           198017.85714285713,
           480675.71428571426,
           156218.33333333334,
           153052.5,
           284683.21428571426,
           73003,
           824430.7692307692,
           273601.875,
           207661.33333333334,
           147662.63636363635,
           91365.5,
           222031.625,
           348483,
           468990.71428571426,
           283868.8333333333,
           110620,
           41095.833333333336,
           104525.625,
           221018.66666666666,
           54784,
           207522.18181818182,
           278387,
           741059.1818181818,
           388880.63636363635,
           622970.1666666666,
           142546.0588235294,
           313808.6666666667,
           141446.55555555556,
           383594.85714285716,
           205384.0909090909,
           375779.1111111111,
           234557.875,
           698891.75,
           168290.5,
           361267,
           452577.9,
           174224.75,
           1630039.5714285714,
           239501.4,
           87880.33333333333,
           42683.3,
           372412.14285714284,
           982633,
           187491.44444444444,
           232229.6923076923,
           1037241.8571428572,
           238668.9,
           323742.77777777775,
           346266.71428571426,
           303748.8,
           41871.454545454544,
           382440.36363636365,
           284994.125,
           715397,
           34228.42857142857,
           591497.25,
           275742.6666666667,
           247695.75,
           96613.375,
           117704.33333333333,
           292979.9166666667,
           158428.44444444444,
           79620.30769230769,
           252417,
           460383.77777777775,
           372187,
           47011.88888888889,
           90786.33333333333,
           462515,
           1001635,
           152534.42857142858,
           180479,
           329725.63636363635,
           202616.4,
           171605.2,
           113433.21428571429,
           80237.7,
           139657.125,
           10002.727272727272,
           25385.5,
           24142.75,
           51169.22222222222,
           200025.1,
           545335.125,
           380171.6666666667,
           299700.9,
           561893.1,
           130870,
           171377.2857142857,
           455997.6923076923,
           753738.0909090909,
           200787.5,
           182311.75,
           231190.8,
           2380415.25,
           722610.875,
           167891.4,
           576320.1428571428,
           385040.55555555556,
           291566.6666666667,
           162847,
           302176.36363636365,
           85540.2,
           52874.333333333336,
           872700.6,
           327935.07692307694,
           32250.1,
           36650.5,
           251359.9090909091,
           942807.8,
           468002.4285714286,
           124708.66666666667,
           151731.54545454544,
           330382.6,
           358452,
           1157898.4545454546,
           13824.076923076924,
           36859,
           389173.1818181818,
           94547.07692307692,
           515099.6666666667,
           354011.3333333333,
           331013,
           151242,
           64390.625,
           568332.7777777778,
           1048846.375,
           928334.3076923077,
           2049146.875,
           183859.07692307694,
           1454192.923076923,
           89579.6,
           2719809.8571428573,
           111727.875,
           203104.0909090909,
           101704.54545454546,
           49457.333333333336,
           450478,
           60899.833333333336,
           303793.3333333333,
           1193408.7777777778,
           612367.7058823529,
           124362.14285714286,
           204938.14285714287,
           1537462.8181818181,
           1490259,
           699607.2,
           298378.6,
           1528136.111111111,
           230876.375,
           836150.9411764706,
           791213.0909090909,
           490272,
           144432.3125,
           183784,
           203902.7,
           312042.4166666667,
           413284.375,
           743915.4285714285,
           924087.4545454546,
           221445.44444444444,
           401005.53846153844,
           118597,
           185615.82352941178,
           56060.875,
           498718.8,
           302302.4285714286,
           221998.6,
           205831.29411764705,
           810605.3333333334,
           808976.4666666667,
           599827.4,
           867194.8461538461,
           1144020.142857143,
           490309.4285714286,
           50397.11111111111,
           218747.6,
           723245.4666666667,
           789309.6666666666,
           119373.875,
           85714.88888888889,
           83806,
           120954.5,
           252158.44444444444,
           467526.8181818182,
           883272.6,
           526734.5,
           286594.28571428574,
           905363.3333333334,
           285760.7272727273,
           384110.77777777775,
           624797.8666666667,
           363061.5,
           104059.88888888889,
           352084.44444444444,
           412876.93333333335,
           1138889.3333333333,
           232582.75,
           143645,
           276097.5,
           1003152.625,
           24813.75,
           154201.44444444444,
           1532753.625,
           51245.75,
           197622.8,
           871726.7272727273,
           161914.88888888888,
           532003,
           452268.92307692306,
           26917.8,
           156132.7142857143,
           213807.77777777778,
           657949.4444444445,
           238049,
           266271.3333333333,
           466257.3333333333,
           181537.11111111112,
           134722.33333333334,
           822756.6153846154,
           34507.5,
           799998.7272727273,
           457952,
           52475.882352941175,
           58484.166666666664,
           687277.4545454546,
           91147.11111111111,
           241772.1,
           24559.333333333332,
           34848.1875,
           56820.125,
           353023.44444444444,
           219681.42857142858,
           25772.363636363636,
           67169.33333333333,
           58946.38461538462,
           1026189.6153846154,
           199231.9,
           827695,
           2044552.875,
           346136.6,
           430934.8333333333,
           153412.6,
           92031.18181818182,
           225879.5,
           368382.14285714284,
           108294.85714285714,
           836102.2142857143,
           350676.1666666667,
           164388.86666666667,
           211729.8,
           260865.55555555556,
           100236.91666666667,
           63515.75,
           284725.75,
           1179186.5,
           492803.2727272727,
           1591445.1538461538,
           2087013.5,
           117086.23076923077,
           59844.333333333336,
           33123,
           997022.25,
           3746521.727272727,
           223076.33333333334,
           227161.1875,
           410827.1666666667,
           93424.7,
           392661.3076923077,
           1629237.105263158,
           761770.4,
           395542.8461538461,
           109582.375,
           310404,
           2502469.25,
           1945820,
           64555.444444444445,
           618072.1666666666,
           24434.6,
           750421.8,
           46173,
           181617.7142857143,
           239208.8,
           1095262.6923076923,
           1102783.5,
           276527.1666666667,
           771588.8888888889,
           70402,
           54714.666666666664,
           37022.2,
           929505,
           96159.83333333333,
           345237.4285714286,
           349101.8888888889,
           86325.66666666667,
           154573.25,
           249835.72727272726,
           1570416.4615384615,
           187761.83333333334,
           544875.4285714285,
           589296.8333333334,
           618585.4615384615,
           678132,
           40060.25,
           665425.4375,
           131501.83333333334,
           58521.666666666664,
           1026008.6153846154,
           344550.54545454547,
           56040,
           344924,
           80155.88888888889,
           145209,
           1279785.875,
           90474.3,
           509195.2727272727,
           171336.2857142857,
           74650.75,
           126001.11111111111,
           511449.3,
           95140,
           223959,
           355431.07692307694,
           356463.5714285714,
           1434175.5714285714,
           332017,
           374196.125,
           656461.8888888889,
           347210.22222222225,
           310915.4,
           1663885.375,
           107487.93333333333,
           1318898.5833333333,
           126422.5,
           724396.2142857143,
           418189.9090909091,
           43936.555555555555,
           262906.3333333333,
           299744.25,
           202159.36363636365,
           215784.14285714287,
           229785,
           53471.454545454544,
           32276.333333333332,
           60837.09090909091,
           177995.9,
           629105.1666666666,
           456197.6153846154,
           89323.57142857143,
           285393.28571428574,
           142733.58823529413,
           642612.2,
           71949,
           534607.3333333334,
           1231040.5714285714,
           607432.3571428572,
           506331.8,
           62480.818181818184,
           336081.125,
           276812.0909090909,
           990285.25,
           164529.6,
           331535.55555555556,
           601564.125,
           307252,
           92741.5,
           137354,
           578045.4545454546,
           211432.73333333334,
           301597.6,
           513975,
           742555.1111111111,
           472725.9090909091,
           107287.30769230769,
           1101969.7142857143,
           501359.4285714286,
           246380,
           815557.5,
           269103.6666666667,
           189247.6,
           323964,
           403468.44444444444,
           125007.44444444444,
           200282.81818181818,
           366386.85714285716,
           97766.46666666666,
           483649.3333333333,
           485244.5714285714,
           29736.833333333332,
           24375.166666666668,
           109570.7,
           855338.5833333334,
           399808.9375,
           122319.625,
           389420.75,
           87029.36363636363,
           360124.85714285716,
           72675.625,
           864555.6363636364,
           158746.44444444444,
           448568.4285714286,
           270263.6666666667,
           908976,
           50496.166666666664,
           28092,
           74272.3,
           648100.0833333334,
           858933.4444444445,
           197513.125,
           162298.375,
           1284570.2,
           221925.5,
           57994.5,
           538058.8125,
           156511.33333333334,
           135464.76923076922,
           199431.88888888888,
           805496.2222222222,
           187443,
           965413.625,
           238759.6,
           209927.81818181818,
           317684.5714285714,
           214482.45454545456,
           64523.4,
           158161,
           197017.6,
           412354,
           226645,
           503911.8333333333,
           659237.3846153846,
           105561,
           409298.2,
           725779,
           499382.53846153844,
           185493.375,
           635363.6666666666,
           82546.5,
           215249.25,
           420002.82352941175,
           489857,
           365776.9090909091,
           219009.7,
           405252.55555555556,
           1812208.1666666667,
           424522.14285714284,
           192624,
           139650.1,
           764030.4285714285,
           714460.9,
           11005.333333333334,
           295040.4285714286,
           248862.2142857143,
           70522.72727272728,
           129480.28571428571,
           445553.9285714286,
           79909.5,
           51697.72727272727,
           742917.2142857143,
           221931.83333333334,
           248697.58333333334,
           478963.0909090909,
           1198934.4545454546,
           101863,
           295131.75,
           210860.83333333334,
           703437,
           98737.5,
           284847.4375,
           602031,
           109439.77777777778,
           144015.18181818182,
           316071.6,
           223705,
           745083.3,
           104728.6,
           324297.1538461539,
           202107.66666666666,
           371769,
           148622.3,
           529691.5,
           271761,
           165407.14285714287,
           252164.5,
           334114.22222222225,
           204034.625,
           43114.333333333336,
           187488.85714285713,
           717871,
           126813.75,
           193056.625,
           306949.3333333333,
           192126.5,
           379288.5,
           1342162.75,
           465915.5714285714,
           112459.125,
           355071.77777777775,
           250844.5294117647,
           575894.4,
           200489.25,
           152138.61538461538,
           247425.07692307694,
           225421.5,
           328714.5,
           93270.75,
           400379.22222222225,
           72559.75,
           641192.3333333334,
           305369.125,
           150986.5,
           201090.55555555556,
           96542,
           291581.4285714286,
           258842.875,
           728598.4,
           804336.2,
           234478.0909090909,
           439103.46153846156,
           430667.8333333333,
           229937.1,
           98564.75,
           229729.625,
           382576.28571428574,
           362709.25,
           741074.6,
           272512,
           316337.5,
           120995.90909090909,
           292359.1666666667,
           41728.333333333336,
           767668.0909090909,
           103247,
           732769.75,
           315611.85714285716,
           379987.0833333333,
           1163808.5,
           1343195.0833333333,
           125836.9,
           226904.42857142858,
           261175.11111111112,
           500989.8,
           108214.75,
           596733.1111111111,
           514674.8888888889,
           1090303,
           683281.9166666666,
           507415.7272727273,
           315657.8181818182,
           1020834.1428571428,
           220649.36363636365,
           161472.57142857142,
           678012.6428571428,
           113874,
           265208.14285714284,
           461246,
           506321.25,
           856076.0833333334,
           313530.6666666667,
           213999.45454545456,
           1013597.8571428572,
           420073.625,
           273659.625,
           380345.3,
           229242.875,
           189230,
           215936.6,
           289731.70588235295,
           406637,
           233888.72727272726,
           136186.08333333334,
           721515.7,
           263388.6,
           629074.6666666666,
           431628.8,
           137787.36363636365,
           98751.28571428571,
           214828.4,
           326806.5,
           1135912.7142857143,
           117051.6,
           840341,
           429892.6,
           1839266.375,
           694345,
           365194.07692307694,
           867101.5384615385,
           189650.42857142858,
           2373581.5,
           619707.4285714285,
           45590.333333333336,
           82154.75,
           336097.4,
           365762,
           944953.7142857143,
           705829.8181818182,
           114008.5,
           1290459.1666666667,
           424023.5,
           661037,
           399142.3846153846,
           124028.92307692308,
           526980.9230769231,
           1242747.6363636365,
           56754.71428571428,
           378111.5,
           409354.3125,
           1207534.076923077,
           280825,
           179111,
           216529.76923076922,
           292210.28571428574,
           57896.444444444445,
           245500.11111111112,
           140213.16666666666,
           368336.4375,
           423297.25,
           261991.11111111112,
           345940,
           33916.625,
           184387,
           172118.25,
           99515.28571428571,
           68816,
           304020.4666666667,
           103506.2,
           155927.6,
           1130736.625,
           905523.1,
           84070.2,
           68653.75,
           100658.45454545454,
           106515.13333333333,
           205197.75,
           1627126.6666666667,
           69362.78571428571,
           263379.55555555556,
           147791,
           42666.42857142857,
           71910.125,
           118960.72727272728,
           101956.75,
           439863.28571428574,
           133980,
           263305.75,
           353081.5333333333,
           198905,
           483713.7,
           56456.583333333336,
           618370.2,
           253125.16666666666,
           704401.5555555555,
           213555.61538461538,
           131108.66666666666,
           41820.9,
           333844.07692307694,
           246180.7142857143,
           235716.55555555556,
           124274.41666666667,
           1215435.375,
           460230.35297691374
          ]
         },
         "name": "",
         "parents": [
          "all",
          "all",
          "all",
          "all",
          "all",
          "all",
          "all",
          "all",
          "all",
          "all",
          "all",
          "all",
          "all",
          "all",
          "all",
          "all",
          "all",
          "all",
          "all",
          "all",
          "all",
          "all",
          "all",
          "all",
          "all",
          "all",
          "all",
          "all",
          "all",
          "all",
          "all",
          "all",
          "all",
          "all",
          "all",
          "all",
          "all",
          "all",
          "all",
          "all",
          "all",
          "all",
          "all",
          "all",
          "all",
          "all",
          "all",
          "all",
          "all",
          "all",
          "all",
          "all",
          "all",
          "all",
          "all",
          "all",
          "all",
          "all",
          "all",
          "all",
          "all",
          "all",
          "all",
          "all",
          "all",
          "all",
          "all",
          "all",
          "all",
          "all",
          "all",
          "all",
          "all",
          "all",
          "all",
          "all",
          "all",
          "all",
          "all",
          "all",
          "all",
          "all",
          "all",
          "all",
          "all",
          "all",
          "all",
          "all",
          "all",
          "all",
          "all",
          "all",
          "all",
          "all",
          "all",
          "all",
          "all",
          "all",
          "all",
          "all",
          "all",
          "all",
          "all",
          "all",
          "all",
          "all",
          "all",
          "all",
          "all",
          "all",
          "all",
          "all",
          "all",
          "all",
          "all",
          "all",
          "all",
          "all",
          "all",
          "all",
          "all",
          "all",
          "all",
          "all",
          "all",
          "all",
          "all",
          "all",
          "all",
          "all",
          "all",
          "all",
          "all",
          "all",
          "all",
          "all",
          "all",
          "all",
          "all",
          "all",
          "all",
          "all",
          "all",
          "all",
          "all",
          "all",
          "all",
          "all",
          "all",
          "all",
          "all",
          "all",
          "all",
          "all",
          "all",
          "all",
          "all",
          "all",
          "all",
          "all",
          "all",
          "all",
          "all",
          "all",
          "all",
          "all",
          "all",
          "all",
          "all",
          "all",
          "all",
          "all",
          "all",
          "all",
          "all",
          "all",
          "all",
          "all",
          "all",
          "all",
          "all",
          "all",
          "all",
          "all",
          "all",
          "all",
          "all",
          "all",
          "all",
          "all",
          "all",
          "all",
          "all",
          "all",
          "all",
          "all",
          "all",
          "all",
          "all",
          "all",
          "all",
          "all",
          "all",
          "all",
          "all",
          "all",
          "all",
          "all",
          "all",
          "all",
          "all",
          "all",
          "all",
          "all",
          "all",
          "all",
          "all",
          "all",
          "all",
          "all",
          "all",
          "all",
          "all",
          "all",
          "all",
          "all",
          "all",
          "all",
          "all",
          "all",
          "all",
          "all",
          "all",
          "all",
          "all",
          "all",
          "all",
          "all",
          "all",
          "all",
          "all",
          "all",
          "all",
          "all",
          "all",
          "all",
          "all",
          "all",
          "all",
          "all",
          "all",
          "all",
          "all",
          "all",
          "all",
          "all",
          "all",
          "all",
          "all",
          "all",
          "all",
          "all",
          "all",
          "all",
          "all",
          "all",
          "all",
          "all",
          "all",
          "all",
          "all",
          "all",
          "all",
          "all",
          "all",
          "all",
          "all",
          "all",
          "all",
          "all",
          "all",
          "all",
          "all",
          "all",
          "all",
          "all",
          "all",
          "all",
          "all",
          "all",
          "all",
          "all",
          "all",
          "all",
          "all",
          "all",
          "all",
          "all",
          "all",
          "all",
          "all",
          "all",
          "all",
          "all",
          "all",
          "all",
          "all",
          "all",
          "all",
          "all",
          "all",
          "all",
          "all",
          "all",
          "all",
          "all",
          "all",
          "all",
          "all",
          "all",
          "all",
          "all",
          "all",
          "all",
          "all",
          "all",
          "all",
          "all",
          "all",
          "all",
          "all",
          "all",
          "all",
          "all",
          "all",
          "all",
          "all",
          "all",
          "all",
          "all",
          "all",
          "all",
          "all",
          "all",
          "all",
          "all",
          "all",
          "all",
          "all",
          "all",
          "all",
          "all",
          "all",
          "all",
          "all",
          "all",
          "all",
          "all",
          "all",
          "all",
          "all",
          "all",
          "all",
          "all",
          "all",
          "all",
          "all",
          "all",
          "all",
          "all",
          "all",
          "all",
          "all",
          "all",
          "all",
          "all",
          "all",
          "all",
          "all",
          "all",
          "all",
          "all",
          "all",
          "all",
          "all",
          "all",
          "all",
          "all",
          "all",
          "all",
          "all",
          "all",
          "all",
          "all",
          "all",
          "all",
          "all",
          "all",
          "all",
          "all",
          "all",
          "all",
          "all",
          "all",
          "all",
          "all",
          "all",
          "all",
          "all",
          "all",
          "all",
          "all",
          "all",
          "all",
          "all",
          "all",
          "all",
          "all",
          "all",
          "all",
          "all",
          "all",
          "all",
          "all",
          "all",
          "all",
          "all",
          "all",
          "all",
          "all",
          "all",
          "all",
          "all",
          "all",
          "all",
          "all",
          "all",
          "all",
          "all",
          "all",
          "all",
          "all",
          "all",
          "all",
          "all",
          "all",
          "all",
          "all",
          "all",
          "all",
          "all",
          "all",
          "all",
          "all",
          "all",
          "all",
          "all",
          "all",
          "all",
          "all",
          "all",
          "all",
          "all",
          "all",
          "all",
          "all",
          "all",
          "all",
          "all",
          "all",
          "all",
          "all",
          "all",
          "all",
          "all",
          "all",
          "all",
          "all",
          "all",
          "all",
          "all",
          "all",
          "all",
          "all",
          "all",
          "all",
          "all",
          "all",
          "all",
          "all",
          "all",
          "all",
          "all",
          "all",
          "all",
          "all",
          "all",
          "all",
          "all",
          "all",
          "all",
          "all",
          "all",
          "all",
          "all",
          "all",
          "all",
          "all",
          "all",
          "all",
          "all",
          "all",
          "all",
          "all",
          "all",
          "all",
          "all",
          "all",
          "all",
          "all",
          "all",
          "all",
          "all",
          "all",
          "all",
          "all",
          "all",
          "all",
          "all",
          "all",
          "all",
          "all",
          "all",
          "all",
          "all",
          "all",
          "all",
          "all",
          "all",
          "all",
          "all",
          "all",
          "all",
          "all",
          "all",
          "all",
          "all",
          "all",
          "all",
          "all",
          "all",
          "all",
          "all",
          "all",
          "all",
          "all",
          "all",
          "all",
          "all",
          "all",
          "all",
          "all",
          "all",
          "all",
          "all",
          "all",
          "all",
          "all",
          "all",
          "all",
          "all",
          "all",
          "all",
          "all",
          "all",
          "all",
          "all",
          "all",
          "all",
          "all",
          "all",
          "all",
          "all",
          "all",
          "all",
          "all",
          "all",
          "all",
          "all",
          "all",
          "all",
          "all",
          "all",
          "all",
          "all",
          "all",
          "all",
          "all",
          "all",
          "all",
          "all",
          "all",
          "all",
          "all",
          "all",
          "all",
          "all",
          "all",
          "all",
          "all",
          "all",
          "all",
          "all",
          "all",
          "all",
          "all",
          "all",
          "all",
          "all",
          "all",
          "all",
          "all",
          "all",
          "all",
          "all",
          "all",
          "all",
          "all",
          "all",
          "all",
          "all",
          "all",
          "all",
          "all",
          "all",
          "all",
          "all",
          "all",
          "all",
          "all",
          "all",
          "all",
          "all",
          "all",
          "all",
          "all",
          "all",
          "all",
          "all",
          "all",
          "all",
          "all",
          "all",
          "all",
          "all",
          "all",
          "all",
          "all",
          "all",
          "all",
          "all",
          "all",
          "all",
          "all",
          "all",
          "all",
          "all",
          "all",
          "all",
          "all",
          "all",
          "all",
          "all",
          "all",
          "all",
          "all",
          "all",
          "all",
          "all",
          "all",
          "all",
          "all",
          "all",
          "all",
          "all",
          "all",
          "all",
          "all",
          "all",
          "all",
          "all",
          "all",
          "all",
          "all",
          "all",
          "all",
          "all",
          "all",
          "all",
          "all",
          "all",
          "all",
          "all",
          "all",
          "all",
          "all",
          "all",
          "all",
          "all",
          "all",
          "all",
          "all",
          "all",
          "all",
          "all",
          "all",
          "all",
          "all",
          "all",
          "all",
          "all",
          "all",
          "all",
          "all",
          "all",
          "all",
          "all",
          "all",
          "all",
          "all",
          "all",
          "all",
          "all",
          "all",
          "all",
          "all",
          "all",
          "all",
          "all",
          "all",
          "all",
          "all",
          "all",
          "all",
          "all",
          "all",
          "all",
          "all",
          "all",
          "all",
          "all",
          "all",
          "all",
          "all",
          "all",
          "all",
          "all",
          "all",
          "all",
          "all",
          "all",
          "all",
          "all",
          "all",
          "all",
          "all",
          "all",
          "all",
          "all",
          "all",
          "all",
          "all",
          "all",
          "all",
          "all",
          "all",
          "all",
          "all",
          "all",
          "all",
          "all",
          "all",
          "all",
          "all",
          "all",
          "all",
          "all",
          "all",
          "all",
          "all",
          "all",
          "all",
          "all",
          "all",
          "all",
          "all",
          "all",
          "all",
          "all",
          "all",
          "all",
          "all",
          "all",
          "all",
          "all",
          "all",
          "all",
          "all",
          "all",
          "all",
          "all",
          "all",
          "all",
          "all",
          "all",
          "all",
          "all",
          "all",
          "all",
          "all",
          "all",
          "all",
          "all",
          "all",
          "all",
          "all",
          "all",
          "all",
          "all",
          "all",
          "all",
          "all",
          "all",
          "all",
          "all",
          "all",
          "all",
          "all",
          "all",
          "all",
          "all",
          "all",
          "all",
          "all",
          "all",
          "all",
          "all",
          "all",
          "all",
          "all",
          "all",
          "all",
          "all",
          "all",
          "all",
          "all",
          "all",
          "all",
          "all",
          "all",
          "all",
          "all",
          "all",
          "all",
          "all",
          "all",
          "all",
          "all",
          "all",
          "all",
          "all",
          "all",
          "all",
          "all",
          "all",
          "all",
          "all",
          "all",
          "all",
          "all",
          "all",
          "all",
          "all",
          "all",
          "all",
          "all",
          "all",
          "all",
          "all",
          "all",
          "all",
          "all",
          "all",
          "all",
          "all",
          "all",
          "all",
          "all",
          "all",
          "all",
          "all",
          "all",
          "all",
          "all",
          "all",
          "all",
          "all",
          "all",
          "all",
          "all",
          "all",
          "all",
          "all",
          "all",
          "all",
          "all",
          "all",
          "all",
          "all",
          "all",
          "all",
          "all",
          "all",
          "all",
          "all",
          "all",
          "all",
          "all",
          "all",
          "all",
          "all",
          "all",
          "all",
          "all",
          "all",
          "all",
          "all",
          "all",
          "all",
          "all",
          "all",
          "all",
          "all",
          "all",
          "all",
          "all",
          "all",
          "all",
          "all",
          "all",
          "all",
          "all",
          "all",
          "all",
          "all",
          "all",
          "all",
          "all",
          "all",
          "all",
          "all",
          "all",
          "all",
          "all",
          "all",
          "all",
          "all",
          "all",
          "all",
          "all",
          "all",
          "all",
          "all",
          "all",
          "all",
          "all",
          "all",
          "all",
          "all",
          "all",
          "all",
          "all",
          "all",
          "all",
          "all",
          "all",
          "all",
          "all",
          "all",
          "all",
          "all",
          "all",
          "all",
          "all",
          "all",
          "all",
          "all",
          "all",
          "all",
          "all",
          ""
         ],
         "root": {
          "color": "lightgrey"
         },
         "type": "treemap",
         "values": [
          10,
          14,
          9,
          8,
          10,
          7,
          14,
          11,
          8,
          12,
          4,
          13,
          11,
          8,
          10,
          8,
          10,
          13,
          5,
          10,
          6,
          11,
          9,
          8,
          7,
          16,
          14,
          11,
          8,
          9,
          6,
          9,
          8,
          8,
          2,
          7,
          9,
          10,
          5,
          13,
          14,
          8,
          9,
          9,
          14,
          15,
          6,
          15,
          11,
          14,
          7,
          8,
          15,
          10,
          11,
          11,
          6,
          6,
          10,
          8,
          8,
          12,
          11,
          12,
          16,
          3,
          11,
          6,
          7,
          13,
          10,
          13,
          9,
          16,
          6,
          7,
          9,
          9,
          10,
          11,
          6,
          6,
          11,
          7,
          9,
          10,
          7,
          10,
          9,
          8,
          10,
          8,
          10,
          8,
          9,
          5,
          9,
          9,
          7,
          7,
          8,
          11,
          8,
          14,
          13,
          5,
          8,
          8,
          8,
          15,
          9,
          8,
          16,
          6,
          6,
          8,
          15,
          9,
          7,
          13,
          15,
          9,
          22,
          8,
          9,
          8,
          9,
          13,
          9,
          12,
          10,
          8,
          15,
          6,
          12,
          10,
          9,
          10,
          12,
          6,
          14,
          9,
          10,
          16,
          10,
          12,
          10,
          7,
          8,
          9,
          6,
          11,
          4,
          11,
          13,
          5,
          10,
          10,
          7,
          7,
          9,
          3,
          11,
          10,
          9,
          8,
          7,
          8,
          13,
          7,
          9,
          11,
          9,
          5,
          9,
          7,
          10,
          11,
          10,
          10,
          8,
          14,
          6,
          12,
          8,
          17,
          11,
          2,
          8,
          9,
          10,
          10,
          12,
          7,
          7,
          12,
          6,
          6,
          13,
          5,
          9,
          12,
          12,
          8,
          15,
          10,
          19,
          11,
          12,
          11,
          13,
          15,
          13,
          12,
          14,
          19,
          9,
          10,
          11,
          9,
          7,
          10,
          4,
          10,
          10,
          11,
          11,
          13,
          12,
          9,
          10,
          8,
          4,
          11,
          8,
          9,
          13,
          10,
          12,
          10,
          10,
          4,
          5,
          12,
          8,
          5,
          6,
          13,
          7,
          14,
          8,
          8,
          12,
          11,
          13,
          7,
          12,
          9,
          7,
          11,
          7,
          15,
          10,
          6,
          19,
          12,
          12,
          8,
          4,
          14,
          10,
          14,
          5,
          10,
          7,
          10,
          14,
          2,
          8,
          8,
          8,
          5,
          15,
          7,
          10,
          11,
          12,
          12,
          15,
          8,
          12,
          8,
          10,
          11,
          10,
          14,
          9,
          9,
          11,
          5,
          10,
          10,
          9,
          12,
          10,
          7,
          11,
          6,
          8,
          11,
          8,
          9,
          13,
          14,
          11,
          7,
          6,
          6,
          8,
          9,
          14,
          14,
          6,
          10,
          6,
          6,
          11,
          8,
          9,
          10,
          5,
          13,
          10,
          7,
          15,
          7,
          11,
          12,
          9,
          9,
          14,
          14,
          6,
          12,
          14,
          9,
          13,
          8,
          12,
          11,
          10,
          8,
          10,
          7,
          12,
          7,
          6,
          8,
          9,
          1,
          11,
          6,
          11,
          11,
          6,
          17,
          9,
          9,
          7,
          11,
          9,
          8,
          8,
          10,
          10,
          10,
          8,
          7,
          10,
          9,
          10,
          7,
          5,
          9,
          13,
          14,
          10,
          9,
          7,
          10,
          11,
          11,
          8,
          8,
          7,
          4,
          6,
          16,
          8,
          12,
          12,
          9,
          13,
          10,
          9,
          15,
          9,
          15,
          10,
          7,
          7,
          11,
          11,
          15,
          10,
          14,
          10,
          8,
          11,
          6,
          4,
          9,
          10,
          8,
          12,
          10,
          10,
          12,
          14,
          13,
          11,
          8,
          8,
          5,
          8,
          16,
          20,
          7,
          9,
          12,
          9,
          11,
          5,
          6,
          10,
          13,
          10,
          4,
          11,
          10,
          7,
          9,
          11,
          5,
          12,
          11,
          13,
          6,
          11,
          13,
          12,
          15,
          12,
          10,
          8,
          9,
          8,
          13,
          8,
          13,
          13,
          15,
          7,
          8,
          11,
          11,
          18,
          14,
          12,
          12,
          9,
          17,
          7,
          7,
          11,
          7,
          10,
          5,
          9,
          8,
          17,
          11,
          5,
          16,
          10,
          10,
          12,
          8,
          7,
          11,
          9,
          13,
          11,
          17,
          8,
          5,
          7,
          5,
          17,
          15,
          15,
          10,
          13,
          7,
          7,
          9,
          5,
          15,
          6,
          8,
          9,
          10,
          10,
          9,
          11,
          10,
          12,
          14,
          6,
          11,
          9,
          15,
          6,
          9,
          9,
          15,
          9,
          12,
          4,
          14,
          8,
          4,
          9,
          8,
          8,
          5,
          11,
          9,
          4,
          13,
          5,
          7,
          9,
          9,
          6,
          9,
          9,
          9,
          12,
          13,
          14,
          11,
          12,
          17,
          6,
          11,
          9,
          10,
          3,
          16,
          8,
          9,
          7,
          11,
          12,
          13,
          13,
          10,
          8,
          8,
          10,
          12,
          15,
          11,
          8,
          7,
          14,
          14,
          6,
          15,
          10,
          9,
          12,
          8,
          12,
          4,
          11,
          13,
          10,
          13,
          9,
          7,
          12,
          11,
          6,
          16,
          6,
          10,
          13,
          19,
          10,
          13,
          8,
          8,
          12,
          9,
          9,
          12,
          10,
          5,
          5,
          7,
          10,
          13,
          12,
          6,
          9,
          12,
          3,
          5,
          5,
          6,
          7,
          9,
          3,
          8,
          11,
          13,
          6,
          7,
          6,
          13,
          14,
          12,
          16,
          6,
          6,
          13,
          11,
          6,
          3,
          9,
          9,
          8,
          10,
          11,
          7,
          8,
          9,
          10,
          8,
          8,
          13,
          14,
          7,
          10,
          8,
          9,
          9,
          5,
          16,
          15,
          12,
          8,
          14,
          11,
          9,
          6,
          16,
          11,
          7,
          12,
          11,
          6,
          11,
          10,
          12,
          13,
          7,
          14,
          17,
          5,
          7,
          9,
          14,
          14,
          10,
          11,
          8,
          11,
          8,
          10,
          9,
          16,
          10,
          8,
          11,
          11,
          15,
          10,
          9,
          9,
          11,
          13,
          7,
          14,
          10,
          12,
          9,
          10,
          9,
          9,
          9,
          11,
          7,
          15,
          15,
          7,
          6,
          6,
          10,
          12,
          16,
          8,
          16,
          11,
          7,
          8,
          11,
          9,
          7,
          12,
          6,
          12,
          6,
          10,
          12,
          9,
          8,
          8,
          5,
          10,
          8,
          16,
          6,
          13,
          9,
          9,
          13,
          8,
          15,
          11,
          14,
          11,
          10,
          17,
          10,
          5,
          10,
          6,
          13,
          4,
          15,
          5,
          13,
          8,
          9,
          10,
          12,
          17,
          16,
          11,
          10,
          9,
          6,
          7,
          10,
          10,
          14,
          10,
          3,
          14,
          14,
          11,
          14,
          14,
          6,
          11,
          14,
          12,
          12,
          11,
          11,
          8,
          8,
          6,
          7,
          6,
          16,
          8,
          9,
          11,
          10,
          6,
          10,
          5,
          13,
          12,
          13,
          10,
          8,
          8,
          7,
          10,
          9,
          8,
          9,
          7,
          10,
          12,
          8,
          12,
          6,
          8,
          12,
          7,
          8,
          9,
          17,
          10,
          20,
          13,
          13,
          10,
          6,
          8,
          9,
          8,
          9,
          8,
          10,
          9,
          12,
          7,
          8,
          10,
          10,
          11,
          13,
          6,
          10,
          8,
          8,
          7,
          8,
          10,
          11,
          16,
          11,
          12,
          6,
          11,
          9,
          12,
          7,
          12,
          8,
          12,
          10,
          7,
          9,
          5,
          12,
          9,
          9,
          15,
          12,
          11,
          11,
          7,
          11,
          7,
          14,
          6,
          14,
          10,
          8,
          12,
          3,
          11,
          14,
          8,
          8,
          10,
          8,
          15,
          5,
          17,
          9,
          11,
          12,
          10,
          15,
          9,
          10,
          11,
          7,
          10,
          4,
          7,
          5,
          6,
          10,
          8,
          10,
          13,
          13,
          7,
          10,
          7,
          9,
          16,
          5,
          7,
          7,
          11,
          12,
          6,
          8,
          9,
          13,
          13,
          13,
          11,
          7,
          10,
          16,
          13,
          9,
          7,
          13,
          7,
          9,
          9,
          6,
          16,
          12,
          9,
          13,
          8,
          10,
          8,
          7,
          7,
          15,
          10,
          10,
          16,
          10,
          5,
          8,
          11,
          15,
          16,
          12,
          14,
          9,
          7,
          7,
          8,
          11,
          8,
          14,
          12,
          8,
          15,
          7,
          10,
          12,
          10,
          18,
          9,
          13,
          12,
          10,
          13,
          14,
          9,
          12,
          16,
          9876
         ]
        }
       ],
       "layout": {
        "autosize": true,
        "coloraxis": {
         "colorbar": {
          "title": {
           "text": "bytes"
          }
         },
         "colorscale": [
          [
           0,
           "#0d0887"
          ],
          [
           0.1111111111111111,
           "#46039f"
          ],
          [
           0.2222222222222222,
           "#7201a8"
          ],
          [
           0.3333333333333333,
           "#9c179e"
          ],
          [
           0.4444444444444444,
           "#bd3786"
          ],
          [
           0.5555555555555556,
           "#d8576b"
          ],
          [
           0.6666666666666666,
           "#ed7953"
          ],
          [
           0.7777777777777778,
           "#fb9f3a"
          ],
          [
           0.8888888888888888,
           "#fdca26"
          ],
          [
           1,
           "#f0f921"
          ]
         ]
        },
        "legend": {
         "tracegroupgap": 0
        },
        "margin": {
         "b": 25,
         "l": 25,
         "r": 25,
         "t": 50
        },
        "template": {
         "data": {
          "bar": [
           {
            "error_x": {
             "color": "#2a3f5f"
            },
            "error_y": {
             "color": "#2a3f5f"
            },
            "marker": {
             "line": {
              "color": "#E5ECF6",
              "width": 0.5
             },
             "pattern": {
              "fillmode": "overlay",
              "size": 10,
              "solidity": 0.2
             }
            },
            "type": "bar"
           }
          ],
          "barpolar": [
           {
            "marker": {
             "line": {
              "color": "#E5ECF6",
              "width": 0.5
             },
             "pattern": {
              "fillmode": "overlay",
              "size": 10,
              "solidity": 0.2
             }
            },
            "type": "barpolar"
           }
          ],
          "carpet": [
           {
            "aaxis": {
             "endlinecolor": "#2a3f5f",
             "gridcolor": "white",
             "linecolor": "white",
             "minorgridcolor": "white",
             "startlinecolor": "#2a3f5f"
            },
            "baxis": {
             "endlinecolor": "#2a3f5f",
             "gridcolor": "white",
             "linecolor": "white",
             "minorgridcolor": "white",
             "startlinecolor": "#2a3f5f"
            },
            "type": "carpet"
           }
          ],
          "choropleth": [
           {
            "colorbar": {
             "outlinewidth": 0,
             "ticks": ""
            },
            "type": "choropleth"
           }
          ],
          "contour": [
           {
            "colorbar": {
             "outlinewidth": 0,
             "ticks": ""
            },
            "colorscale": [
             [
              0,
              "#0d0887"
             ],
             [
              0.1111111111111111,
              "#46039f"
             ],
             [
              0.2222222222222222,
              "#7201a8"
             ],
             [
              0.3333333333333333,
              "#9c179e"
             ],
             [
              0.4444444444444444,
              "#bd3786"
             ],
             [
              0.5555555555555556,
              "#d8576b"
             ],
             [
              0.6666666666666666,
              "#ed7953"
             ],
             [
              0.7777777777777778,
              "#fb9f3a"
             ],
             [
              0.8888888888888888,
              "#fdca26"
             ],
             [
              1,
              "#f0f921"
             ]
            ],
            "type": "contour"
           }
          ],
          "contourcarpet": [
           {
            "colorbar": {
             "outlinewidth": 0,
             "ticks": ""
            },
            "type": "contourcarpet"
           }
          ],
          "heatmap": [
           {
            "colorbar": {
             "outlinewidth": 0,
             "ticks": ""
            },
            "colorscale": [
             [
              0,
              "#0d0887"
             ],
             [
              0.1111111111111111,
              "#46039f"
             ],
             [
              0.2222222222222222,
              "#7201a8"
             ],
             [
              0.3333333333333333,
              "#9c179e"
             ],
             [
              0.4444444444444444,
              "#bd3786"
             ],
             [
              0.5555555555555556,
              "#d8576b"
             ],
             [
              0.6666666666666666,
              "#ed7953"
             ],
             [
              0.7777777777777778,
              "#fb9f3a"
             ],
             [
              0.8888888888888888,
              "#fdca26"
             ],
             [
              1,
              "#f0f921"
             ]
            ],
            "type": "heatmap"
           }
          ],
          "heatmapgl": [
           {
            "colorbar": {
             "outlinewidth": 0,
             "ticks": ""
            },
            "colorscale": [
             [
              0,
              "#0d0887"
             ],
             [
              0.1111111111111111,
              "#46039f"
             ],
             [
              0.2222222222222222,
              "#7201a8"
             ],
             [
              0.3333333333333333,
              "#9c179e"
             ],
             [
              0.4444444444444444,
              "#bd3786"
             ],
             [
              0.5555555555555556,
              "#d8576b"
             ],
             [
              0.6666666666666666,
              "#ed7953"
             ],
             [
              0.7777777777777778,
              "#fb9f3a"
             ],
             [
              0.8888888888888888,
              "#fdca26"
             ],
             [
              1,
              "#f0f921"
             ]
            ],
            "type": "heatmapgl"
           }
          ],
          "histogram": [
           {
            "marker": {
             "pattern": {
              "fillmode": "overlay",
              "size": 10,
              "solidity": 0.2
             }
            },
            "type": "histogram"
           }
          ],
          "histogram2d": [
           {
            "colorbar": {
             "outlinewidth": 0,
             "ticks": ""
            },
            "colorscale": [
             [
              0,
              "#0d0887"
             ],
             [
              0.1111111111111111,
              "#46039f"
             ],
             [
              0.2222222222222222,
              "#7201a8"
             ],
             [
              0.3333333333333333,
              "#9c179e"
             ],
             [
              0.4444444444444444,
              "#bd3786"
             ],
             [
              0.5555555555555556,
              "#d8576b"
             ],
             [
              0.6666666666666666,
              "#ed7953"
             ],
             [
              0.7777777777777778,
              "#fb9f3a"
             ],
             [
              0.8888888888888888,
              "#fdca26"
             ],
             [
              1,
              "#f0f921"
             ]
            ],
            "type": "histogram2d"
           }
          ],
          "histogram2dcontour": [
           {
            "colorbar": {
             "outlinewidth": 0,
             "ticks": ""
            },
            "colorscale": [
             [
              0,
              "#0d0887"
             ],
             [
              0.1111111111111111,
              "#46039f"
             ],
             [
              0.2222222222222222,
              "#7201a8"
             ],
             [
              0.3333333333333333,
              "#9c179e"
             ],
             [
              0.4444444444444444,
              "#bd3786"
             ],
             [
              0.5555555555555556,
              "#d8576b"
             ],
             [
              0.6666666666666666,
              "#ed7953"
             ],
             [
              0.7777777777777778,
              "#fb9f3a"
             ],
             [
              0.8888888888888888,
              "#fdca26"
             ],
             [
              1,
              "#f0f921"
             ]
            ],
            "type": "histogram2dcontour"
           }
          ],
          "mesh3d": [
           {
            "colorbar": {
             "outlinewidth": 0,
             "ticks": ""
            },
            "type": "mesh3d"
           }
          ],
          "parcoords": [
           {
            "line": {
             "colorbar": {
              "outlinewidth": 0,
              "ticks": ""
             }
            },
            "type": "parcoords"
           }
          ],
          "pie": [
           {
            "automargin": true,
            "type": "pie"
           }
          ],
          "scatter": [
           {
            "fillpattern": {
             "fillmode": "overlay",
             "size": 10,
             "solidity": 0.2
            },
            "type": "scatter"
           }
          ],
          "scatter3d": [
           {
            "line": {
             "colorbar": {
              "outlinewidth": 0,
              "ticks": ""
             }
            },
            "marker": {
             "colorbar": {
              "outlinewidth": 0,
              "ticks": ""
             }
            },
            "type": "scatter3d"
           }
          ],
          "scattercarpet": [
           {
            "marker": {
             "colorbar": {
              "outlinewidth": 0,
              "ticks": ""
             }
            },
            "type": "scattercarpet"
           }
          ],
          "scattergeo": [
           {
            "marker": {
             "colorbar": {
              "outlinewidth": 0,
              "ticks": ""
             }
            },
            "type": "scattergeo"
           }
          ],
          "scattergl": [
           {
            "marker": {
             "colorbar": {
              "outlinewidth": 0,
              "ticks": ""
             }
            },
            "type": "scattergl"
           }
          ],
          "scattermapbox": [
           {
            "marker": {
             "colorbar": {
              "outlinewidth": 0,
              "ticks": ""
             }
            },
            "type": "scattermapbox"
           }
          ],
          "scatterpolar": [
           {
            "marker": {
             "colorbar": {
              "outlinewidth": 0,
              "ticks": ""
             }
            },
            "type": "scatterpolar"
           }
          ],
          "scatterpolargl": [
           {
            "marker": {
             "colorbar": {
              "outlinewidth": 0,
              "ticks": ""
             }
            },
            "type": "scatterpolargl"
           }
          ],
          "scatterternary": [
           {
            "marker": {
             "colorbar": {
              "outlinewidth": 0,
              "ticks": ""
             }
            },
            "type": "scatterternary"
           }
          ],
          "surface": [
           {
            "colorbar": {
             "outlinewidth": 0,
             "ticks": ""
            },
            "colorscale": [
             [
              0,
              "#0d0887"
             ],
             [
              0.1111111111111111,
              "#46039f"
             ],
             [
              0.2222222222222222,
              "#7201a8"
             ],
             [
              0.3333333333333333,
              "#9c179e"
             ],
             [
              0.4444444444444444,
              "#bd3786"
             ],
             [
              0.5555555555555556,
              "#d8576b"
             ],
             [
              0.6666666666666666,
              "#ed7953"
             ],
             [
              0.7777777777777778,
              "#fb9f3a"
             ],
             [
              0.8888888888888888,
              "#fdca26"
             ],
             [
              1,
              "#f0f921"
             ]
            ],
            "type": "surface"
           }
          ],
          "table": [
           {
            "cells": {
             "fill": {
              "color": "#EBF0F8"
             },
             "line": {
              "color": "white"
             }
            },
            "header": {
             "fill": {
              "color": "#C8D4E3"
             },
             "line": {
              "color": "white"
             }
            },
            "type": "table"
           }
          ]
         },
         "layout": {
          "annotationdefaults": {
           "arrowcolor": "#2a3f5f",
           "arrowhead": 0,
           "arrowwidth": 1
          },
          "autotypenumbers": "strict",
          "coloraxis": {
           "colorbar": {
            "outlinewidth": 0,
            "ticks": ""
           }
          },
          "colorscale": {
           "diverging": [
            [
             0,
             "#8e0152"
            ],
            [
             0.1,
             "#c51b7d"
            ],
            [
             0.2,
             "#de77ae"
            ],
            [
             0.3,
             "#f1b6da"
            ],
            [
             0.4,
             "#fde0ef"
            ],
            [
             0.5,
             "#f7f7f7"
            ],
            [
             0.6,
             "#e6f5d0"
            ],
            [
             0.7,
             "#b8e186"
            ],
            [
             0.8,
             "#7fbc41"
            ],
            [
             0.9,
             "#4d9221"
            ],
            [
             1,
             "#276419"
            ]
           ],
           "sequential": [
            [
             0,
             "#0d0887"
            ],
            [
             0.1111111111111111,
             "#46039f"
            ],
            [
             0.2222222222222222,
             "#7201a8"
            ],
            [
             0.3333333333333333,
             "#9c179e"
            ],
            [
             0.4444444444444444,
             "#bd3786"
            ],
            [
             0.5555555555555556,
             "#d8576b"
            ],
            [
             0.6666666666666666,
             "#ed7953"
            ],
            [
             0.7777777777777778,
             "#fb9f3a"
            ],
            [
             0.8888888888888888,
             "#fdca26"
            ],
            [
             1,
             "#f0f921"
            ]
           ],
           "sequentialminus": [
            [
             0,
             "#0d0887"
            ],
            [
             0.1111111111111111,
             "#46039f"
            ],
            [
             0.2222222222222222,
             "#7201a8"
            ],
            [
             0.3333333333333333,
             "#9c179e"
            ],
            [
             0.4444444444444444,
             "#bd3786"
            ],
            [
             0.5555555555555556,
             "#d8576b"
            ],
            [
             0.6666666666666666,
             "#ed7953"
            ],
            [
             0.7777777777777778,
             "#fb9f3a"
            ],
            [
             0.8888888888888888,
             "#fdca26"
            ],
            [
             1,
             "#f0f921"
            ]
           ]
          },
          "colorway": [
           "#636efa",
           "#EF553B",
           "#00cc96",
           "#ab63fa",
           "#FFA15A",
           "#19d3f3",
           "#FF6692",
           "#B6E880",
           "#FF97FF",
           "#FECB52"
          ],
          "font": {
           "color": "#2a3f5f"
          },
          "geo": {
           "bgcolor": "white",
           "lakecolor": "white",
           "landcolor": "#E5ECF6",
           "showlakes": true,
           "showland": true,
           "subunitcolor": "white"
          },
          "hoverlabel": {
           "align": "left"
          },
          "hovermode": "closest",
          "mapbox": {
           "style": "light"
          },
          "paper_bgcolor": "white",
          "plot_bgcolor": "#E5ECF6",
          "polar": {
           "angularaxis": {
            "gridcolor": "white",
            "linecolor": "white",
            "ticks": ""
           },
           "bgcolor": "#E5ECF6",
           "radialaxis": {
            "gridcolor": "white",
            "linecolor": "white",
            "ticks": ""
           }
          },
          "scene": {
           "xaxis": {
            "backgroundcolor": "#E5ECF6",
            "gridcolor": "white",
            "gridwidth": 2,
            "linecolor": "white",
            "showbackground": true,
            "ticks": "",
            "zerolinecolor": "white"
           },
           "yaxis": {
            "backgroundcolor": "#E5ECF6",
            "gridcolor": "white",
            "gridwidth": 2,
            "linecolor": "white",
            "showbackground": true,
            "ticks": "",
            "zerolinecolor": "white"
           },
           "zaxis": {
            "backgroundcolor": "#E5ECF6",
            "gridcolor": "white",
            "gridwidth": 2,
            "linecolor": "white",
            "showbackground": true,
            "ticks": "",
            "zerolinecolor": "white"
           }
          },
          "shapedefaults": {
           "line": {
            "color": "#2a3f5f"
           }
          },
          "ternary": {
           "aaxis": {
            "gridcolor": "white",
            "linecolor": "white",
            "ticks": ""
           },
           "baxis": {
            "gridcolor": "white",
            "linecolor": "white",
            "ticks": ""
           },
           "bgcolor": "#E5ECF6",
           "caxis": {
            "gridcolor": "white",
            "linecolor": "white",
            "ticks": ""
           }
          },
          "title": {
           "x": 0.05
          },
          "xaxis": {
           "automargin": true,
           "gridcolor": "white",
           "linecolor": "white",
           "ticks": "",
           "title": {
            "standoff": 15
           },
           "zerolinecolor": "white",
           "zerolinewidth": 2
          },
          "yaxis": {
           "automargin": true,
           "gridcolor": "white",
           "linecolor": "white",
           "ticks": "",
           "title": {
            "standoff": 15
           },
           "zerolinecolor": "white",
           "zerolinewidth": 2
          }
         }
        },
        "title": {
         "text": "Total Files per Folder (Depth of Two) (Colored by Bytes Stored)"
        }
       }
      },
      "text/html": [
       "<div>                            <div id=\"4ef55a4a-61a4-4162-9aa9-75a8b25e4b0d\" class=\"plotly-graph-div\" style=\"height:525px; width:100%;\"></div>            <script type=\"text/javascript\">                require([\"plotly\"], function(Plotly) {                    window.PLOTLYENV=window.PLOTLYENV || {};                                    if (document.getElementById(\"4ef55a4a-61a4-4162-9aa9-75a8b25e4b0d\")) {                    Plotly.newPlot(                        \"4ef55a4a-61a4-4162-9aa9-75a8b25e4b0d\",                        [{\"branchvalues\":\"total\",\"customdata\":[[82264.6],[659465.4285714285],[436400.6666666667],[111729.375],[222091.8],[855868.7142857143],[90034.28571428571],[92130.0],[677247.125],[852482.0],[233922.0],[519230.8461538461],[395517.8181818182],[567838.5],[466646.2],[77697.5],[240534.3],[387790.3076923077],[451739.6],[1121952.9],[1470366.1666666667],[180966.72727272726],[129145.33333333333],[156296.25],[8855716.285714285],[390346.75],[73091.0],[313101.0],[794838.625],[1693067.3333333333],[150496.16666666666],[310283.3333333333],[58316.75],[243592.625],[66653.0],[134336.57142857142],[394347.0],[223948.1],[229722.4],[243061.92307692306],[519212.4285714286],[180570.625],[619313.2222222222],[413664.0],[227584.14285714287],[186810.46666666667],[633648.1666666666],[266888.86666666664],[95792.63636363637],[1133203.5714285714],[514915.85714285716],[18995.5],[111988.0],[120799.9],[952035.4545454546],[399197.7272727273],[171244.66666666666],[62223.333333333336],[383332.4],[228352.5],[142316.625],[476890.9166666667],[87157.0],[314893.0833333333],[344131.625],[307347.3333333333],[707458.6363636364],[851888.5],[115563.42857142857],[320381.6923076923],[487146.2],[51940.769230769234],[485351.22222222225],[302539.8125],[135238.83333333334],[118132.0],[85985.33333333333],[557246.4444444445],[312081.3],[1943808.6363636365],[84079.5],[123048.5],[287089.9090909091],[435636.71428571426],[1258363.111111111],[633831.8],[203059.2857142857],[142092.5],[896257.5555555555],[1322911.375],[1335131.3],[891867.25],[170899.2],[599102.125],[120525.44444444444],[405227.8],[88263.44444444444],[528982.3333333334],[646079.1428571428],[118041.57142857143],[311975.75],[142263.18181818182],[143787.25],[204990.7142857143],[286798.23076923075],[196037.0],[879339.0],[164508.75],[77876.625],[159500.86666666667],[579694.6666666666],[95951.875],[159859.125],[69161.16666666667],[51094.833333333336],[415563.875],[301279.6],[321207.6666666667],[1323183.2857142857],[45913.46153846154],[270019.4666666667],[265492.55555555556],[535960.7272727273],[863484.0],[797117.1111111111],[2239609.625],[1040713.6666666666],[449508.3846153846],[142616.33333333334],[82628.33333333333],[70687.8],[711097.0],[120913.6],[67971.83333333333],[664413.0833333334],[69578.0],[86850.66666666667],[664501.2],[371234.9166666667],[286239.8333333333],[283920.21428571426],[194857.55555555556],[1948858.7],[411875.9375],[131024.1],[1240023.1666666667],[1919081.2],[5991747.714285715],[450557.25],[196279.88888888888],[84685.33333333333],[429243.9090909091],[152919.75],[3048281.1818181816],[659560.2307692308],[636590.6],[1518578.4],[517675.2],[324920.0],[215633.14285714287],[262863.3333333333],[33893.0],[399374.8181818182],[341135.6],[745675.3333333334],[111899.875],[927999.4285714285],[514768.75],[201681.0],[739354.2857142857],[385598.77777777775],[444738.0],[237869.88888888888],[351735.2],[496873.44444444444],[31772.85714285714],[4609712.7],[1034973.4545454546],[369456.8],[210748.9],[290487.875],[229527.42857142858],[51787.666666666664],[542117.0],[76411.125],[365515.76470588235],[646866.9090909091],[143441.5],[967924.25],[164172.66666666666],[219746.7],[18037495.1],[227540.75],[317009.14285714284],[274971.0],[987479.75],[301193.5],[101495.33333333333],[811944.5384615385],[73451.4],[1345565.7777777778],[251614.0],[1096546.6666666667],[431359.75],[3955460.4],[627665.8],[323976.8947368421],[899844.2727272727],[308721.6666666667],[2179562.1818181816],[447372.53846153844],[334415.4],[479544.3076923077],[373237.25],[124387.07142857143],[212937.0],[336162.1111111111],[805930.2],[1007785.8181818182],[110334.33333333333],[108512.71428571429],[376723.2],[1497978.0],[314229.6],[319193.0],[269265.45454545453],[271473.7272727273],[286899.1538461539],[553817.1666666666],[618783.6666666666],[121722.5],[281586.375],[272788.5],[141410.36363636365],[203717.625],[427944.44444444444],[172083.38461538462],[1098072.5],[1274146.5833333333],[77147.0],[218852.6],[70625.0],[59533.4],[745071.5833333334],[194427.0],[322596.0],[72925.16666666667],[2543764.3846153845],[312972.4285714286],[283720.28571428574],[50109.5],[181153.25],[565069.5],[535538.0],[183020.61538461538],[79194.42857142857],[154882.91666666666],[39908.11111111111],[131844.42857142858],[321197.0],[111013.42857142857],[434162.4],[90769.5],[2294314.8333333335],[267388.5263157895],[1242944.6666666667],[170351.66666666666],[160899.75],[157582.25],[309287.14285714284],[161825.8],[311339.5],[190323.4],[414816.2],[248772.7142857143],[345731.3],[97555.28571428571],[53278.0],[700777.0],[229784.875],[84228.5],[63807.6],[206102.33333333334],[27988.428571428572],[108029.6],[1524874.4545454546],[49962.666666666664],[433517.6666666667],[262892.93333333335],[483147.5],[236032.91666666666],[254996.375],[166214.5],[698501.5454545454],[235419.5],[248642.42857142858],[215001.44444444444],[157002.0],[556012.3636363636],[60821.6],[205879.0],[190847.0],[316088.6666666667],[357685.4166666667],[208570.9],[224455.42857142858],[181148.72727272726],[559202.1666666666],[720387.75],[1543371.2727272727],[254258.25],[313547.44444444444],[139828.61538461538],[221811.92857142858],[221476.63636363635],[756023.5714285715],[169965.66666666666],[298461.1666666667],[223153.625],[145830.11111111112],[1521286.7857142857],[908429.6428571428],[29783.166666666668],[282907.3],[194726.33333333334],[48299.333333333336],[426837.36363636365],[45101.125],[83362.44444444444],[334605.4],[1120738.2],[284221.92307692306],[160784.9],[661870.0],[266569.6666666667],[457866.4285714286],[397288.7272727273],[418877.4166666667],[78152.22222222222],[878978.6666666666],[198017.85714285713],[480675.71428571426],[156218.33333333334],[153052.5],[284683.21428571426],[73003.0],[824430.7692307692],[273601.875],[207661.33333333334],[147662.63636363635],[91365.5],[222031.625],[348483.0],[468990.71428571426],[283868.8333333333],[110620.0],[41095.833333333336],[104525.625],[221018.66666666666],[54784.0],[207522.18181818182],[278387.0],[741059.1818181818],[388880.63636363635],[622970.1666666666],[142546.0588235294],[313808.6666666667],[141446.55555555556],[383594.85714285716],[205384.0909090909],[375779.1111111111],[234557.875],[698891.75],[168290.5],[361267.0],[452577.9],[174224.75],[1630039.5714285714],[239501.4],[87880.33333333333],[42683.3],[372412.14285714284],[982633.0],[187491.44444444444],[232229.6923076923],[1037241.8571428572],[238668.9],[323742.77777777775],[346266.71428571426],[303748.8],[41871.454545454544],[382440.36363636365],[284994.125],[715397.0],[34228.42857142857],[591497.25],[275742.6666666667],[247695.75],[96613.375],[117704.33333333333],[292979.9166666667],[158428.44444444444],[79620.30769230769],[252417.0],[460383.77777777775],[372187.0],[47011.88888888889],[90786.33333333333],[462515.0],[1001635.0],[152534.42857142858],[180479.0],[329725.63636363635],[202616.4],[171605.2],[113433.21428571429],[80237.7],[139657.125],[10002.727272727272],[25385.5],[24142.75],[51169.22222222222],[200025.1],[545335.125],[380171.6666666667],[299700.9],[561893.1],[130870.0],[171377.2857142857],[455997.6923076923],[753738.0909090909],[200787.5],[182311.75],[231190.8],[2380415.25],[722610.875],[167891.4],[576320.1428571428],[385040.55555555556],[291566.6666666667],[162847.0],[302176.36363636365],[85540.2],[52874.333333333336],[872700.6],[327935.07692307694],[32250.1],[36650.5],[251359.9090909091],[942807.8],[468002.4285714286],[124708.66666666667],[151731.54545454544],[330382.6],[358452.0],[1157898.4545454546],[13824.076923076924],[36859.0],[389173.1818181818],[94547.07692307692],[515099.6666666667],[354011.3333333333],[331013.0],[151242.0],[64390.625],[568332.7777777778],[1048846.375],[928334.3076923077],[2049146.875],[183859.07692307694],[1454192.923076923],[89579.6],[2719809.8571428573],[111727.875],[203104.0909090909],[101704.54545454546],[49457.333333333336],[450478.0],[60899.833333333336],[303793.3333333333],[1193408.7777777778],[612367.7058823529],[124362.14285714286],[204938.14285714287],[1537462.8181818181],[1490259.0],[699607.2],[298378.6],[1528136.111111111],[230876.375],[836150.9411764706],[791213.0909090909],[490272.0],[144432.3125],[183784.0],[203902.7],[312042.4166666667],[413284.375],[743915.4285714285],[924087.4545454546],[221445.44444444444],[401005.53846153844],[118597.0],[185615.82352941178],[56060.875],[498718.8],[302302.4285714286],[221998.6],[205831.29411764705],[810605.3333333334],[808976.4666666667],[599827.4],[867194.8461538461],[1144020.142857143],[490309.4285714286],[50397.11111111111],[218747.6],[723245.4666666667],[789309.6666666666],[119373.875],[85714.88888888889],[83806.0],[120954.5],[252158.44444444444],[467526.8181818182],[883272.6],[526734.5],[286594.28571428574],[905363.3333333334],[285760.7272727273],[384110.77777777775],[624797.8666666667],[363061.5],[104059.88888888889],[352084.44444444444],[412876.93333333335],[1138889.3333333333],[232582.75],[143645.0],[276097.5],[1003152.625],[24813.75],[154201.44444444444],[1532753.625],[51245.75],[197622.8],[871726.7272727273],[161914.88888888888],[532003.0],[452268.92307692306],[26917.8],[156132.7142857143],[213807.77777777778],[657949.4444444445],[238049.0],[266271.3333333333],[466257.3333333333],[181537.11111111112],[134722.33333333334],[822756.6153846154],[34507.5],[799998.7272727273],[457952.0],[52475.882352941175],[58484.166666666664],[687277.4545454546],[91147.11111111111],[241772.1],[24559.333333333332],[34848.1875],[56820.125],[353023.44444444444],[219681.42857142858],[25772.363636363636],[67169.33333333333],[58946.38461538462],[1026189.6153846154],[199231.9],[827695.0],[2044552.875],[346136.6],[430934.8333333333],[153412.6],[92031.18181818182],[225879.5],[368382.14285714284],[108294.85714285714],[836102.2142857143],[350676.1666666667],[164388.86666666667],[211729.8],[260865.55555555556],[100236.91666666667],[63515.75],[284725.75],[1179186.5],[492803.2727272727],[1591445.1538461538],[2087013.5],[117086.23076923077],[59844.333333333336],[33123.0],[997022.25],[3746521.727272727],[223076.33333333334],[227161.1875],[410827.1666666667],[93424.7],[392661.3076923077],[1629237.105263158],[761770.4],[395542.8461538461],[109582.375],[310404.0],[2502469.25],[1945820.0],[64555.444444444445],[618072.1666666666],[24434.6],[750421.8],[46173.0],[181617.7142857143],[239208.8],[1095262.6923076923],[1102783.5],[276527.1666666667],[771588.8888888889],[70402.0],[54714.666666666664],[37022.2],[929505.0],[96159.83333333333],[345237.4285714286],[349101.8888888889],[86325.66666666667],[154573.25],[249835.72727272726],[1570416.4615384615],[187761.83333333334],[544875.4285714285],[589296.8333333334],[618585.4615384615],[678132.0],[40060.25],[665425.4375],[131501.83333333334],[58521.666666666664],[1026008.6153846154],[344550.54545454547],[56040.0],[344924.0],[80155.88888888889],[145209.0],[1279785.875],[90474.3],[509195.2727272727],[171336.2857142857],[74650.75],[126001.11111111111],[511449.3],[95140.0],[223959.0],[355431.07692307694],[356463.5714285714],[1434175.5714285714],[332017.0],[374196.125],[656461.8888888889],[347210.22222222225],[310915.4],[1663885.375],[107487.93333333333],[1318898.5833333333],[126422.5],[724396.2142857143],[418189.9090909091],[43936.555555555555],[262906.3333333333],[299744.25],[202159.36363636365],[215784.14285714287],[229785.0],[53471.454545454544],[32276.333333333332],[60837.09090909091],[177995.9],[629105.1666666666],[456197.6153846154],[89323.57142857143],[285393.28571428574],[142733.58823529413],[642612.2],[71949.0],[534607.3333333334],[1231040.5714285714],[607432.3571428572],[506331.8],[62480.818181818184],[336081.125],[276812.0909090909],[990285.25],[164529.6],[331535.55555555556],[601564.125],[307252.0],[92741.5],[137354.0],[578045.4545454546],[211432.73333333334],[301597.6],[513975.0],[742555.1111111111],[472725.9090909091],[107287.30769230769],[1101969.7142857143],[501359.4285714286],[246380.0],[815557.5],[269103.6666666667],[189247.6],[323964.0],[403468.44444444444],[125007.44444444444],[200282.81818181818],[366386.85714285716],[97766.46666666666],[483649.3333333333],[485244.5714285714],[29736.833333333332],[24375.166666666668],[109570.7],[855338.5833333334],[399808.9375],[122319.625],[389420.75],[87029.36363636363],[360124.85714285716],[72675.625],[864555.6363636364],[158746.44444444444],[448568.4285714286],[270263.6666666667],[908976.0],[50496.166666666664],[28092.0],[74272.3],[648100.0833333334],[858933.4444444445],[197513.125],[162298.375],[1284570.2],[221925.5],[57994.5],[538058.8125],[156511.33333333334],[135464.76923076922],[199431.88888888888],[805496.2222222222],[187443.0],[965413.625],[238759.6],[209927.81818181818],[317684.5714285714],[214482.45454545456],[64523.4],[158161.0],[197017.6],[412354.0],[226645.0],[503911.8333333333],[659237.3846153846],[105561.0],[409298.2],[725779.0],[499382.53846153844],[185493.375],[635363.6666666666],[82546.5],[215249.25],[420002.82352941175],[489857.0],[365776.9090909091],[219009.7],[405252.55555555556],[1812208.1666666667],[424522.14285714284],[192624.0],[139650.1],[764030.4285714285],[714460.9],[11005.333333333334],[295040.4285714286],[248862.2142857143],[70522.72727272728],[129480.28571428571],[445553.9285714286],[79909.5],[51697.72727272727],[742917.2142857143],[221931.83333333334],[248697.58333333334],[478963.0909090909],[1198934.4545454546],[101863.0],[295131.75],[210860.83333333334],[703437.0],[98737.5],[284847.4375],[602031.0],[109439.77777777778],[144015.18181818182],[316071.6],[223705.0],[745083.3],[104728.6],[324297.1538461539],[202107.66666666666],[371769.0],[148622.3],[529691.5],[271761.0],[165407.14285714287],[252164.5],[334114.22222222225],[204034.625],[43114.333333333336],[187488.85714285713],[717871.0],[126813.75],[193056.625],[306949.3333333333],[192126.5],[379288.5],[1342162.75],[465915.5714285714],[112459.125],[355071.77777777775],[250844.5294117647],[575894.4],[200489.25],[152138.61538461538],[247425.07692307694],[225421.5],[328714.5],[93270.75],[400379.22222222225],[72559.75],[641192.3333333334],[305369.125],[150986.5],[201090.55555555556],[96542.0],[291581.4285714286],[258842.875],[728598.4],[804336.2],[234478.0909090909],[439103.46153846156],[430667.8333333333],[229937.1],[98564.75],[229729.625],[382576.28571428574],[362709.25],[741074.6],[272512.0],[316337.5],[120995.90909090909],[292359.1666666667],[41728.333333333336],[767668.0909090909],[103247.0],[732769.75],[315611.85714285716],[379987.0833333333],[1163808.5],[1343195.0833333333],[125836.9],[226904.42857142858],[261175.11111111112],[500989.8],[108214.75],[596733.1111111111],[514674.8888888889],[1090303.0],[683281.9166666666],[507415.7272727273],[315657.8181818182],[1020834.1428571428],[220649.36363636365],[161472.57142857142],[678012.6428571428],[113874.0],[265208.14285714284],[461246.0],[506321.25],[856076.0833333334],[313530.6666666667],[213999.45454545456],[1013597.8571428572],[420073.625],[273659.625],[380345.3],[229242.875],[189230.0],[215936.6],[289731.70588235295],[406637.0],[233888.72727272726],[136186.08333333334],[721515.7],[263388.6],[629074.6666666666],[431628.8],[137787.36363636365],[98751.28571428571],[214828.4],[326806.5],[1135912.7142857143],[117051.6],[840341.0],[429892.6],[1839266.375],[694345.0],[365194.07692307694],[867101.5384615385],[189650.42857142858],[2373581.5],[619707.4285714285],[45590.333333333336],[82154.75],[336097.4],[365762.0],[944953.7142857143],[705829.8181818182],[114008.5],[1290459.1666666667],[424023.5],[661037.0],[399142.3846153846],[124028.92307692308],[526980.9230769231],[1242747.6363636365],[56754.71428571428],[378111.5],[409354.3125],[1207534.076923077],[280825.0],[179111.0],[216529.76923076922],[292210.28571428574],[57896.444444444445],[245500.11111111112],[140213.16666666666],[368336.4375],[423297.25],[261991.11111111112],[345940.0],[33916.625],[184387.0],[172118.25],[99515.28571428571],[68816.0],[304020.4666666667],[103506.2],[155927.6],[1130736.625],[905523.1],[84070.2],[68653.75],[100658.45454545454],[106515.13333333333],[205197.75],[1627126.6666666667],[69362.78571428571],[263379.55555555556],[147791.0],[42666.42857142857],[71910.125],[118960.72727272728],[101956.75],[439863.28571428574],[133980.0],[263305.75],[353081.5333333333],[198905.0],[483713.7],[56456.583333333336],[618370.2],[253125.16666666666],[704401.5555555555],[213555.61538461538],[131108.66666666666],[41820.9],[333844.07692307694],[246180.7142857143],[235716.55555555556],[124274.41666666667],[1215435.375],[460230.35297691374]],\"domain\":{\"x\":[0.0,1.0],\"y\":[0.0,1.0]},\"hovertemplate\":\"labels=%{label}\\u003cbr\\u003ecount=%{value}\\u003cbr\\u003eparent=%{parent}\\u003cbr\\u003eid=%{id}\\u003cbr\\u003ebytes=%{color}\\u003cextra\\u003e\\u003c\\u002fextra\\u003e\",\"ids\":[\"all\\u002f\\\\000\",\"all\\u002f\\\\001\",\"all\\u002f\\\\002\",\"all\\u002f\\\\003\",\"all\\u002f\\\\004\",\"all\\u002f\\\\005\",\"all\\u002f\\\\006\",\"all\\u002f\\\\007\",\"all\\u002f\\\\008\",\"all\\u002f\\\\009\",\"all\\u002f\\\\010\",\"all\\u002f\\\\011\",\"all\\u002f\\\\012\",\"all\\u002f\\\\013\",\"all\\u002f\\\\014\",\"all\\u002f\\\\015\",\"all\\u002f\\\\016\",\"all\\u002f\\\\017\",\"all\\u002f\\\\018\",\"all\\u002f\\\\019\",\"all\\u002f\\\\020\",\"all\\u002f\\\\021\",\"all\\u002f\\\\022\",\"all\\u002f\\\\023\",\"all\\u002f\\\\024\",\"all\\u002f\\\\025\",\"all\\u002f\\\\026\",\"all\\u002f\\\\027\",\"all\\u002f\\\\028\",\"all\\u002f\\\\029\",\"all\\u002f\\\\030\",\"all\\u002f\\\\031\",\"all\\u002f\\\\032\",\"all\\u002f\\\\033\",\"all\\u002f\\\\034\",\"all\\u002f\\\\035\",\"all\\u002f\\\\036\",\"all\\u002f\\\\037\",\"all\\u002f\\\\038\",\"all\\u002f\\\\039\",\"all\\u002f\\\\040\",\"all\\u002f\\\\041\",\"all\\u002f\\\\042\",\"all\\u002f\\\\043\",\"all\\u002f\\\\044\",\"all\\u002f\\\\045\",\"all\\u002f\\\\046\",\"all\\u002f\\\\047\",\"all\\u002f\\\\048\",\"all\\u002f\\\\049\",\"all\\u002f\\\\050\",\"all\\u002f\\\\051\",\"all\\u002f\\\\052\",\"all\\u002f\\\\053\",\"all\\u002f\\\\054\",\"all\\u002f\\\\055\",\"all\\u002f\\\\056\",\"all\\u002f\\\\057\",\"all\\u002f\\\\058\",\"all\\u002f\\\\059\",\"all\\u002f\\\\060\",\"all\\u002f\\\\061\",\"all\\u002f\\\\062\",\"all\\u002f\\\\063\",\"all\\u002f\\\\064\",\"all\\u002f\\\\065\",\"all\\u002f\\\\066\",\"all\\u002f\\\\067\",\"all\\u002f\\\\068\",\"all\\u002f\\\\069\",\"all\\u002f\\\\070\",\"all\\u002f\\\\071\",\"all\\u002f\\\\072\",\"all\\u002f\\\\073\",\"all\\u002f\\\\074\",\"all\\u002f\\\\075\",\"all\\u002f\\\\076\",\"all\\u002f\\\\077\",\"all\\u002f\\\\078\",\"all\\u002f\\\\079\",\"all\\u002f\\\\080\",\"all\\u002f\\\\081\",\"all\\u002f\\\\082\",\"all\\u002f\\\\083\",\"all\\u002f\\\\084\",\"all\\u002f\\\\085\",\"all\\u002f\\\\086\",\"all\\u002f\\\\087\",\"all\\u002f\\\\088\",\"all\\u002f\\\\089\",\"all\\u002f\\\\090\",\"all\\u002f\\\\091\",\"all\\u002f\\\\092\",\"all\\u002f\\\\093\",\"all\\u002f\\\\094\",\"all\\u002f\\\\095\",\"all\\u002f\\\\096\",\"all\\u002f\\\\097\",\"all\\u002f\\\\098\",\"all\\u002f\\\\099\",\"all\\u002f\\\\100\",\"all\\u002f\\\\101\",\"all\\u002f\\\\102\",\"all\\u002f\\\\103\",\"all\\u002f\\\\104\",\"all\\u002f\\\\105\",\"all\\u002f\\\\106\",\"all\\u002f\\\\107\",\"all\\u002f\\\\108\",\"all\\u002f\\\\109\",\"all\\u002f\\\\110\",\"all\\u002f\\\\111\",\"all\\u002f\\\\112\",\"all\\u002f\\\\113\",\"all\\u002f\\\\114\",\"all\\u002f\\\\115\",\"all\\u002f\\\\116\",\"all\\u002f\\\\117\",\"all\\u002f\\\\118\",\"all\\u002f\\\\119\",\"all\\u002f\\\\120\",\"all\\u002f\\\\121\",\"all\\u002f\\\\122\",\"all\\u002f\\\\123\",\"all\\u002f\\\\124\",\"all\\u002f\\\\125\",\"all\\u002f\\\\126\",\"all\\u002f\\\\127\",\"all\\u002f\\\\128\",\"all\\u002f\\\\129\",\"all\\u002f\\\\130\",\"all\\u002f\\\\131\",\"all\\u002f\\\\132\",\"all\\u002f\\\\133\",\"all\\u002f\\\\134\",\"all\\u002f\\\\135\",\"all\\u002f\\\\136\",\"all\\u002f\\\\137\",\"all\\u002f\\\\138\",\"all\\u002f\\\\139\",\"all\\u002f\\\\140\",\"all\\u002f\\\\141\",\"all\\u002f\\\\142\",\"all\\u002f\\\\143\",\"all\\u002f\\\\144\",\"all\\u002f\\\\145\",\"all\\u002f\\\\146\",\"all\\u002f\\\\147\",\"all\\u002f\\\\148\",\"all\\u002f\\\\149\",\"all\\u002f\\\\150\",\"all\\u002f\\\\151\",\"all\\u002f\\\\152\",\"all\\u002f\\\\153\",\"all\\u002f\\\\154\",\"all\\u002f\\\\155\",\"all\\u002f\\\\156\",\"all\\u002f\\\\157\",\"all\\u002f\\\\158\",\"all\\u002f\\\\159\",\"all\\u002f\\\\160\",\"all\\u002f\\\\161\",\"all\\u002f\\\\162\",\"all\\u002f\\\\163\",\"all\\u002f\\\\164\",\"all\\u002f\\\\165\",\"all\\u002f\\\\166\",\"all\\u002f\\\\167\",\"all\\u002f\\\\168\",\"all\\u002f\\\\169\",\"all\\u002f\\\\170\",\"all\\u002f\\\\171\",\"all\\u002f\\\\172\",\"all\\u002f\\\\173\",\"all\\u002f\\\\174\",\"all\\u002f\\\\175\",\"all\\u002f\\\\176\",\"all\\u002f\\\\177\",\"all\\u002f\\\\178\",\"all\\u002f\\\\179\",\"all\\u002f\\\\180\",\"all\\u002f\\\\181\",\"all\\u002f\\\\182\",\"all\\u002f\\\\183\",\"all\\u002f\\\\184\",\"all\\u002f\\\\185\",\"all\\u002f\\\\186\",\"all\\u002f\\\\187\",\"all\\u002f\\\\188\",\"all\\u002f\\\\189\",\"all\\u002f\\\\190\",\"all\\u002f\\\\191\",\"all\\u002f\\\\192\",\"all\\u002f\\\\193\",\"all\\u002f\\\\194\",\"all\\u002f\\\\195\",\"all\\u002f\\\\196\",\"all\\u002f\\\\197\",\"all\\u002f\\\\198\",\"all\\u002f\\\\199\",\"all\\u002f\\\\200\",\"all\\u002f\\\\201\",\"all\\u002f\\\\202\",\"all\\u002f\\\\203\",\"all\\u002f\\\\204\",\"all\\u002f\\\\205\",\"all\\u002f\\\\206\",\"all\\u002f\\\\207\",\"all\\u002f\\\\208\",\"all\\u002f\\\\209\",\"all\\u002f\\\\210\",\"all\\u002f\\\\211\",\"all\\u002f\\\\212\",\"all\\u002f\\\\213\",\"all\\u002f\\\\214\",\"all\\u002f\\\\215\",\"all\\u002f\\\\216\",\"all\\u002f\\\\217\",\"all\\u002f\\\\218\",\"all\\u002f\\\\219\",\"all\\u002f\\\\220\",\"all\\u002f\\\\221\",\"all\\u002f\\\\222\",\"all\\u002f\\\\223\",\"all\\u002f\\\\224\",\"all\\u002f\\\\225\",\"all\\u002f\\\\226\",\"all\\u002f\\\\227\",\"all\\u002f\\\\228\",\"all\\u002f\\\\229\",\"all\\u002f\\\\230\",\"all\\u002f\\\\231\",\"all\\u002f\\\\232\",\"all\\u002f\\\\233\",\"all\\u002f\\\\234\",\"all\\u002f\\\\235\",\"all\\u002f\\\\236\",\"all\\u002f\\\\237\",\"all\\u002f\\\\238\",\"all\\u002f\\\\239\",\"all\\u002f\\\\240\",\"all\\u002f\\\\241\",\"all\\u002f\\\\242\",\"all\\u002f\\\\243\",\"all\\u002f\\\\244\",\"all\\u002f\\\\245\",\"all\\u002f\\\\246\",\"all\\u002f\\\\247\",\"all\\u002f\\\\248\",\"all\\u002f\\\\249\",\"all\\u002f\\\\250\",\"all\\u002f\\\\251\",\"all\\u002f\\\\252\",\"all\\u002f\\\\253\",\"all\\u002f\\\\254\",\"all\\u002f\\\\255\",\"all\\u002f\\\\256\",\"all\\u002f\\\\257\",\"all\\u002f\\\\258\",\"all\\u002f\\\\259\",\"all\\u002f\\\\260\",\"all\\u002f\\\\261\",\"all\\u002f\\\\262\",\"all\\u002f\\\\263\",\"all\\u002f\\\\264\",\"all\\u002f\\\\265\",\"all\\u002f\\\\266\",\"all\\u002f\\\\267\",\"all\\u002f\\\\268\",\"all\\u002f\\\\269\",\"all\\u002f\\\\270\",\"all\\u002f\\\\271\",\"all\\u002f\\\\272\",\"all\\u002f\\\\273\",\"all\\u002f\\\\274\",\"all\\u002f\\\\275\",\"all\\u002f\\\\276\",\"all\\u002f\\\\277\",\"all\\u002f\\\\278\",\"all\\u002f\\\\279\",\"all\\u002f\\\\280\",\"all\\u002f\\\\281\",\"all\\u002f\\\\282\",\"all\\u002f\\\\283\",\"all\\u002f\\\\284\",\"all\\u002f\\\\285\",\"all\\u002f\\\\286\",\"all\\u002f\\\\287\",\"all\\u002f\\\\288\",\"all\\u002f\\\\289\",\"all\\u002f\\\\290\",\"all\\u002f\\\\291\",\"all\\u002f\\\\292\",\"all\\u002f\\\\293\",\"all\\u002f\\\\294\",\"all\\u002f\\\\295\",\"all\\u002f\\\\296\",\"all\\u002f\\\\297\",\"all\\u002f\\\\298\",\"all\\u002f\\\\299\",\"all\\u002f\\\\300\",\"all\\u002f\\\\301\",\"all\\u002f\\\\302\",\"all\\u002f\\\\303\",\"all\\u002f\\\\304\",\"all\\u002f\\\\305\",\"all\\u002f\\\\306\",\"all\\u002f\\\\307\",\"all\\u002f\\\\308\",\"all\\u002f\\\\309\",\"all\\u002f\\\\310\",\"all\\u002f\\\\311\",\"all\\u002f\\\\312\",\"all\\u002f\\\\313\",\"all\\u002f\\\\314\",\"all\\u002f\\\\315\",\"all\\u002f\\\\316\",\"all\\u002f\\\\317\",\"all\\u002f\\\\318\",\"all\\u002f\\\\319\",\"all\\u002f\\\\320\",\"all\\u002f\\\\321\",\"all\\u002f\\\\322\",\"all\\u002f\\\\323\",\"all\\u002f\\\\324\",\"all\\u002f\\\\325\",\"all\\u002f\\\\326\",\"all\\u002f\\\\327\",\"all\\u002f\\\\328\",\"all\\u002f\\\\329\",\"all\\u002f\\\\330\",\"all\\u002f\\\\331\",\"all\\u002f\\\\332\",\"all\\u002f\\\\333\",\"all\\u002f\\\\334\",\"all\\u002f\\\\335\",\"all\\u002f\\\\336\",\"all\\u002f\\\\337\",\"all\\u002f\\\\338\",\"all\\u002f\\\\339\",\"all\\u002f\\\\340\",\"all\\u002f\\\\341\",\"all\\u002f\\\\342\",\"all\\u002f\\\\343\",\"all\\u002f\\\\344\",\"all\\u002f\\\\345\",\"all\\u002f\\\\346\",\"all\\u002f\\\\347\",\"all\\u002f\\\\348\",\"all\\u002f\\\\349\",\"all\\u002f\\\\350\",\"all\\u002f\\\\351\",\"all\\u002f\\\\352\",\"all\\u002f\\\\353\",\"all\\u002f\\\\354\",\"all\\u002f\\\\355\",\"all\\u002f\\\\356\",\"all\\u002f\\\\357\",\"all\\u002f\\\\358\",\"all\\u002f\\\\359\",\"all\\u002f\\\\360\",\"all\\u002f\\\\361\",\"all\\u002f\\\\362\",\"all\\u002f\\\\363\",\"all\\u002f\\\\364\",\"all\\u002f\\\\365\",\"all\\u002f\\\\366\",\"all\\u002f\\\\367\",\"all\\u002f\\\\368\",\"all\\u002f\\\\369\",\"all\\u002f\\\\370\",\"all\\u002f\\\\371\",\"all\\u002f\\\\372\",\"all\\u002f\\\\373\",\"all\\u002f\\\\374\",\"all\\u002f\\\\375\",\"all\\u002f\\\\376\",\"all\\u002f\\\\377\",\"all\\u002f\\\\378\",\"all\\u002f\\\\379\",\"all\\u002f\\\\380\",\"all\\u002f\\\\381\",\"all\\u002f\\\\382\",\"all\\u002f\\\\383\",\"all\\u002f\\\\384\",\"all\\u002f\\\\385\",\"all\\u002f\\\\386\",\"all\\u002f\\\\387\",\"all\\u002f\\\\388\",\"all\\u002f\\\\389\",\"all\\u002f\\\\390\",\"all\\u002f\\\\391\",\"all\\u002f\\\\392\",\"all\\u002f\\\\393\",\"all\\u002f\\\\394\",\"all\\u002f\\\\395\",\"all\\u002f\\\\396\",\"all\\u002f\\\\397\",\"all\\u002f\\\\398\",\"all\\u002f\\\\399\",\"all\\u002f\\\\400\",\"all\\u002f\\\\401\",\"all\\u002f\\\\402\",\"all\\u002f\\\\403\",\"all\\u002f\\\\404\",\"all\\u002f\\\\405\",\"all\\u002f\\\\406\",\"all\\u002f\\\\407\",\"all\\u002f\\\\408\",\"all\\u002f\\\\409\",\"all\\u002f\\\\410\",\"all\\u002f\\\\411\",\"all\\u002f\\\\412\",\"all\\u002f\\\\413\",\"all\\u002f\\\\414\",\"all\\u002f\\\\415\",\"all\\u002f\\\\416\",\"all\\u002f\\\\417\",\"all\\u002f\\\\418\",\"all\\u002f\\\\419\",\"all\\u002f\\\\420\",\"all\\u002f\\\\421\",\"all\\u002f\\\\422\",\"all\\u002f\\\\423\",\"all\\u002f\\\\424\",\"all\\u002f\\\\425\",\"all\\u002f\\\\426\",\"all\\u002f\\\\427\",\"all\\u002f\\\\428\",\"all\\u002f\\\\429\",\"all\\u002f\\\\430\",\"all\\u002f\\\\431\",\"all\\u002f\\\\432\",\"all\\u002f\\\\433\",\"all\\u002f\\\\434\",\"all\\u002f\\\\435\",\"all\\u002f\\\\436\",\"all\\u002f\\\\437\",\"all\\u002f\\\\438\",\"all\\u002f\\\\439\",\"all\\u002f\\\\440\",\"all\\u002f\\\\441\",\"all\\u002f\\\\442\",\"all\\u002f\\\\443\",\"all\\u002f\\\\444\",\"all\\u002f\\\\445\",\"all\\u002f\\\\446\",\"all\\u002f\\\\447\",\"all\\u002f\\\\448\",\"all\\u002f\\\\449\",\"all\\u002f\\\\450\",\"all\\u002f\\\\451\",\"all\\u002f\\\\452\",\"all\\u002f\\\\453\",\"all\\u002f\\\\454\",\"all\\u002f\\\\455\",\"all\\u002f\\\\456\",\"all\\u002f\\\\457\",\"all\\u002f\\\\458\",\"all\\u002f\\\\459\",\"all\\u002f\\\\460\",\"all\\u002f\\\\461\",\"all\\u002f\\\\462\",\"all\\u002f\\\\463\",\"all\\u002f\\\\464\",\"all\\u002f\\\\465\",\"all\\u002f\\\\466\",\"all\\u002f\\\\467\",\"all\\u002f\\\\468\",\"all\\u002f\\\\469\",\"all\\u002f\\\\470\",\"all\\u002f\\\\471\",\"all\\u002f\\\\472\",\"all\\u002f\\\\473\",\"all\\u002f\\\\474\",\"all\\u002f\\\\475\",\"all\\u002f\\\\476\",\"all\\u002f\\\\477\",\"all\\u002f\\\\478\",\"all\\u002f\\\\479\",\"all\\u002f\\\\480\",\"all\\u002f\\\\481\",\"all\\u002f\\\\482\",\"all\\u002f\\\\483\",\"all\\u002f\\\\484\",\"all\\u002f\\\\485\",\"all\\u002f\\\\486\",\"all\\u002f\\\\487\",\"all\\u002f\\\\488\",\"all\\u002f\\\\489\",\"all\\u002f\\\\490\",\"all\\u002f\\\\491\",\"all\\u002f\\\\492\",\"all\\u002f\\\\493\",\"all\\u002f\\\\494\",\"all\\u002f\\\\495\",\"all\\u002f\\\\496\",\"all\\u002f\\\\497\",\"all\\u002f\\\\498\",\"all\\u002f\\\\499\",\"all\\u002f\\\\500\",\"all\\u002f\\\\501\",\"all\\u002f\\\\502\",\"all\\u002f\\\\503\",\"all\\u002f\\\\504\",\"all\\u002f\\\\505\",\"all\\u002f\\\\506\",\"all\\u002f\\\\507\",\"all\\u002f\\\\508\",\"all\\u002f\\\\509\",\"all\\u002f\\\\510\",\"all\\u002f\\\\511\",\"all\\u002f\\\\512\",\"all\\u002f\\\\513\",\"all\\u002f\\\\514\",\"all\\u002f\\\\515\",\"all\\u002f\\\\516\",\"all\\u002f\\\\517\",\"all\\u002f\\\\518\",\"all\\u002f\\\\519\",\"all\\u002f\\\\520\",\"all\\u002f\\\\521\",\"all\\u002f\\\\522\",\"all\\u002f\\\\523\",\"all\\u002f\\\\524\",\"all\\u002f\\\\525\",\"all\\u002f\\\\526\",\"all\\u002f\\\\527\",\"all\\u002f\\\\528\",\"all\\u002f\\\\529\",\"all\\u002f\\\\530\",\"all\\u002f\\\\531\",\"all\\u002f\\\\532\",\"all\\u002f\\\\533\",\"all\\u002f\\\\534\",\"all\\u002f\\\\535\",\"all\\u002f\\\\536\",\"all\\u002f\\\\537\",\"all\\u002f\\\\538\",\"all\\u002f\\\\539\",\"all\\u002f\\\\540\",\"all\\u002f\\\\541\",\"all\\u002f\\\\542\",\"all\\u002f\\\\543\",\"all\\u002f\\\\544\",\"all\\u002f\\\\545\",\"all\\u002f\\\\546\",\"all\\u002f\\\\547\",\"all\\u002f\\\\548\",\"all\\u002f\\\\549\",\"all\\u002f\\\\550\",\"all\\u002f\\\\551\",\"all\\u002f\\\\552\",\"all\\u002f\\\\553\",\"all\\u002f\\\\554\",\"all\\u002f\\\\555\",\"all\\u002f\\\\556\",\"all\\u002f\\\\557\",\"all\\u002f\\\\558\",\"all\\u002f\\\\559\",\"all\\u002f\\\\560\",\"all\\u002f\\\\561\",\"all\\u002f\\\\562\",\"all\\u002f\\\\563\",\"all\\u002f\\\\564\",\"all\\u002f\\\\565\",\"all\\u002f\\\\566\",\"all\\u002f\\\\567\",\"all\\u002f\\\\568\",\"all\\u002f\\\\569\",\"all\\u002f\\\\570\",\"all\\u002f\\\\571\",\"all\\u002f\\\\572\",\"all\\u002f\\\\573\",\"all\\u002f\\\\574\",\"all\\u002f\\\\575\",\"all\\u002f\\\\576\",\"all\\u002f\\\\577\",\"all\\u002f\\\\578\",\"all\\u002f\\\\579\",\"all\\u002f\\\\580\",\"all\\u002f\\\\581\",\"all\\u002f\\\\582\",\"all\\u002f\\\\583\",\"all\\u002f\\\\584\",\"all\\u002f\\\\585\",\"all\\u002f\\\\586\",\"all\\u002f\\\\587\",\"all\\u002f\\\\588\",\"all\\u002f\\\\589\",\"all\\u002f\\\\590\",\"all\\u002f\\\\591\",\"all\\u002f\\\\592\",\"all\\u002f\\\\593\",\"all\\u002f\\\\594\",\"all\\u002f\\\\595\",\"all\\u002f\\\\596\",\"all\\u002f\\\\597\",\"all\\u002f\\\\598\",\"all\\u002f\\\\599\",\"all\\u002f\\\\600\",\"all\\u002f\\\\601\",\"all\\u002f\\\\602\",\"all\\u002f\\\\603\",\"all\\u002f\\\\604\",\"all\\u002f\\\\605\",\"all\\u002f\\\\606\",\"all\\u002f\\\\607\",\"all\\u002f\\\\608\",\"all\\u002f\\\\609\",\"all\\u002f\\\\610\",\"all\\u002f\\\\611\",\"all\\u002f\\\\612\",\"all\\u002f\\\\613\",\"all\\u002f\\\\614\",\"all\\u002f\\\\615\",\"all\\u002f\\\\616\",\"all\\u002f\\\\617\",\"all\\u002f\\\\618\",\"all\\u002f\\\\619\",\"all\\u002f\\\\620\",\"all\\u002f\\\\621\",\"all\\u002f\\\\622\",\"all\\u002f\\\\623\",\"all\\u002f\\\\624\",\"all\\u002f\\\\625\",\"all\\u002f\\\\626\",\"all\\u002f\\\\627\",\"all\\u002f\\\\628\",\"all\\u002f\\\\629\",\"all\\u002f\\\\630\",\"all\\u002f\\\\631\",\"all\\u002f\\\\632\",\"all\\u002f\\\\633\",\"all\\u002f\\\\634\",\"all\\u002f\\\\635\",\"all\\u002f\\\\636\",\"all\\u002f\\\\637\",\"all\\u002f\\\\638\",\"all\\u002f\\\\639\",\"all\\u002f\\\\640\",\"all\\u002f\\\\641\",\"all\\u002f\\\\642\",\"all\\u002f\\\\643\",\"all\\u002f\\\\644\",\"all\\u002f\\\\645\",\"all\\u002f\\\\646\",\"all\\u002f\\\\647\",\"all\\u002f\\\\648\",\"all\\u002f\\\\649\",\"all\\u002f\\\\650\",\"all\\u002f\\\\651\",\"all\\u002f\\\\652\",\"all\\u002f\\\\653\",\"all\\u002f\\\\654\",\"all\\u002f\\\\655\",\"all\\u002f\\\\656\",\"all\\u002f\\\\657\",\"all\\u002f\\\\658\",\"all\\u002f\\\\659\",\"all\\u002f\\\\660\",\"all\\u002f\\\\661\",\"all\\u002f\\\\662\",\"all\\u002f\\\\663\",\"all\\u002f\\\\664\",\"all\\u002f\\\\665\",\"all\\u002f\\\\666\",\"all\\u002f\\\\667\",\"all\\u002f\\\\668\",\"all\\u002f\\\\669\",\"all\\u002f\\\\670\",\"all\\u002f\\\\671\",\"all\\u002f\\\\672\",\"all\\u002f\\\\673\",\"all\\u002f\\\\674\",\"all\\u002f\\\\675\",\"all\\u002f\\\\676\",\"all\\u002f\\\\677\",\"all\\u002f\\\\678\",\"all\\u002f\\\\679\",\"all\\u002f\\\\680\",\"all\\u002f\\\\681\",\"all\\u002f\\\\682\",\"all\\u002f\\\\683\",\"all\\u002f\\\\684\",\"all\\u002f\\\\685\",\"all\\u002f\\\\686\",\"all\\u002f\\\\687\",\"all\\u002f\\\\688\",\"all\\u002f\\\\689\",\"all\\u002f\\\\690\",\"all\\u002f\\\\691\",\"all\\u002f\\\\692\",\"all\\u002f\\\\693\",\"all\\u002f\\\\694\",\"all\\u002f\\\\695\",\"all\\u002f\\\\696\",\"all\\u002f\\\\697\",\"all\\u002f\\\\698\",\"all\\u002f\\\\699\",\"all\\u002f\\\\700\",\"all\\u002f\\\\701\",\"all\\u002f\\\\702\",\"all\\u002f\\\\703\",\"all\\u002f\\\\704\",\"all\\u002f\\\\705\",\"all\\u002f\\\\706\",\"all\\u002f\\\\707\",\"all\\u002f\\\\708\",\"all\\u002f\\\\709\",\"all\\u002f\\\\710\",\"all\\u002f\\\\711\",\"all\\u002f\\\\712\",\"all\\u002f\\\\713\",\"all\\u002f\\\\714\",\"all\\u002f\\\\715\",\"all\\u002f\\\\716\",\"all\\u002f\\\\717\",\"all\\u002f\\\\718\",\"all\\u002f\\\\719\",\"all\\u002f\\\\720\",\"all\\u002f\\\\721\",\"all\\u002f\\\\722\",\"all\\u002f\\\\723\",\"all\\u002f\\\\724\",\"all\\u002f\\\\725\",\"all\\u002f\\\\726\",\"all\\u002f\\\\727\",\"all\\u002f\\\\728\",\"all\\u002f\\\\729\",\"all\\u002f\\\\730\",\"all\\u002f\\\\731\",\"all\\u002f\\\\732\",\"all\\u002f\\\\733\",\"all\\u002f\\\\734\",\"all\\u002f\\\\735\",\"all\\u002f\\\\736\",\"all\\u002f\\\\737\",\"all\\u002f\\\\738\",\"all\\u002f\\\\739\",\"all\\u002f\\\\740\",\"all\\u002f\\\\741\",\"all\\u002f\\\\742\",\"all\\u002f\\\\743\",\"all\\u002f\\\\744\",\"all\\u002f\\\\745\",\"all\\u002f\\\\746\",\"all\\u002f\\\\747\",\"all\\u002f\\\\748\",\"all\\u002f\\\\749\",\"all\\u002f\\\\750\",\"all\\u002f\\\\751\",\"all\\u002f\\\\752\",\"all\\u002f\\\\753\",\"all\\u002f\\\\754\",\"all\\u002f\\\\755\",\"all\\u002f\\\\756\",\"all\\u002f\\\\757\",\"all\\u002f\\\\758\",\"all\\u002f\\\\759\",\"all\\u002f\\\\760\",\"all\\u002f\\\\761\",\"all\\u002f\\\\762\",\"all\\u002f\\\\763\",\"all\\u002f\\\\764\",\"all\\u002f\\\\765\",\"all\\u002f\\\\766\",\"all\\u002f\\\\767\",\"all\\u002f\\\\768\",\"all\\u002f\\\\769\",\"all\\u002f\\\\770\",\"all\\u002f\\\\771\",\"all\\u002f\\\\772\",\"all\\u002f\\\\773\",\"all\\u002f\\\\774\",\"all\\u002f\\\\775\",\"all\\u002f\\\\776\",\"all\\u002f\\\\777\",\"all\\u002f\\\\778\",\"all\\u002f\\\\779\",\"all\\u002f\\\\780\",\"all\\u002f\\\\781\",\"all\\u002f\\\\782\",\"all\\u002f\\\\783\",\"all\\u002f\\\\784\",\"all\\u002f\\\\785\",\"all\\u002f\\\\786\",\"all\\u002f\\\\787\",\"all\\u002f\\\\788\",\"all\\u002f\\\\789\",\"all\\u002f\\\\790\",\"all\\u002f\\\\791\",\"all\\u002f\\\\792\",\"all\\u002f\\\\793\",\"all\\u002f\\\\794\",\"all\\u002f\\\\795\",\"all\\u002f\\\\796\",\"all\\u002f\\\\797\",\"all\\u002f\\\\798\",\"all\\u002f\\\\799\",\"all\\u002f\\\\800\",\"all\\u002f\\\\801\",\"all\\u002f\\\\802\",\"all\\u002f\\\\803\",\"all\\u002f\\\\804\",\"all\\u002f\\\\805\",\"all\\u002f\\\\806\",\"all\\u002f\\\\807\",\"all\\u002f\\\\808\",\"all\\u002f\\\\809\",\"all\\u002f\\\\810\",\"all\\u002f\\\\811\",\"all\\u002f\\\\812\",\"all\\u002f\\\\813\",\"all\\u002f\\\\814\",\"all\\u002f\\\\815\",\"all\\u002f\\\\816\",\"all\\u002f\\\\817\",\"all\\u002f\\\\818\",\"all\\u002f\\\\819\",\"all\\u002f\\\\820\",\"all\\u002f\\\\821\",\"all\\u002f\\\\822\",\"all\\u002f\\\\823\",\"all\\u002f\\\\824\",\"all\\u002f\\\\825\",\"all\\u002f\\\\826\",\"all\\u002f\\\\827\",\"all\\u002f\\\\828\",\"all\\u002f\\\\829\",\"all\\u002f\\\\830\",\"all\\u002f\\\\831\",\"all\\u002f\\\\832\",\"all\\u002f\\\\833\",\"all\\u002f\\\\834\",\"all\\u002f\\\\835\",\"all\\u002f\\\\836\",\"all\\u002f\\\\837\",\"all\\u002f\\\\838\",\"all\\u002f\\\\839\",\"all\\u002f\\\\840\",\"all\\u002f\\\\841\",\"all\\u002f\\\\842\",\"all\\u002f\\\\843\",\"all\\u002f\\\\844\",\"all\\u002f\\\\845\",\"all\\u002f\\\\846\",\"all\\u002f\\\\847\",\"all\\u002f\\\\848\",\"all\\u002f\\\\849\",\"all\\u002f\\\\850\",\"all\\u002f\\\\851\",\"all\\u002f\\\\852\",\"all\\u002f\\\\853\",\"all\\u002f\\\\854\",\"all\\u002f\\\\855\",\"all\\u002f\\\\856\",\"all\\u002f\\\\857\",\"all\\u002f\\\\858\",\"all\\u002f\\\\859\",\"all\\u002f\\\\860\",\"all\\u002f\\\\861\",\"all\\u002f\\\\862\",\"all\\u002f\\\\863\",\"all\\u002f\\\\864\",\"all\\u002f\\\\865\",\"all\\u002f\\\\866\",\"all\\u002f\\\\867\",\"all\\u002f\\\\868\",\"all\\u002f\\\\869\",\"all\\u002f\\\\870\",\"all\\u002f\\\\871\",\"all\\u002f\\\\872\",\"all\\u002f\\\\873\",\"all\\u002f\\\\874\",\"all\\u002f\\\\875\",\"all\\u002f\\\\876\",\"all\\u002f\\\\877\",\"all\\u002f\\\\878\",\"all\\u002f\\\\879\",\"all\\u002f\\\\880\",\"all\\u002f\\\\881\",\"all\\u002f\\\\882\",\"all\\u002f\\\\883\",\"all\\u002f\\\\884\",\"all\\u002f\\\\885\",\"all\\u002f\\\\886\",\"all\\u002f\\\\887\",\"all\\u002f\\\\888\",\"all\\u002f\\\\889\",\"all\\u002f\\\\890\",\"all\\u002f\\\\891\",\"all\\u002f\\\\892\",\"all\\u002f\\\\893\",\"all\\u002f\\\\894\",\"all\\u002f\\\\895\",\"all\\u002f\\\\896\",\"all\\u002f\\\\897\",\"all\\u002f\\\\898\",\"all\\u002f\\\\899\",\"all\\u002f\\\\900\",\"all\\u002f\\\\901\",\"all\\u002f\\\\902\",\"all\\u002f\\\\903\",\"all\\u002f\\\\904\",\"all\\u002f\\\\905\",\"all\\u002f\\\\906\",\"all\\u002f\\\\907\",\"all\\u002f\\\\908\",\"all\\u002f\\\\909\",\"all\\u002f\\\\910\",\"all\\u002f\\\\911\",\"all\\u002f\\\\912\",\"all\\u002f\\\\913\",\"all\\u002f\\\\914\",\"all\\u002f\\\\915\",\"all\\u002f\\\\916\",\"all\\u002f\\\\917\",\"all\\u002f\\\\918\",\"all\\u002f\\\\919\",\"all\\u002f\\\\920\",\"all\\u002f\\\\921\",\"all\\u002f\\\\922\",\"all\\u002f\\\\923\",\"all\\u002f\\\\924\",\"all\\u002f\\\\925\",\"all\\u002f\\\\926\",\"all\\u002f\\\\927\",\"all\\u002f\\\\928\",\"all\\u002f\\\\929\",\"all\\u002f\\\\930\",\"all\\u002f\\\\931\",\"all\\u002f\\\\932\",\"all\\u002f\\\\933\",\"all\\u002f\\\\934\",\"all\\u002f\\\\935\",\"all\\u002f\\\\936\",\"all\\u002f\\\\937\",\"all\\u002f\\\\938\",\"all\\u002f\\\\939\",\"all\\u002f\\\\940\",\"all\\u002f\\\\941\",\"all\\u002f\\\\942\",\"all\\u002f\\\\943\",\"all\\u002f\\\\944\",\"all\\u002f\\\\945\",\"all\\u002f\\\\946\",\"all\\u002f\\\\947\",\"all\\u002f\\\\948\",\"all\\u002f\\\\949\",\"all\\u002f\\\\950\",\"all\\u002f\\\\951\",\"all\\u002f\\\\952\",\"all\\u002f\\\\953\",\"all\\u002f\\\\954\",\"all\\u002f\\\\955\",\"all\\u002f\\\\956\",\"all\\u002f\\\\957\",\"all\\u002f\\\\958\",\"all\\u002f\\\\959\",\"all\\u002f\\\\960\",\"all\\u002f\\\\961\",\"all\\u002f\\\\962\",\"all\\u002f\\\\963\",\"all\\u002f\\\\964\",\"all\\u002f\\\\965\",\"all\\u002f\\\\966\",\"all\\u002f\\\\967\",\"all\\u002f\\\\968\",\"all\\u002f\\\\969\",\"all\\u002f\\\\970\",\"all\\u002f\\\\971\",\"all\\u002f\\\\972\",\"all\\u002f\\\\973\",\"all\\u002f\\\\974\",\"all\\u002f\\\\975\",\"all\\u002f\\\\976\",\"all\\u002f\\\\977\",\"all\\u002f\\\\978\",\"all\\u002f\\\\979\",\"all\\u002f\\\\980\",\"all\\u002f\\\\981\",\"all\\u002f\\\\982\",\"all\\u002f\\\\983\",\"all\\u002f\\\\984\",\"all\\u002f\\\\985\",\"all\\u002f\\\\986\",\"all\\u002f\\\\987\",\"all\\u002f\\\\988\",\"all\\u002f\\\\989\",\"all\\u002f\\\\990\",\"all\\u002f\\\\991\",\"all\\u002f\\\\992\",\"all\\u002f\\\\993\",\"all\\u002f\\\\994\",\"all\\u002f\\\\995\",\"all\\u002f\\\\996\",\"all\\u002f\\\\997\",\"all\\u002f\\\\998\",\"all\\u002f\\\\999\",\"all\"],\"labels\":[\"\\\\000\",\"\\\\001\",\"\\\\002\",\"\\\\003\",\"\\\\004\",\"\\\\005\",\"\\\\006\",\"\\\\007\",\"\\\\008\",\"\\\\009\",\"\\\\010\",\"\\\\011\",\"\\\\012\",\"\\\\013\",\"\\\\014\",\"\\\\015\",\"\\\\016\",\"\\\\017\",\"\\\\018\",\"\\\\019\",\"\\\\020\",\"\\\\021\",\"\\\\022\",\"\\\\023\",\"\\\\024\",\"\\\\025\",\"\\\\026\",\"\\\\027\",\"\\\\028\",\"\\\\029\",\"\\\\030\",\"\\\\031\",\"\\\\032\",\"\\\\033\",\"\\\\034\",\"\\\\035\",\"\\\\036\",\"\\\\037\",\"\\\\038\",\"\\\\039\",\"\\\\040\",\"\\\\041\",\"\\\\042\",\"\\\\043\",\"\\\\044\",\"\\\\045\",\"\\\\046\",\"\\\\047\",\"\\\\048\",\"\\\\049\",\"\\\\050\",\"\\\\051\",\"\\\\052\",\"\\\\053\",\"\\\\054\",\"\\\\055\",\"\\\\056\",\"\\\\057\",\"\\\\058\",\"\\\\059\",\"\\\\060\",\"\\\\061\",\"\\\\062\",\"\\\\063\",\"\\\\064\",\"\\\\065\",\"\\\\066\",\"\\\\067\",\"\\\\068\",\"\\\\069\",\"\\\\070\",\"\\\\071\",\"\\\\072\",\"\\\\073\",\"\\\\074\",\"\\\\075\",\"\\\\076\",\"\\\\077\",\"\\\\078\",\"\\\\079\",\"\\\\080\",\"\\\\081\",\"\\\\082\",\"\\\\083\",\"\\\\084\",\"\\\\085\",\"\\\\086\",\"\\\\087\",\"\\\\088\",\"\\\\089\",\"\\\\090\",\"\\\\091\",\"\\\\092\",\"\\\\093\",\"\\\\094\",\"\\\\095\",\"\\\\096\",\"\\\\097\",\"\\\\098\",\"\\\\099\",\"\\\\100\",\"\\\\101\",\"\\\\102\",\"\\\\103\",\"\\\\104\",\"\\\\105\",\"\\\\106\",\"\\\\107\",\"\\\\108\",\"\\\\109\",\"\\\\110\",\"\\\\111\",\"\\\\112\",\"\\\\113\",\"\\\\114\",\"\\\\115\",\"\\\\116\",\"\\\\117\",\"\\\\118\",\"\\\\119\",\"\\\\120\",\"\\\\121\",\"\\\\122\",\"\\\\123\",\"\\\\124\",\"\\\\125\",\"\\\\126\",\"\\\\127\",\"\\\\128\",\"\\\\129\",\"\\\\130\",\"\\\\131\",\"\\\\132\",\"\\\\133\",\"\\\\134\",\"\\\\135\",\"\\\\136\",\"\\\\137\",\"\\\\138\",\"\\\\139\",\"\\\\140\",\"\\\\141\",\"\\\\142\",\"\\\\143\",\"\\\\144\",\"\\\\145\",\"\\\\146\",\"\\\\147\",\"\\\\148\",\"\\\\149\",\"\\\\150\",\"\\\\151\",\"\\\\152\",\"\\\\153\",\"\\\\154\",\"\\\\155\",\"\\\\156\",\"\\\\157\",\"\\\\158\",\"\\\\159\",\"\\\\160\",\"\\\\161\",\"\\\\162\",\"\\\\163\",\"\\\\164\",\"\\\\165\",\"\\\\166\",\"\\\\167\",\"\\\\168\",\"\\\\169\",\"\\\\170\",\"\\\\171\",\"\\\\172\",\"\\\\173\",\"\\\\174\",\"\\\\175\",\"\\\\176\",\"\\\\177\",\"\\\\178\",\"\\\\179\",\"\\\\180\",\"\\\\181\",\"\\\\182\",\"\\\\183\",\"\\\\184\",\"\\\\185\",\"\\\\186\",\"\\\\187\",\"\\\\188\",\"\\\\189\",\"\\\\190\",\"\\\\191\",\"\\\\192\",\"\\\\193\",\"\\\\194\",\"\\\\195\",\"\\\\196\",\"\\\\197\",\"\\\\198\",\"\\\\199\",\"\\\\200\",\"\\\\201\",\"\\\\202\",\"\\\\203\",\"\\\\204\",\"\\\\205\",\"\\\\206\",\"\\\\207\",\"\\\\208\",\"\\\\209\",\"\\\\210\",\"\\\\211\",\"\\\\212\",\"\\\\213\",\"\\\\214\",\"\\\\215\",\"\\\\216\",\"\\\\217\",\"\\\\218\",\"\\\\219\",\"\\\\220\",\"\\\\221\",\"\\\\222\",\"\\\\223\",\"\\\\224\",\"\\\\225\",\"\\\\226\",\"\\\\227\",\"\\\\228\",\"\\\\229\",\"\\\\230\",\"\\\\231\",\"\\\\232\",\"\\\\233\",\"\\\\234\",\"\\\\235\",\"\\\\236\",\"\\\\237\",\"\\\\238\",\"\\\\239\",\"\\\\240\",\"\\\\241\",\"\\\\242\",\"\\\\243\",\"\\\\244\",\"\\\\245\",\"\\\\246\",\"\\\\247\",\"\\\\248\",\"\\\\249\",\"\\\\250\",\"\\\\251\",\"\\\\252\",\"\\\\253\",\"\\\\254\",\"\\\\255\",\"\\\\256\",\"\\\\257\",\"\\\\258\",\"\\\\259\",\"\\\\260\",\"\\\\261\",\"\\\\262\",\"\\\\263\",\"\\\\264\",\"\\\\265\",\"\\\\266\",\"\\\\267\",\"\\\\268\",\"\\\\269\",\"\\\\270\",\"\\\\271\",\"\\\\272\",\"\\\\273\",\"\\\\274\",\"\\\\275\",\"\\\\276\",\"\\\\277\",\"\\\\278\",\"\\\\279\",\"\\\\280\",\"\\\\281\",\"\\\\282\",\"\\\\283\",\"\\\\284\",\"\\\\285\",\"\\\\286\",\"\\\\287\",\"\\\\288\",\"\\\\289\",\"\\\\290\",\"\\\\291\",\"\\\\292\",\"\\\\293\",\"\\\\294\",\"\\\\295\",\"\\\\296\",\"\\\\297\",\"\\\\298\",\"\\\\299\",\"\\\\300\",\"\\\\301\",\"\\\\302\",\"\\\\303\",\"\\\\304\",\"\\\\305\",\"\\\\306\",\"\\\\307\",\"\\\\308\",\"\\\\309\",\"\\\\310\",\"\\\\311\",\"\\\\312\",\"\\\\313\",\"\\\\314\",\"\\\\315\",\"\\\\316\",\"\\\\317\",\"\\\\318\",\"\\\\319\",\"\\\\320\",\"\\\\321\",\"\\\\322\",\"\\\\323\",\"\\\\324\",\"\\\\325\",\"\\\\326\",\"\\\\327\",\"\\\\328\",\"\\\\329\",\"\\\\330\",\"\\\\331\",\"\\\\332\",\"\\\\333\",\"\\\\334\",\"\\\\335\",\"\\\\336\",\"\\\\337\",\"\\\\338\",\"\\\\339\",\"\\\\340\",\"\\\\341\",\"\\\\342\",\"\\\\343\",\"\\\\344\",\"\\\\345\",\"\\\\346\",\"\\\\347\",\"\\\\348\",\"\\\\349\",\"\\\\350\",\"\\\\351\",\"\\\\352\",\"\\\\353\",\"\\\\354\",\"\\\\355\",\"\\\\356\",\"\\\\357\",\"\\\\358\",\"\\\\359\",\"\\\\360\",\"\\\\361\",\"\\\\362\",\"\\\\363\",\"\\\\364\",\"\\\\365\",\"\\\\366\",\"\\\\367\",\"\\\\368\",\"\\\\369\",\"\\\\370\",\"\\\\371\",\"\\\\372\",\"\\\\373\",\"\\\\374\",\"\\\\375\",\"\\\\376\",\"\\\\377\",\"\\\\378\",\"\\\\379\",\"\\\\380\",\"\\\\381\",\"\\\\382\",\"\\\\383\",\"\\\\384\",\"\\\\385\",\"\\\\386\",\"\\\\387\",\"\\\\388\",\"\\\\389\",\"\\\\390\",\"\\\\391\",\"\\\\392\",\"\\\\393\",\"\\\\394\",\"\\\\395\",\"\\\\396\",\"\\\\397\",\"\\\\398\",\"\\\\399\",\"\\\\400\",\"\\\\401\",\"\\\\402\",\"\\\\403\",\"\\\\404\",\"\\\\405\",\"\\\\406\",\"\\\\407\",\"\\\\408\",\"\\\\409\",\"\\\\410\",\"\\\\411\",\"\\\\412\",\"\\\\413\",\"\\\\414\",\"\\\\415\",\"\\\\416\",\"\\\\417\",\"\\\\418\",\"\\\\419\",\"\\\\420\",\"\\\\421\",\"\\\\422\",\"\\\\423\",\"\\\\424\",\"\\\\425\",\"\\\\426\",\"\\\\427\",\"\\\\428\",\"\\\\429\",\"\\\\430\",\"\\\\431\",\"\\\\432\",\"\\\\433\",\"\\\\434\",\"\\\\435\",\"\\\\436\",\"\\\\437\",\"\\\\438\",\"\\\\439\",\"\\\\440\",\"\\\\441\",\"\\\\442\",\"\\\\443\",\"\\\\444\",\"\\\\445\",\"\\\\446\",\"\\\\447\",\"\\\\448\",\"\\\\449\",\"\\\\450\",\"\\\\451\",\"\\\\452\",\"\\\\453\",\"\\\\454\",\"\\\\455\",\"\\\\456\",\"\\\\457\",\"\\\\458\",\"\\\\459\",\"\\\\460\",\"\\\\461\",\"\\\\462\",\"\\\\463\",\"\\\\464\",\"\\\\465\",\"\\\\466\",\"\\\\467\",\"\\\\468\",\"\\\\469\",\"\\\\470\",\"\\\\471\",\"\\\\472\",\"\\\\473\",\"\\\\474\",\"\\\\475\",\"\\\\476\",\"\\\\477\",\"\\\\478\",\"\\\\479\",\"\\\\480\",\"\\\\481\",\"\\\\482\",\"\\\\483\",\"\\\\484\",\"\\\\485\",\"\\\\486\",\"\\\\487\",\"\\\\488\",\"\\\\489\",\"\\\\490\",\"\\\\491\",\"\\\\492\",\"\\\\493\",\"\\\\494\",\"\\\\495\",\"\\\\496\",\"\\\\497\",\"\\\\498\",\"\\\\499\",\"\\\\500\",\"\\\\501\",\"\\\\502\",\"\\\\503\",\"\\\\504\",\"\\\\505\",\"\\\\506\",\"\\\\507\",\"\\\\508\",\"\\\\509\",\"\\\\510\",\"\\\\511\",\"\\\\512\",\"\\\\513\",\"\\\\514\",\"\\\\515\",\"\\\\516\",\"\\\\517\",\"\\\\518\",\"\\\\519\",\"\\\\520\",\"\\\\521\",\"\\\\522\",\"\\\\523\",\"\\\\524\",\"\\\\525\",\"\\\\526\",\"\\\\527\",\"\\\\528\",\"\\\\529\",\"\\\\530\",\"\\\\531\",\"\\\\532\",\"\\\\533\",\"\\\\534\",\"\\\\535\",\"\\\\536\",\"\\\\537\",\"\\\\538\",\"\\\\539\",\"\\\\540\",\"\\\\541\",\"\\\\542\",\"\\\\543\",\"\\\\544\",\"\\\\545\",\"\\\\546\",\"\\\\547\",\"\\\\548\",\"\\\\549\",\"\\\\550\",\"\\\\551\",\"\\\\552\",\"\\\\553\",\"\\\\554\",\"\\\\555\",\"\\\\556\",\"\\\\557\",\"\\\\558\",\"\\\\559\",\"\\\\560\",\"\\\\561\",\"\\\\562\",\"\\\\563\",\"\\\\564\",\"\\\\565\",\"\\\\566\",\"\\\\567\",\"\\\\568\",\"\\\\569\",\"\\\\570\",\"\\\\571\",\"\\\\572\",\"\\\\573\",\"\\\\574\",\"\\\\575\",\"\\\\576\",\"\\\\577\",\"\\\\578\",\"\\\\579\",\"\\\\580\",\"\\\\581\",\"\\\\582\",\"\\\\583\",\"\\\\584\",\"\\\\585\",\"\\\\586\",\"\\\\587\",\"\\\\588\",\"\\\\589\",\"\\\\590\",\"\\\\591\",\"\\\\592\",\"\\\\593\",\"\\\\594\",\"\\\\595\",\"\\\\596\",\"\\\\597\",\"\\\\598\",\"\\\\599\",\"\\\\600\",\"\\\\601\",\"\\\\602\",\"\\\\603\",\"\\\\604\",\"\\\\605\",\"\\\\606\",\"\\\\607\",\"\\\\608\",\"\\\\609\",\"\\\\610\",\"\\\\611\",\"\\\\612\",\"\\\\613\",\"\\\\614\",\"\\\\615\",\"\\\\616\",\"\\\\617\",\"\\\\618\",\"\\\\619\",\"\\\\620\",\"\\\\621\",\"\\\\622\",\"\\\\623\",\"\\\\624\",\"\\\\625\",\"\\\\626\",\"\\\\627\",\"\\\\628\",\"\\\\629\",\"\\\\630\",\"\\\\631\",\"\\\\632\",\"\\\\633\",\"\\\\634\",\"\\\\635\",\"\\\\636\",\"\\\\637\",\"\\\\638\",\"\\\\639\",\"\\\\640\",\"\\\\641\",\"\\\\642\",\"\\\\643\",\"\\\\644\",\"\\\\645\",\"\\\\646\",\"\\\\647\",\"\\\\648\",\"\\\\649\",\"\\\\650\",\"\\\\651\",\"\\\\652\",\"\\\\653\",\"\\\\654\",\"\\\\655\",\"\\\\656\",\"\\\\657\",\"\\\\658\",\"\\\\659\",\"\\\\660\",\"\\\\661\",\"\\\\662\",\"\\\\663\",\"\\\\664\",\"\\\\665\",\"\\\\666\",\"\\\\667\",\"\\\\668\",\"\\\\669\",\"\\\\670\",\"\\\\671\",\"\\\\672\",\"\\\\673\",\"\\\\674\",\"\\\\675\",\"\\\\676\",\"\\\\677\",\"\\\\678\",\"\\\\679\",\"\\\\680\",\"\\\\681\",\"\\\\682\",\"\\\\683\",\"\\\\684\",\"\\\\685\",\"\\\\686\",\"\\\\687\",\"\\\\688\",\"\\\\689\",\"\\\\690\",\"\\\\691\",\"\\\\692\",\"\\\\693\",\"\\\\694\",\"\\\\695\",\"\\\\696\",\"\\\\697\",\"\\\\698\",\"\\\\699\",\"\\\\700\",\"\\\\701\",\"\\\\702\",\"\\\\703\",\"\\\\704\",\"\\\\705\",\"\\\\706\",\"\\\\707\",\"\\\\708\",\"\\\\709\",\"\\\\710\",\"\\\\711\",\"\\\\712\",\"\\\\713\",\"\\\\714\",\"\\\\715\",\"\\\\716\",\"\\\\717\",\"\\\\718\",\"\\\\719\",\"\\\\720\",\"\\\\721\",\"\\\\722\",\"\\\\723\",\"\\\\724\",\"\\\\725\",\"\\\\726\",\"\\\\727\",\"\\\\728\",\"\\\\729\",\"\\\\730\",\"\\\\731\",\"\\\\732\",\"\\\\733\",\"\\\\734\",\"\\\\735\",\"\\\\736\",\"\\\\737\",\"\\\\738\",\"\\\\739\",\"\\\\740\",\"\\\\741\",\"\\\\742\",\"\\\\743\",\"\\\\744\",\"\\\\745\",\"\\\\746\",\"\\\\747\",\"\\\\748\",\"\\\\749\",\"\\\\750\",\"\\\\751\",\"\\\\752\",\"\\\\753\",\"\\\\754\",\"\\\\755\",\"\\\\756\",\"\\\\757\",\"\\\\758\",\"\\\\759\",\"\\\\760\",\"\\\\761\",\"\\\\762\",\"\\\\763\",\"\\\\764\",\"\\\\765\",\"\\\\766\",\"\\\\767\",\"\\\\768\",\"\\\\769\",\"\\\\770\",\"\\\\771\",\"\\\\772\",\"\\\\773\",\"\\\\774\",\"\\\\775\",\"\\\\776\",\"\\\\777\",\"\\\\778\",\"\\\\779\",\"\\\\780\",\"\\\\781\",\"\\\\782\",\"\\\\783\",\"\\\\784\",\"\\\\785\",\"\\\\786\",\"\\\\787\",\"\\\\788\",\"\\\\789\",\"\\\\790\",\"\\\\791\",\"\\\\792\",\"\\\\793\",\"\\\\794\",\"\\\\795\",\"\\\\796\",\"\\\\797\",\"\\\\798\",\"\\\\799\",\"\\\\800\",\"\\\\801\",\"\\\\802\",\"\\\\803\",\"\\\\804\",\"\\\\805\",\"\\\\806\",\"\\\\807\",\"\\\\808\",\"\\\\809\",\"\\\\810\",\"\\\\811\",\"\\\\812\",\"\\\\813\",\"\\\\814\",\"\\\\815\",\"\\\\816\",\"\\\\817\",\"\\\\818\",\"\\\\819\",\"\\\\820\",\"\\\\821\",\"\\\\822\",\"\\\\823\",\"\\\\824\",\"\\\\825\",\"\\\\826\",\"\\\\827\",\"\\\\828\",\"\\\\829\",\"\\\\830\",\"\\\\831\",\"\\\\832\",\"\\\\833\",\"\\\\834\",\"\\\\835\",\"\\\\836\",\"\\\\837\",\"\\\\838\",\"\\\\839\",\"\\\\840\",\"\\\\841\",\"\\\\842\",\"\\\\843\",\"\\\\844\",\"\\\\845\",\"\\\\846\",\"\\\\847\",\"\\\\848\",\"\\\\849\",\"\\\\850\",\"\\\\851\",\"\\\\852\",\"\\\\853\",\"\\\\854\",\"\\\\855\",\"\\\\856\",\"\\\\857\",\"\\\\858\",\"\\\\859\",\"\\\\860\",\"\\\\861\",\"\\\\862\",\"\\\\863\",\"\\\\864\",\"\\\\865\",\"\\\\866\",\"\\\\867\",\"\\\\868\",\"\\\\869\",\"\\\\870\",\"\\\\871\",\"\\\\872\",\"\\\\873\",\"\\\\874\",\"\\\\875\",\"\\\\876\",\"\\\\877\",\"\\\\878\",\"\\\\879\",\"\\\\880\",\"\\\\881\",\"\\\\882\",\"\\\\883\",\"\\\\884\",\"\\\\885\",\"\\\\886\",\"\\\\887\",\"\\\\888\",\"\\\\889\",\"\\\\890\",\"\\\\891\",\"\\\\892\",\"\\\\893\",\"\\\\894\",\"\\\\895\",\"\\\\896\",\"\\\\897\",\"\\\\898\",\"\\\\899\",\"\\\\900\",\"\\\\901\",\"\\\\902\",\"\\\\903\",\"\\\\904\",\"\\\\905\",\"\\\\906\",\"\\\\907\",\"\\\\908\",\"\\\\909\",\"\\\\910\",\"\\\\911\",\"\\\\912\",\"\\\\913\",\"\\\\914\",\"\\\\915\",\"\\\\916\",\"\\\\917\",\"\\\\918\",\"\\\\919\",\"\\\\920\",\"\\\\921\",\"\\\\922\",\"\\\\923\",\"\\\\924\",\"\\\\925\",\"\\\\926\",\"\\\\927\",\"\\\\928\",\"\\\\929\",\"\\\\930\",\"\\\\931\",\"\\\\932\",\"\\\\933\",\"\\\\934\",\"\\\\935\",\"\\\\936\",\"\\\\937\",\"\\\\938\",\"\\\\939\",\"\\\\940\",\"\\\\941\",\"\\\\942\",\"\\\\943\",\"\\\\944\",\"\\\\945\",\"\\\\946\",\"\\\\947\",\"\\\\948\",\"\\\\949\",\"\\\\950\",\"\\\\951\",\"\\\\952\",\"\\\\953\",\"\\\\954\",\"\\\\955\",\"\\\\956\",\"\\\\957\",\"\\\\958\",\"\\\\959\",\"\\\\960\",\"\\\\961\",\"\\\\962\",\"\\\\963\",\"\\\\964\",\"\\\\965\",\"\\\\966\",\"\\\\967\",\"\\\\968\",\"\\\\969\",\"\\\\970\",\"\\\\971\",\"\\\\972\",\"\\\\973\",\"\\\\974\",\"\\\\975\",\"\\\\976\",\"\\\\977\",\"\\\\978\",\"\\\\979\",\"\\\\980\",\"\\\\981\",\"\\\\982\",\"\\\\983\",\"\\\\984\",\"\\\\985\",\"\\\\986\",\"\\\\987\",\"\\\\988\",\"\\\\989\",\"\\\\990\",\"\\\\991\",\"\\\\992\",\"\\\\993\",\"\\\\994\",\"\\\\995\",\"\\\\996\",\"\\\\997\",\"\\\\998\",\"\\\\999\",\"all\"],\"marker\":{\"coloraxis\":\"coloraxis\",\"colors\":[82264.6,659465.4285714285,436400.6666666667,111729.375,222091.8,855868.7142857143,90034.28571428571,92130.0,677247.125,852482.0,233922.0,519230.8461538461,395517.8181818182,567838.5,466646.2,77697.5,240534.3,387790.3076923077,451739.6,1121952.9,1470366.1666666667,180966.72727272726,129145.33333333333,156296.25,8855716.285714285,390346.75,73091.0,313101.0,794838.625,1693067.3333333333,150496.16666666666,310283.3333333333,58316.75,243592.625,66653.0,134336.57142857142,394347.0,223948.1,229722.4,243061.92307692306,519212.4285714286,180570.625,619313.2222222222,413664.0,227584.14285714287,186810.46666666667,633648.1666666666,266888.86666666664,95792.63636363637,1133203.5714285714,514915.85714285716,18995.5,111988.0,120799.9,952035.4545454546,399197.7272727273,171244.66666666666,62223.333333333336,383332.4,228352.5,142316.625,476890.9166666667,87157.0,314893.0833333333,344131.625,307347.3333333333,707458.6363636364,851888.5,115563.42857142857,320381.6923076923,487146.2,51940.769230769234,485351.22222222225,302539.8125,135238.83333333334,118132.0,85985.33333333333,557246.4444444445,312081.3,1943808.6363636365,84079.5,123048.5,287089.9090909091,435636.71428571426,1258363.111111111,633831.8,203059.2857142857,142092.5,896257.5555555555,1322911.375,1335131.3,891867.25,170899.2,599102.125,120525.44444444444,405227.8,88263.44444444444,528982.3333333334,646079.1428571428,118041.57142857143,311975.75,142263.18181818182,143787.25,204990.7142857143,286798.23076923075,196037.0,879339.0,164508.75,77876.625,159500.86666666667,579694.6666666666,95951.875,159859.125,69161.16666666667,51094.833333333336,415563.875,301279.6,321207.6666666667,1323183.2857142857,45913.46153846154,270019.4666666667,265492.55555555556,535960.7272727273,863484.0,797117.1111111111,2239609.625,1040713.6666666666,449508.3846153846,142616.33333333334,82628.33333333333,70687.8,711097.0,120913.6,67971.83333333333,664413.0833333334,69578.0,86850.66666666667,664501.2,371234.9166666667,286239.8333333333,283920.21428571426,194857.55555555556,1948858.7,411875.9375,131024.1,1240023.1666666667,1919081.2,5991747.714285715,450557.25,196279.88888888888,84685.33333333333,429243.9090909091,152919.75,3048281.1818181816,659560.2307692308,636590.6,1518578.4,517675.2,324920.0,215633.14285714287,262863.3333333333,33893.0,399374.8181818182,341135.6,745675.3333333334,111899.875,927999.4285714285,514768.75,201681.0,739354.2857142857,385598.77777777775,444738.0,237869.88888888888,351735.2,496873.44444444444,31772.85714285714,4609712.7,1034973.4545454546,369456.8,210748.9,290487.875,229527.42857142858,51787.666666666664,542117.0,76411.125,365515.76470588235,646866.9090909091,143441.5,967924.25,164172.66666666666,219746.7,18037495.1,227540.75,317009.14285714284,274971.0,987479.75,301193.5,101495.33333333333,811944.5384615385,73451.4,1345565.7777777778,251614.0,1096546.6666666667,431359.75,3955460.4,627665.8,323976.8947368421,899844.2727272727,308721.6666666667,2179562.1818181816,447372.53846153844,334415.4,479544.3076923077,373237.25,124387.07142857143,212937.0,336162.1111111111,805930.2,1007785.8181818182,110334.33333333333,108512.71428571429,376723.2,1497978.0,314229.6,319193.0,269265.45454545453,271473.7272727273,286899.1538461539,553817.1666666666,618783.6666666666,121722.5,281586.375,272788.5,141410.36363636365,203717.625,427944.44444444444,172083.38461538462,1098072.5,1274146.5833333333,77147.0,218852.6,70625.0,59533.4,745071.5833333334,194427.0,322596.0,72925.16666666667,2543764.3846153845,312972.4285714286,283720.28571428574,50109.5,181153.25,565069.5,535538.0,183020.61538461538,79194.42857142857,154882.91666666666,39908.11111111111,131844.42857142858,321197.0,111013.42857142857,434162.4,90769.5,2294314.8333333335,267388.5263157895,1242944.6666666667,170351.66666666666,160899.75,157582.25,309287.14285714284,161825.8,311339.5,190323.4,414816.2,248772.7142857143,345731.3,97555.28571428571,53278.0,700777.0,229784.875,84228.5,63807.6,206102.33333333334,27988.428571428572,108029.6,1524874.4545454546,49962.666666666664,433517.6666666667,262892.93333333335,483147.5,236032.91666666666,254996.375,166214.5,698501.5454545454,235419.5,248642.42857142858,215001.44444444444,157002.0,556012.3636363636,60821.6,205879.0,190847.0,316088.6666666667,357685.4166666667,208570.9,224455.42857142858,181148.72727272726,559202.1666666666,720387.75,1543371.2727272727,254258.25,313547.44444444444,139828.61538461538,221811.92857142858,221476.63636363635,756023.5714285715,169965.66666666666,298461.1666666667,223153.625,145830.11111111112,1521286.7857142857,908429.6428571428,29783.166666666668,282907.3,194726.33333333334,48299.333333333336,426837.36363636365,45101.125,83362.44444444444,334605.4,1120738.2,284221.92307692306,160784.9,661870.0,266569.6666666667,457866.4285714286,397288.7272727273,418877.4166666667,78152.22222222222,878978.6666666666,198017.85714285713,480675.71428571426,156218.33333333334,153052.5,284683.21428571426,73003.0,824430.7692307692,273601.875,207661.33333333334,147662.63636363635,91365.5,222031.625,348483.0,468990.71428571426,283868.8333333333,110620.0,41095.833333333336,104525.625,221018.66666666666,54784.0,207522.18181818182,278387.0,741059.1818181818,388880.63636363635,622970.1666666666,142546.0588235294,313808.6666666667,141446.55555555556,383594.85714285716,205384.0909090909,375779.1111111111,234557.875,698891.75,168290.5,361267.0,452577.9,174224.75,1630039.5714285714,239501.4,87880.33333333333,42683.3,372412.14285714284,982633.0,187491.44444444444,232229.6923076923,1037241.8571428572,238668.9,323742.77777777775,346266.71428571426,303748.8,41871.454545454544,382440.36363636365,284994.125,715397.0,34228.42857142857,591497.25,275742.6666666667,247695.75,96613.375,117704.33333333333,292979.9166666667,158428.44444444444,79620.30769230769,252417.0,460383.77777777775,372187.0,47011.88888888889,90786.33333333333,462515.0,1001635.0,152534.42857142858,180479.0,329725.63636363635,202616.4,171605.2,113433.21428571429,80237.7,139657.125,10002.727272727272,25385.5,24142.75,51169.22222222222,200025.1,545335.125,380171.6666666667,299700.9,561893.1,130870.0,171377.2857142857,455997.6923076923,753738.0909090909,200787.5,182311.75,231190.8,2380415.25,722610.875,167891.4,576320.1428571428,385040.55555555556,291566.6666666667,162847.0,302176.36363636365,85540.2,52874.333333333336,872700.6,327935.07692307694,32250.1,36650.5,251359.9090909091,942807.8,468002.4285714286,124708.66666666667,151731.54545454544,330382.6,358452.0,1157898.4545454546,13824.076923076924,36859.0,389173.1818181818,94547.07692307692,515099.6666666667,354011.3333333333,331013.0,151242.0,64390.625,568332.7777777778,1048846.375,928334.3076923077,2049146.875,183859.07692307694,1454192.923076923,89579.6,2719809.8571428573,111727.875,203104.0909090909,101704.54545454546,49457.333333333336,450478.0,60899.833333333336,303793.3333333333,1193408.7777777778,612367.7058823529,124362.14285714286,204938.14285714287,1537462.8181818181,1490259.0,699607.2,298378.6,1528136.111111111,230876.375,836150.9411764706,791213.0909090909,490272.0,144432.3125,183784.0,203902.7,312042.4166666667,413284.375,743915.4285714285,924087.4545454546,221445.44444444444,401005.53846153844,118597.0,185615.82352941178,56060.875,498718.8,302302.4285714286,221998.6,205831.29411764705,810605.3333333334,808976.4666666667,599827.4,867194.8461538461,1144020.142857143,490309.4285714286,50397.11111111111,218747.6,723245.4666666667,789309.6666666666,119373.875,85714.88888888889,83806.0,120954.5,252158.44444444444,467526.8181818182,883272.6,526734.5,286594.28571428574,905363.3333333334,285760.7272727273,384110.77777777775,624797.8666666667,363061.5,104059.88888888889,352084.44444444444,412876.93333333335,1138889.3333333333,232582.75,143645.0,276097.5,1003152.625,24813.75,154201.44444444444,1532753.625,51245.75,197622.8,871726.7272727273,161914.88888888888,532003.0,452268.92307692306,26917.8,156132.7142857143,213807.77777777778,657949.4444444445,238049.0,266271.3333333333,466257.3333333333,181537.11111111112,134722.33333333334,822756.6153846154,34507.5,799998.7272727273,457952.0,52475.882352941175,58484.166666666664,687277.4545454546,91147.11111111111,241772.1,24559.333333333332,34848.1875,56820.125,353023.44444444444,219681.42857142858,25772.363636363636,67169.33333333333,58946.38461538462,1026189.6153846154,199231.9,827695.0,2044552.875,346136.6,430934.8333333333,153412.6,92031.18181818182,225879.5,368382.14285714284,108294.85714285714,836102.2142857143,350676.1666666667,164388.86666666667,211729.8,260865.55555555556,100236.91666666667,63515.75,284725.75,1179186.5,492803.2727272727,1591445.1538461538,2087013.5,117086.23076923077,59844.333333333336,33123.0,997022.25,3746521.727272727,223076.33333333334,227161.1875,410827.1666666667,93424.7,392661.3076923077,1629237.105263158,761770.4,395542.8461538461,109582.375,310404.0,2502469.25,1945820.0,64555.444444444445,618072.1666666666,24434.6,750421.8,46173.0,181617.7142857143,239208.8,1095262.6923076923,1102783.5,276527.1666666667,771588.8888888889,70402.0,54714.666666666664,37022.2,929505.0,96159.83333333333,345237.4285714286,349101.8888888889,86325.66666666667,154573.25,249835.72727272726,1570416.4615384615,187761.83333333334,544875.4285714285,589296.8333333334,618585.4615384615,678132.0,40060.25,665425.4375,131501.83333333334,58521.666666666664,1026008.6153846154,344550.54545454547,56040.0,344924.0,80155.88888888889,145209.0,1279785.875,90474.3,509195.2727272727,171336.2857142857,74650.75,126001.11111111111,511449.3,95140.0,223959.0,355431.07692307694,356463.5714285714,1434175.5714285714,332017.0,374196.125,656461.8888888889,347210.22222222225,310915.4,1663885.375,107487.93333333333,1318898.5833333333,126422.5,724396.2142857143,418189.9090909091,43936.555555555555,262906.3333333333,299744.25,202159.36363636365,215784.14285714287,229785.0,53471.454545454544,32276.333333333332,60837.09090909091,177995.9,629105.1666666666,456197.6153846154,89323.57142857143,285393.28571428574,142733.58823529413,642612.2,71949.0,534607.3333333334,1231040.5714285714,607432.3571428572,506331.8,62480.818181818184,336081.125,276812.0909090909,990285.25,164529.6,331535.55555555556,601564.125,307252.0,92741.5,137354.0,578045.4545454546,211432.73333333334,301597.6,513975.0,742555.1111111111,472725.9090909091,107287.30769230769,1101969.7142857143,501359.4285714286,246380.0,815557.5,269103.6666666667,189247.6,323964.0,403468.44444444444,125007.44444444444,200282.81818181818,366386.85714285716,97766.46666666666,483649.3333333333,485244.5714285714,29736.833333333332,24375.166666666668,109570.7,855338.5833333334,399808.9375,122319.625,389420.75,87029.36363636363,360124.85714285716,72675.625,864555.6363636364,158746.44444444444,448568.4285714286,270263.6666666667,908976.0,50496.166666666664,28092.0,74272.3,648100.0833333334,858933.4444444445,197513.125,162298.375,1284570.2,221925.5,57994.5,538058.8125,156511.33333333334,135464.76923076922,199431.88888888888,805496.2222222222,187443.0,965413.625,238759.6,209927.81818181818,317684.5714285714,214482.45454545456,64523.4,158161.0,197017.6,412354.0,226645.0,503911.8333333333,659237.3846153846,105561.0,409298.2,725779.0,499382.53846153844,185493.375,635363.6666666666,82546.5,215249.25,420002.82352941175,489857.0,365776.9090909091,219009.7,405252.55555555556,1812208.1666666667,424522.14285714284,192624.0,139650.1,764030.4285714285,714460.9,11005.333333333334,295040.4285714286,248862.2142857143,70522.72727272728,129480.28571428571,445553.9285714286,79909.5,51697.72727272727,742917.2142857143,221931.83333333334,248697.58333333334,478963.0909090909,1198934.4545454546,101863.0,295131.75,210860.83333333334,703437.0,98737.5,284847.4375,602031.0,109439.77777777778,144015.18181818182,316071.6,223705.0,745083.3,104728.6,324297.1538461539,202107.66666666666,371769.0,148622.3,529691.5,271761.0,165407.14285714287,252164.5,334114.22222222225,204034.625,43114.333333333336,187488.85714285713,717871.0,126813.75,193056.625,306949.3333333333,192126.5,379288.5,1342162.75,465915.5714285714,112459.125,355071.77777777775,250844.5294117647,575894.4,200489.25,152138.61538461538,247425.07692307694,225421.5,328714.5,93270.75,400379.22222222225,72559.75,641192.3333333334,305369.125,150986.5,201090.55555555556,96542.0,291581.4285714286,258842.875,728598.4,804336.2,234478.0909090909,439103.46153846156,430667.8333333333,229937.1,98564.75,229729.625,382576.28571428574,362709.25,741074.6,272512.0,316337.5,120995.90909090909,292359.1666666667,41728.333333333336,767668.0909090909,103247.0,732769.75,315611.85714285716,379987.0833333333,1163808.5,1343195.0833333333,125836.9,226904.42857142858,261175.11111111112,500989.8,108214.75,596733.1111111111,514674.8888888889,1090303.0,683281.9166666666,507415.7272727273,315657.8181818182,1020834.1428571428,220649.36363636365,161472.57142857142,678012.6428571428,113874.0,265208.14285714284,461246.0,506321.25,856076.0833333334,313530.6666666667,213999.45454545456,1013597.8571428572,420073.625,273659.625,380345.3,229242.875,189230.0,215936.6,289731.70588235295,406637.0,233888.72727272726,136186.08333333334,721515.7,263388.6,629074.6666666666,431628.8,137787.36363636365,98751.28571428571,214828.4,326806.5,1135912.7142857143,117051.6,840341.0,429892.6,1839266.375,694345.0,365194.07692307694,867101.5384615385,189650.42857142858,2373581.5,619707.4285714285,45590.333333333336,82154.75,336097.4,365762.0,944953.7142857143,705829.8181818182,114008.5,1290459.1666666667,424023.5,661037.0,399142.3846153846,124028.92307692308,526980.9230769231,1242747.6363636365,56754.71428571428,378111.5,409354.3125,1207534.076923077,280825.0,179111.0,216529.76923076922,292210.28571428574,57896.444444444445,245500.11111111112,140213.16666666666,368336.4375,423297.25,261991.11111111112,345940.0,33916.625,184387.0,172118.25,99515.28571428571,68816.0,304020.4666666667,103506.2,155927.6,1130736.625,905523.1,84070.2,68653.75,100658.45454545454,106515.13333333333,205197.75,1627126.6666666667,69362.78571428571,263379.55555555556,147791.0,42666.42857142857,71910.125,118960.72727272728,101956.75,439863.28571428574,133980.0,263305.75,353081.5333333333,198905.0,483713.7,56456.583333333336,618370.2,253125.16666666666,704401.5555555555,213555.61538461538,131108.66666666666,41820.9,333844.07692307694,246180.7142857143,235716.55555555556,124274.41666666667,1215435.375,460230.35297691374]},\"name\":\"\",\"parents\":[\"all\",\"all\",\"all\",\"all\",\"all\",\"all\",\"all\",\"all\",\"all\",\"all\",\"all\",\"all\",\"all\",\"all\",\"all\",\"all\",\"all\",\"all\",\"all\",\"all\",\"all\",\"all\",\"all\",\"all\",\"all\",\"all\",\"all\",\"all\",\"all\",\"all\",\"all\",\"all\",\"all\",\"all\",\"all\",\"all\",\"all\",\"all\",\"all\",\"all\",\"all\",\"all\",\"all\",\"all\",\"all\",\"all\",\"all\",\"all\",\"all\",\"all\",\"all\",\"all\",\"all\",\"all\",\"all\",\"all\",\"all\",\"all\",\"all\",\"all\",\"all\",\"all\",\"all\",\"all\",\"all\",\"all\",\"all\",\"all\",\"all\",\"all\",\"all\",\"all\",\"all\",\"all\",\"all\",\"all\",\"all\",\"all\",\"all\",\"all\",\"all\",\"all\",\"all\",\"all\",\"all\",\"all\",\"all\",\"all\",\"all\",\"all\",\"all\",\"all\",\"all\",\"all\",\"all\",\"all\",\"all\",\"all\",\"all\",\"all\",\"all\",\"all\",\"all\",\"all\",\"all\",\"all\",\"all\",\"all\",\"all\",\"all\",\"all\",\"all\",\"all\",\"all\",\"all\",\"all\",\"all\",\"all\",\"all\",\"all\",\"all\",\"all\",\"all\",\"all\",\"all\",\"all\",\"all\",\"all\",\"all\",\"all\",\"all\",\"all\",\"all\",\"all\",\"all\",\"all\",\"all\",\"all\",\"all\",\"all\",\"all\",\"all\",\"all\",\"all\",\"all\",\"all\",\"all\",\"all\",\"all\",\"all\",\"all\",\"all\",\"all\",\"all\",\"all\",\"all\",\"all\",\"all\",\"all\",\"all\",\"all\",\"all\",\"all\",\"all\",\"all\",\"all\",\"all\",\"all\",\"all\",\"all\",\"all\",\"all\",\"all\",\"all\",\"all\",\"all\",\"all\",\"all\",\"all\",\"all\",\"all\",\"all\",\"all\",\"all\",\"all\",\"all\",\"all\",\"all\",\"all\",\"all\",\"all\",\"all\",\"all\",\"all\",\"all\",\"all\",\"all\",\"all\",\"all\",\"all\",\"all\",\"all\",\"all\",\"all\",\"all\",\"all\",\"all\",\"all\",\"all\",\"all\",\"all\",\"all\",\"all\",\"all\",\"all\",\"all\",\"all\",\"all\",\"all\",\"all\",\"all\",\"all\",\"all\",\"all\",\"all\",\"all\",\"all\",\"all\",\"all\",\"all\",\"all\",\"all\",\"all\",\"all\",\"all\",\"all\",\"all\",\"all\",\"all\",\"all\",\"all\",\"all\",\"all\",\"all\",\"all\",\"all\",\"all\",\"all\",\"all\",\"all\",\"all\",\"all\",\"all\",\"all\",\"all\",\"all\",\"all\",\"all\",\"all\",\"all\",\"all\",\"all\",\"all\",\"all\",\"all\",\"all\",\"all\",\"all\",\"all\",\"all\",\"all\",\"all\",\"all\",\"all\",\"all\",\"all\",\"all\",\"all\",\"all\",\"all\",\"all\",\"all\",\"all\",\"all\",\"all\",\"all\",\"all\",\"all\",\"all\",\"all\",\"all\",\"all\",\"all\",\"all\",\"all\",\"all\",\"all\",\"all\",\"all\",\"all\",\"all\",\"all\",\"all\",\"all\",\"all\",\"all\",\"all\",\"all\",\"all\",\"all\",\"all\",\"all\",\"all\",\"all\",\"all\",\"all\",\"all\",\"all\",\"all\",\"all\",\"all\",\"all\",\"all\",\"all\",\"all\",\"all\",\"all\",\"all\",\"all\",\"all\",\"all\",\"all\",\"all\",\"all\",\"all\",\"all\",\"all\",\"all\",\"all\",\"all\",\"all\",\"all\",\"all\",\"all\",\"all\",\"all\",\"all\",\"all\",\"all\",\"all\",\"all\",\"all\",\"all\",\"all\",\"all\",\"all\",\"all\",\"all\",\"all\",\"all\",\"all\",\"all\",\"all\",\"all\",\"all\",\"all\",\"all\",\"all\",\"all\",\"all\",\"all\",\"all\",\"all\",\"all\",\"all\",\"all\",\"all\",\"all\",\"all\",\"all\",\"all\",\"all\",\"all\",\"all\",\"all\",\"all\",\"all\",\"all\",\"all\",\"all\",\"all\",\"all\",\"all\",\"all\",\"all\",\"all\",\"all\",\"all\",\"all\",\"all\",\"all\",\"all\",\"all\",\"all\",\"all\",\"all\",\"all\",\"all\",\"all\",\"all\",\"all\",\"all\",\"all\",\"all\",\"all\",\"all\",\"all\",\"all\",\"all\",\"all\",\"all\",\"all\",\"all\",\"all\",\"all\",\"all\",\"all\",\"all\",\"all\",\"all\",\"all\",\"all\",\"all\",\"all\",\"all\",\"all\",\"all\",\"all\",\"all\",\"all\",\"all\",\"all\",\"all\",\"all\",\"all\",\"all\",\"all\",\"all\",\"all\",\"all\",\"all\",\"all\",\"all\",\"all\",\"all\",\"all\",\"all\",\"all\",\"all\",\"all\",\"all\",\"all\",\"all\",\"all\",\"all\",\"all\",\"all\",\"all\",\"all\",\"all\",\"all\",\"all\",\"all\",\"all\",\"all\",\"all\",\"all\",\"all\",\"all\",\"all\",\"all\",\"all\",\"all\",\"all\",\"all\",\"all\",\"all\",\"all\",\"all\",\"all\",\"all\",\"all\",\"all\",\"all\",\"all\",\"all\",\"all\",\"all\",\"all\",\"all\",\"all\",\"all\",\"all\",\"all\",\"all\",\"all\",\"all\",\"all\",\"all\",\"all\",\"all\",\"all\",\"all\",\"all\",\"all\",\"all\",\"all\",\"all\",\"all\",\"all\",\"all\",\"all\",\"all\",\"all\",\"all\",\"all\",\"all\",\"all\",\"all\",\"all\",\"all\",\"all\",\"all\",\"all\",\"all\",\"all\",\"all\",\"all\",\"all\",\"all\",\"all\",\"all\",\"all\",\"all\",\"all\",\"all\",\"all\",\"all\",\"all\",\"all\",\"all\",\"all\",\"all\",\"all\",\"all\",\"all\",\"all\",\"all\",\"all\",\"all\",\"all\",\"all\",\"all\",\"all\",\"all\",\"all\",\"all\",\"all\",\"all\",\"all\",\"all\",\"all\",\"all\",\"all\",\"all\",\"all\",\"all\",\"all\",\"all\",\"all\",\"all\",\"all\",\"all\",\"all\",\"all\",\"all\",\"all\",\"all\",\"all\",\"all\",\"all\",\"all\",\"all\",\"all\",\"all\",\"all\",\"all\",\"all\",\"all\",\"all\",\"all\",\"all\",\"all\",\"all\",\"all\",\"all\",\"all\",\"all\",\"all\",\"all\",\"all\",\"all\",\"all\",\"all\",\"all\",\"all\",\"all\",\"all\",\"all\",\"all\",\"all\",\"all\",\"all\",\"all\",\"all\",\"all\",\"all\",\"all\",\"all\",\"all\",\"all\",\"all\",\"all\",\"all\",\"all\",\"all\",\"all\",\"all\",\"all\",\"all\",\"all\",\"all\",\"all\",\"all\",\"all\",\"all\",\"all\",\"all\",\"all\",\"all\",\"all\",\"all\",\"all\",\"all\",\"all\",\"all\",\"all\",\"all\",\"all\",\"all\",\"all\",\"all\",\"all\",\"all\",\"all\",\"all\",\"all\",\"all\",\"all\",\"all\",\"all\",\"all\",\"all\",\"all\",\"all\",\"all\",\"all\",\"all\",\"all\",\"all\",\"all\",\"all\",\"all\",\"all\",\"all\",\"all\",\"all\",\"all\",\"all\",\"all\",\"all\",\"all\",\"all\",\"all\",\"all\",\"all\",\"all\",\"all\",\"all\",\"all\",\"all\",\"all\",\"all\",\"all\",\"all\",\"all\",\"all\",\"all\",\"all\",\"all\",\"all\",\"all\",\"all\",\"all\",\"all\",\"all\",\"all\",\"all\",\"all\",\"all\",\"all\",\"all\",\"all\",\"all\",\"all\",\"all\",\"all\",\"all\",\"all\",\"all\",\"all\",\"all\",\"all\",\"all\",\"all\",\"all\",\"all\",\"all\",\"all\",\"all\",\"all\",\"all\",\"all\",\"all\",\"all\",\"all\",\"all\",\"all\",\"all\",\"all\",\"all\",\"all\",\"all\",\"all\",\"all\",\"all\",\"all\",\"all\",\"all\",\"all\",\"all\",\"all\",\"all\",\"all\",\"all\",\"all\",\"all\",\"all\",\"all\",\"all\",\"all\",\"all\",\"all\",\"all\",\"all\",\"all\",\"all\",\"all\",\"all\",\"all\",\"all\",\"all\",\"all\",\"all\",\"all\",\"all\",\"all\",\"all\",\"all\",\"all\",\"all\",\"all\",\"all\",\"all\",\"all\",\"all\",\"all\",\"all\",\"all\",\"all\",\"all\",\"all\",\"all\",\"all\",\"all\",\"all\",\"all\",\"all\",\"all\",\"all\",\"all\",\"all\",\"all\",\"all\",\"all\",\"all\",\"all\",\"all\",\"all\",\"all\",\"all\",\"all\",\"all\",\"all\",\"all\",\"all\",\"all\",\"all\",\"all\",\"all\",\"all\",\"all\",\"all\",\"all\",\"all\",\"all\",\"all\",\"all\",\"all\",\"all\",\"all\",\"all\",\"all\",\"all\",\"all\",\"all\",\"all\",\"all\",\"all\",\"all\",\"all\",\"all\",\"all\",\"all\",\"all\",\"all\",\"all\",\"all\",\"all\",\"all\",\"all\",\"all\",\"all\",\"all\",\"all\",\"all\",\"all\",\"all\",\"all\",\"all\",\"all\",\"all\",\"all\",\"all\",\"all\",\"all\",\"all\",\"all\",\"all\",\"all\",\"all\",\"all\",\"all\",\"all\",\"all\",\"all\",\"all\",\"all\",\"all\",\"all\",\"all\",\"all\",\"all\",\"all\",\"all\",\"all\",\"all\",\"all\",\"all\",\"all\",\"all\",\"all\",\"all\",\"all\",\"all\",\"all\",\"all\",\"all\",\"all\",\"all\",\"all\",\"all\",\"all\",\"all\",\"all\",\"all\",\"all\",\"all\",\"all\",\"all\",\"all\",\"all\",\"all\",\"all\",\"all\",\"all\",\"all\",\"all\",\"all\",\"all\",\"all\",\"all\",\"all\",\"all\",\"all\",\"all\",\"all\",\"all\",\"all\",\"all\",\"all\",\"all\",\"all\",\"all\",\"all\",\"all\",\"all\",\"all\",\"all\",\"all\",\"all\",\"all\",\"all\",\"all\",\"all\",\"all\",\"all\",\"all\",\"all\",\"all\",\"all\",\"all\",\"all\",\"all\",\"all\",\"all\",\"all\",\"all\",\"all\",\"all\",\"all\",\"all\",\"all\",\"all\",\"all\",\"all\",\"all\",\"all\",\"all\",\"all\",\"all\",\"all\",\"all\",\"all\",\"all\",\"all\",\"all\",\"all\",\"all\",\"all\",\"all\",\"all\",\"all\",\"all\",\"all\",\"all\",\"all\",\"all\",\"all\",\"all\",\"\"],\"values\":[10,14,9,8,10,7,14,11,8,12,4,13,11,8,10,8,10,13,5,10,6,11,9,8,7,16,14,11,8,9,6,9,8,8,2,7,9,10,5,13,14,8,9,9,14,15,6,15,11,14,7,8,15,10,11,11,6,6,10,8,8,12,11,12,16,3,11,6,7,13,10,13,9,16,6,7,9,9,10,11,6,6,11,7,9,10,7,10,9,8,10,8,10,8,9,5,9,9,7,7,8,11,8,14,13,5,8,8,8,15,9,8,16,6,6,8,15,9,7,13,15,9,22,8,9,8,9,13,9,12,10,8,15,6,12,10,9,10,12,6,14,9,10,16,10,12,10,7,8,9,6,11,4,11,13,5,10,10,7,7,9,3,11,10,9,8,7,8,13,7,9,11,9,5,9,7,10,11,10,10,8,14,6,12,8,17,11,2,8,9,10,10,12,7,7,12,6,6,13,5,9,12,12,8,15,10,19,11,12,11,13,15,13,12,14,19,9,10,11,9,7,10,4,10,10,11,11,13,12,9,10,8,4,11,8,9,13,10,12,10,10,4,5,12,8,5,6,13,7,14,8,8,12,11,13,7,12,9,7,11,7,15,10,6,19,12,12,8,4,14,10,14,5,10,7,10,14,2,8,8,8,5,15,7,10,11,12,12,15,8,12,8,10,11,10,14,9,9,11,5,10,10,9,12,10,7,11,6,8,11,8,9,13,14,11,7,6,6,8,9,14,14,6,10,6,6,11,8,9,10,5,13,10,7,15,7,11,12,9,9,14,14,6,12,14,9,13,8,12,11,10,8,10,7,12,7,6,8,9,1,11,6,11,11,6,17,9,9,7,11,9,8,8,10,10,10,8,7,10,9,10,7,5,9,13,14,10,9,7,10,11,11,8,8,7,4,6,16,8,12,12,9,13,10,9,15,9,15,10,7,7,11,11,15,10,14,10,8,11,6,4,9,10,8,12,10,10,12,14,13,11,8,8,5,8,16,20,7,9,12,9,11,5,6,10,13,10,4,11,10,7,9,11,5,12,11,13,6,11,13,12,15,12,10,8,9,8,13,8,13,13,15,7,8,11,11,18,14,12,12,9,17,7,7,11,7,10,5,9,8,17,11,5,16,10,10,12,8,7,11,9,13,11,17,8,5,7,5,17,15,15,10,13,7,7,9,5,15,6,8,9,10,10,9,11,10,12,14,6,11,9,15,6,9,9,15,9,12,4,14,8,4,9,8,8,5,11,9,4,13,5,7,9,9,6,9,9,9,12,13,14,11,12,17,6,11,9,10,3,16,8,9,7,11,12,13,13,10,8,8,10,12,15,11,8,7,14,14,6,15,10,9,12,8,12,4,11,13,10,13,9,7,12,11,6,16,6,10,13,19,10,13,8,8,12,9,9,12,10,5,5,7,10,13,12,6,9,12,3,5,5,6,7,9,3,8,11,13,6,7,6,13,14,12,16,6,6,13,11,6,3,9,9,8,10,11,7,8,9,10,8,8,13,14,7,10,8,9,9,5,16,15,12,8,14,11,9,6,16,11,7,12,11,6,11,10,12,13,7,14,17,5,7,9,14,14,10,11,8,11,8,10,9,16,10,8,11,11,15,10,9,9,11,13,7,14,10,12,9,10,9,9,9,11,7,15,15,7,6,6,10,12,16,8,16,11,7,8,11,9,7,12,6,12,6,10,12,9,8,8,5,10,8,16,6,13,9,9,13,8,15,11,14,11,10,17,10,5,10,6,13,4,15,5,13,8,9,10,12,17,16,11,10,9,6,7,10,10,14,10,3,14,14,11,14,14,6,11,14,12,12,11,11,8,8,6,7,6,16,8,9,11,10,6,10,5,13,12,13,10,8,8,7,10,9,8,9,7,10,12,8,12,6,8,12,7,8,9,17,10,20,13,13,10,6,8,9,8,9,8,10,9,12,7,8,10,10,11,13,6,10,8,8,7,8,10,11,16,11,12,6,11,9,12,7,12,8,12,10,7,9,5,12,9,9,15,12,11,11,7,11,7,14,6,14,10,8,12,3,11,14,8,8,10,8,15,5,17,9,11,12,10,15,9,10,11,7,10,4,7,5,6,10,8,10,13,13,7,10,7,9,16,5,7,7,11,12,6,8,9,13,13,13,11,7,10,16,13,9,7,13,7,9,9,6,16,12,9,13,8,10,8,7,7,15,10,10,16,10,5,8,11,15,16,12,14,9,7,7,8,11,8,14,12,8,15,7,10,12,10,18,9,13,12,10,13,14,9,12,16,9876],\"type\":\"treemap\",\"root\":{\"color\":\"lightgrey\"}}],                        {\"template\":{\"data\":{\"histogram2dcontour\":[{\"type\":\"histogram2dcontour\",\"colorbar\":{\"outlinewidth\":0,\"ticks\":\"\"},\"colorscale\":[[0.0,\"#0d0887\"],[0.1111111111111111,\"#46039f\"],[0.2222222222222222,\"#7201a8\"],[0.3333333333333333,\"#9c179e\"],[0.4444444444444444,\"#bd3786\"],[0.5555555555555556,\"#d8576b\"],[0.6666666666666666,\"#ed7953\"],[0.7777777777777778,\"#fb9f3a\"],[0.8888888888888888,\"#fdca26\"],[1.0,\"#f0f921\"]]}],\"choropleth\":[{\"type\":\"choropleth\",\"colorbar\":{\"outlinewidth\":0,\"ticks\":\"\"}}],\"histogram2d\":[{\"type\":\"histogram2d\",\"colorbar\":{\"outlinewidth\":0,\"ticks\":\"\"},\"colorscale\":[[0.0,\"#0d0887\"],[0.1111111111111111,\"#46039f\"],[0.2222222222222222,\"#7201a8\"],[0.3333333333333333,\"#9c179e\"],[0.4444444444444444,\"#bd3786\"],[0.5555555555555556,\"#d8576b\"],[0.6666666666666666,\"#ed7953\"],[0.7777777777777778,\"#fb9f3a\"],[0.8888888888888888,\"#fdca26\"],[1.0,\"#f0f921\"]]}],\"heatmap\":[{\"type\":\"heatmap\",\"colorbar\":{\"outlinewidth\":0,\"ticks\":\"\"},\"colorscale\":[[0.0,\"#0d0887\"],[0.1111111111111111,\"#46039f\"],[0.2222222222222222,\"#7201a8\"],[0.3333333333333333,\"#9c179e\"],[0.4444444444444444,\"#bd3786\"],[0.5555555555555556,\"#d8576b\"],[0.6666666666666666,\"#ed7953\"],[0.7777777777777778,\"#fb9f3a\"],[0.8888888888888888,\"#fdca26\"],[1.0,\"#f0f921\"]]}],\"heatmapgl\":[{\"type\":\"heatmapgl\",\"colorbar\":{\"outlinewidth\":0,\"ticks\":\"\"},\"colorscale\":[[0.0,\"#0d0887\"],[0.1111111111111111,\"#46039f\"],[0.2222222222222222,\"#7201a8\"],[0.3333333333333333,\"#9c179e\"],[0.4444444444444444,\"#bd3786\"],[0.5555555555555556,\"#d8576b\"],[0.6666666666666666,\"#ed7953\"],[0.7777777777777778,\"#fb9f3a\"],[0.8888888888888888,\"#fdca26\"],[1.0,\"#f0f921\"]]}],\"contourcarpet\":[{\"type\":\"contourcarpet\",\"colorbar\":{\"outlinewidth\":0,\"ticks\":\"\"}}],\"contour\":[{\"type\":\"contour\",\"colorbar\":{\"outlinewidth\":0,\"ticks\":\"\"},\"colorscale\":[[0.0,\"#0d0887\"],[0.1111111111111111,\"#46039f\"],[0.2222222222222222,\"#7201a8\"],[0.3333333333333333,\"#9c179e\"],[0.4444444444444444,\"#bd3786\"],[0.5555555555555556,\"#d8576b\"],[0.6666666666666666,\"#ed7953\"],[0.7777777777777778,\"#fb9f3a\"],[0.8888888888888888,\"#fdca26\"],[1.0,\"#f0f921\"]]}],\"surface\":[{\"type\":\"surface\",\"colorbar\":{\"outlinewidth\":0,\"ticks\":\"\"},\"colorscale\":[[0.0,\"#0d0887\"],[0.1111111111111111,\"#46039f\"],[0.2222222222222222,\"#7201a8\"],[0.3333333333333333,\"#9c179e\"],[0.4444444444444444,\"#bd3786\"],[0.5555555555555556,\"#d8576b\"],[0.6666666666666666,\"#ed7953\"],[0.7777777777777778,\"#fb9f3a\"],[0.8888888888888888,\"#fdca26\"],[1.0,\"#f0f921\"]]}],\"mesh3d\":[{\"type\":\"mesh3d\",\"colorbar\":{\"outlinewidth\":0,\"ticks\":\"\"}}],\"scatter\":[{\"fillpattern\":{\"fillmode\":\"overlay\",\"size\":10,\"solidity\":0.2},\"type\":\"scatter\"}],\"parcoords\":[{\"type\":\"parcoords\",\"line\":{\"colorbar\":{\"outlinewidth\":0,\"ticks\":\"\"}}}],\"scatterpolargl\":[{\"type\":\"scatterpolargl\",\"marker\":{\"colorbar\":{\"outlinewidth\":0,\"ticks\":\"\"}}}],\"bar\":[{\"error_x\":{\"color\":\"#2a3f5f\"},\"error_y\":{\"color\":\"#2a3f5f\"},\"marker\":{\"line\":{\"color\":\"#E5ECF6\",\"width\":0.5},\"pattern\":{\"fillmode\":\"overlay\",\"size\":10,\"solidity\":0.2}},\"type\":\"bar\"}],\"scattergeo\":[{\"type\":\"scattergeo\",\"marker\":{\"colorbar\":{\"outlinewidth\":0,\"ticks\":\"\"}}}],\"scatterpolar\":[{\"type\":\"scatterpolar\",\"marker\":{\"colorbar\":{\"outlinewidth\":0,\"ticks\":\"\"}}}],\"histogram\":[{\"marker\":{\"pattern\":{\"fillmode\":\"overlay\",\"size\":10,\"solidity\":0.2}},\"type\":\"histogram\"}],\"scattergl\":[{\"type\":\"scattergl\",\"marker\":{\"colorbar\":{\"outlinewidth\":0,\"ticks\":\"\"}}}],\"scatter3d\":[{\"type\":\"scatter3d\",\"line\":{\"colorbar\":{\"outlinewidth\":0,\"ticks\":\"\"}},\"marker\":{\"colorbar\":{\"outlinewidth\":0,\"ticks\":\"\"}}}],\"scattermapbox\":[{\"type\":\"scattermapbox\",\"marker\":{\"colorbar\":{\"outlinewidth\":0,\"ticks\":\"\"}}}],\"scatterternary\":[{\"type\":\"scatterternary\",\"marker\":{\"colorbar\":{\"outlinewidth\":0,\"ticks\":\"\"}}}],\"scattercarpet\":[{\"type\":\"scattercarpet\",\"marker\":{\"colorbar\":{\"outlinewidth\":0,\"ticks\":\"\"}}}],\"carpet\":[{\"aaxis\":{\"endlinecolor\":\"#2a3f5f\",\"gridcolor\":\"white\",\"linecolor\":\"white\",\"minorgridcolor\":\"white\",\"startlinecolor\":\"#2a3f5f\"},\"baxis\":{\"endlinecolor\":\"#2a3f5f\",\"gridcolor\":\"white\",\"linecolor\":\"white\",\"minorgridcolor\":\"white\",\"startlinecolor\":\"#2a3f5f\"},\"type\":\"carpet\"}],\"table\":[{\"cells\":{\"fill\":{\"color\":\"#EBF0F8\"},\"line\":{\"color\":\"white\"}},\"header\":{\"fill\":{\"color\":\"#C8D4E3\"},\"line\":{\"color\":\"white\"}},\"type\":\"table\"}],\"barpolar\":[{\"marker\":{\"line\":{\"color\":\"#E5ECF6\",\"width\":0.5},\"pattern\":{\"fillmode\":\"overlay\",\"size\":10,\"solidity\":0.2}},\"type\":\"barpolar\"}],\"pie\":[{\"automargin\":true,\"type\":\"pie\"}]},\"layout\":{\"autotypenumbers\":\"strict\",\"colorway\":[\"#636efa\",\"#EF553B\",\"#00cc96\",\"#ab63fa\",\"#FFA15A\",\"#19d3f3\",\"#FF6692\",\"#B6E880\",\"#FF97FF\",\"#FECB52\"],\"font\":{\"color\":\"#2a3f5f\"},\"hovermode\":\"closest\",\"hoverlabel\":{\"align\":\"left\"},\"paper_bgcolor\":\"white\",\"plot_bgcolor\":\"#E5ECF6\",\"polar\":{\"bgcolor\":\"#E5ECF6\",\"angularaxis\":{\"gridcolor\":\"white\",\"linecolor\":\"white\",\"ticks\":\"\"},\"radialaxis\":{\"gridcolor\":\"white\",\"linecolor\":\"white\",\"ticks\":\"\"}},\"ternary\":{\"bgcolor\":\"#E5ECF6\",\"aaxis\":{\"gridcolor\":\"white\",\"linecolor\":\"white\",\"ticks\":\"\"},\"baxis\":{\"gridcolor\":\"white\",\"linecolor\":\"white\",\"ticks\":\"\"},\"caxis\":{\"gridcolor\":\"white\",\"linecolor\":\"white\",\"ticks\":\"\"}},\"coloraxis\":{\"colorbar\":{\"outlinewidth\":0,\"ticks\":\"\"}},\"colorscale\":{\"sequential\":[[0.0,\"#0d0887\"],[0.1111111111111111,\"#46039f\"],[0.2222222222222222,\"#7201a8\"],[0.3333333333333333,\"#9c179e\"],[0.4444444444444444,\"#bd3786\"],[0.5555555555555556,\"#d8576b\"],[0.6666666666666666,\"#ed7953\"],[0.7777777777777778,\"#fb9f3a\"],[0.8888888888888888,\"#fdca26\"],[1.0,\"#f0f921\"]],\"sequentialminus\":[[0.0,\"#0d0887\"],[0.1111111111111111,\"#46039f\"],[0.2222222222222222,\"#7201a8\"],[0.3333333333333333,\"#9c179e\"],[0.4444444444444444,\"#bd3786\"],[0.5555555555555556,\"#d8576b\"],[0.6666666666666666,\"#ed7953\"],[0.7777777777777778,\"#fb9f3a\"],[0.8888888888888888,\"#fdca26\"],[1.0,\"#f0f921\"]],\"diverging\":[[0,\"#8e0152\"],[0.1,\"#c51b7d\"],[0.2,\"#de77ae\"],[0.3,\"#f1b6da\"],[0.4,\"#fde0ef\"],[0.5,\"#f7f7f7\"],[0.6,\"#e6f5d0\"],[0.7,\"#b8e186\"],[0.8,\"#7fbc41\"],[0.9,\"#4d9221\"],[1,\"#276419\"]]},\"xaxis\":{\"gridcolor\":\"white\",\"linecolor\":\"white\",\"ticks\":\"\",\"title\":{\"standoff\":15},\"zerolinecolor\":\"white\",\"automargin\":true,\"zerolinewidth\":2},\"yaxis\":{\"gridcolor\":\"white\",\"linecolor\":\"white\",\"ticks\":\"\",\"title\":{\"standoff\":15},\"zerolinecolor\":\"white\",\"automargin\":true,\"zerolinewidth\":2},\"scene\":{\"xaxis\":{\"backgroundcolor\":\"#E5ECF6\",\"gridcolor\":\"white\",\"linecolor\":\"white\",\"showbackground\":true,\"ticks\":\"\",\"zerolinecolor\":\"white\",\"gridwidth\":2},\"yaxis\":{\"backgroundcolor\":\"#E5ECF6\",\"gridcolor\":\"white\",\"linecolor\":\"white\",\"showbackground\":true,\"ticks\":\"\",\"zerolinecolor\":\"white\",\"gridwidth\":2},\"zaxis\":{\"backgroundcolor\":\"#E5ECF6\",\"gridcolor\":\"white\",\"linecolor\":\"white\",\"showbackground\":true,\"ticks\":\"\",\"zerolinecolor\":\"white\",\"gridwidth\":2}},\"shapedefaults\":{\"line\":{\"color\":\"#2a3f5f\"}},\"annotationdefaults\":{\"arrowcolor\":\"#2a3f5f\",\"arrowhead\":0,\"arrowwidth\":1},\"geo\":{\"bgcolor\":\"white\",\"landcolor\":\"#E5ECF6\",\"subunitcolor\":\"white\",\"showland\":true,\"showlakes\":true,\"lakecolor\":\"white\"},\"title\":{\"x\":0.05},\"mapbox\":{\"style\":\"light\"}}},\"coloraxis\":{\"colorbar\":{\"title\":{\"text\":\"bytes\"}},\"colorscale\":[[0.0,\"#0d0887\"],[0.1111111111111111,\"#46039f\"],[0.2222222222222222,\"#7201a8\"],[0.3333333333333333,\"#9c179e\"],[0.4444444444444444,\"#bd3786\"],[0.5555555555555556,\"#d8576b\"],[0.6666666666666666,\"#ed7953\"],[0.7777777777777778,\"#fb9f3a\"],[0.8888888888888888,\"#fdca26\"],[1.0,\"#f0f921\"]]},\"legend\":{\"tracegroupgap\":0},\"title\":{\"text\":\"Total Files per Folder (Depth of Two) (Colored by Bytes Stored)\"},\"margin\":{\"t\":50,\"l\":25,\"r\":25,\"b\":25}},                        {\"responsive\": true}                    ).then(function(){\n",
       "                            \n",
       "var gd = document.getElementById('4ef55a4a-61a4-4162-9aa9-75a8b25e4b0d');\n",
       "var x = new MutationObserver(function (mutations, observer) {{\n",
       "        var display = window.getComputedStyle(gd).display;\n",
       "        if (!display || display === 'none') {{\n",
       "            console.log([gd, 'removed!']);\n",
       "            Plotly.purge(gd);\n",
       "            observer.disconnect();\n",
       "        }}\n",
       "}});\n",
       "\n",
       "// Listen for the removal of the full notebook cells\n",
       "var notebookContainer = gd.closest('#notebook-container');\n",
       "if (notebookContainer) {{\n",
       "    x.observe(notebookContainer, {childList: true});\n",
       "}}\n",
       "\n",
       "// Listen for the clearing of the current output cell\n",
       "var outputEl = gd.closest('.output');\n",
       "if (outputEl) {{\n",
       "    x.observe(outputEl, {childList: true});\n",
       "}}\n",
       "\n",
       "                        })                };                });            </script>        </div>"
      ]
     },
     "metadata": {},
     "output_type": "display_data"
    }
   ],
   "source": [
    "import plotly.express as px\n",
    "\n",
    "fig = px.treemap(df,\n",
    "                 title=\"Total Files per Folder (Depth of Two) (Colored by Bytes Stored)\",\n",
    "                 path=[px.Constant(\"all\"), 'folder1'], \n",
    "                 color='bytes'\n",
    "                )\n",
    "fig.update_traces(root_color=\"lightgrey\")\n",
    "fig.update_layout(margin = dict(t=50, l=25, r=25, b=25))\n",
    "fig.show()"
   ]
  },
  {
   "cell_type": "markdown",
   "id": "supposed-lewis",
   "metadata": {},
   "source": [
    "### Exercise: Analyzing Folder Structures\n",
    "\n",
    "People organize files in a variety of ways. Sometimes their folder and sub-folder names are entirely indicative of the content. In other cases, folder names and structures are constrained by the technical considerations of the software tools that either produce or consume the files. As you look at the distribution of files, by area, and bytes, by color, across the top two folder levels what can you see? \n",
    "\n",
    "What folder contained the largest files?\n",
    "\n",
    "Why are there many folders called \"www.bop.gov\"?\n",
    "\n",
    "Which folders are named to reflect a person's choices and which seem to be named due to a technical consideration?\n",
    "\n",
    "## Another View of Folder Structures\n",
    "\n",
    "As mentioned at the start of this notebook, sometimes folder structures are part of a production workflow for a particular tool is discipline, such as GIS or audiovisual productions, or websites. One way to uncover such structures in larger accessions is to determine the most common folder and file names. Usually folders that are patterned by a workflow will reuse the same folder names or file names. These folder and filename \"slots\" determine the purpose of the folder or file within the larger workflow.\n",
    "\n",
    "In the code below we take the \"name\" column from our data frame and convert the individual names into a shared set of unique categories (`.astype(\"category\")`). Instead of separate text values, the names are now coded as category numbers. So each occurrence of the same name will have the same code. Pandas can then add up the occurrences of each code and give us value counts. (`.value_counts()`) Finally, we call the `head()` function to get just the first 25 most frequent names."
   ]
  },
  {
   "cell_type": "code",
   "execution_count": 7,
   "id": "informed-remark",
   "metadata": {
    "editable": true,
    "slideshow": {
     "slide_type": ""
    },
    "tags": []
   },
   "outputs": [
    {
     "data": {
      "text/plain": [
       "mimetype\n",
       "application/pdf                                                              2378\n",
       "text/html                                                                    2117\n",
       "image/jpeg                                                                   1073\n",
       "application/msword                                                            807\n",
       "text/plain                                                                    788\n",
       "application/vnd.ms-excel                                                      772\n",
       "application/vnd.ms-powerpoint                                                 512\n",
       "application/octet-stream                                                      395\n",
       "text/xml                                                                      353\n",
       "image/gif                                                                     349\n",
       "application/postscript                                                        248\n",
       "image/png                                                                      39\n",
       "application/x-shockwave-flash                                                  34\n",
       "application/x-tex                                                               4\n",
       "application/vnd.openxmlformats-officedocument.wordprocessingml.document         2\n",
       "application/vnd.openxmlformats-officedocument.spreadsheetml.sheet               1\n",
       "application/x-zip-compressed                                                    1\n",
       "application/vnd.openxmlformats-officedocument.presentationml.presentation       1\n",
       "application/vnd.ms-publisher                                                    1\n",
       "text/x-sgml                                                                     1\n",
       "Name: count, dtype: int64"
      ]
     },
     "metadata": {},
     "output_type": "display_data"
    }
   ],
   "source": [
    "display(df[\"mimetype\"].astype(\"category\").value_counts().head(n=25))"
   ]
  },
  {
   "cell_type": "markdown",
   "id": "split-confidentiality",
   "metadata": {},
   "source": [
    "As we look at this list of the most frequent file names in this accession, we can clearly see that the most common file name is index.html, a web page file, with 45 occurances. Next there are some GIF files, usually these are web graphics. Then we have some files called \"new.txt\", \"new.lst\", and \"readme.txt\". It is clues like these that make digital appraisal somewhat of a detective story. You might dive deeper into these files, by reading the files themselves or by researching the file names on the Internet to see what workflows may have produced them.\n",
    "\n",
    "Depending upon the operating system, files will have a modified date and/or a created date. Usually the modified date is the more significant of these, because it indicates the last edit to a file and may indicate when it was completed or no longer relevant. When transferring files to our own storage we have to be careful to either capture or preserve these dates as metadata.\n",
    "\n",
    "NOTE: Since this notebook is copied from a Git repository, the sample files included here do not have their original modified date. Since we cannot provide accurately dated files via Git, we are providing some alternative inventory CSV files that were prepared separately.\n",
    "\n",
    "TODO Differentiate Older and More Recent Folders\n",
    "TODO: color by average timestamp\n",
    "TODO: find samples or supply an inventory file better good timestamps.."
   ]
  },
  {
   "cell_type": "code",
   "execution_count": 20,
   "id": "small-percentage",
   "metadata": {},
   "outputs": [
    {
     "data": {
      "application/vnd.plotly.v1+json": {
       "config": {
        "plotlyServerURL": "https://plot.ly"
       },
       "data": [
        {
         "branchvalues": "total",
         "customdata": [
          [
           1969
          ],
          [
           1979
          ],
          [
           1990
          ],
          [
           1991
          ],
          [
           1992
          ],
          [
           1993
          ],
          [
           1994
          ],
          [
           1995
          ],
          [
           1996
          ],
          [
           1997
          ],
          [
           1998
          ],
          [
           1999
          ],
          [
           2000
          ],
          [
           2001
          ],
          [
           2002
          ],
          [
           2003
          ],
          [
           2004
          ],
          [
           2005
          ],
          [
           2006
          ],
          [
           2007
          ],
          [
           2008
          ],
          [
           2009
          ],
          [
           2005.72104090725
          ]
         ],
         "domain": {
          "x": [
           0,
           1
          ],
          "y": [
           0,
           1
          ]
         },
         "hovertemplate": "labels=%{label}<br>count=%{value}<br>parent=%{parent}<br>id=%{id}<br>mod_year=%{color}<extra></extra>",
         "ids": [
          "all/1969",
          "all/1979",
          "all/1990",
          "all/1991",
          "all/1992",
          "all/1993",
          "all/1994",
          "all/1995",
          "all/1996",
          "all/1997",
          "all/1998",
          "all/1999",
          "all/2000",
          "all/2001",
          "all/2002",
          "all/2003",
          "all/2004",
          "all/2005",
          "all/2006",
          "all/2007",
          "all/2008",
          "all/2009",
          "all"
         ],
         "labels": [
          "1969",
          "1979",
          "1990",
          "1991",
          "1992",
          "1993",
          "1994",
          "1995",
          "1996",
          "1997",
          "1998",
          "1999",
          "2000",
          "2001",
          "2002",
          "2003",
          "2004",
          "2005",
          "2006",
          "2007",
          "2008",
          "2009",
          "all"
         ],
         "marker": {
          "coloraxis": "coloraxis",
          "colors": [
           1969,
           1979,
           1990,
           1991,
           1992,
           1993,
           1994,
           1995,
           1996,
           1997,
           1998,
           1999,
           2000,
           2001,
           2002,
           2003,
           2004,
           2005,
           2006,
           2007,
           2008,
           2009,
           2005.72104090725
          ]
         },
         "name": "",
         "parents": [
          "all",
          "all",
          "all",
          "all",
          "all",
          "all",
          "all",
          "all",
          "all",
          "all",
          "all",
          "all",
          "all",
          "all",
          "all",
          "all",
          "all",
          "all",
          "all",
          "all",
          "all",
          "all",
          ""
         ],
         "root": {
          "color": "lightgrey"
         },
         "type": "treemap",
         "values": [
          1,
          1,
          2,
          2,
          1,
          1,
          12,
          33,
          52,
          140,
          150,
          173,
          252,
          320,
          426,
          620,
          759,
          934,
          984,
          1172,
          1471,
          2370,
          9876
         ]
        }
       ],
       "layout": {
        "autosize": true,
        "coloraxis": {
         "colorbar": {
          "title": {
           "text": "mod_year"
          }
         },
         "colorscale": [
          [
           0,
           "#0d0887"
          ],
          [
           0.1111111111111111,
           "#46039f"
          ],
          [
           0.2222222222222222,
           "#7201a8"
          ],
          [
           0.3333333333333333,
           "#9c179e"
          ],
          [
           0.4444444444444444,
           "#bd3786"
          ],
          [
           0.5555555555555556,
           "#d8576b"
          ],
          [
           0.6666666666666666,
           "#ed7953"
          ],
          [
           0.7777777777777778,
           "#fb9f3a"
          ],
          [
           0.8888888888888888,
           "#fdca26"
          ],
          [
           1,
           "#f0f921"
          ]
         ]
        },
        "legend": {
         "tracegroupgap": 0
        },
        "margin": {
         "b": 25,
         "l": 25,
         "r": 25,
         "t": 50
        },
        "template": {
         "data": {
          "bar": [
           {
            "error_x": {
             "color": "#2a3f5f"
            },
            "error_y": {
             "color": "#2a3f5f"
            },
            "marker": {
             "line": {
              "color": "#E5ECF6",
              "width": 0.5
             },
             "pattern": {
              "fillmode": "overlay",
              "size": 10,
              "solidity": 0.2
             }
            },
            "type": "bar"
           }
          ],
          "barpolar": [
           {
            "marker": {
             "line": {
              "color": "#E5ECF6",
              "width": 0.5
             },
             "pattern": {
              "fillmode": "overlay",
              "size": 10,
              "solidity": 0.2
             }
            },
            "type": "barpolar"
           }
          ],
          "carpet": [
           {
            "aaxis": {
             "endlinecolor": "#2a3f5f",
             "gridcolor": "white",
             "linecolor": "white",
             "minorgridcolor": "white",
             "startlinecolor": "#2a3f5f"
            },
            "baxis": {
             "endlinecolor": "#2a3f5f",
             "gridcolor": "white",
             "linecolor": "white",
             "minorgridcolor": "white",
             "startlinecolor": "#2a3f5f"
            },
            "type": "carpet"
           }
          ],
          "choropleth": [
           {
            "colorbar": {
             "outlinewidth": 0,
             "ticks": ""
            },
            "type": "choropleth"
           }
          ],
          "contour": [
           {
            "colorbar": {
             "outlinewidth": 0,
             "ticks": ""
            },
            "colorscale": [
             [
              0,
              "#0d0887"
             ],
             [
              0.1111111111111111,
              "#46039f"
             ],
             [
              0.2222222222222222,
              "#7201a8"
             ],
             [
              0.3333333333333333,
              "#9c179e"
             ],
             [
              0.4444444444444444,
              "#bd3786"
             ],
             [
              0.5555555555555556,
              "#d8576b"
             ],
             [
              0.6666666666666666,
              "#ed7953"
             ],
             [
              0.7777777777777778,
              "#fb9f3a"
             ],
             [
              0.8888888888888888,
              "#fdca26"
             ],
             [
              1,
              "#f0f921"
             ]
            ],
            "type": "contour"
           }
          ],
          "contourcarpet": [
           {
            "colorbar": {
             "outlinewidth": 0,
             "ticks": ""
            },
            "type": "contourcarpet"
           }
          ],
          "heatmap": [
           {
            "colorbar": {
             "outlinewidth": 0,
             "ticks": ""
            },
            "colorscale": [
             [
              0,
              "#0d0887"
             ],
             [
              0.1111111111111111,
              "#46039f"
             ],
             [
              0.2222222222222222,
              "#7201a8"
             ],
             [
              0.3333333333333333,
              "#9c179e"
             ],
             [
              0.4444444444444444,
              "#bd3786"
             ],
             [
              0.5555555555555556,
              "#d8576b"
             ],
             [
              0.6666666666666666,
              "#ed7953"
             ],
             [
              0.7777777777777778,
              "#fb9f3a"
             ],
             [
              0.8888888888888888,
              "#fdca26"
             ],
             [
              1,
              "#f0f921"
             ]
            ],
            "type": "heatmap"
           }
          ],
          "heatmapgl": [
           {
            "colorbar": {
             "outlinewidth": 0,
             "ticks": ""
            },
            "colorscale": [
             [
              0,
              "#0d0887"
             ],
             [
              0.1111111111111111,
              "#46039f"
             ],
             [
              0.2222222222222222,
              "#7201a8"
             ],
             [
              0.3333333333333333,
              "#9c179e"
             ],
             [
              0.4444444444444444,
              "#bd3786"
             ],
             [
              0.5555555555555556,
              "#d8576b"
             ],
             [
              0.6666666666666666,
              "#ed7953"
             ],
             [
              0.7777777777777778,
              "#fb9f3a"
             ],
             [
              0.8888888888888888,
              "#fdca26"
             ],
             [
              1,
              "#f0f921"
             ]
            ],
            "type": "heatmapgl"
           }
          ],
          "histogram": [
           {
            "marker": {
             "pattern": {
              "fillmode": "overlay",
              "size": 10,
              "solidity": 0.2
             }
            },
            "type": "histogram"
           }
          ],
          "histogram2d": [
           {
            "colorbar": {
             "outlinewidth": 0,
             "ticks": ""
            },
            "colorscale": [
             [
              0,
              "#0d0887"
             ],
             [
              0.1111111111111111,
              "#46039f"
             ],
             [
              0.2222222222222222,
              "#7201a8"
             ],
             [
              0.3333333333333333,
              "#9c179e"
             ],
             [
              0.4444444444444444,
              "#bd3786"
             ],
             [
              0.5555555555555556,
              "#d8576b"
             ],
             [
              0.6666666666666666,
              "#ed7953"
             ],
             [
              0.7777777777777778,
              "#fb9f3a"
             ],
             [
              0.8888888888888888,
              "#fdca26"
             ],
             [
              1,
              "#f0f921"
             ]
            ],
            "type": "histogram2d"
           }
          ],
          "histogram2dcontour": [
           {
            "colorbar": {
             "outlinewidth": 0,
             "ticks": ""
            },
            "colorscale": [
             [
              0,
              "#0d0887"
             ],
             [
              0.1111111111111111,
              "#46039f"
             ],
             [
              0.2222222222222222,
              "#7201a8"
             ],
             [
              0.3333333333333333,
              "#9c179e"
             ],
             [
              0.4444444444444444,
              "#bd3786"
             ],
             [
              0.5555555555555556,
              "#d8576b"
             ],
             [
              0.6666666666666666,
              "#ed7953"
             ],
             [
              0.7777777777777778,
              "#fb9f3a"
             ],
             [
              0.8888888888888888,
              "#fdca26"
             ],
             [
              1,
              "#f0f921"
             ]
            ],
            "type": "histogram2dcontour"
           }
          ],
          "mesh3d": [
           {
            "colorbar": {
             "outlinewidth": 0,
             "ticks": ""
            },
            "type": "mesh3d"
           }
          ],
          "parcoords": [
           {
            "line": {
             "colorbar": {
              "outlinewidth": 0,
              "ticks": ""
             }
            },
            "type": "parcoords"
           }
          ],
          "pie": [
           {
            "automargin": true,
            "type": "pie"
           }
          ],
          "scatter": [
           {
            "fillpattern": {
             "fillmode": "overlay",
             "size": 10,
             "solidity": 0.2
            },
            "type": "scatter"
           }
          ],
          "scatter3d": [
           {
            "line": {
             "colorbar": {
              "outlinewidth": 0,
              "ticks": ""
             }
            },
            "marker": {
             "colorbar": {
              "outlinewidth": 0,
              "ticks": ""
             }
            },
            "type": "scatter3d"
           }
          ],
          "scattercarpet": [
           {
            "marker": {
             "colorbar": {
              "outlinewidth": 0,
              "ticks": ""
             }
            },
            "type": "scattercarpet"
           }
          ],
          "scattergeo": [
           {
            "marker": {
             "colorbar": {
              "outlinewidth": 0,
              "ticks": ""
             }
            },
            "type": "scattergeo"
           }
          ],
          "scattergl": [
           {
            "marker": {
             "colorbar": {
              "outlinewidth": 0,
              "ticks": ""
             }
            },
            "type": "scattergl"
           }
          ],
          "scattermapbox": [
           {
            "marker": {
             "colorbar": {
              "outlinewidth": 0,
              "ticks": ""
             }
            },
            "type": "scattermapbox"
           }
          ],
          "scatterpolar": [
           {
            "marker": {
             "colorbar": {
              "outlinewidth": 0,
              "ticks": ""
             }
            },
            "type": "scatterpolar"
           }
          ],
          "scatterpolargl": [
           {
            "marker": {
             "colorbar": {
              "outlinewidth": 0,
              "ticks": ""
             }
            },
            "type": "scatterpolargl"
           }
          ],
          "scatterternary": [
           {
            "marker": {
             "colorbar": {
              "outlinewidth": 0,
              "ticks": ""
             }
            },
            "type": "scatterternary"
           }
          ],
          "surface": [
           {
            "colorbar": {
             "outlinewidth": 0,
             "ticks": ""
            },
            "colorscale": [
             [
              0,
              "#0d0887"
             ],
             [
              0.1111111111111111,
              "#46039f"
             ],
             [
              0.2222222222222222,
              "#7201a8"
             ],
             [
              0.3333333333333333,
              "#9c179e"
             ],
             [
              0.4444444444444444,
              "#bd3786"
             ],
             [
              0.5555555555555556,
              "#d8576b"
             ],
             [
              0.6666666666666666,
              "#ed7953"
             ],
             [
              0.7777777777777778,
              "#fb9f3a"
             ],
             [
              0.8888888888888888,
              "#fdca26"
             ],
             [
              1,
              "#f0f921"
             ]
            ],
            "type": "surface"
           }
          ],
          "table": [
           {
            "cells": {
             "fill": {
              "color": "#EBF0F8"
             },
             "line": {
              "color": "white"
             }
            },
            "header": {
             "fill": {
              "color": "#C8D4E3"
             },
             "line": {
              "color": "white"
             }
            },
            "type": "table"
           }
          ]
         },
         "layout": {
          "annotationdefaults": {
           "arrowcolor": "#2a3f5f",
           "arrowhead": 0,
           "arrowwidth": 1
          },
          "autotypenumbers": "strict",
          "coloraxis": {
           "colorbar": {
            "outlinewidth": 0,
            "ticks": ""
           }
          },
          "colorscale": {
           "diverging": [
            [
             0,
             "#8e0152"
            ],
            [
             0.1,
             "#c51b7d"
            ],
            [
             0.2,
             "#de77ae"
            ],
            [
             0.3,
             "#f1b6da"
            ],
            [
             0.4,
             "#fde0ef"
            ],
            [
             0.5,
             "#f7f7f7"
            ],
            [
             0.6,
             "#e6f5d0"
            ],
            [
             0.7,
             "#b8e186"
            ],
            [
             0.8,
             "#7fbc41"
            ],
            [
             0.9,
             "#4d9221"
            ],
            [
             1,
             "#276419"
            ]
           ],
           "sequential": [
            [
             0,
             "#0d0887"
            ],
            [
             0.1111111111111111,
             "#46039f"
            ],
            [
             0.2222222222222222,
             "#7201a8"
            ],
            [
             0.3333333333333333,
             "#9c179e"
            ],
            [
             0.4444444444444444,
             "#bd3786"
            ],
            [
             0.5555555555555556,
             "#d8576b"
            ],
            [
             0.6666666666666666,
             "#ed7953"
            ],
            [
             0.7777777777777778,
             "#fb9f3a"
            ],
            [
             0.8888888888888888,
             "#fdca26"
            ],
            [
             1,
             "#f0f921"
            ]
           ],
           "sequentialminus": [
            [
             0,
             "#0d0887"
            ],
            [
             0.1111111111111111,
             "#46039f"
            ],
            [
             0.2222222222222222,
             "#7201a8"
            ],
            [
             0.3333333333333333,
             "#9c179e"
            ],
            [
             0.4444444444444444,
             "#bd3786"
            ],
            [
             0.5555555555555556,
             "#d8576b"
            ],
            [
             0.6666666666666666,
             "#ed7953"
            ],
            [
             0.7777777777777778,
             "#fb9f3a"
            ],
            [
             0.8888888888888888,
             "#fdca26"
            ],
            [
             1,
             "#f0f921"
            ]
           ]
          },
          "colorway": [
           "#636efa",
           "#EF553B",
           "#00cc96",
           "#ab63fa",
           "#FFA15A",
           "#19d3f3",
           "#FF6692",
           "#B6E880",
           "#FF97FF",
           "#FECB52"
          ],
          "font": {
           "color": "#2a3f5f"
          },
          "geo": {
           "bgcolor": "white",
           "lakecolor": "white",
           "landcolor": "#E5ECF6",
           "showlakes": true,
           "showland": true,
           "subunitcolor": "white"
          },
          "hoverlabel": {
           "align": "left"
          },
          "hovermode": "closest",
          "mapbox": {
           "style": "light"
          },
          "paper_bgcolor": "white",
          "plot_bgcolor": "#E5ECF6",
          "polar": {
           "angularaxis": {
            "gridcolor": "white",
            "linecolor": "white",
            "ticks": ""
           },
           "bgcolor": "#E5ECF6",
           "radialaxis": {
            "gridcolor": "white",
            "linecolor": "white",
            "ticks": ""
           }
          },
          "scene": {
           "xaxis": {
            "backgroundcolor": "#E5ECF6",
            "gridcolor": "white",
            "gridwidth": 2,
            "linecolor": "white",
            "showbackground": true,
            "ticks": "",
            "zerolinecolor": "white"
           },
           "yaxis": {
            "backgroundcolor": "#E5ECF6",
            "gridcolor": "white",
            "gridwidth": 2,
            "linecolor": "white",
            "showbackground": true,
            "ticks": "",
            "zerolinecolor": "white"
           },
           "zaxis": {
            "backgroundcolor": "#E5ECF6",
            "gridcolor": "white",
            "gridwidth": 2,
            "linecolor": "white",
            "showbackground": true,
            "ticks": "",
            "zerolinecolor": "white"
           }
          },
          "shapedefaults": {
           "line": {
            "color": "#2a3f5f"
           }
          },
          "ternary": {
           "aaxis": {
            "gridcolor": "white",
            "linecolor": "white",
            "ticks": ""
           },
           "baxis": {
            "gridcolor": "white",
            "linecolor": "white",
            "ticks": ""
           },
           "bgcolor": "#E5ECF6",
           "caxis": {
            "gridcolor": "white",
            "linecolor": "white",
            "ticks": ""
           }
          },
          "title": {
           "x": 0.05
          },
          "xaxis": {
           "automargin": true,
           "gridcolor": "white",
           "linecolor": "white",
           "ticks": "",
           "title": {
            "standoff": 15
           },
           "zerolinecolor": "white",
           "zerolinewidth": 2
          },
          "yaxis": {
           "automargin": true,
           "gridcolor": "white",
           "linecolor": "white",
           "ticks": "",
           "title": {
            "standoff": 15
           },
           "zerolinecolor": "white",
           "zerolinewidth": 2
          }
         }
        },
        "title": {
         "text": "Total Files per Year (Colored by Bytes Stored)"
        }
       }
      },
      "image/png": "[encoded data removed]",
      "text/html": [
       "<div>                            <div id=\"461490b7-5530-4300-9ba4-5c95b7e5f65d\" class=\"plotly-graph-div\" style=\"height:525px; width:100%;\"></div>            <script type=\"text/javascript\">                require([\"plotly\"], function(Plotly) {                    window.PLOTLYENV=window.PLOTLYENV || {};                                    if (document.getElementById(\"461490b7-5530-4300-9ba4-5c95b7e5f65d\")) {                    Plotly.newPlot(                        \"461490b7-5530-4300-9ba4-5c95b7e5f65d\",                        [{\"branchvalues\":\"total\",\"customdata\":[[1969.0],[1979.0],[1990.0],[1991.0],[1992.0],[1993.0],[1994.0],[1995.0],[1996.0],[1997.0],[1998.0],[1999.0],[2000.0],[2001.0],[2002.0],[2003.0],[2004.0],[2005.0],[2006.0],[2007.0],[2008.0],[2009.0],[2005.72104090725]],\"domain\":{\"x\":[0.0,1.0],\"y\":[0.0,1.0]},\"hovertemplate\":\"labels=%{label}\\u003cbr\\u003ecount=%{value}\\u003cbr\\u003eparent=%{parent}\\u003cbr\\u003eid=%{id}\\u003cbr\\u003emod_year=%{color}\\u003cextra\\u003e\\u003c\\u002fextra\\u003e\",\"ids\":[\"all\\u002f1969\",\"all\\u002f1979\",\"all\\u002f1990\",\"all\\u002f1991\",\"all\\u002f1992\",\"all\\u002f1993\",\"all\\u002f1994\",\"all\\u002f1995\",\"all\\u002f1996\",\"all\\u002f1997\",\"all\\u002f1998\",\"all\\u002f1999\",\"all\\u002f2000\",\"all\\u002f2001\",\"all\\u002f2002\",\"all\\u002f2003\",\"all\\u002f2004\",\"all\\u002f2005\",\"all\\u002f2006\",\"all\\u002f2007\",\"all\\u002f2008\",\"all\\u002f2009\",\"all\"],\"labels\":[\"1969\",\"1979\",\"1990\",\"1991\",\"1992\",\"1993\",\"1994\",\"1995\",\"1996\",\"1997\",\"1998\",\"1999\",\"2000\",\"2001\",\"2002\",\"2003\",\"2004\",\"2005\",\"2006\",\"2007\",\"2008\",\"2009\",\"all\"],\"marker\":{\"coloraxis\":\"coloraxis\",\"colors\":[1969.0,1979.0,1990.0,1991.0,1992.0,1993.0,1994.0,1995.0,1996.0,1997.0,1998.0,1999.0,2000.0,2001.0,2002.0,2003.0,2004.0,2005.0,2006.0,2007.0,2008.0,2009.0,2005.72104090725]},\"name\":\"\",\"parents\":[\"all\",\"all\",\"all\",\"all\",\"all\",\"all\",\"all\",\"all\",\"all\",\"all\",\"all\",\"all\",\"all\",\"all\",\"all\",\"all\",\"all\",\"all\",\"all\",\"all\",\"all\",\"all\",\"\"],\"values\":[1,1,2,2,1,1,12,33,52,140,150,173,252,320,426,620,759,934,984,1172,1471,2370,9876],\"type\":\"treemap\",\"root\":{\"color\":\"lightgrey\"}}],                        {\"template\":{\"data\":{\"histogram2dcontour\":[{\"type\":\"histogram2dcontour\",\"colorbar\":{\"outlinewidth\":0,\"ticks\":\"\"},\"colorscale\":[[0.0,\"#0d0887\"],[0.1111111111111111,\"#46039f\"],[0.2222222222222222,\"#7201a8\"],[0.3333333333333333,\"#9c179e\"],[0.4444444444444444,\"#bd3786\"],[0.5555555555555556,\"#d8576b\"],[0.6666666666666666,\"#ed7953\"],[0.7777777777777778,\"#fb9f3a\"],[0.8888888888888888,\"#fdca26\"],[1.0,\"#f0f921\"]]}],\"choropleth\":[{\"type\":\"choropleth\",\"colorbar\":{\"outlinewidth\":0,\"ticks\":\"\"}}],\"histogram2d\":[{\"type\":\"histogram2d\",\"colorbar\":{\"outlinewidth\":0,\"ticks\":\"\"},\"colorscale\":[[0.0,\"#0d0887\"],[0.1111111111111111,\"#46039f\"],[0.2222222222222222,\"#7201a8\"],[0.3333333333333333,\"#9c179e\"],[0.4444444444444444,\"#bd3786\"],[0.5555555555555556,\"#d8576b\"],[0.6666666666666666,\"#ed7953\"],[0.7777777777777778,\"#fb9f3a\"],[0.8888888888888888,\"#fdca26\"],[1.0,\"#f0f921\"]]}],\"heatmap\":[{\"type\":\"heatmap\",\"colorbar\":{\"outlinewidth\":0,\"ticks\":\"\"},\"colorscale\":[[0.0,\"#0d0887\"],[0.1111111111111111,\"#46039f\"],[0.2222222222222222,\"#7201a8\"],[0.3333333333333333,\"#9c179e\"],[0.4444444444444444,\"#bd3786\"],[0.5555555555555556,\"#d8576b\"],[0.6666666666666666,\"#ed7953\"],[0.7777777777777778,\"#fb9f3a\"],[0.8888888888888888,\"#fdca26\"],[1.0,\"#f0f921\"]]}],\"heatmapgl\":[{\"type\":\"heatmapgl\",\"colorbar\":{\"outlinewidth\":0,\"ticks\":\"\"},\"colorscale\":[[0.0,\"#0d0887\"],[0.1111111111111111,\"#46039f\"],[0.2222222222222222,\"#7201a8\"],[0.3333333333333333,\"#9c179e\"],[0.4444444444444444,\"#bd3786\"],[0.5555555555555556,\"#d8576b\"],[0.6666666666666666,\"#ed7953\"],[0.7777777777777778,\"#fb9f3a\"],[0.8888888888888888,\"#fdca26\"],[1.0,\"#f0f921\"]]}],\"contourcarpet\":[{\"type\":\"contourcarpet\",\"colorbar\":{\"outlinewidth\":0,\"ticks\":\"\"}}],\"contour\":[{\"type\":\"contour\",\"colorbar\":{\"outlinewidth\":0,\"ticks\":\"\"},\"colorscale\":[[0.0,\"#0d0887\"],[0.1111111111111111,\"#46039f\"],[0.2222222222222222,\"#7201a8\"],[0.3333333333333333,\"#9c179e\"],[0.4444444444444444,\"#bd3786\"],[0.5555555555555556,\"#d8576b\"],[0.6666666666666666,\"#ed7953\"],[0.7777777777777778,\"#fb9f3a\"],[0.8888888888888888,\"#fdca26\"],[1.0,\"#f0f921\"]]}],\"surface\":[{\"type\":\"surface\",\"colorbar\":{\"outlinewidth\":0,\"ticks\":\"\"},\"colorscale\":[[0.0,\"#0d0887\"],[0.1111111111111111,\"#46039f\"],[0.2222222222222222,\"#7201a8\"],[0.3333333333333333,\"#9c179e\"],[0.4444444444444444,\"#bd3786\"],[0.5555555555555556,\"#d8576b\"],[0.6666666666666666,\"#ed7953\"],[0.7777777777777778,\"#fb9f3a\"],[0.8888888888888888,\"#fdca26\"],[1.0,\"#f0f921\"]]}],\"mesh3d\":[{\"type\":\"mesh3d\",\"colorbar\":{\"outlinewidth\":0,\"ticks\":\"\"}}],\"scatter\":[{\"fillpattern\":{\"fillmode\":\"overlay\",\"size\":10,\"solidity\":0.2},\"type\":\"scatter\"}],\"parcoords\":[{\"type\":\"parcoords\",\"line\":{\"colorbar\":{\"outlinewidth\":0,\"ticks\":\"\"}}}],\"scatterpolargl\":[{\"type\":\"scatterpolargl\",\"marker\":{\"colorbar\":{\"outlinewidth\":0,\"ticks\":\"\"}}}],\"bar\":[{\"error_x\":{\"color\":\"#2a3f5f\"},\"error_y\":{\"color\":\"#2a3f5f\"},\"marker\":{\"line\":{\"color\":\"#E5ECF6\",\"width\":0.5},\"pattern\":{\"fillmode\":\"overlay\",\"size\":10,\"solidity\":0.2}},\"type\":\"bar\"}],\"scattergeo\":[{\"type\":\"scattergeo\",\"marker\":{\"colorbar\":{\"outlinewidth\":0,\"ticks\":\"\"}}}],\"scatterpolar\":[{\"type\":\"scatterpolar\",\"marker\":{\"colorbar\":{\"outlinewidth\":0,\"ticks\":\"\"}}}],\"histogram\":[{\"marker\":{\"pattern\":{\"fillmode\":\"overlay\",\"size\":10,\"solidity\":0.2}},\"type\":\"histogram\"}],\"scattergl\":[{\"type\":\"scattergl\",\"marker\":{\"colorbar\":{\"outlinewidth\":0,\"ticks\":\"\"}}}],\"scatter3d\":[{\"type\":\"scatter3d\",\"line\":{\"colorbar\":{\"outlinewidth\":0,\"ticks\":\"\"}},\"marker\":{\"colorbar\":{\"outlinewidth\":0,\"ticks\":\"\"}}}],\"scattermapbox\":[{\"type\":\"scattermapbox\",\"marker\":{\"colorbar\":{\"outlinewidth\":0,\"ticks\":\"\"}}}],\"scatterternary\":[{\"type\":\"scatterternary\",\"marker\":{\"colorbar\":{\"outlinewidth\":0,\"ticks\":\"\"}}}],\"scattercarpet\":[{\"type\":\"scattercarpet\",\"marker\":{\"colorbar\":{\"outlinewidth\":0,\"ticks\":\"\"}}}],\"carpet\":[{\"aaxis\":{\"endlinecolor\":\"#2a3f5f\",\"gridcolor\":\"white\",\"linecolor\":\"white\",\"minorgridcolor\":\"white\",\"startlinecolor\":\"#2a3f5f\"},\"baxis\":{\"endlinecolor\":\"#2a3f5f\",\"gridcolor\":\"white\",\"linecolor\":\"white\",\"minorgridcolor\":\"white\",\"startlinecolor\":\"#2a3f5f\"},\"type\":\"carpet\"}],\"table\":[{\"cells\":{\"fill\":{\"color\":\"#EBF0F8\"},\"line\":{\"color\":\"white\"}},\"header\":{\"fill\":{\"color\":\"#C8D4E3\"},\"line\":{\"color\":\"white\"}},\"type\":\"table\"}],\"barpolar\":[{\"marker\":{\"line\":{\"color\":\"#E5ECF6\",\"width\":0.5},\"pattern\":{\"fillmode\":\"overlay\",\"size\":10,\"solidity\":0.2}},\"type\":\"barpolar\"}],\"pie\":[{\"automargin\":true,\"type\":\"pie\"}]},\"layout\":{\"autotypenumbers\":\"strict\",\"colorway\":[\"#636efa\",\"#EF553B\",\"#00cc96\",\"#ab63fa\",\"#FFA15A\",\"#19d3f3\",\"#FF6692\",\"#B6E880\",\"#FF97FF\",\"#FECB52\"],\"font\":{\"color\":\"#2a3f5f\"},\"hovermode\":\"closest\",\"hoverlabel\":{\"align\":\"left\"},\"paper_bgcolor\":\"white\",\"plot_bgcolor\":\"#E5ECF6\",\"polar\":{\"bgcolor\":\"#E5ECF6\",\"angularaxis\":{\"gridcolor\":\"white\",\"linecolor\":\"white\",\"ticks\":\"\"},\"radialaxis\":{\"gridcolor\":\"white\",\"linecolor\":\"white\",\"ticks\":\"\"}},\"ternary\":{\"bgcolor\":\"#E5ECF6\",\"aaxis\":{\"gridcolor\":\"white\",\"linecolor\":\"white\",\"ticks\":\"\"},\"baxis\":{\"gridcolor\":\"white\",\"linecolor\":\"white\",\"ticks\":\"\"},\"caxis\":{\"gridcolor\":\"white\",\"linecolor\":\"white\",\"ticks\":\"\"}},\"coloraxis\":{\"colorbar\":{\"outlinewidth\":0,\"ticks\":\"\"}},\"colorscale\":{\"sequential\":[[0.0,\"#0d0887\"],[0.1111111111111111,\"#46039f\"],[0.2222222222222222,\"#7201a8\"],[0.3333333333333333,\"#9c179e\"],[0.4444444444444444,\"#bd3786\"],[0.5555555555555556,\"#d8576b\"],[0.6666666666666666,\"#ed7953\"],[0.7777777777777778,\"#fb9f3a\"],[0.8888888888888888,\"#fdca26\"],[1.0,\"#f0f921\"]],\"sequentialminus\":[[0.0,\"#0d0887\"],[0.1111111111111111,\"#46039f\"],[0.2222222222222222,\"#7201a8\"],[0.3333333333333333,\"#9c179e\"],[0.4444444444444444,\"#bd3786\"],[0.5555555555555556,\"#d8576b\"],[0.6666666666666666,\"#ed7953\"],[0.7777777777777778,\"#fb9f3a\"],[0.8888888888888888,\"#fdca26\"],[1.0,\"#f0f921\"]],\"diverging\":[[0,\"#8e0152\"],[0.1,\"#c51b7d\"],[0.2,\"#de77ae\"],[0.3,\"#f1b6da\"],[0.4,\"#fde0ef\"],[0.5,\"#f7f7f7\"],[0.6,\"#e6f5d0\"],[0.7,\"#b8e186\"],[0.8,\"#7fbc41\"],[0.9,\"#4d9221\"],[1,\"#276419\"]]},\"xaxis\":{\"gridcolor\":\"white\",\"linecolor\":\"white\",\"ticks\":\"\",\"title\":{\"standoff\":15},\"zerolinecolor\":\"white\",\"automargin\":true,\"zerolinewidth\":2},\"yaxis\":{\"gridcolor\":\"white\",\"linecolor\":\"white\",\"ticks\":\"\",\"title\":{\"standoff\":15},\"zerolinecolor\":\"white\",\"automargin\":true,\"zerolinewidth\":2},\"scene\":{\"xaxis\":{\"backgroundcolor\":\"#E5ECF6\",\"gridcolor\":\"white\",\"linecolor\":\"white\",\"showbackground\":true,\"ticks\":\"\",\"zerolinecolor\":\"white\",\"gridwidth\":2},\"yaxis\":{\"backgroundcolor\":\"#E5ECF6\",\"gridcolor\":\"white\",\"linecolor\":\"white\",\"showbackground\":true,\"ticks\":\"\",\"zerolinecolor\":\"white\",\"gridwidth\":2},\"zaxis\":{\"backgroundcolor\":\"#E5ECF6\",\"gridcolor\":\"white\",\"linecolor\":\"white\",\"showbackground\":true,\"ticks\":\"\",\"zerolinecolor\":\"white\",\"gridwidth\":2}},\"shapedefaults\":{\"line\":{\"color\":\"#2a3f5f\"}},\"annotationdefaults\":{\"arrowcolor\":\"#2a3f5f\",\"arrowhead\":0,\"arrowwidth\":1},\"geo\":{\"bgcolor\":\"white\",\"landcolor\":\"#E5ECF6\",\"subunitcolor\":\"white\",\"showland\":true,\"showlakes\":true,\"lakecolor\":\"white\"},\"title\":{\"x\":0.05},\"mapbox\":{\"style\":\"light\"}}},\"coloraxis\":{\"colorbar\":{\"title\":{\"text\":\"mod_year\"}},\"colorscale\":[[0.0,\"#0d0887\"],[0.1111111111111111,\"#46039f\"],[0.2222222222222222,\"#7201a8\"],[0.3333333333333333,\"#9c179e\"],[0.4444444444444444,\"#bd3786\"],[0.5555555555555556,\"#d8576b\"],[0.6666666666666666,\"#ed7953\"],[0.7777777777777778,\"#fb9f3a\"],[0.8888888888888888,\"#fdca26\"],[1.0,\"#f0f921\"]]},\"legend\":{\"tracegroupgap\":0},\"title\":{\"text\":\"Total Files per Year (Colored by Bytes Stored)\"},\"margin\":{\"t\":50,\"l\":25,\"r\":25,\"b\":25}},                        {\"responsive\": true}                    ).then(function(){\n",
       "                            \n",
       "var gd = document.getElementById('461490b7-5530-4300-9ba4-5c95b7e5f65d');\n",
       "var x = new MutationObserver(function (mutations, observer) {{\n",
       "        var display = window.getComputedStyle(gd).display;\n",
       "        if (!display || display === 'none') {{\n",
       "            console.log([gd, 'removed!']);\n",
       "            Plotly.purge(gd);\n",
       "            observer.disconnect();\n",
       "        }}\n",
       "}});\n",
       "\n",
       "// Listen for the removal of the full notebook cells\n",
       "var notebookContainer = gd.closest('#notebook-container');\n",
       "if (notebookContainer) {{\n",
       "    x.observe(notebookContainer, {childList: true});\n",
       "}}\n",
       "\n",
       "// Listen for the clearing of the current output cell\n",
       "var outputEl = gd.closest('.output');\n",
       "if (outputEl) {{\n",
       "    x.observe(outputEl, {childList: true});\n",
       "}}\n",
       "\n",
       "                        })                };                });            </script>        </div>"
      ]
     },
     "metadata": {},
     "output_type": "display_data"
    }
   ],
   "source": [
    "import plotly.express as px\n",
    "\n",
    "fig = px.treemap(df,\n",
    "                 title=\"Total Files per Year (Colored by Bytes Stored)\",\n",
    "                 path=[px.Constant(\"all\"), 'mod_year'], \n",
    "                 color='mod_year'\n",
    "                )\n",
    "fig.update_traces(root_color=\"lightgrey\")\n",
    "fig.update_layout(margin = dict(t=50, l=25, r=25, b=25))\n",
    "fig.show()"
   ]
  },
  {
   "cell_type": "markdown",
   "id": "endangered-celtic",
   "metadata": {
    "jp-MarkdownHeadingCollapsed": true
   },
   "source": [
    "## Dive into Folders\n",
    "If your initial inventory reveals a sub-folder that is of particular interest, you can run the same visualizations against a specific subfolder. Let's pick a sub-folder and show the mimetype distribution of that subfolder by itself.\n",
    "\n",
    "The first step is to subset our inventory dataframe, to include only the desired sub-folder."
   ]
  },
  {
   "cell_type": "code",
   "execution_count": 9,
   "id": "sorted-laser",
   "metadata": {},
   "outputs": [
    {
     "data": {
      "text/html": [
       "<div>\n",
       "<style scoped>\n",
       "    .dataframe tbody tr th:only-of-type {\n",
       "        vertical-align: middle;\n",
       "    }\n",
       "\n",
       "    .dataframe tbody tr th {\n",
       "        vertical-align: top;\n",
       "    }\n",
       "\n",
       "    .dataframe thead th {\n",
       "        text-align: right;\n",
       "    }\n",
       "</style>\n",
       "<table border=\"1\" class=\"dataframe\">\n",
       "  <thead>\n",
       "    <tr style=\"text-align: right;\">\n",
       "      <th></th>\n",
       "      <th>name</th>\n",
       "      <th>path</th>\n",
       "      <th>bytes</th>\n",
       "      <th>modified</th>\n",
       "      <th>mod_year</th>\n",
       "      <th>extension</th>\n",
       "      <th>category</th>\n",
       "      <th>mimetype</th>\n",
       "      <th>folder1</th>\n",
       "      <th>folder2</th>\n",
       "    </tr>\n",
       "  </thead>\n",
       "  <tbody>\n",
       "  </tbody>\n",
       "</table>\n",
       "</div>"
      ],
      "text/plain": [
       "Empty DataFrame\n",
       "Columns: [name, path, bytes, modified, mod_year, extension, category, mimetype, folder1, folder2]\n",
       "Index: []"
      ]
     },
     "execution_count": 9,
     "metadata": {},
     "output_type": "execute_result"
    }
   ],
   "source": [
    "subfolder_df = df[df['folder1'] == 'Agency History']\n",
    "subfolder_df.tail()"
   ]
  },
  {
   "cell_type": "markdown",
   "id": "collaborative-plymouth",
   "metadata": {},
   "source": [
    "Next we use the same treemap code as our prior mimetype visualization, but supply the new subfolder dataframe."
   ]
  },
  {
   "cell_type": "code",
   "execution_count": 21,
   "id": "proved-vermont",
   "metadata": {},
   "outputs": [
    {
     "data": {
      "application/vnd.plotly.v1+json": {
       "config": {
        "plotlyServerURL": "https://plot.ly"
       },
       "data": [
        {
         "branchvalues": "total",
         "customdata": [],
         "domain": {
          "x": [
           0,
           1
          ],
          "y": [
           0,
           1
          ]
         },
         "hovertemplate": "labels=%{label}<br>count=%{value}<br>parent=%{parent}<br>id=%{id}<br>bytes=%{color}<extra></extra>",
         "ids": [],
         "labels": [],
         "marker": {
          "coloraxis": "coloraxis",
          "colors": []
         },
         "name": "",
         "parents": [],
         "root": {
          "color": "lightgrey"
         },
         "type": "treemap",
         "values": []
        }
       ],
       "layout": {
        "coloraxis": {
         "colorbar": {
          "title": {
           "text": "bytes"
          }
         },
         "colorscale": [
          [
           0,
           "#0d0887"
          ],
          [
           0.1111111111111111,
           "#46039f"
          ],
          [
           0.2222222222222222,
           "#7201a8"
          ],
          [
           0.3333333333333333,
           "#9c179e"
          ],
          [
           0.4444444444444444,
           "#bd3786"
          ],
          [
           0.5555555555555556,
           "#d8576b"
          ],
          [
           0.6666666666666666,
           "#ed7953"
          ],
          [
           0.7777777777777778,
           "#fb9f3a"
          ],
          [
           0.8888888888888888,
           "#fdca26"
          ],
          [
           1,
           "#f0f921"
          ]
         ]
        },
        "height": 360,
        "legend": {
         "tracegroupgap": 0
        },
        "margin": {
         "b": 25,
         "l": 25,
         "r": 25,
         "t": 50
        },
        "template": {
         "data": {
          "bar": [
           {
            "error_x": {
             "color": "#2a3f5f"
            },
            "error_y": {
             "color": "#2a3f5f"
            },
            "marker": {
             "line": {
              "color": "#E5ECF6",
              "width": 0.5
             },
             "pattern": {
              "fillmode": "overlay",
              "size": 10,
              "solidity": 0.2
             }
            },
            "type": "bar"
           }
          ],
          "barpolar": [
           {
            "marker": {
             "line": {
              "color": "#E5ECF6",
              "width": 0.5
             },
             "pattern": {
              "fillmode": "overlay",
              "size": 10,
              "solidity": 0.2
             }
            },
            "type": "barpolar"
           }
          ],
          "carpet": [
           {
            "aaxis": {
             "endlinecolor": "#2a3f5f",
             "gridcolor": "white",
             "linecolor": "white",
             "minorgridcolor": "white",
             "startlinecolor": "#2a3f5f"
            },
            "baxis": {
             "endlinecolor": "#2a3f5f",
             "gridcolor": "white",
             "linecolor": "white",
             "minorgridcolor": "white",
             "startlinecolor": "#2a3f5f"
            },
            "type": "carpet"
           }
          ],
          "choropleth": [
           {
            "colorbar": {
             "outlinewidth": 0,
             "ticks": ""
            },
            "type": "choropleth"
           }
          ],
          "contour": [
           {
            "colorbar": {
             "outlinewidth": 0,
             "ticks": ""
            },
            "colorscale": [
             [
              0,
              "#0d0887"
             ],
             [
              0.1111111111111111,
              "#46039f"
             ],
             [
              0.2222222222222222,
              "#7201a8"
             ],
             [
              0.3333333333333333,
              "#9c179e"
             ],
             [
              0.4444444444444444,
              "#bd3786"
             ],
             [
              0.5555555555555556,
              "#d8576b"
             ],
             [
              0.6666666666666666,
              "#ed7953"
             ],
             [
              0.7777777777777778,
              "#fb9f3a"
             ],
             [
              0.8888888888888888,
              "#fdca26"
             ],
             [
              1,
              "#f0f921"
             ]
            ],
            "type": "contour"
           }
          ],
          "contourcarpet": [
           {
            "colorbar": {
             "outlinewidth": 0,
             "ticks": ""
            },
            "type": "contourcarpet"
           }
          ],
          "heatmap": [
           {
            "colorbar": {
             "outlinewidth": 0,
             "ticks": ""
            },
            "colorscale": [
             [
              0,
              "#0d0887"
             ],
             [
              0.1111111111111111,
              "#46039f"
             ],
             [
              0.2222222222222222,
              "#7201a8"
             ],
             [
              0.3333333333333333,
              "#9c179e"
             ],
             [
              0.4444444444444444,
              "#bd3786"
             ],
             [
              0.5555555555555556,
              "#d8576b"
             ],
             [
              0.6666666666666666,
              "#ed7953"
             ],
             [
              0.7777777777777778,
              "#fb9f3a"
             ],
             [
              0.8888888888888888,
              "#fdca26"
             ],
             [
              1,
              "#f0f921"
             ]
            ],
            "type": "heatmap"
           }
          ],
          "heatmapgl": [
           {
            "colorbar": {
             "outlinewidth": 0,
             "ticks": ""
            },
            "colorscale": [
             [
              0,
              "#0d0887"
             ],
             [
              0.1111111111111111,
              "#46039f"
             ],
             [
              0.2222222222222222,
              "#7201a8"
             ],
             [
              0.3333333333333333,
              "#9c179e"
             ],
             [
              0.4444444444444444,
              "#bd3786"
             ],
             [
              0.5555555555555556,
              "#d8576b"
             ],
             [
              0.6666666666666666,
              "#ed7953"
             ],
             [
              0.7777777777777778,
              "#fb9f3a"
             ],
             [
              0.8888888888888888,
              "#fdca26"
             ],
             [
              1,
              "#f0f921"
             ]
            ],
            "type": "heatmapgl"
           }
          ],
          "histogram": [
           {
            "marker": {
             "pattern": {
              "fillmode": "overlay",
              "size": 10,
              "solidity": 0.2
             }
            },
            "type": "histogram"
           }
          ],
          "histogram2d": [
           {
            "colorbar": {
             "outlinewidth": 0,
             "ticks": ""
            },
            "colorscale": [
             [
              0,
              "#0d0887"
             ],
             [
              0.1111111111111111,
              "#46039f"
             ],
             [
              0.2222222222222222,
              "#7201a8"
             ],
             [
              0.3333333333333333,
              "#9c179e"
             ],
             [
              0.4444444444444444,
              "#bd3786"
             ],
             [
              0.5555555555555556,
              "#d8576b"
             ],
             [
              0.6666666666666666,
              "#ed7953"
             ],
             [
              0.7777777777777778,
              "#fb9f3a"
             ],
             [
              0.8888888888888888,
              "#fdca26"
             ],
             [
              1,
              "#f0f921"
             ]
            ],
            "type": "histogram2d"
           }
          ],
          "histogram2dcontour": [
           {
            "colorbar": {
             "outlinewidth": 0,
             "ticks": ""
            },
            "colorscale": [
             [
              0,
              "#0d0887"
             ],
             [
              0.1111111111111111,
              "#46039f"
             ],
             [
              0.2222222222222222,
              "#7201a8"
             ],
             [
              0.3333333333333333,
              "#9c179e"
             ],
             [
              0.4444444444444444,
              "#bd3786"
             ],
             [
              0.5555555555555556,
              "#d8576b"
             ],
             [
              0.6666666666666666,
              "#ed7953"
             ],
             [
              0.7777777777777778,
              "#fb9f3a"
             ],
             [
              0.8888888888888888,
              "#fdca26"
             ],
             [
              1,
              "#f0f921"
             ]
            ],
            "type": "histogram2dcontour"
           }
          ],
          "mesh3d": [
           {
            "colorbar": {
             "outlinewidth": 0,
             "ticks": ""
            },
            "type": "mesh3d"
           }
          ],
          "parcoords": [
           {
            "line": {
             "colorbar": {
              "outlinewidth": 0,
              "ticks": ""
             }
            },
            "type": "parcoords"
           }
          ],
          "pie": [
           {
            "automargin": true,
            "type": "pie"
           }
          ],
          "scatter": [
           {
            "fillpattern": {
             "fillmode": "overlay",
             "size": 10,
             "solidity": 0.2
            },
            "type": "scatter"
           }
          ],
          "scatter3d": [
           {
            "line": {
             "colorbar": {
              "outlinewidth": 0,
              "ticks": ""
             }
            },
            "marker": {
             "colorbar": {
              "outlinewidth": 0,
              "ticks": ""
             }
            },
            "type": "scatter3d"
           }
          ],
          "scattercarpet": [
           {
            "marker": {
             "colorbar": {
              "outlinewidth": 0,
              "ticks": ""
             }
            },
            "type": "scattercarpet"
           }
          ],
          "scattergeo": [
           {
            "marker": {
             "colorbar": {
              "outlinewidth": 0,
              "ticks": ""
             }
            },
            "type": "scattergeo"
           }
          ],
          "scattergl": [
           {
            "marker": {
             "colorbar": {
              "outlinewidth": 0,
              "ticks": ""
             }
            },
            "type": "scattergl"
           }
          ],
          "scattermapbox": [
           {
            "marker": {
             "colorbar": {
              "outlinewidth": 0,
              "ticks": ""
             }
            },
            "type": "scattermapbox"
           }
          ],
          "scatterpolar": [
           {
            "marker": {
             "colorbar": {
              "outlinewidth": 0,
              "ticks": ""
             }
            },
            "type": "scatterpolar"
           }
          ],
          "scatterpolargl": [
           {
            "marker": {
             "colorbar": {
              "outlinewidth": 0,
              "ticks": ""
             }
            },
            "type": "scatterpolargl"
           }
          ],
          "scatterternary": [
           {
            "marker": {
             "colorbar": {
              "outlinewidth": 0,
              "ticks": ""
             }
            },
            "type": "scatterternary"
           }
          ],
          "surface": [
           {
            "colorbar": {
             "outlinewidth": 0,
             "ticks": ""
            },
            "colorscale": [
             [
              0,
              "#0d0887"
             ],
             [
              0.1111111111111111,
              "#46039f"
             ],
             [
              0.2222222222222222,
              "#7201a8"
             ],
             [
              0.3333333333333333,
              "#9c179e"
             ],
             [
              0.4444444444444444,
              "#bd3786"
             ],
             [
              0.5555555555555556,
              "#d8576b"
             ],
             [
              0.6666666666666666,
              "#ed7953"
             ],
             [
              0.7777777777777778,
              "#fb9f3a"
             ],
             [
              0.8888888888888888,
              "#fdca26"
             ],
             [
              1,
              "#f0f921"
             ]
            ],
            "type": "surface"
           }
          ],
          "table": [
           {
            "cells": {
             "fill": {
              "color": "#EBF0F8"
             },
             "line": {
              "color": "white"
             }
            },
            "header": {
             "fill": {
              "color": "#C8D4E3"
             },
             "line": {
              "color": "white"
             }
            },
            "type": "table"
           }
          ]
         },
         "layout": {
          "annotationdefaults": {
           "arrowcolor": "#2a3f5f",
           "arrowhead": 0,
           "arrowwidth": 1
          },
          "autotypenumbers": "strict",
          "coloraxis": {
           "colorbar": {
            "outlinewidth": 0,
            "ticks": ""
           }
          },
          "colorscale": {
           "diverging": [
            [
             0,
             "#8e0152"
            ],
            [
             0.1,
             "#c51b7d"
            ],
            [
             0.2,
             "#de77ae"
            ],
            [
             0.3,
             "#f1b6da"
            ],
            [
             0.4,
             "#fde0ef"
            ],
            [
             0.5,
             "#f7f7f7"
            ],
            [
             0.6,
             "#e6f5d0"
            ],
            [
             0.7,
             "#b8e186"
            ],
            [
             0.8,
             "#7fbc41"
            ],
            [
             0.9,
             "#4d9221"
            ],
            [
             1,
             "#276419"
            ]
           ],
           "sequential": [
            [
             0,
             "#0d0887"
            ],
            [
             0.1111111111111111,
             "#46039f"
            ],
            [
             0.2222222222222222,
             "#7201a8"
            ],
            [
             0.3333333333333333,
             "#9c179e"
            ],
            [
             0.4444444444444444,
             "#bd3786"
            ],
            [
             0.5555555555555556,
             "#d8576b"
            ],
            [
             0.6666666666666666,
             "#ed7953"
            ],
            [
             0.7777777777777778,
             "#fb9f3a"
            ],
            [
             0.8888888888888888,
             "#fdca26"
            ],
            [
             1,
             "#f0f921"
            ]
           ],
           "sequentialminus": [
            [
             0,
             "#0d0887"
            ],
            [
             0.1111111111111111,
             "#46039f"
            ],
            [
             0.2222222222222222,
             "#7201a8"
            ],
            [
             0.3333333333333333,
             "#9c179e"
            ],
            [
             0.4444444444444444,
             "#bd3786"
            ],
            [
             0.5555555555555556,
             "#d8576b"
            ],
            [
             0.6666666666666666,
             "#ed7953"
            ],
            [
             0.7777777777777778,
             "#fb9f3a"
            ],
            [
             0.8888888888888888,
             "#fdca26"
            ],
            [
             1,
             "#f0f921"
            ]
           ]
          },
          "colorway": [
           "#636efa",
           "#EF553B",
           "#00cc96",
           "#ab63fa",
           "#FFA15A",
           "#19d3f3",
           "#FF6692",
           "#B6E880",
           "#FF97FF",
           "#FECB52"
          ],
          "font": {
           "color": "#2a3f5f"
          },
          "geo": {
           "bgcolor": "white",
           "lakecolor": "white",
           "landcolor": "#E5ECF6",
           "showlakes": true,
           "showland": true,
           "subunitcolor": "white"
          },
          "hoverlabel": {
           "align": "left"
          },
          "hovermode": "closest",
          "mapbox": {
           "style": "light"
          },
          "paper_bgcolor": "white",
          "plot_bgcolor": "#E5ECF6",
          "polar": {
           "angularaxis": {
            "gridcolor": "white",
            "linecolor": "white",
            "ticks": ""
           },
           "bgcolor": "#E5ECF6",
           "radialaxis": {
            "gridcolor": "white",
            "linecolor": "white",
            "ticks": ""
           }
          },
          "scene": {
           "xaxis": {
            "backgroundcolor": "#E5ECF6",
            "gridcolor": "white",
            "gridwidth": 2,
            "linecolor": "white",
            "showbackground": true,
            "ticks": "",
            "zerolinecolor": "white"
           },
           "yaxis": {
            "backgroundcolor": "#E5ECF6",
            "gridcolor": "white",
            "gridwidth": 2,
            "linecolor": "white",
            "showbackground": true,
            "ticks": "",
            "zerolinecolor": "white"
           },
           "zaxis": {
            "backgroundcolor": "#E5ECF6",
            "gridcolor": "white",
            "gridwidth": 2,
            "linecolor": "white",
            "showbackground": true,
            "ticks": "",
            "zerolinecolor": "white"
           }
          },
          "shapedefaults": {
           "line": {
            "color": "#2a3f5f"
           }
          },
          "ternary": {
           "aaxis": {
            "gridcolor": "white",
            "linecolor": "white",
            "ticks": ""
           },
           "baxis": {
            "gridcolor": "white",
            "linecolor": "white",
            "ticks": ""
           },
           "bgcolor": "#E5ECF6",
           "caxis": {
            "gridcolor": "white",
            "linecolor": "white",
            "ticks": ""
           }
          },
          "title": {
           "x": 0.05
          },
          "xaxis": {
           "automargin": true,
           "gridcolor": "white",
           "linecolor": "white",
           "ticks": "",
           "title": {
            "standoff": 15
           },
           "zerolinecolor": "white",
           "zerolinewidth": 2
          },
          "yaxis": {
           "automargin": true,
           "gridcolor": "white",
           "linecolor": "white",
           "ticks": "",
           "title": {
            "standoff": 15
           },
           "zerolinecolor": "white",
           "zerolinewidth": 2
          }
         }
        },
        "title": {
         "text": "Total File Stored by Mimetype (Colored by Bytes Stored)"
        }
       }
      },
      "image/png": "[encoded data removed]",
      "text/html": [
       "<div>                            <div id=\"c4bd5d09-d98c-4c29-bf87-55b136120f80\" class=\"plotly-graph-div\" style=\"height:525px; width:100%;\"></div>            <script type=\"text/javascript\">                require([\"plotly\"], function(Plotly) {                    window.PLOTLYENV=window.PLOTLYENV || {};                                    if (document.getElementById(\"c4bd5d09-d98c-4c29-bf87-55b136120f80\")) {                    Plotly.newPlot(                        \"c4bd5d09-d98c-4c29-bf87-55b136120f80\",                        [{\"branchvalues\":\"total\",\"customdata\":[],\"domain\":{\"x\":[0.0,1.0],\"y\":[0.0,1.0]},\"hovertemplate\":\"labels=%{label}\\u003cbr\\u003ecount=%{value}\\u003cbr\\u003eparent=%{parent}\\u003cbr\\u003eid=%{id}\\u003cbr\\u003ebytes=%{color}\\u003cextra\\u003e\\u003c\\u002fextra\\u003e\",\"ids\":[],\"labels\":[],\"marker\":{\"coloraxis\":\"coloraxis\",\"colors\":[]},\"name\":\"\",\"parents\":[],\"values\":[],\"type\":\"treemap\",\"root\":{\"color\":\"lightgrey\"}}],                        {\"template\":{\"data\":{\"histogram2dcontour\":[{\"type\":\"histogram2dcontour\",\"colorbar\":{\"outlinewidth\":0,\"ticks\":\"\"},\"colorscale\":[[0.0,\"#0d0887\"],[0.1111111111111111,\"#46039f\"],[0.2222222222222222,\"#7201a8\"],[0.3333333333333333,\"#9c179e\"],[0.4444444444444444,\"#bd3786\"],[0.5555555555555556,\"#d8576b\"],[0.6666666666666666,\"#ed7953\"],[0.7777777777777778,\"#fb9f3a\"],[0.8888888888888888,\"#fdca26\"],[1.0,\"#f0f921\"]]}],\"choropleth\":[{\"type\":\"choropleth\",\"colorbar\":{\"outlinewidth\":0,\"ticks\":\"\"}}],\"histogram2d\":[{\"type\":\"histogram2d\",\"colorbar\":{\"outlinewidth\":0,\"ticks\":\"\"},\"colorscale\":[[0.0,\"#0d0887\"],[0.1111111111111111,\"#46039f\"],[0.2222222222222222,\"#7201a8\"],[0.3333333333333333,\"#9c179e\"],[0.4444444444444444,\"#bd3786\"],[0.5555555555555556,\"#d8576b\"],[0.6666666666666666,\"#ed7953\"],[0.7777777777777778,\"#fb9f3a\"],[0.8888888888888888,\"#fdca26\"],[1.0,\"#f0f921\"]]}],\"heatmap\":[{\"type\":\"heatmap\",\"colorbar\":{\"outlinewidth\":0,\"ticks\":\"\"},\"colorscale\":[[0.0,\"#0d0887\"],[0.1111111111111111,\"#46039f\"],[0.2222222222222222,\"#7201a8\"],[0.3333333333333333,\"#9c179e\"],[0.4444444444444444,\"#bd3786\"],[0.5555555555555556,\"#d8576b\"],[0.6666666666666666,\"#ed7953\"],[0.7777777777777778,\"#fb9f3a\"],[0.8888888888888888,\"#fdca26\"],[1.0,\"#f0f921\"]]}],\"heatmapgl\":[{\"type\":\"heatmapgl\",\"colorbar\":{\"outlinewidth\":0,\"ticks\":\"\"},\"colorscale\":[[0.0,\"#0d0887\"],[0.1111111111111111,\"#46039f\"],[0.2222222222222222,\"#7201a8\"],[0.3333333333333333,\"#9c179e\"],[0.4444444444444444,\"#bd3786\"],[0.5555555555555556,\"#d8576b\"],[0.6666666666666666,\"#ed7953\"],[0.7777777777777778,\"#fb9f3a\"],[0.8888888888888888,\"#fdca26\"],[1.0,\"#f0f921\"]]}],\"contourcarpet\":[{\"type\":\"contourcarpet\",\"colorbar\":{\"outlinewidth\":0,\"ticks\":\"\"}}],\"contour\":[{\"type\":\"contour\",\"colorbar\":{\"outlinewidth\":0,\"ticks\":\"\"},\"colorscale\":[[0.0,\"#0d0887\"],[0.1111111111111111,\"#46039f\"],[0.2222222222222222,\"#7201a8\"],[0.3333333333333333,\"#9c179e\"],[0.4444444444444444,\"#bd3786\"],[0.5555555555555556,\"#d8576b\"],[0.6666666666666666,\"#ed7953\"],[0.7777777777777778,\"#fb9f3a\"],[0.8888888888888888,\"#fdca26\"],[1.0,\"#f0f921\"]]}],\"surface\":[{\"type\":\"surface\",\"colorbar\":{\"outlinewidth\":0,\"ticks\":\"\"},\"colorscale\":[[0.0,\"#0d0887\"],[0.1111111111111111,\"#46039f\"],[0.2222222222222222,\"#7201a8\"],[0.3333333333333333,\"#9c179e\"],[0.4444444444444444,\"#bd3786\"],[0.5555555555555556,\"#d8576b\"],[0.6666666666666666,\"#ed7953\"],[0.7777777777777778,\"#fb9f3a\"],[0.8888888888888888,\"#fdca26\"],[1.0,\"#f0f921\"]]}],\"mesh3d\":[{\"type\":\"mesh3d\",\"colorbar\":{\"outlinewidth\":0,\"ticks\":\"\"}}],\"scatter\":[{\"fillpattern\":{\"fillmode\":\"overlay\",\"size\":10,\"solidity\":0.2},\"type\":\"scatter\"}],\"parcoords\":[{\"type\":\"parcoords\",\"line\":{\"colorbar\":{\"outlinewidth\":0,\"ticks\":\"\"}}}],\"scatterpolargl\":[{\"type\":\"scatterpolargl\",\"marker\":{\"colorbar\":{\"outlinewidth\":0,\"ticks\":\"\"}}}],\"bar\":[{\"error_x\":{\"color\":\"#2a3f5f\"},\"error_y\":{\"color\":\"#2a3f5f\"},\"marker\":{\"line\":{\"color\":\"#E5ECF6\",\"width\":0.5},\"pattern\":{\"fillmode\":\"overlay\",\"size\":10,\"solidity\":0.2}},\"type\":\"bar\"}],\"scattergeo\":[{\"type\":\"scattergeo\",\"marker\":{\"colorbar\":{\"outlinewidth\":0,\"ticks\":\"\"}}}],\"scatterpolar\":[{\"type\":\"scatterpolar\",\"marker\":{\"colorbar\":{\"outlinewidth\":0,\"ticks\":\"\"}}}],\"histogram\":[{\"marker\":{\"pattern\":{\"fillmode\":\"overlay\",\"size\":10,\"solidity\":0.2}},\"type\":\"histogram\"}],\"scattergl\":[{\"type\":\"scattergl\",\"marker\":{\"colorbar\":{\"outlinewidth\":0,\"ticks\":\"\"}}}],\"scatter3d\":[{\"type\":\"scatter3d\",\"line\":{\"colorbar\":{\"outlinewidth\":0,\"ticks\":\"\"}},\"marker\":{\"colorbar\":{\"outlinewidth\":0,\"ticks\":\"\"}}}],\"scattermapbox\":[{\"type\":\"scattermapbox\",\"marker\":{\"colorbar\":{\"outlinewidth\":0,\"ticks\":\"\"}}}],\"scatterternary\":[{\"type\":\"scatterternary\",\"marker\":{\"colorbar\":{\"outlinewidth\":0,\"ticks\":\"\"}}}],\"scattercarpet\":[{\"type\":\"scattercarpet\",\"marker\":{\"colorbar\":{\"outlinewidth\":0,\"ticks\":\"\"}}}],\"carpet\":[{\"aaxis\":{\"endlinecolor\":\"#2a3f5f\",\"gridcolor\":\"white\",\"linecolor\":\"white\",\"minorgridcolor\":\"white\",\"startlinecolor\":\"#2a3f5f\"},\"baxis\":{\"endlinecolor\":\"#2a3f5f\",\"gridcolor\":\"white\",\"linecolor\":\"white\",\"minorgridcolor\":\"white\",\"startlinecolor\":\"#2a3f5f\"},\"type\":\"carpet\"}],\"table\":[{\"cells\":{\"fill\":{\"color\":\"#EBF0F8\"},\"line\":{\"color\":\"white\"}},\"header\":{\"fill\":{\"color\":\"#C8D4E3\"},\"line\":{\"color\":\"white\"}},\"type\":\"table\"}],\"barpolar\":[{\"marker\":{\"line\":{\"color\":\"#E5ECF6\",\"width\":0.5},\"pattern\":{\"fillmode\":\"overlay\",\"size\":10,\"solidity\":0.2}},\"type\":\"barpolar\"}],\"pie\":[{\"automargin\":true,\"type\":\"pie\"}]},\"layout\":{\"autotypenumbers\":\"strict\",\"colorway\":[\"#636efa\",\"#EF553B\",\"#00cc96\",\"#ab63fa\",\"#FFA15A\",\"#19d3f3\",\"#FF6692\",\"#B6E880\",\"#FF97FF\",\"#FECB52\"],\"font\":{\"color\":\"#2a3f5f\"},\"hovermode\":\"closest\",\"hoverlabel\":{\"align\":\"left\"},\"paper_bgcolor\":\"white\",\"plot_bgcolor\":\"#E5ECF6\",\"polar\":{\"bgcolor\":\"#E5ECF6\",\"angularaxis\":{\"gridcolor\":\"white\",\"linecolor\":\"white\",\"ticks\":\"\"},\"radialaxis\":{\"gridcolor\":\"white\",\"linecolor\":\"white\",\"ticks\":\"\"}},\"ternary\":{\"bgcolor\":\"#E5ECF6\",\"aaxis\":{\"gridcolor\":\"white\",\"linecolor\":\"white\",\"ticks\":\"\"},\"baxis\":{\"gridcolor\":\"white\",\"linecolor\":\"white\",\"ticks\":\"\"},\"caxis\":{\"gridcolor\":\"white\",\"linecolor\":\"white\",\"ticks\":\"\"}},\"coloraxis\":{\"colorbar\":{\"outlinewidth\":0,\"ticks\":\"\"}},\"colorscale\":{\"sequential\":[[0.0,\"#0d0887\"],[0.1111111111111111,\"#46039f\"],[0.2222222222222222,\"#7201a8\"],[0.3333333333333333,\"#9c179e\"],[0.4444444444444444,\"#bd3786\"],[0.5555555555555556,\"#d8576b\"],[0.6666666666666666,\"#ed7953\"],[0.7777777777777778,\"#fb9f3a\"],[0.8888888888888888,\"#fdca26\"],[1.0,\"#f0f921\"]],\"sequentialminus\":[[0.0,\"#0d0887\"],[0.1111111111111111,\"#46039f\"],[0.2222222222222222,\"#7201a8\"],[0.3333333333333333,\"#9c179e\"],[0.4444444444444444,\"#bd3786\"],[0.5555555555555556,\"#d8576b\"],[0.6666666666666666,\"#ed7953\"],[0.7777777777777778,\"#fb9f3a\"],[0.8888888888888888,\"#fdca26\"],[1.0,\"#f0f921\"]],\"diverging\":[[0,\"#8e0152\"],[0.1,\"#c51b7d\"],[0.2,\"#de77ae\"],[0.3,\"#f1b6da\"],[0.4,\"#fde0ef\"],[0.5,\"#f7f7f7\"],[0.6,\"#e6f5d0\"],[0.7,\"#b8e186\"],[0.8,\"#7fbc41\"],[0.9,\"#4d9221\"],[1,\"#276419\"]]},\"xaxis\":{\"gridcolor\":\"white\",\"linecolor\":\"white\",\"ticks\":\"\",\"title\":{\"standoff\":15},\"zerolinecolor\":\"white\",\"automargin\":true,\"zerolinewidth\":2},\"yaxis\":{\"gridcolor\":\"white\",\"linecolor\":\"white\",\"ticks\":\"\",\"title\":{\"standoff\":15},\"zerolinecolor\":\"white\",\"automargin\":true,\"zerolinewidth\":2},\"scene\":{\"xaxis\":{\"backgroundcolor\":\"#E5ECF6\",\"gridcolor\":\"white\",\"linecolor\":\"white\",\"showbackground\":true,\"ticks\":\"\",\"zerolinecolor\":\"white\",\"gridwidth\":2},\"yaxis\":{\"backgroundcolor\":\"#E5ECF6\",\"gridcolor\":\"white\",\"linecolor\":\"white\",\"showbackground\":true,\"ticks\":\"\",\"zerolinecolor\":\"white\",\"gridwidth\":2},\"zaxis\":{\"backgroundcolor\":\"#E5ECF6\",\"gridcolor\":\"white\",\"linecolor\":\"white\",\"showbackground\":true,\"ticks\":\"\",\"zerolinecolor\":\"white\",\"gridwidth\":2}},\"shapedefaults\":{\"line\":{\"color\":\"#2a3f5f\"}},\"annotationdefaults\":{\"arrowcolor\":\"#2a3f5f\",\"arrowhead\":0,\"arrowwidth\":1},\"geo\":{\"bgcolor\":\"white\",\"landcolor\":\"#E5ECF6\",\"subunitcolor\":\"white\",\"showland\":true,\"showlakes\":true,\"lakecolor\":\"white\"},\"title\":{\"x\":0.05},\"mapbox\":{\"style\":\"light\"}}},\"coloraxis\":{\"colorbar\":{\"title\":{\"text\":\"bytes\"}},\"colorscale\":[[0.0,\"#0d0887\"],[0.1111111111111111,\"#46039f\"],[0.2222222222222222,\"#7201a8\"],[0.3333333333333333,\"#9c179e\"],[0.4444444444444444,\"#bd3786\"],[0.5555555555555556,\"#d8576b\"],[0.6666666666666666,\"#ed7953\"],[0.7777777777777778,\"#fb9f3a\"],[0.8888888888888888,\"#fdca26\"],[1.0,\"#f0f921\"]]},\"legend\":{\"tracegroupgap\":0},\"title\":{\"text\":\"Total File Stored by Mimetype (Colored by Bytes Stored)\"},\"margin\":{\"t\":50,\"l\":25,\"r\":25,\"b\":25}},                        {\"responsive\": true}                    ).then(function(){\n",
       "                            \n",
       "var gd = document.getElementById('c4bd5d09-d98c-4c29-bf87-55b136120f80');\n",
       "var x = new MutationObserver(function (mutations, observer) {{\n",
       "        var display = window.getComputedStyle(gd).display;\n",
       "        if (!display || display === 'none') {{\n",
       "            console.log([gd, 'removed!']);\n",
       "            Plotly.purge(gd);\n",
       "            observer.disconnect();\n",
       "        }}\n",
       "}});\n",
       "\n",
       "// Listen for the removal of the full notebook cells\n",
       "var notebookContainer = gd.closest('#notebook-container');\n",
       "if (notebookContainer) {{\n",
       "    x.observe(notebookContainer, {childList: true});\n",
       "}}\n",
       "\n",
       "// Listen for the clearing of the current output cell\n",
       "var outputEl = gd.closest('.output');\n",
       "if (outputEl) {{\n",
       "    x.observe(outputEl, {childList: true});\n",
       "}}\n",
       "\n",
       "                        })                };                });            </script>        </div>"
      ]
     },
     "metadata": {},
     "output_type": "display_data"
    }
   ],
   "source": [
    "fig = px.treemap(subfolder_df,\n",
    "                 title=\"Total File Stored by Mimetype (Colored by Bytes Stored)\",\n",
    "                 path=[px.Constant(\"all\"), 'category', 'mimetype'], \n",
    "                 color='bytes'\n",
    "                )\n",
    "fig.update_traces(root_color=\"lightgrey\")\n",
    "fig.update_layout(margin = dict(t=50, l=25, r=25, b=25))\n",
    "fig.show()"
   ]
  },
  {
   "cell_type": "markdown",
   "id": "consistent-mainland",
   "metadata": {},
   "source": [
    "### Exercise: Visualize a Sub-Folder\n",
    "\n",
    "Pick a different top-level folder and then run a visualization that is limited to that folder. First subset the dataframe as shown above and then use that dataframe to run one of the prior visualizations."
   ]
  },
  {
   "cell_type": "code",
   "execution_count": null,
   "id": "crazy-throat",
   "metadata": {},
   "outputs": [],
   "source": []
  },
  {
   "cell_type": "markdown",
   "id": "touched-township",
   "metadata": {
    "editable": true,
    "jp-MarkdownHeadingCollapsed": true,
    "slideshow": {
     "slide_type": ""
    },
    "tags": []
   },
   "source": [
    "## Looking at a Larger Deposit Inventory\n",
    "\n",
    "A second and larger set of sample files was inventoried previous and those files are not included with this notebook. However, the inventory file is supplied and you can use it to visual a larger deposit. Below we will load this inventory and visual it with the MIME Type chart."
   ]
  },
  {
   "cell_type": "code",
   "execution_count": 11,
   "id": "elect-resident",
   "metadata": {},
   "outputs": [
    {
     "name": "stdout",
     "output_type": "stream",
     "text": [
      "(10413, 10)\n"
     ]
    },
    {
     "data": {
      "text/html": [
       "<div>\n",
       "<style scoped>\n",
       "    .dataframe tbody tr th:only-of-type {\n",
       "        vertical-align: middle;\n",
       "    }\n",
       "\n",
       "    .dataframe tbody tr th {\n",
       "        vertical-align: top;\n",
       "    }\n",
       "\n",
       "    .dataframe thead th {\n",
       "        text-align: right;\n",
       "    }\n",
       "</style>\n",
       "<table border=\"1\" class=\"dataframe\">\n",
       "  <thead>\n",
       "    <tr style=\"text-align: right;\">\n",
       "      <th></th>\n",
       "      <th>name</th>\n",
       "      <th>path</th>\n",
       "      <th>bytes</th>\n",
       "      <th>modified</th>\n",
       "      <th>mod_year</th>\n",
       "      <th>extension</th>\n",
       "      <th>category</th>\n",
       "      <th>mimetype</th>\n",
       "      <th>folder1</th>\n",
       "      <th>folder2</th>\n",
       "    </tr>\n",
       "  </thead>\n",
       "  <tbody>\n",
       "    <tr>\n",
       "      <th>0</th>\n",
       "      <td>spmjc108.txt</td>\n",
       "      <td>Copps/2001</td>\n",
       "      <td>21483</td>\n",
       "      <td>2016-04-06T19:23:18</td>\n",
       "      <td>2016</td>\n",
       "      <td>txt</td>\n",
       "      <td>text</td>\n",
       "      <td>text/plain</td>\n",
       "      <td>Copps</td>\n",
       "      <td>2001</td>\n",
       "    </tr>\n",
       "    <tr>\n",
       "      <th>1</th>\n",
       "      <td>spmjc101.txt</td>\n",
       "      <td>Copps/2001</td>\n",
       "      <td>1996</td>\n",
       "      <td>2016-04-06T19:23:16</td>\n",
       "      <td>2016</td>\n",
       "      <td>txt</td>\n",
       "      <td>text</td>\n",
       "      <td>text/plain</td>\n",
       "      <td>Copps</td>\n",
       "      <td>2001</td>\n",
       "    </tr>\n",
       "    <tr>\n",
       "      <th>2</th>\n",
       "      <td>spmjc106.txt</td>\n",
       "      <td>Copps/2001</td>\n",
       "      <td>15814</td>\n",
       "      <td>2016-04-06T19:23:17</td>\n",
       "      <td>2016</td>\n",
       "      <td>txt</td>\n",
       "      <td>text</td>\n",
       "      <td>text/plain</td>\n",
       "      <td>Copps</td>\n",
       "      <td>2001</td>\n",
       "    </tr>\n",
       "    <tr>\n",
       "      <th>3</th>\n",
       "      <td>spmjc107.html</td>\n",
       "      <td>Copps/2001</td>\n",
       "      <td>16333</td>\n",
       "      <td>2016-04-06T19:23:17</td>\n",
       "      <td>2016</td>\n",
       "      <td>html</td>\n",
       "      <td>text</td>\n",
       "      <td>text/html</td>\n",
       "      <td>Copps</td>\n",
       "      <td>2001</td>\n",
       "    </tr>\n",
       "    <tr>\n",
       "      <th>4</th>\n",
       "      <td>spmjc103.doc</td>\n",
       "      <td>Copps/2001</td>\n",
       "      <td>35840</td>\n",
       "      <td>2016-04-06T19:23:17</td>\n",
       "      <td>2016</td>\n",
       "      <td>doc</td>\n",
       "      <td>application</td>\n",
       "      <td>application/msword</td>\n",
       "      <td>Copps</td>\n",
       "      <td>2001</td>\n",
       "    </tr>\n",
       "  </tbody>\n",
       "</table>\n",
       "</div>"
      ],
      "text/plain": [
       "            name        path  bytes             modified  mod_year extension  \\\n",
       "0   spmjc108.txt  Copps/2001  21483  2016-04-06T19:23:18      2016       txt   \n",
       "1   spmjc101.txt  Copps/2001   1996  2016-04-06T19:23:16      2016       txt   \n",
       "2   spmjc106.txt  Copps/2001  15814  2016-04-06T19:23:17      2016       txt   \n",
       "3  spmjc107.html  Copps/2001  16333  2016-04-06T19:23:17      2016      html   \n",
       "4   spmjc103.doc  Copps/2001  35840  2016-04-06T19:23:17      2016       doc   \n",
       "\n",
       "      category            mimetype folder1 folder2  \n",
       "0         text          text/plain   Copps    2001  \n",
       "1         text          text/plain   Copps    2001  \n",
       "2         text          text/plain   Copps    2001  \n",
       "3         text           text/html   Copps    2001  \n",
       "4  application  application/msword   Copps    2001  "
      ]
     },
     "execution_count": 11,
     "metadata": {},
     "output_type": "execute_result"
    }
   ],
   "source": [
    "import pandas as pd\n",
    "import numpy as np\n",
    "df173 = pd.read_csv('rg-173-inventory.csv')\n",
    "\n",
    "print(df173.shape)\n",
    "df173.head()"
   ]
  },
  {
   "cell_type": "markdown",
   "id": "twenty-field",
   "metadata": {},
   "source": [
    "You can see above that this inventory describes 10,413 files, a more challenging quantity for manual appraisal. Now let's run our visualization on this data."
   ]
  },
  {
   "cell_type": "code",
   "execution_count": 12,
   "id": "located-outdoors",
   "metadata": {},
   "outputs": [
    {
     "data": {
      "application/vnd.plotly.v1+json": {
       "config": {
        "plotlyServerURL": "https://plot.ly"
       },
       "data": [
        {
         "branchvalues": "total",
         "customdata": [
          [
           35342.88275084554
          ],
          [
           10167.949364688033
          ],
          [
           89291.76044568245
          ],
          [
           1055
          ],
          [
           176640
          ],
          [
           1161216
          ],
          [
           1270436.6666666667
          ],
          [
           20446.105263157893
          ],
          [
           25919.5
          ],
          [
           3647536
          ],
          [
           9690293
          ],
          [
           10603.082176568572
          ],
          [
           9465.80612244898
          ],
          [
           18673.262068965516
          ],
          [
           1270436.6666666667
          ],
          [
           599049.7391304348
          ],
          [
           9996.574242031615
          ],
          [
           17460.921828483628
          ]
         ],
         "domain": {
          "x": [
           0,
           1
          ],
          "y": [
           0,
           1
          ]
         },
         "hovertemplate": "labels=%{label}<br>count=%{value}<br>parent=%{parent}<br>id=%{id}<br>bytes=%{color}<extra></extra>",
         "ids": [
          "all/application/application/msword",
          "all/application/application/octet-stream",
          "all/application/application/pdf",
          "all/application/application/smil+xml",
          "all/application/application/vnd.ms-excel",
          "all/application/application/vnd.ms-powerpoint",
          "all/audio/audio/x-pn-realaudio",
          "all/image/image/gif",
          "all/image/image/jpeg",
          "all/image/image/tiff",
          "all/image/image/x-photoshop",
          "all/text/text/html",
          "all/text/text/plain",
          "all/application",
          "all/audio",
          "all/image",
          "all/text",
          "all"
         ],
         "labels": [
          "application/msword",
          "application/octet-stream",
          "application/pdf",
          "application/smil+xml",
          "application/vnd.ms-excel",
          "application/vnd.ms-powerpoint",
          "audio/x-pn-realaudio",
          "image/gif",
          "image/jpeg",
          "image/tiff",
          "image/x-photoshop",
          "text/html",
          "text/plain",
          "application",
          "audio",
          "image",
          "text",
          "all"
         ],
         "marker": {
          "coloraxis": "coloraxis",
          "colors": [
           35342.88275084554,
           10167.949364688033,
           89291.76044568245,
           1055,
           176640,
           1161216,
           1270436.6666666667,
           20446.105263157893,
           25919.5,
           3647536,
           9690293,
           10603.082176568572,
           9465.80612244898,
           18673.262068965516,
           1270436.6666666667,
           599049.7391304348,
           9996.574242031615,
           17460.921828483628
          ]
         },
         "name": "",
         "parents": [
          "all/application",
          "all/application",
          "all/application",
          "all/application",
          "all/application",
          "all/application",
          "all/audio",
          "all/image",
          "all/image",
          "all/image",
          "all/image",
          "all/text",
          "all/text",
          "all",
          "all",
          "all",
          "all",
          ""
         ],
         "root": {
          "color": "lightgrey"
         },
         "type": "treemap",
         "values": [
          887,
          5273,
          359,
          1,
          1,
          4,
          6,
          19,
          2,
          1,
          1,
          1801,
          2058,
          6525,
          6,
          23,
          3859,
          10413
         ]
        }
       ],
       "layout": {
        "coloraxis": {
         "colorbar": {
          "title": {
           "text": "bytes"
          }
         },
         "colorscale": [
          [
           0,
           "#0d0887"
          ],
          [
           0.1111111111111111,
           "#46039f"
          ],
          [
           0.2222222222222222,
           "#7201a8"
          ],
          [
           0.3333333333333333,
           "#9c179e"
          ],
          [
           0.4444444444444444,
           "#bd3786"
          ],
          [
           0.5555555555555556,
           "#d8576b"
          ],
          [
           0.6666666666666666,
           "#ed7953"
          ],
          [
           0.7777777777777778,
           "#fb9f3a"
          ],
          [
           0.8888888888888888,
           "#fdca26"
          ],
          [
           1,
           "#f0f921"
          ]
         ]
        },
        "height": 360,
        "legend": {
         "tracegroupgap": 0
        },
        "margin": {
         "b": 25,
         "l": 25,
         "r": 25,
         "t": 50
        },
        "template": {
         "data": {
          "bar": [
           {
            "error_x": {
             "color": "#2a3f5f"
            },
            "error_y": {
             "color": "#2a3f5f"
            },
            "marker": {
             "line": {
              "color": "#E5ECF6",
              "width": 0.5
             },
             "pattern": {
              "fillmode": "overlay",
              "size": 10,
              "solidity": 0.2
             }
            },
            "type": "bar"
           }
          ],
          "barpolar": [
           {
            "marker": {
             "line": {
              "color": "#E5ECF6",
              "width": 0.5
             },
             "pattern": {
              "fillmode": "overlay",
              "size": 10,
              "solidity": 0.2
             }
            },
            "type": "barpolar"
           }
          ],
          "carpet": [
           {
            "aaxis": {
             "endlinecolor": "#2a3f5f",
             "gridcolor": "white",
             "linecolor": "white",
             "minorgridcolor": "white",
             "startlinecolor": "#2a3f5f"
            },
            "baxis": {
             "endlinecolor": "#2a3f5f",
             "gridcolor": "white",
             "linecolor": "white",
             "minorgridcolor": "white",
             "startlinecolor": "#2a3f5f"
            },
            "type": "carpet"
           }
          ],
          "choropleth": [
           {
            "colorbar": {
             "outlinewidth": 0,
             "ticks": ""
            },
            "type": "choropleth"
           }
          ],
          "contour": [
           {
            "colorbar": {
             "outlinewidth": 0,
             "ticks": ""
            },
            "colorscale": [
             [
              0,
              "#0d0887"
             ],
             [
              0.1111111111111111,
              "#46039f"
             ],
             [
              0.2222222222222222,
              "#7201a8"
             ],
             [
              0.3333333333333333,
              "#9c179e"
             ],
             [
              0.4444444444444444,
              "#bd3786"
             ],
             [
              0.5555555555555556,
              "#d8576b"
             ],
             [
              0.6666666666666666,
              "#ed7953"
             ],
             [
              0.7777777777777778,
              "#fb9f3a"
             ],
             [
              0.8888888888888888,
              "#fdca26"
             ],
             [
              1,
              "#f0f921"
             ]
            ],
            "type": "contour"
           }
          ],
          "contourcarpet": [
           {
            "colorbar": {
             "outlinewidth": 0,
             "ticks": ""
            },
            "type": "contourcarpet"
           }
          ],
          "heatmap": [
           {
            "colorbar": {
             "outlinewidth": 0,
             "ticks": ""
            },
            "colorscale": [
             [
              0,
              "#0d0887"
             ],
             [
              0.1111111111111111,
              "#46039f"
             ],
             [
              0.2222222222222222,
              "#7201a8"
             ],
             [
              0.3333333333333333,
              "#9c179e"
             ],
             [
              0.4444444444444444,
              "#bd3786"
             ],
             [
              0.5555555555555556,
              "#d8576b"
             ],
             [
              0.6666666666666666,
              "#ed7953"
             ],
             [
              0.7777777777777778,
              "#fb9f3a"
             ],
             [
              0.8888888888888888,
              "#fdca26"
             ],
             [
              1,
              "#f0f921"
             ]
            ],
            "type": "heatmap"
           }
          ],
          "heatmapgl": [
           {
            "colorbar": {
             "outlinewidth": 0,
             "ticks": ""
            },
            "colorscale": [
             [
              0,
              "#0d0887"
             ],
             [
              0.1111111111111111,
              "#46039f"
             ],
             [
              0.2222222222222222,
              "#7201a8"
             ],
             [
              0.3333333333333333,
              "#9c179e"
             ],
             [
              0.4444444444444444,
              "#bd3786"
             ],
             [
              0.5555555555555556,
              "#d8576b"
             ],
             [
              0.6666666666666666,
              "#ed7953"
             ],
             [
              0.7777777777777778,
              "#fb9f3a"
             ],
             [
              0.8888888888888888,
              "#fdca26"
             ],
             [
              1,
              "#f0f921"
             ]
            ],
            "type": "heatmapgl"
           }
          ],
          "histogram": [
           {
            "marker": {
             "pattern": {
              "fillmode": "overlay",
              "size": 10,
              "solidity": 0.2
             }
            },
            "type": "histogram"
           }
          ],
          "histogram2d": [
           {
            "colorbar": {
             "outlinewidth": 0,
             "ticks": ""
            },
            "colorscale": [
             [
              0,
              "#0d0887"
             ],
             [
              0.1111111111111111,
              "#46039f"
             ],
             [
              0.2222222222222222,
              "#7201a8"
             ],
             [
              0.3333333333333333,
              "#9c179e"
             ],
             [
              0.4444444444444444,
              "#bd3786"
             ],
             [
              0.5555555555555556,
              "#d8576b"
             ],
             [
              0.6666666666666666,
              "#ed7953"
             ],
             [
              0.7777777777777778,
              "#fb9f3a"
             ],
             [
              0.8888888888888888,
              "#fdca26"
             ],
             [
              1,
              "#f0f921"
             ]
            ],
            "type": "histogram2d"
           }
          ],
          "histogram2dcontour": [
           {
            "colorbar": {
             "outlinewidth": 0,
             "ticks": ""
            },
            "colorscale": [
             [
              0,
              "#0d0887"
             ],
             [
              0.1111111111111111,
              "#46039f"
             ],
             [
              0.2222222222222222,
              "#7201a8"
             ],
             [
              0.3333333333333333,
              "#9c179e"
             ],
             [
              0.4444444444444444,
              "#bd3786"
             ],
             [
              0.5555555555555556,
              "#d8576b"
             ],
             [
              0.6666666666666666,
              "#ed7953"
             ],
             [
              0.7777777777777778,
              "#fb9f3a"
             ],
             [
              0.8888888888888888,
              "#fdca26"
             ],
             [
              1,
              "#f0f921"
             ]
            ],
            "type": "histogram2dcontour"
           }
          ],
          "mesh3d": [
           {
            "colorbar": {
             "outlinewidth": 0,
             "ticks": ""
            },
            "type": "mesh3d"
           }
          ],
          "parcoords": [
           {
            "line": {
             "colorbar": {
              "outlinewidth": 0,
              "ticks": ""
             }
            },
            "type": "parcoords"
           }
          ],
          "pie": [
           {
            "automargin": true,
            "type": "pie"
           }
          ],
          "scatter": [
           {
            "fillpattern": {
             "fillmode": "overlay",
             "size": 10,
             "solidity": 0.2
            },
            "type": "scatter"
           }
          ],
          "scatter3d": [
           {
            "line": {
             "colorbar": {
              "outlinewidth": 0,
              "ticks": ""
             }
            },
            "marker": {
             "colorbar": {
              "outlinewidth": 0,
              "ticks": ""
             }
            },
            "type": "scatter3d"
           }
          ],
          "scattercarpet": [
           {
            "marker": {
             "colorbar": {
              "outlinewidth": 0,
              "ticks": ""
             }
            },
            "type": "scattercarpet"
           }
          ],
          "scattergeo": [
           {
            "marker": {
             "colorbar": {
              "outlinewidth": 0,
              "ticks": ""
             }
            },
            "type": "scattergeo"
           }
          ],
          "scattergl": [
           {
            "marker": {
             "colorbar": {
              "outlinewidth": 0,
              "ticks": ""
             }
            },
            "type": "scattergl"
           }
          ],
          "scattermapbox": [
           {
            "marker": {
             "colorbar": {
              "outlinewidth": 0,
              "ticks": ""
             }
            },
            "type": "scattermapbox"
           }
          ],
          "scatterpolar": [
           {
            "marker": {
             "colorbar": {
              "outlinewidth": 0,
              "ticks": ""
             }
            },
            "type": "scatterpolar"
           }
          ],
          "scatterpolargl": [
           {
            "marker": {
             "colorbar": {
              "outlinewidth": 0,
              "ticks": ""
             }
            },
            "type": "scatterpolargl"
           }
          ],
          "scatterternary": [
           {
            "marker": {
             "colorbar": {
              "outlinewidth": 0,
              "ticks": ""
             }
            },
            "type": "scatterternary"
           }
          ],
          "surface": [
           {
            "colorbar": {
             "outlinewidth": 0,
             "ticks": ""
            },
            "colorscale": [
             [
              0,
              "#0d0887"
             ],
             [
              0.1111111111111111,
              "#46039f"
             ],
             [
              0.2222222222222222,
              "#7201a8"
             ],
             [
              0.3333333333333333,
              "#9c179e"
             ],
             [
              0.4444444444444444,
              "#bd3786"
             ],
             [
              0.5555555555555556,
              "#d8576b"
             ],
             [
              0.6666666666666666,
              "#ed7953"
             ],
             [
              0.7777777777777778,
              "#fb9f3a"
             ],
             [
              0.8888888888888888,
              "#fdca26"
             ],
             [
              1,
              "#f0f921"
             ]
            ],
            "type": "surface"
           }
          ],
          "table": [
           {
            "cells": {
             "fill": {
              "color": "#EBF0F8"
             },
             "line": {
              "color": "white"
             }
            },
            "header": {
             "fill": {
              "color": "#C8D4E3"
             },
             "line": {
              "color": "white"
             }
            },
            "type": "table"
           }
          ]
         },
         "layout": {
          "annotationdefaults": {
           "arrowcolor": "#2a3f5f",
           "arrowhead": 0,
           "arrowwidth": 1
          },
          "autotypenumbers": "strict",
          "coloraxis": {
           "colorbar": {
            "outlinewidth": 0,
            "ticks": ""
           }
          },
          "colorscale": {
           "diverging": [
            [
             0,
             "#8e0152"
            ],
            [
             0.1,
             "#c51b7d"
            ],
            [
             0.2,
             "#de77ae"
            ],
            [
             0.3,
             "#f1b6da"
            ],
            [
             0.4,
             "#fde0ef"
            ],
            [
             0.5,
             "#f7f7f7"
            ],
            [
             0.6,
             "#e6f5d0"
            ],
            [
             0.7,
             "#b8e186"
            ],
            [
             0.8,
             "#7fbc41"
            ],
            [
             0.9,
             "#4d9221"
            ],
            [
             1,
             "#276419"
            ]
           ],
           "sequential": [
            [
             0,
             "#0d0887"
            ],
            [
             0.1111111111111111,
             "#46039f"
            ],
            [
             0.2222222222222222,
             "#7201a8"
            ],
            [
             0.3333333333333333,
             "#9c179e"
            ],
            [
             0.4444444444444444,
             "#bd3786"
            ],
            [
             0.5555555555555556,
             "#d8576b"
            ],
            [
             0.6666666666666666,
             "#ed7953"
            ],
            [
             0.7777777777777778,
             "#fb9f3a"
            ],
            [
             0.8888888888888888,
             "#fdca26"
            ],
            [
             1,
             "#f0f921"
            ]
           ],
           "sequentialminus": [
            [
             0,
             "#0d0887"
            ],
            [
             0.1111111111111111,
             "#46039f"
            ],
            [
             0.2222222222222222,
             "#7201a8"
            ],
            [
             0.3333333333333333,
             "#9c179e"
            ],
            [
             0.4444444444444444,
             "#bd3786"
            ],
            [
             0.5555555555555556,
             "#d8576b"
            ],
            [
             0.6666666666666666,
             "#ed7953"
            ],
            [
             0.7777777777777778,
             "#fb9f3a"
            ],
            [
             0.8888888888888888,
             "#fdca26"
            ],
            [
             1,
             "#f0f921"
            ]
           ]
          },
          "colorway": [
           "#636efa",
           "#EF553B",
           "#00cc96",
           "#ab63fa",
           "#FFA15A",
           "#19d3f3",
           "#FF6692",
           "#B6E880",
           "#FF97FF",
           "#FECB52"
          ],
          "font": {
           "color": "#2a3f5f"
          },
          "geo": {
           "bgcolor": "white",
           "lakecolor": "white",
           "landcolor": "#E5ECF6",
           "showlakes": true,
           "showland": true,
           "subunitcolor": "white"
          },
          "hoverlabel": {
           "align": "left"
          },
          "hovermode": "closest",
          "mapbox": {
           "style": "light"
          },
          "paper_bgcolor": "white",
          "plot_bgcolor": "#E5ECF6",
          "polar": {
           "angularaxis": {
            "gridcolor": "white",
            "linecolor": "white",
            "ticks": ""
           },
           "bgcolor": "#E5ECF6",
           "radialaxis": {
            "gridcolor": "white",
            "linecolor": "white",
            "ticks": ""
           }
          },
          "scene": {
           "xaxis": {
            "backgroundcolor": "#E5ECF6",
            "gridcolor": "white",
            "gridwidth": 2,
            "linecolor": "white",
            "showbackground": true,
            "ticks": "",
            "zerolinecolor": "white"
           },
           "yaxis": {
            "backgroundcolor": "#E5ECF6",
            "gridcolor": "white",
            "gridwidth": 2,
            "linecolor": "white",
            "showbackground": true,
            "ticks": "",
            "zerolinecolor": "white"
           },
           "zaxis": {
            "backgroundcolor": "#E5ECF6",
            "gridcolor": "white",
            "gridwidth": 2,
            "linecolor": "white",
            "showbackground": true,
            "ticks": "",
            "zerolinecolor": "white"
           }
          },
          "shapedefaults": {
           "line": {
            "color": "#2a3f5f"
           }
          },
          "ternary": {
           "aaxis": {
            "gridcolor": "white",
            "linecolor": "white",
            "ticks": ""
           },
           "baxis": {
            "gridcolor": "white",
            "linecolor": "white",
            "ticks": ""
           },
           "bgcolor": "#E5ECF6",
           "caxis": {
            "gridcolor": "white",
            "linecolor": "white",
            "ticks": ""
           }
          },
          "title": {
           "x": 0.05
          },
          "xaxis": {
           "automargin": true,
           "gridcolor": "white",
           "linecolor": "white",
           "ticks": "",
           "title": {
            "standoff": 15
           },
           "zerolinecolor": "white",
           "zerolinewidth": 2
          },
          "yaxis": {
           "automargin": true,
           "gridcolor": "white",
           "linecolor": "white",
           "ticks": "",
           "title": {
            "standoff": 15
           },
           "zerolinecolor": "white",
           "zerolinewidth": 2
          }
         }
        },
        "title": {
         "text": "Total File Stored by Mimetype (Colored by Bytes Stored)"
        }
       }
      },
      "text/html": [
       "<div>                            <div id=\"ca0f7b98-b8b1-46fd-a572-8e199dc72f02\" class=\"plotly-graph-div\" style=\"height:525px; width:100%;\"></div>            <script type=\"text/javascript\">                require([\"plotly\"], function(Plotly) {                    window.PLOTLYENV=window.PLOTLYENV || {};                                    if (document.getElementById(\"ca0f7b98-b8b1-46fd-a572-8e199dc72f02\")) {                    Plotly.newPlot(                        \"ca0f7b98-b8b1-46fd-a572-8e199dc72f02\",                        [{\"branchvalues\":\"total\",\"customdata\":[[35342.88275084554],[10167.949364688033],[89291.76044568245],[1055.0],[176640.0],[1161216.0],[1270436.6666666667],[20446.105263157893],[25919.5],[3647536.0],[9690293.0],[10603.082176568572],[9465.80612244898],[18673.262068965516],[1270436.6666666667],[599049.7391304348],[9996.574242031615],[17460.921828483628]],\"domain\":{\"x\":[0.0,1.0],\"y\":[0.0,1.0]},\"hovertemplate\":\"labels=%{label}\\u003cbr\\u003ecount=%{value}\\u003cbr\\u003eparent=%{parent}\\u003cbr\\u003eid=%{id}\\u003cbr\\u003ebytes=%{color}\\u003cextra\\u003e\\u003c\\u002fextra\\u003e\",\"ids\":[\"all\\u002fapplication\\u002fapplication\\u002fmsword\",\"all\\u002fapplication\\u002fapplication\\u002foctet-stream\",\"all\\u002fapplication\\u002fapplication\\u002fpdf\",\"all\\u002fapplication\\u002fapplication\\u002fsmil+xml\",\"all\\u002fapplication\\u002fapplication\\u002fvnd.ms-excel\",\"all\\u002fapplication\\u002fapplication\\u002fvnd.ms-powerpoint\",\"all\\u002faudio\\u002faudio\\u002fx-pn-realaudio\",\"all\\u002fimage\\u002fimage\\u002fgif\",\"all\\u002fimage\\u002fimage\\u002fjpeg\",\"all\\u002fimage\\u002fimage\\u002ftiff\",\"all\\u002fimage\\u002fimage\\u002fx-photoshop\",\"all\\u002ftext\\u002ftext\\u002fhtml\",\"all\\u002ftext\\u002ftext\\u002fplain\",\"all\\u002fapplication\",\"all\\u002faudio\",\"all\\u002fimage\",\"all\\u002ftext\",\"all\"],\"labels\":[\"application\\u002fmsword\",\"application\\u002foctet-stream\",\"application\\u002fpdf\",\"application\\u002fsmil+xml\",\"application\\u002fvnd.ms-excel\",\"application\\u002fvnd.ms-powerpoint\",\"audio\\u002fx-pn-realaudio\",\"image\\u002fgif\",\"image\\u002fjpeg\",\"image\\u002ftiff\",\"image\\u002fx-photoshop\",\"text\\u002fhtml\",\"text\\u002fplain\",\"application\",\"audio\",\"image\",\"text\",\"all\"],\"marker\":{\"coloraxis\":\"coloraxis\",\"colors\":[35342.88275084554,10167.949364688033,89291.76044568245,1055.0,176640.0,1161216.0,1270436.6666666667,20446.105263157893,25919.5,3647536.0,9690293.0,10603.082176568572,9465.80612244898,18673.262068965516,1270436.6666666667,599049.7391304348,9996.574242031615,17460.921828483628]},\"name\":\"\",\"parents\":[\"all\\u002fapplication\",\"all\\u002fapplication\",\"all\\u002fapplication\",\"all\\u002fapplication\",\"all\\u002fapplication\",\"all\\u002fapplication\",\"all\\u002faudio\",\"all\\u002fimage\",\"all\\u002fimage\",\"all\\u002fimage\",\"all\\u002fimage\",\"all\\u002ftext\",\"all\\u002ftext\",\"all\",\"all\",\"all\",\"all\",\"\"],\"values\":[887,5273,359,1,1,4,6,19,2,1,1,1801,2058,6525,6,23,3859,10413],\"type\":\"treemap\",\"root\":{\"color\":\"lightgrey\"}}],                        {\"template\":{\"data\":{\"histogram2dcontour\":[{\"type\":\"histogram2dcontour\",\"colorbar\":{\"outlinewidth\":0,\"ticks\":\"\"},\"colorscale\":[[0.0,\"#0d0887\"],[0.1111111111111111,\"#46039f\"],[0.2222222222222222,\"#7201a8\"],[0.3333333333333333,\"#9c179e\"],[0.4444444444444444,\"#bd3786\"],[0.5555555555555556,\"#d8576b\"],[0.6666666666666666,\"#ed7953\"],[0.7777777777777778,\"#fb9f3a\"],[0.8888888888888888,\"#fdca26\"],[1.0,\"#f0f921\"]]}],\"choropleth\":[{\"type\":\"choropleth\",\"colorbar\":{\"outlinewidth\":0,\"ticks\":\"\"}}],\"histogram2d\":[{\"type\":\"histogram2d\",\"colorbar\":{\"outlinewidth\":0,\"ticks\":\"\"},\"colorscale\":[[0.0,\"#0d0887\"],[0.1111111111111111,\"#46039f\"],[0.2222222222222222,\"#7201a8\"],[0.3333333333333333,\"#9c179e\"],[0.4444444444444444,\"#bd3786\"],[0.5555555555555556,\"#d8576b\"],[0.6666666666666666,\"#ed7953\"],[0.7777777777777778,\"#fb9f3a\"],[0.8888888888888888,\"#fdca26\"],[1.0,\"#f0f921\"]]}],\"heatmap\":[{\"type\":\"heatmap\",\"colorbar\":{\"outlinewidth\":0,\"ticks\":\"\"},\"colorscale\":[[0.0,\"#0d0887\"],[0.1111111111111111,\"#46039f\"],[0.2222222222222222,\"#7201a8\"],[0.3333333333333333,\"#9c179e\"],[0.4444444444444444,\"#bd3786\"],[0.5555555555555556,\"#d8576b\"],[0.6666666666666666,\"#ed7953\"],[0.7777777777777778,\"#fb9f3a\"],[0.8888888888888888,\"#fdca26\"],[1.0,\"#f0f921\"]]}],\"heatmapgl\":[{\"type\":\"heatmapgl\",\"colorbar\":{\"outlinewidth\":0,\"ticks\":\"\"},\"colorscale\":[[0.0,\"#0d0887\"],[0.1111111111111111,\"#46039f\"],[0.2222222222222222,\"#7201a8\"],[0.3333333333333333,\"#9c179e\"],[0.4444444444444444,\"#bd3786\"],[0.5555555555555556,\"#d8576b\"],[0.6666666666666666,\"#ed7953\"],[0.7777777777777778,\"#fb9f3a\"],[0.8888888888888888,\"#fdca26\"],[1.0,\"#f0f921\"]]}],\"contourcarpet\":[{\"type\":\"contourcarpet\",\"colorbar\":{\"outlinewidth\":0,\"ticks\":\"\"}}],\"contour\":[{\"type\":\"contour\",\"colorbar\":{\"outlinewidth\":0,\"ticks\":\"\"},\"colorscale\":[[0.0,\"#0d0887\"],[0.1111111111111111,\"#46039f\"],[0.2222222222222222,\"#7201a8\"],[0.3333333333333333,\"#9c179e\"],[0.4444444444444444,\"#bd3786\"],[0.5555555555555556,\"#d8576b\"],[0.6666666666666666,\"#ed7953\"],[0.7777777777777778,\"#fb9f3a\"],[0.8888888888888888,\"#fdca26\"],[1.0,\"#f0f921\"]]}],\"surface\":[{\"type\":\"surface\",\"colorbar\":{\"outlinewidth\":0,\"ticks\":\"\"},\"colorscale\":[[0.0,\"#0d0887\"],[0.1111111111111111,\"#46039f\"],[0.2222222222222222,\"#7201a8\"],[0.3333333333333333,\"#9c179e\"],[0.4444444444444444,\"#bd3786\"],[0.5555555555555556,\"#d8576b\"],[0.6666666666666666,\"#ed7953\"],[0.7777777777777778,\"#fb9f3a\"],[0.8888888888888888,\"#fdca26\"],[1.0,\"#f0f921\"]]}],\"mesh3d\":[{\"type\":\"mesh3d\",\"colorbar\":{\"outlinewidth\":0,\"ticks\":\"\"}}],\"scatter\":[{\"fillpattern\":{\"fillmode\":\"overlay\",\"size\":10,\"solidity\":0.2},\"type\":\"scatter\"}],\"parcoords\":[{\"type\":\"parcoords\",\"line\":{\"colorbar\":{\"outlinewidth\":0,\"ticks\":\"\"}}}],\"scatterpolargl\":[{\"type\":\"scatterpolargl\",\"marker\":{\"colorbar\":{\"outlinewidth\":0,\"ticks\":\"\"}}}],\"bar\":[{\"error_x\":{\"color\":\"#2a3f5f\"},\"error_y\":{\"color\":\"#2a3f5f\"},\"marker\":{\"line\":{\"color\":\"#E5ECF6\",\"width\":0.5},\"pattern\":{\"fillmode\":\"overlay\",\"size\":10,\"solidity\":0.2}},\"type\":\"bar\"}],\"scattergeo\":[{\"type\":\"scattergeo\",\"marker\":{\"colorbar\":{\"outlinewidth\":0,\"ticks\":\"\"}}}],\"scatterpolar\":[{\"type\":\"scatterpolar\",\"marker\":{\"colorbar\":{\"outlinewidth\":0,\"ticks\":\"\"}}}],\"histogram\":[{\"marker\":{\"pattern\":{\"fillmode\":\"overlay\",\"size\":10,\"solidity\":0.2}},\"type\":\"histogram\"}],\"scattergl\":[{\"type\":\"scattergl\",\"marker\":{\"colorbar\":{\"outlinewidth\":0,\"ticks\":\"\"}}}],\"scatter3d\":[{\"type\":\"scatter3d\",\"line\":{\"colorbar\":{\"outlinewidth\":0,\"ticks\":\"\"}},\"marker\":{\"colorbar\":{\"outlinewidth\":0,\"ticks\":\"\"}}}],\"scattermapbox\":[{\"type\":\"scattermapbox\",\"marker\":{\"colorbar\":{\"outlinewidth\":0,\"ticks\":\"\"}}}],\"scatterternary\":[{\"type\":\"scatterternary\",\"marker\":{\"colorbar\":{\"outlinewidth\":0,\"ticks\":\"\"}}}],\"scattercarpet\":[{\"type\":\"scattercarpet\",\"marker\":{\"colorbar\":{\"outlinewidth\":0,\"ticks\":\"\"}}}],\"carpet\":[{\"aaxis\":{\"endlinecolor\":\"#2a3f5f\",\"gridcolor\":\"white\",\"linecolor\":\"white\",\"minorgridcolor\":\"white\",\"startlinecolor\":\"#2a3f5f\"},\"baxis\":{\"endlinecolor\":\"#2a3f5f\",\"gridcolor\":\"white\",\"linecolor\":\"white\",\"minorgridcolor\":\"white\",\"startlinecolor\":\"#2a3f5f\"},\"type\":\"carpet\"}],\"table\":[{\"cells\":{\"fill\":{\"color\":\"#EBF0F8\"},\"line\":{\"color\":\"white\"}},\"header\":{\"fill\":{\"color\":\"#C8D4E3\"},\"line\":{\"color\":\"white\"}},\"type\":\"table\"}],\"barpolar\":[{\"marker\":{\"line\":{\"color\":\"#E5ECF6\",\"width\":0.5},\"pattern\":{\"fillmode\":\"overlay\",\"size\":10,\"solidity\":0.2}},\"type\":\"barpolar\"}],\"pie\":[{\"automargin\":true,\"type\":\"pie\"}]},\"layout\":{\"autotypenumbers\":\"strict\",\"colorway\":[\"#636efa\",\"#EF553B\",\"#00cc96\",\"#ab63fa\",\"#FFA15A\",\"#19d3f3\",\"#FF6692\",\"#B6E880\",\"#FF97FF\",\"#FECB52\"],\"font\":{\"color\":\"#2a3f5f\"},\"hovermode\":\"closest\",\"hoverlabel\":{\"align\":\"left\"},\"paper_bgcolor\":\"white\",\"plot_bgcolor\":\"#E5ECF6\",\"polar\":{\"bgcolor\":\"#E5ECF6\",\"angularaxis\":{\"gridcolor\":\"white\",\"linecolor\":\"white\",\"ticks\":\"\"},\"radialaxis\":{\"gridcolor\":\"white\",\"linecolor\":\"white\",\"ticks\":\"\"}},\"ternary\":{\"bgcolor\":\"#E5ECF6\",\"aaxis\":{\"gridcolor\":\"white\",\"linecolor\":\"white\",\"ticks\":\"\"},\"baxis\":{\"gridcolor\":\"white\",\"linecolor\":\"white\",\"ticks\":\"\"},\"caxis\":{\"gridcolor\":\"white\",\"linecolor\":\"white\",\"ticks\":\"\"}},\"coloraxis\":{\"colorbar\":{\"outlinewidth\":0,\"ticks\":\"\"}},\"colorscale\":{\"sequential\":[[0.0,\"#0d0887\"],[0.1111111111111111,\"#46039f\"],[0.2222222222222222,\"#7201a8\"],[0.3333333333333333,\"#9c179e\"],[0.4444444444444444,\"#bd3786\"],[0.5555555555555556,\"#d8576b\"],[0.6666666666666666,\"#ed7953\"],[0.7777777777777778,\"#fb9f3a\"],[0.8888888888888888,\"#fdca26\"],[1.0,\"#f0f921\"]],\"sequentialminus\":[[0.0,\"#0d0887\"],[0.1111111111111111,\"#46039f\"],[0.2222222222222222,\"#7201a8\"],[0.3333333333333333,\"#9c179e\"],[0.4444444444444444,\"#bd3786\"],[0.5555555555555556,\"#d8576b\"],[0.6666666666666666,\"#ed7953\"],[0.7777777777777778,\"#fb9f3a\"],[0.8888888888888888,\"#fdca26\"],[1.0,\"#f0f921\"]],\"diverging\":[[0,\"#8e0152\"],[0.1,\"#c51b7d\"],[0.2,\"#de77ae\"],[0.3,\"#f1b6da\"],[0.4,\"#fde0ef\"],[0.5,\"#f7f7f7\"],[0.6,\"#e6f5d0\"],[0.7,\"#b8e186\"],[0.8,\"#7fbc41\"],[0.9,\"#4d9221\"],[1,\"#276419\"]]},\"xaxis\":{\"gridcolor\":\"white\",\"linecolor\":\"white\",\"ticks\":\"\",\"title\":{\"standoff\":15},\"zerolinecolor\":\"white\",\"automargin\":true,\"zerolinewidth\":2},\"yaxis\":{\"gridcolor\":\"white\",\"linecolor\":\"white\",\"ticks\":\"\",\"title\":{\"standoff\":15},\"zerolinecolor\":\"white\",\"automargin\":true,\"zerolinewidth\":2},\"scene\":{\"xaxis\":{\"backgroundcolor\":\"#E5ECF6\",\"gridcolor\":\"white\",\"linecolor\":\"white\",\"showbackground\":true,\"ticks\":\"\",\"zerolinecolor\":\"white\",\"gridwidth\":2},\"yaxis\":{\"backgroundcolor\":\"#E5ECF6\",\"gridcolor\":\"white\",\"linecolor\":\"white\",\"showbackground\":true,\"ticks\":\"\",\"zerolinecolor\":\"white\",\"gridwidth\":2},\"zaxis\":{\"backgroundcolor\":\"#E5ECF6\",\"gridcolor\":\"white\",\"linecolor\":\"white\",\"showbackground\":true,\"ticks\":\"\",\"zerolinecolor\":\"white\",\"gridwidth\":2}},\"shapedefaults\":{\"line\":{\"color\":\"#2a3f5f\"}},\"annotationdefaults\":{\"arrowcolor\":\"#2a3f5f\",\"arrowhead\":0,\"arrowwidth\":1},\"geo\":{\"bgcolor\":\"white\",\"landcolor\":\"#E5ECF6\",\"subunitcolor\":\"white\",\"showland\":true,\"showlakes\":true,\"lakecolor\":\"white\"},\"title\":{\"x\":0.05},\"mapbox\":{\"style\":\"light\"}}},\"coloraxis\":{\"colorbar\":{\"title\":{\"text\":\"bytes\"}},\"colorscale\":[[0.0,\"#0d0887\"],[0.1111111111111111,\"#46039f\"],[0.2222222222222222,\"#7201a8\"],[0.3333333333333333,\"#9c179e\"],[0.4444444444444444,\"#bd3786\"],[0.5555555555555556,\"#d8576b\"],[0.6666666666666666,\"#ed7953\"],[0.7777777777777778,\"#fb9f3a\"],[0.8888888888888888,\"#fdca26\"],[1.0,\"#f0f921\"]]},\"legend\":{\"tracegroupgap\":0},\"title\":{\"text\":\"Total File Stored by Mimetype (Colored by Bytes Stored)\"},\"margin\":{\"t\":50,\"l\":25,\"r\":25,\"b\":25}},                        {\"responsive\": true}                    ).then(function(){\n",
       "                            \n",
       "var gd = document.getElementById('ca0f7b98-b8b1-46fd-a572-8e199dc72f02');\n",
       "var x = new MutationObserver(function (mutations, observer) {{\n",
       "        var display = window.getComputedStyle(gd).display;\n",
       "        if (!display || display === 'none') {{\n",
       "            console.log([gd, 'removed!']);\n",
       "            Plotly.purge(gd);\n",
       "            observer.disconnect();\n",
       "        }}\n",
       "}});\n",
       "\n",
       "// Listen for the removal of the full notebook cells\n",
       "var notebookContainer = gd.closest('#notebook-container');\n",
       "if (notebookContainer) {{\n",
       "    x.observe(notebookContainer, {childList: true});\n",
       "}}\n",
       "\n",
       "// Listen for the clearing of the current output cell\n",
       "var outputEl = gd.closest('.output');\n",
       "if (outputEl) {{\n",
       "    x.observe(outputEl, {childList: true});\n",
       "}}\n",
       "\n",
       "                        })                };                });            </script>        </div>"
      ]
     },
     "metadata": {},
     "output_type": "display_data"
    }
   ],
   "source": [
    "import plotly.express as px\n",
    "\n",
    "fig = px.treemap(df173,\n",
    "                 title=\"Total File Stored by Mimetype (Colored by Bytes Stored)\",\n",
    "                 path=[px.Constant(\"all\"), 'category', 'mimetype'], \n",
    "                 color='bytes'\n",
    "                )\n",
    "fig.update_traces(root_color=\"lightgrey\")\n",
    "fig.update_layout(margin = dict(t=50, l=25, r=25, b=25))\n",
    "fig.show()"
   ]
  },
  {
   "cell_type": "markdown",
   "id": "million-phrase",
   "metadata": {},
   "source": [
    "### Visualize Larger Deposit Folders"
   ]
  },
  {
   "cell_type": "code",
   "execution_count": 13,
   "id": "associate-shipping",
   "metadata": {},
   "outputs": [
    {
     "data": {
      "application/vnd.plotly.v1+json": {
       "config": {
        "plotlyServerURL": "https://plot.ly"
       },
       "data": [
        {
         "branchvalues": "total",
         "customdata": [
          [
           18368.1884057971
          ],
          [
           19340.50495049505
          ],
          [
           19279.3427672956
          ],
          [
           23102.967871485944
          ],
          [
           16591.589371980677
          ],
          [
           34724.28571428572
          ],
          [
           10441.711111111112
          ],
          [
           21285.627272727274
          ],
          [
           38983.07407407407
          ],
          [
           16055.47619047619
          ],
          [
           16127.153846153846
          ],
          [
           12237.234375
          ],
          [
           15209.64
          ],
          [
           12122.231481481482
          ],
          [
           20579.833333333332
          ],
          [
           16477.779411764706
          ],
          [
           13535.666666666666
          ],
          [
           38809
          ],
          [
           14059.342857142858
          ],
          [
           99375.63636363637
          ],
          [
           12228.625
          ],
          [
           26650.597826086956
          ],
          [
           28348.12962962963
          ],
          [
           62310.68518518518
          ],
          [
           138510.31914893616
          ],
          [
           128805
          ],
          [
           19909
          ],
          [
           87776
          ],
          [
           53113.8
          ],
          [
           13624.923076923076
          ],
          [
           8177.555555555556
          ],
          [
           88204
          ],
          [
           4529
          ],
          [
           19701.551136363636
          ],
          [
           43651.09090909091
          ],
          [
           20829.964200477327
          ],
          [
           13378.433447098976
          ],
          [
           13755.5421686747
          ],
          [
           16957.302325581397
          ],
          [
           14989.25946969697
          ],
          [
           20877.871090770404
          ],
          [
           9082.988821138211
          ],
          [
           4126.2
          ],
          [
           9413.8
          ],
          [
           8148.8
          ],
          [
           8682.4
          ],
          [
           4635.2
          ],
          [
           4020.8
          ],
          [
           485.8
          ],
          [
           4737.6
          ],
          [
           11411.603448275862
          ],
          [
           10681.2
          ],
          [
           14694.8
          ],
          [
           12039.5
          ],
          [
           5142.4
          ],
          [
           6179.8
          ],
          [
           6801.666666666667
          ],
          [
           6110.6
          ],
          [
           5819
          ],
          [
           5704
          ],
          [
           5856.2
          ],
          [
           6818.166666666667
          ],
          [
           5908.166666666667
          ],
          [
           6242.6
          ],
          [
           5508.4
          ],
          [
           9188.2
          ],
          [
           7363.6
          ],
          [
           6446.8
          ],
          [
           7190.4
          ],
          [
           7859.8
          ],
          [
           7642.6
          ],
          [
           16956.8
          ],
          [
           8050
          ],
          [
           4363.4
          ],
          [
           6989.4
          ],
          [
           6596
          ],
          [
           7231.8
          ],
          [
           7828
          ],
          [
           6962.4
          ],
          [
           9966.4
          ],
          [
           8122.8
          ],
          [
           12286.4
          ],
          [
           8451.8
          ],
          [
           6704.2
          ],
          [
           5364.833333333333
          ],
          [
           7389
          ],
          [
           9845.8
          ],
          [
           10189.833333333334
          ],
          [
           7599
          ],
          [
           11018
          ],
          [
           5353.166666666667
          ],
          [
           9234.8
          ],
          [
           9104.8
          ],
          [
           6285.6
          ],
          [
           4225.6
          ],
          [
           7591.6
          ],
          [
           4991
          ],
          [
           6790.4
          ],
          [
           9354.6
          ],
          [
           6763.4
          ],
          [
           7938.6
          ],
          [
           7274.8
          ],
          [
           7773
          ],
          [
           8163
          ],
          [
           6328.2
          ],
          [
           6751
          ],
          [
           6610.2
          ],
          [
           7590.5
          ],
          [
           8259.4
          ],
          [
           8333.6
          ],
          [
           5222
          ],
          [
           10692.5
          ],
          [
           6648.833333333333
          ],
          [
           7408
          ],
          [
           5776
          ],
          [
           5455
          ],
          [
           7939
          ],
          [
           4488.4
          ],
          [
           5648.2
          ],
          [
           7207
          ],
          [
           7447.4
          ],
          [
           17512.18018018018
          ],
          [
           3970.5714285714284
          ],
          [
           21704.93820224719
          ],
          [
           41672.583333333336
          ],
          [
           15191.16535433071
          ],
          [
           21279.968692449354
          ],
          [
           13630.714449541285
          ],
          [
           19279.3427672956
          ],
          [
           14584.38813559322
          ],
          [
           25791.35798816568
          ],
          [
           10516.8
          ],
          [
           26778.084905660377
          ],
          [
           8382.712121212122
          ],
          [
           19341.296539379477
          ],
          [
           18726.4
          ],
          [
           17460.921828483628
          ]
         ],
         "domain": {
          "x": [
           0,
           1
          ],
          "y": [
           0,
           1
          ]
         },
         "hovertemplate": "labels=%{label}<br>count=%{value}<br>parent=%{parent}<br>id=%{id}<br>bytes=%{color}<extra></extra>",
         "ids": [
          "all/Chong/.",
          "all/Furchtgott_Roth/.",
          "all/Hundt/.",
          "all/Kennard/.",
          "all/Ness/.",
          "all/Powell/.",
          "all/Quello/.",
          "all/Tristani/.",
          "all/misc/.",
          "all/Furchtgott_Roth/2000",
          "all/Kennard/2000",
          "all/Ness/2000",
          "all/Powell/2000",
          "all/Tristani/2000",
          "all/Abernathy/2001",
          "all/Copps/2001",
          "all/Furchtgott_Roth/2001",
          "all/Martin/2001",
          "all/Ness/2001",
          "all/Powell/2001",
          "all/Tristani/2001",
          "all/Abernathy/2002",
          "all/Copps/2002",
          "all/Martin/2002",
          "all/Powell/2002",
          "all/Abernathy/2003",
          "all/Adelstein/2003",
          "all/Copps/2003",
          "all/Martin/2003",
          "all/Powell/2003",
          "all/Abernathy/Articles",
          "all/Copps/Articles",
          "all/Martin/Articles",
          "all/Abernathy/Statements",
          "all/Adelstein/Statements",
          "all/Copps/Statements",
          "all/Furchtgott_Roth/Statements",
          "all/Kennard/Statements",
          "all/Martin/Statements",
          "all/Powell/Statements",
          "all/Tristani/Statements",
          "all/Ness/States",
          "all/Furchtgott_Roth/birthday",
          "all/misc/dabelson",
          "all/misc/dalenab2",
          "all/misc/dnh061700",
          "all/Furchtgott_Roth/fccRack",
          "all/Furchtgott_Roth/freeAd",
          "all/Kennard/images",
          "all/Furchtgott_Roth/nomanage",
          "all/Chong/separate_statements",
          "all/Furchtgott_Roth/spbroad",
          "all/misc/spdal901",
          "all/misc/spdal902",
          "all/misc/spdal903",
          "all/misc/spdal904",
          "all/misc/spdnh901",
          "all/Tristani/spgt903",
          "all/Tristani/spgt908",
          "all/Tristani/spgt909",
          "all/Tristani/spgt910",
          "all/Tristani/spgt911",
          "all/Tristani/spgt912",
          "all/Tristani/spgt913",
          "all/Tristani/spgt914",
          "all/Tristani/spgt915",
          "all/Tristani/spgt916",
          "all/Tristani/spgt917",
          "all/Tristani/spgt918",
          "all/Tristani/spgt919",
          "all/Tristani/spgts911",
          "all/Tristani/spgts915",
          "all/Tristani/spgts916",
          "all/Furchtgott_Roth/sphfr902",
          "all/Furchtgott_Roth/sphfr903",
          "all/Furchtgott_Roth/sphfr904",
          "all/Furchtgott_Roth/sphfr905",
          "all/Furchtgott_Roth/sphfr906",
          "all/Furchtgott_Roth/sphfr907",
          "all/Furchtgott_Roth/sphfr908",
          "all/Furchtgott_Roth/sphfr909",
          "all/Furchtgott_Roth/spmba99",
          "all/Powell/spmkp806",
          "all/Powell/spmkp807",
          "all/Powell/spmkp811",
          "all/Powell/spmkp816",
          "all/Powell/spmkp901",
          "all/Powell/spmkp902",
          "all/Powell/spmkp903",
          "all/Powell/spmkp904",
          "all/Powell/spmkp905",
          "all/Ness/spsn909",
          "all/Ness/spsn910",
          "all/Ness/spsn911",
          "all/Ness/spsn912",
          "all/Ness/spsn913",
          "all/Kennard/spwek911",
          "all/Kennard/spwek913",
          "all/Kennard/spwek918",
          "all/Kennard/spwek920",
          "all/Kennard/spwek921",
          "all/Kennard/spwek922",
          "all/Kennard/spwek924",
          "all/Kennard/spwek925",
          "all/Kennard/spwek926",
          "all/Kennard/spwek928",
          "all/Kennard/spwek929",
          "all/Kennard/spwek930",
          "all/Kennard/spwek931",
          "all/Kennard/spwek932",
          "all/Kennard/spwek933",
          "all/Kennard/spwek934",
          "all/Kennard/spwek935",
          "all/Kennard/spwek936",
          "all/Kennard/spwek937",
          "all/Kennard/spwek938",
          "all/Kennard/spwek939",
          "all/Kennard/spwek940",
          "all/Kennard/spwek942",
          "all/Kennard/spwek943",
          "all/Kennard/spwek944",
          "all/misc/statements",
          "all/Quello/states",
          "all/Abernathy",
          "all/Adelstein",
          "all/Chong",
          "all/Copps",
          "all/Furchtgott_Roth",
          "all/Hundt",
          "all/Kennard",
          "all/Martin",
          "all/Ness",
          "all/Powell",
          "all/Quello",
          "all/Tristani",
          "all/misc",
          "all"
         ],
         "labels": [
          ".",
          ".",
          ".",
          ".",
          ".",
          ".",
          ".",
          ".",
          ".",
          "2000",
          "2000",
          "2000",
          "2000",
          "2000",
          "2001",
          "2001",
          "2001",
          "2001",
          "2001",
          "2001",
          "2001",
          "2002",
          "2002",
          "2002",
          "2002",
          "2003",
          "2003",
          "2003",
          "2003",
          "2003",
          "Articles",
          "Articles",
          "Articles",
          "Statements",
          "Statements",
          "Statements",
          "Statements",
          "Statements",
          "Statements",
          "Statements",
          "Statements",
          "States",
          "birthday",
          "dabelson",
          "dalenab2",
          "dnh061700",
          "fccRack",
          "freeAd",
          "images",
          "nomanage",
          "separate_statements",
          "spbroad",
          "spdal901",
          "spdal902",
          "spdal903",
          "spdal904",
          "spdnh901",
          "spgt903",
          "spgt908",
          "spgt909",
          "spgt910",
          "spgt911",
          "spgt912",
          "spgt913",
          "spgt914",
          "spgt915",
          "spgt916",
          "spgt917",
          "spgt918",
          "spgt919",
          "spgts911",
          "spgts915",
          "spgts916",
          "sphfr902",
          "sphfr903",
          "sphfr904",
          "sphfr905",
          "sphfr906",
          "sphfr907",
          "sphfr908",
          "sphfr909",
          "spmba99",
          "spmkp806",
          "spmkp807",
          "spmkp811",
          "spmkp816",
          "spmkp901",
          "spmkp902",
          "spmkp903",
          "spmkp904",
          "spmkp905",
          "spsn909",
          "spsn910",
          "spsn911",
          "spsn912",
          "spsn913",
          "spwek911",
          "spwek913",
          "spwek918",
          "spwek920",
          "spwek921",
          "spwek922",
          "spwek924",
          "spwek925",
          "spwek926",
          "spwek928",
          "spwek929",
          "spwek930",
          "spwek931",
          "spwek932",
          "spwek933",
          "spwek934",
          "spwek935",
          "spwek936",
          "spwek937",
          "spwek938",
          "spwek939",
          "spwek940",
          "spwek942",
          "spwek943",
          "spwek944",
          "statements",
          "states",
          "Abernathy",
          "Adelstein",
          "Chong",
          "Copps",
          "Furchtgott_Roth",
          "Hundt",
          "Kennard",
          "Martin",
          "Ness",
          "Powell",
          "Quello",
          "Tristani",
          "misc",
          "all"
         ],
         "marker": {
          "coloraxis": "coloraxis",
          "colors": [
           18368.1884057971,
           19340.50495049505,
           19279.3427672956,
           23102.967871485944,
           16591.589371980677,
           34724.28571428572,
           10441.711111111112,
           21285.627272727274,
           38983.07407407407,
           16055.47619047619,
           16127.153846153846,
           12237.234375,
           15209.64,
           12122.231481481482,
           20579.833333333332,
           16477.779411764706,
           13535.666666666666,
           38809,
           14059.342857142858,
           99375.63636363637,
           12228.625,
           26650.597826086956,
           28348.12962962963,
           62310.68518518518,
           138510.31914893616,
           128805,
           19909,
           87776,
           53113.8,
           13624.923076923076,
           8177.555555555556,
           88204,
           4529,
           19701.551136363636,
           43651.09090909091,
           20829.964200477327,
           13378.433447098976,
           13755.5421686747,
           16957.302325581397,
           14989.25946969697,
           20877.871090770404,
           9082.988821138211,
           4126.2,
           9413.8,
           8148.8,
           8682.4,
           4635.2,
           4020.8,
           485.8,
           4737.6,
           11411.603448275862,
           10681.2,
           14694.8,
           12039.5,
           5142.4,
           6179.8,
           6801.666666666667,
           6110.6,
           5819,
           5704,
           5856.2,
           6818.166666666667,
           5908.166666666667,
           6242.6,
           5508.4,
           9188.2,
           7363.6,
           6446.8,
           7190.4,
           7859.8,
           7642.6,
           16956.8,
           8050,
           4363.4,
           6989.4,
           6596,
           7231.8,
           7828,
           6962.4,
           9966.4,
           8122.8,
           12286.4,
           8451.8,
           6704.2,
           5364.833333333333,
           7389,
           9845.8,
           10189.833333333334,
           7599,
           11018,
           5353.166666666667,
           9234.8,
           9104.8,
           6285.6,
           4225.6,
           7591.6,
           4991,
           6790.4,
           9354.6,
           6763.4,
           7938.6,
           7274.8,
           7773,
           8163,
           6328.2,
           6751,
           6610.2,
           7590.5,
           8259.4,
           8333.6,
           5222,
           10692.5,
           6648.833333333333,
           7408,
           5776,
           5455,
           7939,
           4488.4,
           5648.2,
           7207,
           7447.4,
           17512.18018018018,
           3970.5714285714284,
           21704.93820224719,
           41672.583333333336,
           15191.16535433071,
           21279.968692449354,
           13630.714449541285,
           19279.3427672956,
           14584.38813559322,
           25791.35798816568,
           10516.8,
           26778.084905660377,
           8382.712121212122,
           19341.296539379477,
           18726.4,
           17460.921828483628
          ]
         },
         "name": "",
         "parents": [
          "all/Chong",
          "all/Furchtgott_Roth",
          "all/Hundt",
          "all/Kennard",
          "all/Ness",
          "all/Powell",
          "all/Quello",
          "all/Tristani",
          "all/misc",
          "all/Furchtgott_Roth",
          "all/Kennard",
          "all/Ness",
          "all/Powell",
          "all/Tristani",
          "all/Abernathy",
          "all/Copps",
          "all/Furchtgott_Roth",
          "all/Martin",
          "all/Ness",
          "all/Powell",
          "all/Tristani",
          "all/Abernathy",
          "all/Copps",
          "all/Martin",
          "all/Powell",
          "all/Abernathy",
          "all/Adelstein",
          "all/Copps",
          "all/Martin",
          "all/Powell",
          "all/Abernathy",
          "all/Copps",
          "all/Martin",
          "all/Abernathy",
          "all/Adelstein",
          "all/Copps",
          "all/Furchtgott_Roth",
          "all/Kennard",
          "all/Martin",
          "all/Powell",
          "all/Tristani",
          "all/Ness",
          "all/Furchtgott_Roth",
          "all/misc",
          "all/misc",
          "all/misc",
          "all/Furchtgott_Roth",
          "all/Furchtgott_Roth",
          "all/Kennard",
          "all/Furchtgott_Roth",
          "all/Chong",
          "all/Furchtgott_Roth",
          "all/misc",
          "all/misc",
          "all/misc",
          "all/misc",
          "all/misc",
          "all/Tristani",
          "all/Tristani",
          "all/Tristani",
          "all/Tristani",
          "all/Tristani",
          "all/Tristani",
          "all/Tristani",
          "all/Tristani",
          "all/Tristani",
          "all/Tristani",
          "all/Tristani",
          "all/Tristani",
          "all/Tristani",
          "all/Tristani",
          "all/Tristani",
          "all/Tristani",
          "all/Furchtgott_Roth",
          "all/Furchtgott_Roth",
          "all/Furchtgott_Roth",
          "all/Furchtgott_Roth",
          "all/Furchtgott_Roth",
          "all/Furchtgott_Roth",
          "all/Furchtgott_Roth",
          "all/Furchtgott_Roth",
          "all/Furchtgott_Roth",
          "all/Powell",
          "all/Powell",
          "all/Powell",
          "all/Powell",
          "all/Powell",
          "all/Powell",
          "all/Powell",
          "all/Powell",
          "all/Powell",
          "all/Ness",
          "all/Ness",
          "all/Ness",
          "all/Ness",
          "all/Ness",
          "all/Kennard",
          "all/Kennard",
          "all/Kennard",
          "all/Kennard",
          "all/Kennard",
          "all/Kennard",
          "all/Kennard",
          "all/Kennard",
          "all/Kennard",
          "all/Kennard",
          "all/Kennard",
          "all/Kennard",
          "all/Kennard",
          "all/Kennard",
          "all/Kennard",
          "all/Kennard",
          "all/Kennard",
          "all/Kennard",
          "all/Kennard",
          "all/Kennard",
          "all/Kennard",
          "all/Kennard",
          "all/Kennard",
          "all/Kennard",
          "all/Kennard",
          "all/misc",
          "all/Quello",
          "all",
          "all",
          "all",
          "all",
          "all",
          "all",
          "all",
          "all",
          "all",
          "all",
          "all",
          "all",
          "all",
          ""
         ],
         "root": {
          "color": "lightgrey"
         },
         "type": "treemap",
         "values": [
          69,
          101,
          318,
          249,
          207,
          77,
          45,
          110,
          27,
          105,
          234,
          64,
          25,
          108,
          78,
          68,
          3,
          18,
          35,
          110,
          64,
          92,
          54,
          54,
          47,
          1,
          1,
          1,
          5,
          13,
          9,
          1,
          3,
          176,
          11,
          419,
          1465,
          1743,
          258,
          1056,
          1311,
          984,
          5,
          5,
          5,
          5,
          5,
          5,
          5,
          5,
          58,
          5,
          5,
          6,
          5,
          5,
          6,
          5,
          6,
          5,
          5,
          6,
          6,
          5,
          5,
          5,
          5,
          5,
          5,
          5,
          5,
          5,
          5,
          5,
          5,
          5,
          5,
          5,
          5,
          5,
          5,
          5,
          5,
          5,
          6,
          5,
          5,
          6,
          6,
          6,
          6,
          5,
          5,
          5,
          5,
          5,
          5,
          5,
          5,
          5,
          5,
          5,
          5,
          5,
          5,
          5,
          5,
          6,
          5,
          5,
          6,
          6,
          6,
          5,
          5,
          5,
          5,
          5,
          5,
          5,
          5,
          111,
          21,
          356,
          12,
          127,
          543,
          1744,
          318,
          2360,
          338,
          1315,
          1378,
          66,
          1676,
          180,
          10413
         ]
        }
       ],
       "layout": {
        "coloraxis": {
         "colorbar": {
          "title": {
           "text": "bytes"
          }
         },
         "colorscale": [
          [
           0,
           "#0d0887"
          ],
          [
           0.1111111111111111,
           "#46039f"
          ],
          [
           0.2222222222222222,
           "#7201a8"
          ],
          [
           0.3333333333333333,
           "#9c179e"
          ],
          [
           0.4444444444444444,
           "#bd3786"
          ],
          [
           0.5555555555555556,
           "#d8576b"
          ],
          [
           0.6666666666666666,
           "#ed7953"
          ],
          [
           0.7777777777777778,
           "#fb9f3a"
          ],
          [
           0.8888888888888888,
           "#fdca26"
          ],
          [
           1,
           "#f0f921"
          ]
         ]
        },
        "height": 360,
        "legend": {
         "tracegroupgap": 0
        },
        "margin": {
         "b": 25,
         "l": 25,
         "r": 25,
         "t": 50
        },
        "template": {
         "data": {
          "bar": [
           {
            "error_x": {
             "color": "#2a3f5f"
            },
            "error_y": {
             "color": "#2a3f5f"
            },
            "marker": {
             "line": {
              "color": "#E5ECF6",
              "width": 0.5
             },
             "pattern": {
              "fillmode": "overlay",
              "size": 10,
              "solidity": 0.2
             }
            },
            "type": "bar"
           }
          ],
          "barpolar": [
           {
            "marker": {
             "line": {
              "color": "#E5ECF6",
              "width": 0.5
             },
             "pattern": {
              "fillmode": "overlay",
              "size": 10,
              "solidity": 0.2
             }
            },
            "type": "barpolar"
           }
          ],
          "carpet": [
           {
            "aaxis": {
             "endlinecolor": "#2a3f5f",
             "gridcolor": "white",
             "linecolor": "white",
             "minorgridcolor": "white",
             "startlinecolor": "#2a3f5f"
            },
            "baxis": {
             "endlinecolor": "#2a3f5f",
             "gridcolor": "white",
             "linecolor": "white",
             "minorgridcolor": "white",
             "startlinecolor": "#2a3f5f"
            },
            "type": "carpet"
           }
          ],
          "choropleth": [
           {
            "colorbar": {
             "outlinewidth": 0,
             "ticks": ""
            },
            "type": "choropleth"
           }
          ],
          "contour": [
           {
            "colorbar": {
             "outlinewidth": 0,
             "ticks": ""
            },
            "colorscale": [
             [
              0,
              "#0d0887"
             ],
             [
              0.1111111111111111,
              "#46039f"
             ],
             [
              0.2222222222222222,
              "#7201a8"
             ],
             [
              0.3333333333333333,
              "#9c179e"
             ],
             [
              0.4444444444444444,
              "#bd3786"
             ],
             [
              0.5555555555555556,
              "#d8576b"
             ],
             [
              0.6666666666666666,
              "#ed7953"
             ],
             [
              0.7777777777777778,
              "#fb9f3a"
             ],
             [
              0.8888888888888888,
              "#fdca26"
             ],
             [
              1,
              "#f0f921"
             ]
            ],
            "type": "contour"
           }
          ],
          "contourcarpet": [
           {
            "colorbar": {
             "outlinewidth": 0,
             "ticks": ""
            },
            "type": "contourcarpet"
           }
          ],
          "heatmap": [
           {
            "colorbar": {
             "outlinewidth": 0,
             "ticks": ""
            },
            "colorscale": [
             [
              0,
              "#0d0887"
             ],
             [
              0.1111111111111111,
              "#46039f"
             ],
             [
              0.2222222222222222,
              "#7201a8"
             ],
             [
              0.3333333333333333,
              "#9c179e"
             ],
             [
              0.4444444444444444,
              "#bd3786"
             ],
             [
              0.5555555555555556,
              "#d8576b"
             ],
             [
              0.6666666666666666,
              "#ed7953"
             ],
             [
              0.7777777777777778,
              "#fb9f3a"
             ],
             [
              0.8888888888888888,
              "#fdca26"
             ],
             [
              1,
              "#f0f921"
             ]
            ],
            "type": "heatmap"
           }
          ],
          "heatmapgl": [
           {
            "colorbar": {
             "outlinewidth": 0,
             "ticks": ""
            },
            "colorscale": [
             [
              0,
              "#0d0887"
             ],
             [
              0.1111111111111111,
              "#46039f"
             ],
             [
              0.2222222222222222,
              "#7201a8"
             ],
             [
              0.3333333333333333,
              "#9c179e"
             ],
             [
              0.4444444444444444,
              "#bd3786"
             ],
             [
              0.5555555555555556,
              "#d8576b"
             ],
             [
              0.6666666666666666,
              "#ed7953"
             ],
             [
              0.7777777777777778,
              "#fb9f3a"
             ],
             [
              0.8888888888888888,
              "#fdca26"
             ],
             [
              1,
              "#f0f921"
             ]
            ],
            "type": "heatmapgl"
           }
          ],
          "histogram": [
           {
            "marker": {
             "pattern": {
              "fillmode": "overlay",
              "size": 10,
              "solidity": 0.2
             }
            },
            "type": "histogram"
           }
          ],
          "histogram2d": [
           {
            "colorbar": {
             "outlinewidth": 0,
             "ticks": ""
            },
            "colorscale": [
             [
              0,
              "#0d0887"
             ],
             [
              0.1111111111111111,
              "#46039f"
             ],
             [
              0.2222222222222222,
              "#7201a8"
             ],
             [
              0.3333333333333333,
              "#9c179e"
             ],
             [
              0.4444444444444444,
              "#bd3786"
             ],
             [
              0.5555555555555556,
              "#d8576b"
             ],
             [
              0.6666666666666666,
              "#ed7953"
             ],
             [
              0.7777777777777778,
              "#fb9f3a"
             ],
             [
              0.8888888888888888,
              "#fdca26"
             ],
             [
              1,
              "#f0f921"
             ]
            ],
            "type": "histogram2d"
           }
          ],
          "histogram2dcontour": [
           {
            "colorbar": {
             "outlinewidth": 0,
             "ticks": ""
            },
            "colorscale": [
             [
              0,
              "#0d0887"
             ],
             [
              0.1111111111111111,
              "#46039f"
             ],
             [
              0.2222222222222222,
              "#7201a8"
             ],
             [
              0.3333333333333333,
              "#9c179e"
             ],
             [
              0.4444444444444444,
              "#bd3786"
             ],
             [
              0.5555555555555556,
              "#d8576b"
             ],
             [
              0.6666666666666666,
              "#ed7953"
             ],
             [
              0.7777777777777778,
              "#fb9f3a"
             ],
             [
              0.8888888888888888,
              "#fdca26"
             ],
             [
              1,
              "#f0f921"
             ]
            ],
            "type": "histogram2dcontour"
           }
          ],
          "mesh3d": [
           {
            "colorbar": {
             "outlinewidth": 0,
             "ticks": ""
            },
            "type": "mesh3d"
           }
          ],
          "parcoords": [
           {
            "line": {
             "colorbar": {
              "outlinewidth": 0,
              "ticks": ""
             }
            },
            "type": "parcoords"
           }
          ],
          "pie": [
           {
            "automargin": true,
            "type": "pie"
           }
          ],
          "scatter": [
           {
            "fillpattern": {
             "fillmode": "overlay",
             "size": 10,
             "solidity": 0.2
            },
            "type": "scatter"
           }
          ],
          "scatter3d": [
           {
            "line": {
             "colorbar": {
              "outlinewidth": 0,
              "ticks": ""
             }
            },
            "marker": {
             "colorbar": {
              "outlinewidth": 0,
              "ticks": ""
             }
            },
            "type": "scatter3d"
           }
          ],
          "scattercarpet": [
           {
            "marker": {
             "colorbar": {
              "outlinewidth": 0,
              "ticks": ""
             }
            },
            "type": "scattercarpet"
           }
          ],
          "scattergeo": [
           {
            "marker": {
             "colorbar": {
              "outlinewidth": 0,
              "ticks": ""
             }
            },
            "type": "scattergeo"
           }
          ],
          "scattergl": [
           {
            "marker": {
             "colorbar": {
              "outlinewidth": 0,
              "ticks": ""
             }
            },
            "type": "scattergl"
           }
          ],
          "scattermapbox": [
           {
            "marker": {
             "colorbar": {
              "outlinewidth": 0,
              "ticks": ""
             }
            },
            "type": "scattermapbox"
           }
          ],
          "scatterpolar": [
           {
            "marker": {
             "colorbar": {
              "outlinewidth": 0,
              "ticks": ""
             }
            },
            "type": "scatterpolar"
           }
          ],
          "scatterpolargl": [
           {
            "marker": {
             "colorbar": {
              "outlinewidth": 0,
              "ticks": ""
             }
            },
            "type": "scatterpolargl"
           }
          ],
          "scatterternary": [
           {
            "marker": {
             "colorbar": {
              "outlinewidth": 0,
              "ticks": ""
             }
            },
            "type": "scatterternary"
           }
          ],
          "surface": [
           {
            "colorbar": {
             "outlinewidth": 0,
             "ticks": ""
            },
            "colorscale": [
             [
              0,
              "#0d0887"
             ],
             [
              0.1111111111111111,
              "#46039f"
             ],
             [
              0.2222222222222222,
              "#7201a8"
             ],
             [
              0.3333333333333333,
              "#9c179e"
             ],
             [
              0.4444444444444444,
              "#bd3786"
             ],
             [
              0.5555555555555556,
              "#d8576b"
             ],
             [
              0.6666666666666666,
              "#ed7953"
             ],
             [
              0.7777777777777778,
              "#fb9f3a"
             ],
             [
              0.8888888888888888,
              "#fdca26"
             ],
             [
              1,
              "#f0f921"
             ]
            ],
            "type": "surface"
           }
          ],
          "table": [
           {
            "cells": {
             "fill": {
              "color": "#EBF0F8"
             },
             "line": {
              "color": "white"
             }
            },
            "header": {
             "fill": {
              "color": "#C8D4E3"
             },
             "line": {
              "color": "white"
             }
            },
            "type": "table"
           }
          ]
         },
         "layout": {
          "annotationdefaults": {
           "arrowcolor": "#2a3f5f",
           "arrowhead": 0,
           "arrowwidth": 1
          },
          "autotypenumbers": "strict",
          "coloraxis": {
           "colorbar": {
            "outlinewidth": 0,
            "ticks": ""
           }
          },
          "colorscale": {
           "diverging": [
            [
             0,
             "#8e0152"
            ],
            [
             0.1,
             "#c51b7d"
            ],
            [
             0.2,
             "#de77ae"
            ],
            [
             0.3,
             "#f1b6da"
            ],
            [
             0.4,
             "#fde0ef"
            ],
            [
             0.5,
             "#f7f7f7"
            ],
            [
             0.6,
             "#e6f5d0"
            ],
            [
             0.7,
             "#b8e186"
            ],
            [
             0.8,
             "#7fbc41"
            ],
            [
             0.9,
             "#4d9221"
            ],
            [
             1,
             "#276419"
            ]
           ],
           "sequential": [
            [
             0,
             "#0d0887"
            ],
            [
             0.1111111111111111,
             "#46039f"
            ],
            [
             0.2222222222222222,
             "#7201a8"
            ],
            [
             0.3333333333333333,
             "#9c179e"
            ],
            [
             0.4444444444444444,
             "#bd3786"
            ],
            [
             0.5555555555555556,
             "#d8576b"
            ],
            [
             0.6666666666666666,
             "#ed7953"
            ],
            [
             0.7777777777777778,
             "#fb9f3a"
            ],
            [
             0.8888888888888888,
             "#fdca26"
            ],
            [
             1,
             "#f0f921"
            ]
           ],
           "sequentialminus": [
            [
             0,
             "#0d0887"
            ],
            [
             0.1111111111111111,
             "#46039f"
            ],
            [
             0.2222222222222222,
             "#7201a8"
            ],
            [
             0.3333333333333333,
             "#9c179e"
            ],
            [
             0.4444444444444444,
             "#bd3786"
            ],
            [
             0.5555555555555556,
             "#d8576b"
            ],
            [
             0.6666666666666666,
             "#ed7953"
            ],
            [
             0.7777777777777778,
             "#fb9f3a"
            ],
            [
             0.8888888888888888,
             "#fdca26"
            ],
            [
             1,
             "#f0f921"
            ]
           ]
          },
          "colorway": [
           "#636efa",
           "#EF553B",
           "#00cc96",
           "#ab63fa",
           "#FFA15A",
           "#19d3f3",
           "#FF6692",
           "#B6E880",
           "#FF97FF",
           "#FECB52"
          ],
          "font": {
           "color": "#2a3f5f"
          },
          "geo": {
           "bgcolor": "white",
           "lakecolor": "white",
           "landcolor": "#E5ECF6",
           "showlakes": true,
           "showland": true,
           "subunitcolor": "white"
          },
          "hoverlabel": {
           "align": "left"
          },
          "hovermode": "closest",
          "mapbox": {
           "style": "light"
          },
          "paper_bgcolor": "white",
          "plot_bgcolor": "#E5ECF6",
          "polar": {
           "angularaxis": {
            "gridcolor": "white",
            "linecolor": "white",
            "ticks": ""
           },
           "bgcolor": "#E5ECF6",
           "radialaxis": {
            "gridcolor": "white",
            "linecolor": "white",
            "ticks": ""
           }
          },
          "scene": {
           "xaxis": {
            "backgroundcolor": "#E5ECF6",
            "gridcolor": "white",
            "gridwidth": 2,
            "linecolor": "white",
            "showbackground": true,
            "ticks": "",
            "zerolinecolor": "white"
           },
           "yaxis": {
            "backgroundcolor": "#E5ECF6",
            "gridcolor": "white",
            "gridwidth": 2,
            "linecolor": "white",
            "showbackground": true,
            "ticks": "",
            "zerolinecolor": "white"
           },
           "zaxis": {
            "backgroundcolor": "#E5ECF6",
            "gridcolor": "white",
            "gridwidth": 2,
            "linecolor": "white",
            "showbackground": true,
            "ticks": "",
            "zerolinecolor": "white"
           }
          },
          "shapedefaults": {
           "line": {
            "color": "#2a3f5f"
           }
          },
          "ternary": {
           "aaxis": {
            "gridcolor": "white",
            "linecolor": "white",
            "ticks": ""
           },
           "baxis": {
            "gridcolor": "white",
            "linecolor": "white",
            "ticks": ""
           },
           "bgcolor": "#E5ECF6",
           "caxis": {
            "gridcolor": "white",
            "linecolor": "white",
            "ticks": ""
           }
          },
          "title": {
           "x": 0.05
          },
          "xaxis": {
           "automargin": true,
           "gridcolor": "white",
           "linecolor": "white",
           "ticks": "",
           "title": {
            "standoff": 15
           },
           "zerolinecolor": "white",
           "zerolinewidth": 2
          },
          "yaxis": {
           "automargin": true,
           "gridcolor": "white",
           "linecolor": "white",
           "ticks": "",
           "title": {
            "standoff": 15
           },
           "zerolinecolor": "white",
           "zerolinewidth": 2
          }
         }
        },
        "title": {
         "text": "Total Files per Folder (Depth of Two) (Colored by Bytes Stored)"
        }
       }
      },
      "text/html": [
       "<div>                            <div id=\"c1cbd649-56ca-4f2d-9891-f76ba2fb4669\" class=\"plotly-graph-div\" style=\"height:525px; width:100%;\"></div>            <script type=\"text/javascript\">                require([\"plotly\"], function(Plotly) {                    window.PLOTLYENV=window.PLOTLYENV || {};                                    if (document.getElementById(\"c1cbd649-56ca-4f2d-9891-f76ba2fb4669\")) {                    Plotly.newPlot(                        \"c1cbd649-56ca-4f2d-9891-f76ba2fb4669\",                        [{\"branchvalues\":\"total\",\"customdata\":[[18368.1884057971],[19340.50495049505],[19279.3427672956],[23102.967871485944],[16591.589371980677],[34724.28571428572],[10441.711111111112],[21285.627272727274],[38983.07407407407],[16055.47619047619],[16127.153846153846],[12237.234375],[15209.64],[12122.231481481482],[20579.833333333332],[16477.779411764706],[13535.666666666666],[38809.0],[14059.342857142858],[99375.63636363637],[12228.625],[26650.597826086956],[28348.12962962963],[62310.68518518518],[138510.31914893616],[128805.0],[19909.0],[87776.0],[53113.8],[13624.923076923076],[8177.555555555556],[88204.0],[4529.0],[19701.551136363636],[43651.09090909091],[20829.964200477327],[13378.433447098976],[13755.5421686747],[16957.302325581397],[14989.25946969697],[20877.871090770404],[9082.988821138211],[4126.2],[9413.8],[8148.8],[8682.4],[4635.2],[4020.8],[485.8],[4737.6],[11411.603448275862],[10681.2],[14694.8],[12039.5],[5142.4],[6179.8],[6801.666666666667],[6110.6],[5819.0],[5704.0],[5856.2],[6818.166666666667],[5908.166666666667],[6242.6],[5508.4],[9188.2],[7363.6],[6446.8],[7190.4],[7859.8],[7642.6],[16956.8],[8050.0],[4363.4],[6989.4],[6596.0],[7231.8],[7828.0],[6962.4],[9966.4],[8122.8],[12286.4],[8451.8],[6704.2],[5364.833333333333],[7389.0],[9845.8],[10189.833333333334],[7599.0],[11018.0],[5353.166666666667],[9234.8],[9104.8],[6285.6],[4225.6],[7591.6],[4991.0],[6790.4],[9354.6],[6763.4],[7938.6],[7274.8],[7773.0],[8163.0],[6328.2],[6751.0],[6610.2],[7590.5],[8259.4],[8333.6],[5222.0],[10692.5],[6648.833333333333],[7408.0],[5776.0],[5455.0],[7939.0],[4488.4],[5648.2],[7207.0],[7447.4],[17512.18018018018],[3970.5714285714284],[21704.93820224719],[41672.583333333336],[15191.16535433071],[21279.968692449354],[13630.714449541285],[19279.3427672956],[14584.38813559322],[25791.35798816568],[10516.8],[26778.084905660377],[8382.712121212122],[19341.296539379477],[18726.4],[17460.921828483628]],\"domain\":{\"x\":[0.0,1.0],\"y\":[0.0,1.0]},\"hovertemplate\":\"labels=%{label}\\u003cbr\\u003ecount=%{value}\\u003cbr\\u003eparent=%{parent}\\u003cbr\\u003eid=%{id}\\u003cbr\\u003ebytes=%{color}\\u003cextra\\u003e\\u003c\\u002fextra\\u003e\",\"ids\":[\"all\\u002fChong\\u002f.\",\"all\\u002fFurchtgott_Roth\\u002f.\",\"all\\u002fHundt\\u002f.\",\"all\\u002fKennard\\u002f.\",\"all\\u002fNess\\u002f.\",\"all\\u002fPowell\\u002f.\",\"all\\u002fQuello\\u002f.\",\"all\\u002fTristani\\u002f.\",\"all\\u002fmisc\\u002f.\",\"all\\u002fFurchtgott_Roth\\u002f2000\",\"all\\u002fKennard\\u002f2000\",\"all\\u002fNess\\u002f2000\",\"all\\u002fPowell\\u002f2000\",\"all\\u002fTristani\\u002f2000\",\"all\\u002fAbernathy\\u002f2001\",\"all\\u002fCopps\\u002f2001\",\"all\\u002fFurchtgott_Roth\\u002f2001\",\"all\\u002fMartin\\u002f2001\",\"all\\u002fNess\\u002f2001\",\"all\\u002fPowell\\u002f2001\",\"all\\u002fTristani\\u002f2001\",\"all\\u002fAbernathy\\u002f2002\",\"all\\u002fCopps\\u002f2002\",\"all\\u002fMartin\\u002f2002\",\"all\\u002fPowell\\u002f2002\",\"all\\u002fAbernathy\\u002f2003\",\"all\\u002fAdelstein\\u002f2003\",\"all\\u002fCopps\\u002f2003\",\"all\\u002fMartin\\u002f2003\",\"all\\u002fPowell\\u002f2003\",\"all\\u002fAbernathy\\u002fArticles\",\"all\\u002fCopps\\u002fArticles\",\"all\\u002fMartin\\u002fArticles\",\"all\\u002fAbernathy\\u002fStatements\",\"all\\u002fAdelstein\\u002fStatements\",\"all\\u002fCopps\\u002fStatements\",\"all\\u002fFurchtgott_Roth\\u002fStatements\",\"all\\u002fKennard\\u002fStatements\",\"all\\u002fMartin\\u002fStatements\",\"all\\u002fPowell\\u002fStatements\",\"all\\u002fTristani\\u002fStatements\",\"all\\u002fNess\\u002fStates\",\"all\\u002fFurchtgott_Roth\\u002fbirthday\",\"all\\u002fmisc\\u002fdabelson\",\"all\\u002fmisc\\u002fdalenab2\",\"all\\u002fmisc\\u002fdnh061700\",\"all\\u002fFurchtgott_Roth\\u002ffccRack\",\"all\\u002fFurchtgott_Roth\\u002ffreeAd\",\"all\\u002fKennard\\u002fimages\",\"all\\u002fFurchtgott_Roth\\u002fnomanage\",\"all\\u002fChong\\u002fseparate_statements\",\"all\\u002fFurchtgott_Roth\\u002fspbroad\",\"all\\u002fmisc\\u002fspdal901\",\"all\\u002fmisc\\u002fspdal902\",\"all\\u002fmisc\\u002fspdal903\",\"all\\u002fmisc\\u002fspdal904\",\"all\\u002fmisc\\u002fspdnh901\",\"all\\u002fTristani\\u002fspgt903\",\"all\\u002fTristani\\u002fspgt908\",\"all\\u002fTristani\\u002fspgt909\",\"all\\u002fTristani\\u002fspgt910\",\"all\\u002fTristani\\u002fspgt911\",\"all\\u002fTristani\\u002fspgt912\",\"all\\u002fTristani\\u002fspgt913\",\"all\\u002fTristani\\u002fspgt914\",\"all\\u002fTristani\\u002fspgt915\",\"all\\u002fTristani\\u002fspgt916\",\"all\\u002fTristani\\u002fspgt917\",\"all\\u002fTristani\\u002fspgt918\",\"all\\u002fTristani\\u002fspgt919\",\"all\\u002fTristani\\u002fspgts911\",\"all\\u002fTristani\\u002fspgts915\",\"all\\u002fTristani\\u002fspgts916\",\"all\\u002fFurchtgott_Roth\\u002fsphfr902\",\"all\\u002fFurchtgott_Roth\\u002fsphfr903\",\"all\\u002fFurchtgott_Roth\\u002fsphfr904\",\"all\\u002fFurchtgott_Roth\\u002fsphfr905\",\"all\\u002fFurchtgott_Roth\\u002fsphfr906\",\"all\\u002fFurchtgott_Roth\\u002fsphfr907\",\"all\\u002fFurchtgott_Roth\\u002fsphfr908\",\"all\\u002fFurchtgott_Roth\\u002fsphfr909\",\"all\\u002fFurchtgott_Roth\\u002fspmba99\",\"all\\u002fPowell\\u002fspmkp806\",\"all\\u002fPowell\\u002fspmkp807\",\"all\\u002fPowell\\u002fspmkp811\",\"all\\u002fPowell\\u002fspmkp816\",\"all\\u002fPowell\\u002fspmkp901\",\"all\\u002fPowell\\u002fspmkp902\",\"all\\u002fPowell\\u002fspmkp903\",\"all\\u002fPowell\\u002fspmkp904\",\"all\\u002fPowell\\u002fspmkp905\",\"all\\u002fNess\\u002fspsn909\",\"all\\u002fNess\\u002fspsn910\",\"all\\u002fNess\\u002fspsn911\",\"all\\u002fNess\\u002fspsn912\",\"all\\u002fNess\\u002fspsn913\",\"all\\u002fKennard\\u002fspwek911\",\"all\\u002fKennard\\u002fspwek913\",\"all\\u002fKennard\\u002fspwek918\",\"all\\u002fKennard\\u002fspwek920\",\"all\\u002fKennard\\u002fspwek921\",\"all\\u002fKennard\\u002fspwek922\",\"all\\u002fKennard\\u002fspwek924\",\"all\\u002fKennard\\u002fspwek925\",\"all\\u002fKennard\\u002fspwek926\",\"all\\u002fKennard\\u002fspwek928\",\"all\\u002fKennard\\u002fspwek929\",\"all\\u002fKennard\\u002fspwek930\",\"all\\u002fKennard\\u002fspwek931\",\"all\\u002fKennard\\u002fspwek932\",\"all\\u002fKennard\\u002fspwek933\",\"all\\u002fKennard\\u002fspwek934\",\"all\\u002fKennard\\u002fspwek935\",\"all\\u002fKennard\\u002fspwek936\",\"all\\u002fKennard\\u002fspwek937\",\"all\\u002fKennard\\u002fspwek938\",\"all\\u002fKennard\\u002fspwek939\",\"all\\u002fKennard\\u002fspwek940\",\"all\\u002fKennard\\u002fspwek942\",\"all\\u002fKennard\\u002fspwek943\",\"all\\u002fKennard\\u002fspwek944\",\"all\\u002fmisc\\u002fstatements\",\"all\\u002fQuello\\u002fstates\",\"all\\u002fAbernathy\",\"all\\u002fAdelstein\",\"all\\u002fChong\",\"all\\u002fCopps\",\"all\\u002fFurchtgott_Roth\",\"all\\u002fHundt\",\"all\\u002fKennard\",\"all\\u002fMartin\",\"all\\u002fNess\",\"all\\u002fPowell\",\"all\\u002fQuello\",\"all\\u002fTristani\",\"all\\u002fmisc\",\"all\"],\"labels\":[\".\",\".\",\".\",\".\",\".\",\".\",\".\",\".\",\".\",\"2000\",\"2000\",\"2000\",\"2000\",\"2000\",\"2001\",\"2001\",\"2001\",\"2001\",\"2001\",\"2001\",\"2001\",\"2002\",\"2002\",\"2002\",\"2002\",\"2003\",\"2003\",\"2003\",\"2003\",\"2003\",\"Articles\",\"Articles\",\"Articles\",\"Statements\",\"Statements\",\"Statements\",\"Statements\",\"Statements\",\"Statements\",\"Statements\",\"Statements\",\"States\",\"birthday\",\"dabelson\",\"dalenab2\",\"dnh061700\",\"fccRack\",\"freeAd\",\"images\",\"nomanage\",\"separate_statements\",\"spbroad\",\"spdal901\",\"spdal902\",\"spdal903\",\"spdal904\",\"spdnh901\",\"spgt903\",\"spgt908\",\"spgt909\",\"spgt910\",\"spgt911\",\"spgt912\",\"spgt913\",\"spgt914\",\"spgt915\",\"spgt916\",\"spgt917\",\"spgt918\",\"spgt919\",\"spgts911\",\"spgts915\",\"spgts916\",\"sphfr902\",\"sphfr903\",\"sphfr904\",\"sphfr905\",\"sphfr906\",\"sphfr907\",\"sphfr908\",\"sphfr909\",\"spmba99\",\"spmkp806\",\"spmkp807\",\"spmkp811\",\"spmkp816\",\"spmkp901\",\"spmkp902\",\"spmkp903\",\"spmkp904\",\"spmkp905\",\"spsn909\",\"spsn910\",\"spsn911\",\"spsn912\",\"spsn913\",\"spwek911\",\"spwek913\",\"spwek918\",\"spwek920\",\"spwek921\",\"spwek922\",\"spwek924\",\"spwek925\",\"spwek926\",\"spwek928\",\"spwek929\",\"spwek930\",\"spwek931\",\"spwek932\",\"spwek933\",\"spwek934\",\"spwek935\",\"spwek936\",\"spwek937\",\"spwek938\",\"spwek939\",\"spwek940\",\"spwek942\",\"spwek943\",\"spwek944\",\"statements\",\"states\",\"Abernathy\",\"Adelstein\",\"Chong\",\"Copps\",\"Furchtgott_Roth\",\"Hundt\",\"Kennard\",\"Martin\",\"Ness\",\"Powell\",\"Quello\",\"Tristani\",\"misc\",\"all\"],\"marker\":{\"coloraxis\":\"coloraxis\",\"colors\":[18368.1884057971,19340.50495049505,19279.3427672956,23102.967871485944,16591.589371980677,34724.28571428572,10441.711111111112,21285.627272727274,38983.07407407407,16055.47619047619,16127.153846153846,12237.234375,15209.64,12122.231481481482,20579.833333333332,16477.779411764706,13535.666666666666,38809.0,14059.342857142858,99375.63636363637,12228.625,26650.597826086956,28348.12962962963,62310.68518518518,138510.31914893616,128805.0,19909.0,87776.0,53113.8,13624.923076923076,8177.555555555556,88204.0,4529.0,19701.551136363636,43651.09090909091,20829.964200477327,13378.433447098976,13755.5421686747,16957.302325581397,14989.25946969697,20877.871090770404,9082.988821138211,4126.2,9413.8,8148.8,8682.4,4635.2,4020.8,485.8,4737.6,11411.603448275862,10681.2,14694.8,12039.5,5142.4,6179.8,6801.666666666667,6110.6,5819.0,5704.0,5856.2,6818.166666666667,5908.166666666667,6242.6,5508.4,9188.2,7363.6,6446.8,7190.4,7859.8,7642.6,16956.8,8050.0,4363.4,6989.4,6596.0,7231.8,7828.0,6962.4,9966.4,8122.8,12286.4,8451.8,6704.2,5364.833333333333,7389.0,9845.8,10189.833333333334,7599.0,11018.0,5353.166666666667,9234.8,9104.8,6285.6,4225.6,7591.6,4991.0,6790.4,9354.6,6763.4,7938.6,7274.8,7773.0,8163.0,6328.2,6751.0,6610.2,7590.5,8259.4,8333.6,5222.0,10692.5,6648.833333333333,7408.0,5776.0,5455.0,7939.0,4488.4,5648.2,7207.0,7447.4,17512.18018018018,3970.5714285714284,21704.93820224719,41672.583333333336,15191.16535433071,21279.968692449354,13630.714449541285,19279.3427672956,14584.38813559322,25791.35798816568,10516.8,26778.084905660377,8382.712121212122,19341.296539379477,18726.4,17460.921828483628]},\"name\":\"\",\"parents\":[\"all\\u002fChong\",\"all\\u002fFurchtgott_Roth\",\"all\\u002fHundt\",\"all\\u002fKennard\",\"all\\u002fNess\",\"all\\u002fPowell\",\"all\\u002fQuello\",\"all\\u002fTristani\",\"all\\u002fmisc\",\"all\\u002fFurchtgott_Roth\",\"all\\u002fKennard\",\"all\\u002fNess\",\"all\\u002fPowell\",\"all\\u002fTristani\",\"all\\u002fAbernathy\",\"all\\u002fCopps\",\"all\\u002fFurchtgott_Roth\",\"all\\u002fMartin\",\"all\\u002fNess\",\"all\\u002fPowell\",\"all\\u002fTristani\",\"all\\u002fAbernathy\",\"all\\u002fCopps\",\"all\\u002fMartin\",\"all\\u002fPowell\",\"all\\u002fAbernathy\",\"all\\u002fAdelstein\",\"all\\u002fCopps\",\"all\\u002fMartin\",\"all\\u002fPowell\",\"all\\u002fAbernathy\",\"all\\u002fCopps\",\"all\\u002fMartin\",\"all\\u002fAbernathy\",\"all\\u002fAdelstein\",\"all\\u002fCopps\",\"all\\u002fFurchtgott_Roth\",\"all\\u002fKennard\",\"all\\u002fMartin\",\"all\\u002fPowell\",\"all\\u002fTristani\",\"all\\u002fNess\",\"all\\u002fFurchtgott_Roth\",\"all\\u002fmisc\",\"all\\u002fmisc\",\"all\\u002fmisc\",\"all\\u002fFurchtgott_Roth\",\"all\\u002fFurchtgott_Roth\",\"all\\u002fKennard\",\"all\\u002fFurchtgott_Roth\",\"all\\u002fChong\",\"all\\u002fFurchtgott_Roth\",\"all\\u002fmisc\",\"all\\u002fmisc\",\"all\\u002fmisc\",\"all\\u002fmisc\",\"all\\u002fmisc\",\"all\\u002fTristani\",\"all\\u002fTristani\",\"all\\u002fTristani\",\"all\\u002fTristani\",\"all\\u002fTristani\",\"all\\u002fTristani\",\"all\\u002fTristani\",\"all\\u002fTristani\",\"all\\u002fTristani\",\"all\\u002fTristani\",\"all\\u002fTristani\",\"all\\u002fTristani\",\"all\\u002fTristani\",\"all\\u002fTristani\",\"all\\u002fTristani\",\"all\\u002fTristani\",\"all\\u002fFurchtgott_Roth\",\"all\\u002fFurchtgott_Roth\",\"all\\u002fFurchtgott_Roth\",\"all\\u002fFurchtgott_Roth\",\"all\\u002fFurchtgott_Roth\",\"all\\u002fFurchtgott_Roth\",\"all\\u002fFurchtgott_Roth\",\"all\\u002fFurchtgott_Roth\",\"all\\u002fFurchtgott_Roth\",\"all\\u002fPowell\",\"all\\u002fPowell\",\"all\\u002fPowell\",\"all\\u002fPowell\",\"all\\u002fPowell\",\"all\\u002fPowell\",\"all\\u002fPowell\",\"all\\u002fPowell\",\"all\\u002fPowell\",\"all\\u002fNess\",\"all\\u002fNess\",\"all\\u002fNess\",\"all\\u002fNess\",\"all\\u002fNess\",\"all\\u002fKennard\",\"all\\u002fKennard\",\"all\\u002fKennard\",\"all\\u002fKennard\",\"all\\u002fKennard\",\"all\\u002fKennard\",\"all\\u002fKennard\",\"all\\u002fKennard\",\"all\\u002fKennard\",\"all\\u002fKennard\",\"all\\u002fKennard\",\"all\\u002fKennard\",\"all\\u002fKennard\",\"all\\u002fKennard\",\"all\\u002fKennard\",\"all\\u002fKennard\",\"all\\u002fKennard\",\"all\\u002fKennard\",\"all\\u002fKennard\",\"all\\u002fKennard\",\"all\\u002fKennard\",\"all\\u002fKennard\",\"all\\u002fKennard\",\"all\\u002fKennard\",\"all\\u002fKennard\",\"all\\u002fmisc\",\"all\\u002fQuello\",\"all\",\"all\",\"all\",\"all\",\"all\",\"all\",\"all\",\"all\",\"all\",\"all\",\"all\",\"all\",\"all\",\"\"],\"values\":[69,101,318,249,207,77,45,110,27,105,234,64,25,108,78,68,3,18,35,110,64,92,54,54,47,1,1,1,5,13,9,1,3,176,11,419,1465,1743,258,1056,1311,984,5,5,5,5,5,5,5,5,58,5,5,6,5,5,6,5,6,5,5,6,6,5,5,5,5,5,5,5,5,5,5,5,5,5,5,5,5,5,5,5,5,5,6,5,5,6,6,6,6,5,5,5,5,5,5,5,5,5,5,5,5,5,5,5,5,6,5,5,6,6,6,5,5,5,5,5,5,5,5,111,21,356,12,127,543,1744,318,2360,338,1315,1378,66,1676,180,10413],\"type\":\"treemap\",\"root\":{\"color\":\"lightgrey\"}}],                        {\"template\":{\"data\":{\"histogram2dcontour\":[{\"type\":\"histogram2dcontour\",\"colorbar\":{\"outlinewidth\":0,\"ticks\":\"\"},\"colorscale\":[[0.0,\"#0d0887\"],[0.1111111111111111,\"#46039f\"],[0.2222222222222222,\"#7201a8\"],[0.3333333333333333,\"#9c179e\"],[0.4444444444444444,\"#bd3786\"],[0.5555555555555556,\"#d8576b\"],[0.6666666666666666,\"#ed7953\"],[0.7777777777777778,\"#fb9f3a\"],[0.8888888888888888,\"#fdca26\"],[1.0,\"#f0f921\"]]}],\"choropleth\":[{\"type\":\"choropleth\",\"colorbar\":{\"outlinewidth\":0,\"ticks\":\"\"}}],\"histogram2d\":[{\"type\":\"histogram2d\",\"colorbar\":{\"outlinewidth\":0,\"ticks\":\"\"},\"colorscale\":[[0.0,\"#0d0887\"],[0.1111111111111111,\"#46039f\"],[0.2222222222222222,\"#7201a8\"],[0.3333333333333333,\"#9c179e\"],[0.4444444444444444,\"#bd3786\"],[0.5555555555555556,\"#d8576b\"],[0.6666666666666666,\"#ed7953\"],[0.7777777777777778,\"#fb9f3a\"],[0.8888888888888888,\"#fdca26\"],[1.0,\"#f0f921\"]]}],\"heatmap\":[{\"type\":\"heatmap\",\"colorbar\":{\"outlinewidth\":0,\"ticks\":\"\"},\"colorscale\":[[0.0,\"#0d0887\"],[0.1111111111111111,\"#46039f\"],[0.2222222222222222,\"#7201a8\"],[0.3333333333333333,\"#9c179e\"],[0.4444444444444444,\"#bd3786\"],[0.5555555555555556,\"#d8576b\"],[0.6666666666666666,\"#ed7953\"],[0.7777777777777778,\"#fb9f3a\"],[0.8888888888888888,\"#fdca26\"],[1.0,\"#f0f921\"]]}],\"heatmapgl\":[{\"type\":\"heatmapgl\",\"colorbar\":{\"outlinewidth\":0,\"ticks\":\"\"},\"colorscale\":[[0.0,\"#0d0887\"],[0.1111111111111111,\"#46039f\"],[0.2222222222222222,\"#7201a8\"],[0.3333333333333333,\"#9c179e\"],[0.4444444444444444,\"#bd3786\"],[0.5555555555555556,\"#d8576b\"],[0.6666666666666666,\"#ed7953\"],[0.7777777777777778,\"#fb9f3a\"],[0.8888888888888888,\"#fdca26\"],[1.0,\"#f0f921\"]]}],\"contourcarpet\":[{\"type\":\"contourcarpet\",\"colorbar\":{\"outlinewidth\":0,\"ticks\":\"\"}}],\"contour\":[{\"type\":\"contour\",\"colorbar\":{\"outlinewidth\":0,\"ticks\":\"\"},\"colorscale\":[[0.0,\"#0d0887\"],[0.1111111111111111,\"#46039f\"],[0.2222222222222222,\"#7201a8\"],[0.3333333333333333,\"#9c179e\"],[0.4444444444444444,\"#bd3786\"],[0.5555555555555556,\"#d8576b\"],[0.6666666666666666,\"#ed7953\"],[0.7777777777777778,\"#fb9f3a\"],[0.8888888888888888,\"#fdca26\"],[1.0,\"#f0f921\"]]}],\"surface\":[{\"type\":\"surface\",\"colorbar\":{\"outlinewidth\":0,\"ticks\":\"\"},\"colorscale\":[[0.0,\"#0d0887\"],[0.1111111111111111,\"#46039f\"],[0.2222222222222222,\"#7201a8\"],[0.3333333333333333,\"#9c179e\"],[0.4444444444444444,\"#bd3786\"],[0.5555555555555556,\"#d8576b\"],[0.6666666666666666,\"#ed7953\"],[0.7777777777777778,\"#fb9f3a\"],[0.8888888888888888,\"#fdca26\"],[1.0,\"#f0f921\"]]}],\"mesh3d\":[{\"type\":\"mesh3d\",\"colorbar\":{\"outlinewidth\":0,\"ticks\":\"\"}}],\"scatter\":[{\"fillpattern\":{\"fillmode\":\"overlay\",\"size\":10,\"solidity\":0.2},\"type\":\"scatter\"}],\"parcoords\":[{\"type\":\"parcoords\",\"line\":{\"colorbar\":{\"outlinewidth\":0,\"ticks\":\"\"}}}],\"scatterpolargl\":[{\"type\":\"scatterpolargl\",\"marker\":{\"colorbar\":{\"outlinewidth\":0,\"ticks\":\"\"}}}],\"bar\":[{\"error_x\":{\"color\":\"#2a3f5f\"},\"error_y\":{\"color\":\"#2a3f5f\"},\"marker\":{\"line\":{\"color\":\"#E5ECF6\",\"width\":0.5},\"pattern\":{\"fillmode\":\"overlay\",\"size\":10,\"solidity\":0.2}},\"type\":\"bar\"}],\"scattergeo\":[{\"type\":\"scattergeo\",\"marker\":{\"colorbar\":{\"outlinewidth\":0,\"ticks\":\"\"}}}],\"scatterpolar\":[{\"type\":\"scatterpolar\",\"marker\":{\"colorbar\":{\"outlinewidth\":0,\"ticks\":\"\"}}}],\"histogram\":[{\"marker\":{\"pattern\":{\"fillmode\":\"overlay\",\"size\":10,\"solidity\":0.2}},\"type\":\"histogram\"}],\"scattergl\":[{\"type\":\"scattergl\",\"marker\":{\"colorbar\":{\"outlinewidth\":0,\"ticks\":\"\"}}}],\"scatter3d\":[{\"type\":\"scatter3d\",\"line\":{\"colorbar\":{\"outlinewidth\":0,\"ticks\":\"\"}},\"marker\":{\"colorbar\":{\"outlinewidth\":0,\"ticks\":\"\"}}}],\"scattermapbox\":[{\"type\":\"scattermapbox\",\"marker\":{\"colorbar\":{\"outlinewidth\":0,\"ticks\":\"\"}}}],\"scatterternary\":[{\"type\":\"scatterternary\",\"marker\":{\"colorbar\":{\"outlinewidth\":0,\"ticks\":\"\"}}}],\"scattercarpet\":[{\"type\":\"scattercarpet\",\"marker\":{\"colorbar\":{\"outlinewidth\":0,\"ticks\":\"\"}}}],\"carpet\":[{\"aaxis\":{\"endlinecolor\":\"#2a3f5f\",\"gridcolor\":\"white\",\"linecolor\":\"white\",\"minorgridcolor\":\"white\",\"startlinecolor\":\"#2a3f5f\"},\"baxis\":{\"endlinecolor\":\"#2a3f5f\",\"gridcolor\":\"white\",\"linecolor\":\"white\",\"minorgridcolor\":\"white\",\"startlinecolor\":\"#2a3f5f\"},\"type\":\"carpet\"}],\"table\":[{\"cells\":{\"fill\":{\"color\":\"#EBF0F8\"},\"line\":{\"color\":\"white\"}},\"header\":{\"fill\":{\"color\":\"#C8D4E3\"},\"line\":{\"color\":\"white\"}},\"type\":\"table\"}],\"barpolar\":[{\"marker\":{\"line\":{\"color\":\"#E5ECF6\",\"width\":0.5},\"pattern\":{\"fillmode\":\"overlay\",\"size\":10,\"solidity\":0.2}},\"type\":\"barpolar\"}],\"pie\":[{\"automargin\":true,\"type\":\"pie\"}]},\"layout\":{\"autotypenumbers\":\"strict\",\"colorway\":[\"#636efa\",\"#EF553B\",\"#00cc96\",\"#ab63fa\",\"#FFA15A\",\"#19d3f3\",\"#FF6692\",\"#B6E880\",\"#FF97FF\",\"#FECB52\"],\"font\":{\"color\":\"#2a3f5f\"},\"hovermode\":\"closest\",\"hoverlabel\":{\"align\":\"left\"},\"paper_bgcolor\":\"white\",\"plot_bgcolor\":\"#E5ECF6\",\"polar\":{\"bgcolor\":\"#E5ECF6\",\"angularaxis\":{\"gridcolor\":\"white\",\"linecolor\":\"white\",\"ticks\":\"\"},\"radialaxis\":{\"gridcolor\":\"white\",\"linecolor\":\"white\",\"ticks\":\"\"}},\"ternary\":{\"bgcolor\":\"#E5ECF6\",\"aaxis\":{\"gridcolor\":\"white\",\"linecolor\":\"white\",\"ticks\":\"\"},\"baxis\":{\"gridcolor\":\"white\",\"linecolor\":\"white\",\"ticks\":\"\"},\"caxis\":{\"gridcolor\":\"white\",\"linecolor\":\"white\",\"ticks\":\"\"}},\"coloraxis\":{\"colorbar\":{\"outlinewidth\":0,\"ticks\":\"\"}},\"colorscale\":{\"sequential\":[[0.0,\"#0d0887\"],[0.1111111111111111,\"#46039f\"],[0.2222222222222222,\"#7201a8\"],[0.3333333333333333,\"#9c179e\"],[0.4444444444444444,\"#bd3786\"],[0.5555555555555556,\"#d8576b\"],[0.6666666666666666,\"#ed7953\"],[0.7777777777777778,\"#fb9f3a\"],[0.8888888888888888,\"#fdca26\"],[1.0,\"#f0f921\"]],\"sequentialminus\":[[0.0,\"#0d0887\"],[0.1111111111111111,\"#46039f\"],[0.2222222222222222,\"#7201a8\"],[0.3333333333333333,\"#9c179e\"],[0.4444444444444444,\"#bd3786\"],[0.5555555555555556,\"#d8576b\"],[0.6666666666666666,\"#ed7953\"],[0.7777777777777778,\"#fb9f3a\"],[0.8888888888888888,\"#fdca26\"],[1.0,\"#f0f921\"]],\"diverging\":[[0,\"#8e0152\"],[0.1,\"#c51b7d\"],[0.2,\"#de77ae\"],[0.3,\"#f1b6da\"],[0.4,\"#fde0ef\"],[0.5,\"#f7f7f7\"],[0.6,\"#e6f5d0\"],[0.7,\"#b8e186\"],[0.8,\"#7fbc41\"],[0.9,\"#4d9221\"],[1,\"#276419\"]]},\"xaxis\":{\"gridcolor\":\"white\",\"linecolor\":\"white\",\"ticks\":\"\",\"title\":{\"standoff\":15},\"zerolinecolor\":\"white\",\"automargin\":true,\"zerolinewidth\":2},\"yaxis\":{\"gridcolor\":\"white\",\"linecolor\":\"white\",\"ticks\":\"\",\"title\":{\"standoff\":15},\"zerolinecolor\":\"white\",\"automargin\":true,\"zerolinewidth\":2},\"scene\":{\"xaxis\":{\"backgroundcolor\":\"#E5ECF6\",\"gridcolor\":\"white\",\"linecolor\":\"white\",\"showbackground\":true,\"ticks\":\"\",\"zerolinecolor\":\"white\",\"gridwidth\":2},\"yaxis\":{\"backgroundcolor\":\"#E5ECF6\",\"gridcolor\":\"white\",\"linecolor\":\"white\",\"showbackground\":true,\"ticks\":\"\",\"zerolinecolor\":\"white\",\"gridwidth\":2},\"zaxis\":{\"backgroundcolor\":\"#E5ECF6\",\"gridcolor\":\"white\",\"linecolor\":\"white\",\"showbackground\":true,\"ticks\":\"\",\"zerolinecolor\":\"white\",\"gridwidth\":2}},\"shapedefaults\":{\"line\":{\"color\":\"#2a3f5f\"}},\"annotationdefaults\":{\"arrowcolor\":\"#2a3f5f\",\"arrowhead\":0,\"arrowwidth\":1},\"geo\":{\"bgcolor\":\"white\",\"landcolor\":\"#E5ECF6\",\"subunitcolor\":\"white\",\"showland\":true,\"showlakes\":true,\"lakecolor\":\"white\"},\"title\":{\"x\":0.05},\"mapbox\":{\"style\":\"light\"}}},\"coloraxis\":{\"colorbar\":{\"title\":{\"text\":\"bytes\"}},\"colorscale\":[[0.0,\"#0d0887\"],[0.1111111111111111,\"#46039f\"],[0.2222222222222222,\"#7201a8\"],[0.3333333333333333,\"#9c179e\"],[0.4444444444444444,\"#bd3786\"],[0.5555555555555556,\"#d8576b\"],[0.6666666666666666,\"#ed7953\"],[0.7777777777777778,\"#fb9f3a\"],[0.8888888888888888,\"#fdca26\"],[1.0,\"#f0f921\"]]},\"legend\":{\"tracegroupgap\":0},\"title\":{\"text\":\"Total Files per Folder (Depth of Two) (Colored by Bytes Stored)\"},\"margin\":{\"t\":50,\"l\":25,\"r\":25,\"b\":25}},                        {\"responsive\": true}                    ).then(function(){\n",
       "                            \n",
       "var gd = document.getElementById('c1cbd649-56ca-4f2d-9891-f76ba2fb4669');\n",
       "var x = new MutationObserver(function (mutations, observer) {{\n",
       "        var display = window.getComputedStyle(gd).display;\n",
       "        if (!display || display === 'none') {{\n",
       "            console.log([gd, 'removed!']);\n",
       "            Plotly.purge(gd);\n",
       "            observer.disconnect();\n",
       "        }}\n",
       "}});\n",
       "\n",
       "// Listen for the removal of the full notebook cells\n",
       "var notebookContainer = gd.closest('#notebook-container');\n",
       "if (notebookContainer) {{\n",
       "    x.observe(notebookContainer, {childList: true});\n",
       "}}\n",
       "\n",
       "// Listen for the clearing of the current output cell\n",
       "var outputEl = gd.closest('.output');\n",
       "if (outputEl) {{\n",
       "    x.observe(outputEl, {childList: true});\n",
       "}}\n",
       "\n",
       "                        })                };                });            </script>        </div>"
      ]
     },
     "metadata": {},
     "output_type": "display_data"
    }
   ],
   "source": [
    "import plotly.express as px\n",
    "\n",
    "fig = px.treemap(df173,\n",
    "                 title=\"Total Files per Folder (Depth of Two) (Colored by Bytes Stored)\",\n",
    "                 path=[px.Constant(\"all\"), 'folder1', 'folder2'], \n",
    "                 color='bytes'\n",
    "                )\n",
    "fig.update_traces(root_color=\"lightgrey\")\n",
    "fig.update_layout(margin = dict(t=50, l=25, r=25, b=25))\n",
    "fig.show()"
   ]
  },
  {
   "cell_type": "markdown",
   "id": "dense-surprise",
   "metadata": {},
   "source": [
    "### Frequent File Names\n",
    "\n",
    "Let's reuse our code from the previous example to look over the common file names."
   ]
  },
  {
   "cell_type": "code",
   "execution_count": 14,
   "id": "difficult-mauritius",
   "metadata": {},
   "outputs": [
    {
     "data": {
      "text/plain": [
       "name\n",
       "[5]DocumentSummaryInformation    873\n",
       "[5]SummaryInformation            873\n",
       "WordDocument                     870\n",
       "[1]CompObj                       870\n",
       "1Table                           870\n",
       "Data                             320\n",
       "Welcome.html                       4\n",
       "2001.gif                           4\n",
       "Current User                       2\n",
       "PowerPoint Document                2\n",
       "Pictures                           2\n",
       "stwek012.html                      2\n",
       "st970807.html                      2\n",
       "spsn903.txt                        2\n",
       "st970807.txt                       2\n",
       "st970811.html                      2\n",
       "st970811.txt                       2\n",
       "2000.gif                           2\n",
       "1999.gif                           2\n",
       "1998.gif                           2\n",
       "spsn903.wp                         2\n",
       "stgt139.doc                        2\n",
       "080296.txt                         2\n",
       "spjhq706.html                      2\n",
       "stmkp102.txt                       2\n",
       "Name: count, dtype: int64"
      ]
     },
     "metadata": {},
     "output_type": "display_data"
    }
   ],
   "source": [
    "display(df173[\"name\"].astype(\"category\").value_counts().head(n=25))"
   ]
  },
  {
   "cell_type": "code",
   "execution_count": null,
   "id": "5dce1616-1f2b-4556-a3d3-80af7622cfe2",
   "metadata": {},
   "outputs": [],
   "source": []
  }
 ],
 "metadata": {
  "kernelspec": {
   "display_name": "Python 3 (ipykernel)",
   "language": "python",
   "name": "python3"
  },
  "language_info": {
   "codemirror_mode": {
    "name": "ipython",
    "version": 3
   },
   "file_extension": ".py",
   "mimetype": "text/x-python",
   "name": "python",
   "nbconvert_exporter": "python",
   "pygments_lexer": "ipython3",
   "version": "3.12.7"
  }
 },
 "nbformat": 4,
 "nbformat_minor": 5
}
