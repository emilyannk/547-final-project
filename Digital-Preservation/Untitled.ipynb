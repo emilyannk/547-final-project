{
 "cells": [
  {
   "cell_type": "markdown",
   "id": "8246fd16-eed5-45b6-b8e4-caacda819991",
   "metadata": {},
   "source": [
    "## Accession (1)\n",
    "### Code Examples\n",
    "- Build a file inventory (of file name, file location, file extension, file format, file size, modification timestamp)\n",
    "- Open CSV and read raw bytes\n",
    "- Open CSV with Pandas\n",
    "- Generate a treemap to visualize files as their media type\n",
    "- Generate a treemap of files as file extension\n",
    "- Generate a treemap of files per folder\n",
    "- \n",
    "\n",
    "## File format identification (2)\n",
    "### Code Examples\n",
    "- Print raw byte values (ASCII to ASCII, hex to \\x)\n",
    "- Print decimal vals of each byte\n",
    "- Unzip a ZIP file (a MS Word doc)\n",
    "- Print last 4 bytes of file \n",
    "\n",
    "## Stuff that's not done in the notebook\n",
    "- TBA: Preservation Action: Fixity and Provenance\n",
    "- TBA: Preservation Action: Format Migration\n",
    "- TBA: Preservation Action: Legacy Viewers and Software Emulation\n",
    "- TBA: Durable Storage\n",
    "- TBA: Persistent Identifiers and Links\n",
    "- TBA: Disaster Planning, Recovery, Migration\n",
    "\n",
    "## Things which could be implemented in code\n",
    "- Read the export.csv file from PRONOM\n",
    "- Finish - Differentiate Older and More Recent Folders from pt1\n",
    "  - note: TODO: color by average timestamp TODO: find samples or supply an inventory file better good timestamps.."
   ]
  },
  {
   "cell_type": "code",
   "execution_count": null,
   "id": "98086e1a-6598-41ac-b7de-5915ce149e17",
   "metadata": {},
   "outputs": [],
   "source": []
  }
 ],
 "metadata": {
  "kernelspec": {
   "display_name": "Python 3 (ipykernel)",
   "language": "python",
   "name": "python3"
  },
  "language_info": {
   "codemirror_mode": {
    "name": "ipython",
    "version": 3
   },
   "file_extension": ".py",
   "mimetype": "text/x-python",
   "name": "python",
   "nbconvert_exporter": "python",
   "pygments_lexer": "ipython3",
   "version": "3.12.7"
  }
 },
 "nbformat": 4,
 "nbformat_minor": 5
}
