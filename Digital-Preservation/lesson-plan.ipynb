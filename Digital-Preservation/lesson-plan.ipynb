{
 "cells": [
  {
   "cell_type": "markdown",
   "id": "swedish-switzerland",
   "metadata": {},
   "source": [
    "# Lesson Plan: Computational Practices in Digital Preservation\n",
    "* **Description:** This is a lesson designed to help students understand computational topics involved in digital preservation and how they impact preservation activities, such as appraisal, fixity, format preservation, format migration, ongoing access concerns and more.\n",
    "* **CASE Module Git Repositor:** [https://github.com/cases-umd/Digital-Preservation]\n",
    "* **Author(s):** Gregory Jansen\n",
    "* **Purpose:** Connecting digital preservation practices with their origins in technical topics.\n",
    "* **Publication Date:** March 1, 2022\n",
    "* **Resource URLs:**\n",
    "  * [https://www.dpconline.org/handbook/]\n",
    "  * [https://www.nationalarchives.gov.uk/pronom/]\n",
    "  * [https://www.nationalarchives.gov.uk/information-management/manage-information/preserving-digital-records/droid/]\n",
    "* **Archival Topics:**\n",
    "  * (D1T3) In determining the acquisition of archival materials, identify and evaluate record characteristics.\n",
    "  * (D1T4) Appraise archival materials for their enduring value and long-term retention.\n",
    "  * (D2T1) Analyze the existing arrangement and description of archival materials and make decisions about any further arrangement and description that may be necessary.\n",
    "  * (D4T1) Analyze the current condition of archival materials including the devices and media on which they are preserved to determine appropriate preservation priorities and actions.\n",
    "* **Computational Thinking Topics:**\n",
    "  * (A4) Analyzing Data\n",
    "  * (B2) Using Computational Models to Find/Test a Solution \n",
    "  * (D2) Understanding Relationships Within Systems\n",
    "* **Lesson Objectives:**  \n",
    "After this lesson, students should be able to do the following:\n",
    "  * Explain how archival appraisal can be supported through the use of computational methods\n",
    "  * Choose appropriate tools to conduct appraisal of archival records\n",
    "  * Explain at a high level how information is encoded in file formats.\n",
    "* **Resources:**  \n",
    "This lesson requires:\n",
    "  * Sample file set (provided)\n",
    "  * Access to a hosted or self-hosted Jupyter Notebook environment (such as MyBinder.org)\n",
    "* **Typical plan and expected variations:**  \n",
    "This lesson is designed for introducing students in a Digital Preservation course, but could used to introduce some concepts of Computational Thinking. The following steps could be used to move through the lesson:\n",
    "  * **Before Live Session: Readings**\n",
    "    * [Digital Preservation Briefing](https://www.dpconline.org/docs/digital-preservation-handbook2/1552-dp-handbook-digital-preservation-briefing/file) (fr Digital Preservation Handbook, 2nd Edition, http://handbook.dpconline.org/, Digital Preservation Coalition © 2015)\n",
    "  * **Before Live Session: Discussion**  \n",
    "    * How can we appraise large numbers of digital files?\n",
    "    * How are person and organizational files typically organized?\n",
    "    * What do we need to learn about a digital accession in order to provide ongoing access?\n",
    "  * **During Live Session:**\n",
    "    * Demonstrate data science techniques that can help appraise digital accessions\n",
    "    * Discuss the connection between archival practice and computational practice\n",
    "    * Discuss output that various tools present\n",
    "  * **Followup Assignments/Assessment:**\n",
    "* **Outcomes/Assessment:**\n",
    "* **Formative Assessment:** Low stakes quiz\n",
    "* **Assignment:** Students may load this lesson's Jupyter notebooks in their own environment and run through the example code and exercises."
   ]
  },
  {
   "cell_type": "code",
   "execution_count": null,
   "id": "official-community",
   "metadata": {},
   "outputs": [],
   "source": []
  }
 ],
 "metadata": {
  "kernelspec": {
   "display_name": "Python 3 (ipykernel)",
   "language": "python",
   "name": "python3"
  },
  "language_info": {
   "codemirror_mode": {
    "name": "ipython",
    "version": 3
   },
   "file_extension": ".py",
   "mimetype": "text/x-python",
   "name": "python",
   "nbconvert_exporter": "python",
   "pygments_lexer": "ipython3",
   "version": "3.12.10"
  }
 },
 "nbformat": 4,
 "nbformat_minor": 5
}
